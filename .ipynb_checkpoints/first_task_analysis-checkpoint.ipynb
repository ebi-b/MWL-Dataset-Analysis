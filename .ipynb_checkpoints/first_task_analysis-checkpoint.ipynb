{
 "cells": [
  {
   "cell_type": "markdown",
   "id": "7d8b9c7c",
   "metadata": {},
   "source": [
    "Reading from the files and separating participants who completed the tasks from the rest."
   ]
  },
  {
   "cell_type": "code",
   "execution_count": 1,
   "id": "4b8eb23f",
   "metadata": {},
   "outputs": [],
   "source": [
    "import json\n",
    "import numpy as np\n",
    "import scipy.stats as stats\n",
    "import statistics\n",
    "from statsmodels.sandbox.stats.multicomp import multipletests\n",
    "import seaborn as sns\n",
    "from factor_analyzer import FactorAnalyzer\n",
    "import matplotlib.pyplot as plt\n",
    "from factor_analyzer.factor_analyzer import calculate_kmo\n",
    "from factor_analyzer.factor_analyzer import calculate_bartlett_sphericity"
   ]
  },
  {
   "cell_type": "code",
   "execution_count": 2,
   "id": "832bf619",
   "metadata": {},
   "outputs": [],
   "source": [
    "def nasa_string_to_int(nasa_string):\n",
    "    sn= nasa_string.replace('[','').replace(']','').split(',')\n",
    "    ntr1 = [int(y) for y in sn]\n",
    "    return ntr1"
   ]
  },
  {
   "cell_type": "code",
   "execution_count": 3,
   "id": "2bbbeea0",
   "metadata": {},
   "outputs": [],
   "source": [
    "def sak_data_to_througput(sak1, sak1t ,diflevel):\n",
    "    if(len(sak1)>0):\n",
    "        l= len(sak1[0].replace(\" \",''))\n",
    "        t= sak1t[len(sak1t)-1]-sak1t[0]\n",
    "        SPC=(float(t)/diflevel)/l\n",
    "        T=(1/float(SPC))*(1000/float(diflevel))*(60/5)\n",
    "    else:\n",
    "        T=0\n",
    "        \n",
    "    return T\n",
    "        "
   ]
  },
  {
   "cell_type": "code",
   "execution_count": 4,
   "id": "0155c826",
   "metadata": {},
   "outputs": [],
   "source": [
    "# Opening JSON file\n",
    "f = open('output2-1 Aug.json')"
   ]
  },
  {
   "cell_type": "code",
   "execution_count": 5,
   "id": "c0148972",
   "metadata": {},
   "outputs": [],
   "source": [
    "data = json.load(f)"
   ]
  },
  {
   "cell_type": "code",
   "execution_count": 6,
   "id": "05352d92",
   "metadata": {},
   "outputs": [],
   "source": [
    "# for x in data['data']:\n",
    "#     keys = x.keys()\n",
    "#     print(keys)\n",
    "#     values = x.values()\n",
    "#     print(values)\n",
    "#     print(x['completed'])\n",
    "    "
   ]
  },
  {
   "cell_type": "code",
   "execution_count": 7,
   "id": "547dcacd",
   "metadata": {},
   "outputs": [
    {
     "data": {
      "text/plain": [
       "['62a1e48f9b6f6ae44dbb9f88',\n",
       " '5fd66c119e1fc75723a40b51',\n",
       " '60356e7fa40d4ebe1700d736',\n",
       " '5bd7912fbeca730001ced776',\n",
       " '60b904a66604f5e79c6066dd',\n",
       " '5b661bc3259daf00019369f2',\n",
       " '5baa21188a01680001ff1a6f',\n",
       " '62838b88bc35e0497491f8e4',\n",
       " '6023df50d5c2d7069115de3f',\n",
       " '60c048ca962103e0da201a34',\n",
       " '5b61d0768de04c000171cf1b',\n",
       " '6128188a420f8d3f27f8d8b1',\n",
       " '62b1f567d5f22515024421f1',\n",
       " '60b7ae30dc4cd72192734427',\n",
       " '6055063167ae2fa5dcb083a3',\n",
       " '5ec153013043d0034ac516bd',\n",
       " '60b005fde343f75a2b76d406',\n",
       " '609c2dcbc88bdd19e0be4b98',\n",
       " '60a0c79b332c02c8a73e57a5',\n",
       " '5e7987df47422a5443426cd7',\n",
       " '606825124609b3da3a68e07c',\n",
       " '61013bb782e4014ecabafee1',\n",
       " '60214feec65df50cd6837a48',\n",
       " '5fa154fd4cbe97227182aff7',\n",
       " '612266b4f9ae4a5d04a21dd4',\n",
       " '5f3287b83428cb05746e2214',\n",
       " '5a75b131eea3d300016ddc70']"
      ]
     },
     "execution_count": 7,
     "metadata": {},
     "output_type": "execute_result"
    }
   ],
   "source": [
    "completed_participants=[]\n",
    "for x in data['data']:\n",
    "    if(x['completed']):\n",
    "        completed_participants.append(x['mturk_id'])\n",
    "# print(completed_participants)\n",
    "\n",
    "completed_participants"
   ]
  },
  {
   "cell_type": "code",
   "execution_count": 8,
   "id": "12c62e9c",
   "metadata": {},
   "outputs": [],
   "source": [
    "f = open('output1-1 Aug.json')"
   ]
  },
  {
   "cell_type": "code",
   "execution_count": 9,
   "id": "d4c31c02",
   "metadata": {},
   "outputs": [],
   "source": [
    "jsonpmodel = json.load(f)"
   ]
  },
  {
   "cell_type": "code",
   "execution_count": 10,
   "id": "ff72c77a",
   "metadata": {},
   "outputs": [],
   "source": [
    "# for x in data['data']:\n",
    "#     keys = x.keys()\n",
    "#     print(keys)\n",
    "#     print('\\n')\n",
    "#     values = x.values()\n",
    "#     print(values)"
   ]
  },
  {
   "cell_type": "code",
   "execution_count": 11,
   "id": "c2233a36",
   "metadata": {},
   "outputs": [],
   "source": [
    "completed_p_models=[]\n",
    "for x in jsonpmodel['data']:\n",
    "#     print(x['sequence_type'])\n",
    "    m=x['mturk_id']\n",
    "    if(m in completed_participants):\n",
    "        completed_p_models.append(x)\n",
    "        "
   ]
  },
  {
   "cell_type": "code",
   "execution_count": 12,
   "id": "6f3365ae",
   "metadata": {},
   "outputs": [],
   "source": [
    "filename='completedparticipants.json'\n",
    "with open(filename, 'w') as json_file:\n",
    "    json.dump(completed_p_models, json_file, \n",
    "                        indent=4,  \n",
    "                        separators=(',',': '))"
   ]
  },
  {
   "cell_type": "code",
   "execution_count": 13,
   "id": "318cf2e7",
   "metadata": {},
   "outputs": [],
   "source": [
    "c_file=open(filename)\n",
    "c_p=json.load(c_file)"
   ]
  },
  {
   "cell_type": "code",
   "execution_count": 14,
   "id": "ed752b8d",
   "metadata": {},
   "outputs": [],
   "source": [
    "# for x in c_p:\n",
    "#     print(x['mturk_id'])\n"
   ]
  },
  {
   "cell_type": "markdown",
   "id": "c8c55570",
   "metadata": {},
   "source": [
    "completedparticipants.json is the file that includes data of all participants who completed the task \n",
    "and c_p is the json varible of the file\n",
    "\n"
   ]
  },
  {
   "cell_type": "code",
   "execution_count": 15,
   "id": "75eed3ec",
   "metadata": {},
   "outputs": [],
   "source": [
    "# ----------------Experiment Sequences---------------------------\n",
    "\n",
    "# N : first nbackn difficulty (H/E)\n",
    "\n",
    "# Q : first Questionaire (1: NASA-TLX and 2: MRQ)\n",
    "\n",
    "# S : SakeDifficulty(H/E)\n",
    "\n",
    "# _________________________________________________________________________\n",
    "# seq_number/Progress | 1.n1 | 2.s | 3.q1| 4.q2|5.n2 | 6.s |7.q1 |8.q2 |\n",
    "# _________________________________________________________________________\n",
    "#          1          |  E   | E   |  1  |  2  |  H  |  E  |  1  |  2  |\n",
    "#          2          |  E   | E   |  2  |  1  |  H  |  E  |  2  |  1  |\n",
    "#          3          |  H   | E   |  1  |  2  |  E  |  E  |  1  |  2  |\n",
    "#          4          |  H   | E   |  2  |  1  |  E  |  E  |  2  |  1  |\n",
    "#          5          |  E   | H   |  1  |  2  |  H  |  H  |  1  |  2  |\n",
    "#          6          |  E   | H   |  2  |  1  |  H  |  H  |  2  |  1  |\n",
    "#          7          |  H   | H   |  1  |  2  |  E  |  H  |  1  |  2  |\n",
    "#          8          |  H   | H   |  2  |  1  |  E  |  H  |  2  |  1  |\n",
    "# ________________________________________________________________________\n"
   ]
  },
  {
   "cell_type": "code",
   "execution_count": 16,
   "id": "626d1e64",
   "metadata": {},
   "outputs": [],
   "source": [
    " #  sequence type /progress matrix \n",
    "E_n = 1; # easy nbackn\n",
    "H_n = 3; # hard nbackn\n",
    "E_s = 500;  # easy sak in ms\n",
    "H_s = 1000; #hard sak in ms\n",
    "seq_prog = [\n",
    "    [E_n, E_s, 1, 2, H_n, E_s, 1, 2],\n",
    "    [E_n, E_s, 2, 1, H_n, E_s, 2, 1],\n",
    "    [H_n, E_s, 1, 2, E_n, E_s, 1, 2],\n",
    "    [H_n, E_s, 2, 1, E_n, E_s, 2, 1],\n",
    "    [E_n, H_s, 1, 2, H_n, H_s, 1, 2],\n",
    "    [E_n, H_s, 2, 1, H_n, H_s, 2, 1],\n",
    "    [H_n, H_s, 1, 2, E_n, H_s, 1, 2],\n",
    "    [H_n, H_s, 2, 1, E_n, H_s, 2, 1]\n",
    "];"
   ]
  },
  {
   "cell_type": "markdown",
   "id": "0859200b",
   "metadata": {},
   "source": [
    "conEX : Easy NBACKN----\n",
    "conHX : Hard NBACKN----\n",
    "conXE: Easy SAK----\n",
    "conXH: Hard SAK"
   ]
  },
  {
   "cell_type": "code",
   "execution_count": 17,
   "id": "1ffa95ce",
   "metadata": {},
   "outputs": [],
   "source": [
    "nasa_1_t_array=[]\n",
    "nasa_2_t_array=[]\n",
    "nasa_1_r_array=[]\n",
    "nasa_2_r_array=[]\n",
    "\n",
    "seq_type_array=[]\n",
    "\n",
    "mrq_1_array=[]\n",
    "mrq_2_array=[]\n",
    "\n",
    "mrq_conEH_array=[]\n",
    "mrq_conHH_array=[]\n",
    "mrq_conEE_array=[]\n",
    "mrq_conHE_array=[]\n",
    "\n",
    "nasa_r_conEH_array=[]\n",
    "nasa_r_conHH_array=[]\n",
    "nasa_r_conEE_array=[]\n",
    "nasa_r_conHE_array=[]\n",
    "\n",
    "nasa_t_conEH_array=[]\n",
    "nasa_t_conHH_array=[]\n",
    "nasa_t_conEE_array=[]\n",
    "nasa_t_conHE_array=[]\n",
    "\n",
    "throughput1_array=[]\n",
    "throughput2_array=[]\n",
    "\n",
    "\n",
    "for x in c_p:\n",
    "    st= x['sequence_type']\n",
    "    seq_type_array.append(st)\n",
    "    \n",
    "    sak1= x['sak_1_actions']\n",
    "    sak2= x['sak_2_actions']\n",
    "    sak1t= x['sak_1_actions_t']\n",
    "    sak2t= x['sak_2_actions_t']\n",
    "#     print(len(x['nasa_1_r']))\n",
    "\n",
    "    if(len(x['nasa_1_r'])>0):\n",
    "        ntr1= nasa_string_to_int(x['nasa_1_r'][0])\n",
    "    else: \n",
    "        ntr1=[]\n",
    "        \n",
    "    if(len(x['nasa_2_r'])>0):\n",
    "        ntr2= nasa_string_to_int(x['nasa_2_r'][0])\n",
    "    else: \n",
    "        ntr2=[]\n",
    "        \n",
    "    if(len(x['nasa_1_t'])>0):\n",
    "        ntt1= nasa_string_to_int(x['nasa_1_t'][0])\n",
    "    else: \n",
    "        ntt1=[]\n",
    "        \n",
    "    if(len(x['nasa_2_t'])>0):\n",
    "        ntt2= nasa_string_to_int(x['nasa_2_t'][0])\n",
    "    else: \n",
    "        ntt2=[]\n",
    "    \n",
    "    \n",
    "    nasa_1_r_array.append(ntr1)\n",
    "    nasa_1_t_array.append(ntt1)\n",
    "    nasa_2_r_array.append(ntr2)\n",
    "    nasa_2_t_array.append(ntt2)\n",
    "    \n",
    "    \n",
    "    \n",
    "    if(len(x['mrq_1'])>0): \n",
    "        s=x['mrq_1'][0].replace('\"','').replace('[',\"\").replace(']',\"\").split(',')\n",
    "        mrq1 = [int(y) for y in s]\n",
    "        mrq1.pop()\n",
    "    else: \n",
    "        mrq1=[] \n",
    "        \n",
    "        \n",
    "\n",
    "    if(len(x['mrq_2'])>0): \n",
    "        s=x['mrq_2'][0].replace('\"','').replace('[',\"\").replace(']',\"\").split(',')\n",
    "        mrq2 = [int(y) for y in s]\n",
    "        mrq2.pop()\n",
    "    else: \n",
    "        mrq2=[]\n",
    "        \n",
    "        \n",
    "        \n",
    "    mrq_1_array.append(mrq1)\n",
    "    mrq_2_array.append(mrq2)\n",
    "    \n",
    "    if(st==1 or st==2):\n",
    "        if(len(mrq1)>0 and len(mrq2)>0):\n",
    "            mrq_conEE_array.append(mrq1)\n",
    "            mrq_conHE_array.append(mrq2)\n",
    "            \n",
    "        if(len(ntr1)>0 and len(ntr2)>0):\n",
    "            nasa_r_conEE_array.append(ntr1)\n",
    "            nasa_r_conHE_array.append(ntr2)\n",
    "            nasa_t_conEE_array.append(ntt1)\n",
    "            nasa_t_conHE_array.append(ntt2)\n",
    "        #-------------------------------\n",
    "        throughput1= sak_data_to_througput(sak1,sak1t, E_s)\n",
    "        throughput2= sak_data_to_througput(sak2,sak2t, E_s)\n",
    "        \n",
    "\n",
    "       \n",
    "    if(st==3 or st==4):\n",
    "        if(len(mrq1)>0 and len(mrq2)>0):\n",
    "            mrq_conHE_array.append(mrq1)\n",
    "            mrq_conEE_array.append(mrq2)\n",
    "            \n",
    "        if(len(ntr1)>0 and len(ntr2)>0):\n",
    "            nasa_r_conHE_array.append(ntr1)\n",
    "            nasa_r_conEE_array.append(ntr2)\n",
    "            nasa_t_conHE_array.append(ntt1)\n",
    "            nasa_t_conEE_array.append(ntt2)\n",
    "        #-------------------------------\n",
    "        throughput1= sak_data_to_througput(sak1,sak1t, E_s)\n",
    "        throughput2= sak_data_to_througput(sak2,sak2t, E_s)\n",
    "\n",
    "\n",
    "        \n",
    "    if(st==5 or st==6):\n",
    "        if(len(mrq1)>0 and len(mrq2)>0):\n",
    "            mrq_conEH_array.append(mrq1)\n",
    "            mrq_conHH_array.append(mrq2)\n",
    "            \n",
    "        if(len(ntr1)>0 and len(ntr2)>0): \n",
    "            nasa_r_conEH_array.append(ntr1)\n",
    "            nasa_r_conHH_array.append(ntr2)\n",
    "            nasa_t_conEH_array.append(ntt1)\n",
    "            nasa_t_conHH_array.append(ntt2)\n",
    "        #-------------------------------\n",
    "        throughput1= sak_data_to_througput(sak1,sak1t, H_s)\n",
    "        throughput2= sak_data_to_througput(sak2,sak2t, H_s)\n",
    "        \n",
    "\n",
    "        \n",
    "        \n",
    "    if(st==7 or st==8):\n",
    "        if(len(mrq1)>0 and len(mrq2)>0):\n",
    "            mrq_conHH_array.append(mrq1)\n",
    "            mrq_conEH_array.append(mrq2)\n",
    "            \n",
    "        if(len(ntr1)>0 and len(ntr2)>0): \n",
    "            nasa_r_conHH_array.append(ntr1)\n",
    "            nasa_r_conEH_array.append(ntr2)\n",
    "            nasa_t_conHH_array.append(ntt1)\n",
    "            nasa_t_conEH_array.append(ntt2)\n",
    "        #-------------------------------\n",
    "        throughput1= sak_data_to_througput(sak1,sak1t, H_s)\n",
    "        throughput2= sak_data_to_througput(sak2,sak2t, H_s)\n",
    "        \n",
    "    \n",
    "    throughput1_array.append(throughput1)\n",
    "    throughput2_array.append(throughput2)\n",
    "        \n",
    "        \n"
   ]
  },
  {
   "cell_type": "code",
   "execution_count": 18,
   "id": "f49e2725",
   "metadata": {},
   "outputs": [
    {
     "data": {
      "text/plain": [
       "[[0, 4, 0, 0, 4, 4, 3, 3, 2, 2, 4, 2, 0, 2, 1, 2, 0],\n",
       " [0, 0, 0, 0, 4, 3, 4, 3, 2, 3, 2, 1, 0, 4, 4, 4, 0],\n",
       " [0, 3, 0, 0, 4, 3, 0, 1, 0, 4, 0, 3, 0, 4, 3, 3, 0],\n",
       " [2, 2, 0, 0, 0, 4, 4, 2, 2, 2, 2, 0, 0, 3, 2, 3, 0],\n",
       " [1, 2, 1, 1, 4, 4, 4, 3, 4, 4, 3, 3, 4, 4, 3, 3, 1],\n",
       " [0, 0, 0, 0, 1, 1, 1, 0, 2, 3, 1, 0, 0, 4, 0, 4, 0],\n",
       " [0, 4, 0, 0, 2, 3, 4, 2, 2, 3, 3, 0, 0, 4, 3, 3, 0],\n",
       " [0, 0, 0, 0, 3, 2, 3, 3, 1, 4, 4, 3, 0, 4, 4, 4, 0],\n",
       " [2, 4, 4, 4, 4, 3, 3, 2, 4, 3, 4, 2, 3, 4, 3, 3, 0],\n",
       " [0, 0, 0, 0, 1, 2, 4, 4, 0, 0, 4, 0, 0, 0, 0, 0, 0],\n",
       " [0, 0, 0, 1, 3, 2, 2, 3, 3, 2, 2, 0, 0, 3, 2, 4, 0],\n",
       " [0, 0, 0, 0, 1, 1, 2, 1, 0, 1, 0, 0, 0, 1, 0, 1, 0],\n",
       " [0, 4, 0, 0, 0, 3, 4, 0, 1, 1, 3, 0, 0, 0, 3, 2, 0],\n",
       " [0, 2, 0, 2, 3, 1, 2, 1, 3, 1, 1, 3, 0, 3, 2, 3, 0],\n",
       " [4, 4, 0, 0, 3, 4, 4, 4, 0, 1, 1, 0, 0, 3, 4, 4, 0],\n",
       " [0, 0, 0, 0, 4, 2, 2, 1, 1, 0, 3, 0, 0, 3, 1, 2, 0],\n",
       " [1, 1, 1, 3, 3, 2, 4, 3, 3, 2, 3, 3, 2, 3, 2, 2, 1],\n",
       " [0, 1, 0, 0, 3, 4, 4, 1, 0, 0, 4, 0, 0, 4, 1, 4, 0],\n",
       " [0, 2, 0, 0, 2, 1, 0, 0, 0, 0, 1, 0, 0, 2, 1, 3, 0],\n",
       " [0, 0, 0, 0, 1, 0, 2, 1, 1, 1, 1, 0, 0, 1, 0, 1, 0],\n",
       " [0, 0, 0, 0, 2, 1, 2, 0, 0, 0, 0, 0, 0, 4, 0, 0, 0],\n",
       " [1, 1, 2, 1, 1, 1, 1, 1, 1, 1, 1, 1, 1, 1, 1, 2, 1],\n",
       " [0, 0, 0, 0, 4, 0, 2, 0, 0, 1, 0, 1, 0, 4, 0, 2, 0],\n",
       " [0, 0, 0, 0, 3, 1, 0, 0, 0, 0, 1, 0, 0, 4, 0, 4, 0],\n",
       " [2, 2, 2, 2, 2, 2, 2, 2, 2, 2, 2, 2, 2, 2, 2, 2, 0],\n",
       " [3, 0, 2, 1, 0, 1, 4, 0, 0, 0, 3, 0, 0, 4, 3, 0, 0],\n",
       " [3, 4, 0, 0, 4, 4, 4, 4, 2, 2, 3, 3, 2, 4, 4, 2, 0]]"
      ]
     },
     "execution_count": 18,
     "metadata": {},
     "output_type": "execute_result"
    }
   ],
   "source": [
    " mrq_2_array\n",
    "    "
   ]
  },
  {
   "cell_type": "code",
   "execution_count": 19,
   "id": "2498aeee",
   "metadata": {},
   "outputs": [
    {
     "data": {
      "text/plain": [
       "[2.7484001347254967,\n",
       " 2.8360972151100956,\n",
       " 3.0654081463221483,\n",
       " 1.9932924128330063,\n",
       " 1.2902866108869924,\n",
       " 1.6989346264113547,\n",
       " 0,\n",
       " 3.4656129802958895,\n",
       " 1.7933128308386885,\n",
       " 2.2863830916526604,\n",
       " 1.7431256825897254,\n",
       " 2.6716485814126822,\n",
       " 3.567957001543828,\n",
       " 1.422636079990947,\n",
       " 1.4020329477742726,\n",
       " 2.339002872905703,\n",
       " 1.9030120086619857,\n",
       " 3.0326533102108044,\n",
       " 2.980070776680946,\n",
       " 3.4696048161419233,\n",
       " 2.6693784161688066,\n",
       " 2.6283201496120703,\n",
       " 1.1969975311925918,\n",
       " 1.553556071352611,\n",
       " 2.9128334587469964,\n",
       " 1.4191377593645926,\n",
       " 1.0882334755456626]"
      ]
     },
     "execution_count": 19,
     "metadata": {},
     "output_type": "execute_result"
    }
   ],
   "source": [
    "throughput2_array"
   ]
  },
  {
   "cell_type": "markdown",
   "id": "834336bb",
   "metadata": {},
   "source": [
    "<b>Starting the analysis from here:"
   ]
  },
  {
   "cell_type": "markdown",
   "id": "793c58ee",
   "metadata": {},
   "source": [
    "<hr style=\"width:100%;text-align:left;margin-left:0\">"
   ]
  },
  {
   "cell_type": "markdown",
   "id": "5ca423d8",
   "metadata": {},
   "source": [
    "<b>Analysis 1: Paired t-test to see effect of first task on second one "
   ]
  },
  {
   "cell_type": "markdown",
   "id": "64e307a5",
   "metadata": {},
   "source": [
    "-----------------------------------------------------------------------------------------------------------------------"
   ]
  },
  {
   "cell_type": "markdown",
   "id": "f57c7cb5",
   "metadata": {},
   "source": [
    "<b>First Part for MRQ:</b>\n",
    "\n",
    "r_mrq_pttest, p_mrq_pttest for each dimension separately and for r_mrq_avg,p_mrq_avg for total average as the last element.\n",
    "\n",
    "p_mrq_pttest_adjusted is the adjusted p-values after boneferroni"
   ]
  },
  {
   "cell_type": "code",
   "execution_count": 20,
   "id": "408a0760",
   "metadata": {},
   "outputs": [],
   "source": [
    "mrqEX= mrq_conEE_array + mrq_conEH_array"
   ]
  },
  {
   "cell_type": "code",
   "execution_count": 21,
   "id": "d4f28f2d",
   "metadata": {},
   "outputs": [],
   "source": [
    "mrqHX= mrq_conHE_array + mrq_conHH_array"
   ]
  },
  {
   "cell_type": "code",
   "execution_count": 22,
   "id": "cfc7f638",
   "metadata": {},
   "outputs": [],
   "source": [
    "mrqEX=np.array(mrqEX)"
   ]
  },
  {
   "cell_type": "code",
   "execution_count": 23,
   "id": "4fac629a",
   "metadata": {},
   "outputs": [],
   "source": [
    "mrqHX=np.array(mrqHX)"
   ]
  },
  {
   "cell_type": "code",
   "execution_count": 24,
   "id": "810768e8",
   "metadata": {},
   "outputs": [],
   "source": [
    "r_mrq_pttest=[]\n",
    "p_mrq_pttest=[]\n",
    "\n",
    "for i in range(len(mrqHX[0])):\n",
    "    r,p = stats.ttest_rel(mrqHX[:,i], mrqEX[:,i])\n",
    "    r_mrq_pttest.append(r)\n",
    "    p_mrq_pttest.append(p)\n",
    "    \n",
    "mrqHX_avg_array= np.mean(mrqHX, axis=1)\n",
    "mrqEX_avg_array= np.mean(mrqEX, axis=1)\n",
    "r_mrq_avg,p_mrq_avg = stats.ttest_rel(mrqHX_avg_array,mrqEX_avg_array)\n",
    "\n",
    "r_mrq_pttest.append(r_mrq_avg)\n",
    "p_mrq_pttest.append(p_mrq_avg)"
   ]
  },
  {
   "cell_type": "code",
   "execution_count": 25,
   "id": "312bf7ba",
   "metadata": {},
   "outputs": [],
   "source": [
    "p_mrq_pttest_adjusted = multipletests(p_mrq_pttest, alpha=0.05, method='bonferroni')"
   ]
  },
  {
   "cell_type": "code",
   "execution_count": 26,
   "id": "38adde36",
   "metadata": {},
   "outputs": [
    {
     "data": {
      "text/plain": [
       "(array([False, False, False, False, False, False, False, False, False,\n",
       "        False, False, False, False, False, False, False, False, False]),\n",
       " array([1.        , 1.        , 1.        , 1.        , 1.        ,\n",
       "        1.        , 1.        , 1.        , 0.09360179, 1.        ,\n",
       "        1.        , 1.        , 1.        , 1.        , 1.        ,\n",
       "        1.        , 1.        , 1.        ]),\n",
       " 0.002845571131556368,\n",
       " 0.002777777777777778)"
      ]
     },
     "execution_count": 26,
     "metadata": {},
     "output_type": "execute_result"
    }
   ],
   "source": [
    "p_mrq_pttest_adjusted"
   ]
  },
  {
   "cell_type": "code",
   "execution_count": 27,
   "id": "7b53ad77",
   "metadata": {},
   "outputs": [
    {
     "data": {
      "text/plain": [
       "[0.44899450070831426,\n",
       " 0.8458188331962004,\n",
       " 1.0,\n",
       " 0.09607826596095118,\n",
       " 0.8762942278983937,\n",
       " 0.4213993164538019,\n",
       " 0.8847779840410146,\n",
       " 0.6261920005685395,\n",
       " 0.005200099260418572,\n",
       " 0.7129928241351289,\n",
       " 0.9025281498122124,\n",
       " 0.2438646223602213,\n",
       " 0.08813246478642534,\n",
       " 0.16117896000788953,\n",
       " 0.9025281498122124,\n",
       " 0.7742385941774366,\n",
       " 0.2589541098908044,\n",
       " 0.931565587573757]"
      ]
     },
     "execution_count": 27,
     "metadata": {},
     "output_type": "execute_result"
    }
   ],
   "source": [
    "p_mrq_pttest"
   ]
  },
  {
   "cell_type": "markdown",
   "id": "5c0004b0",
   "metadata": {},
   "source": [
    "<b>Second Part for NASA-TLX:</b>\n",
    "\n",
    "r_nasa_pttest, p_nasa_pttest for each dimension separately and for r_nasa_avg,p_nasa_avg for total average as the last element.\n",
    "\n",
    "p_nasa_pttest_adjusted is the adjusted p-values after boneferroni"
   ]
  },
  {
   "cell_type": "code",
   "execution_count": 28,
   "id": "5aee80b3",
   "metadata": {},
   "outputs": [],
   "source": [
    "nasaEX= nasa_r_conEE_array + nasa_r_conEH_array"
   ]
  },
  {
   "cell_type": "code",
   "execution_count": 29,
   "id": "97c39546",
   "metadata": {},
   "outputs": [],
   "source": [
    "nasaHX= nasa_r_conHE_array + nasa_r_conHH_array"
   ]
  },
  {
   "cell_type": "code",
   "execution_count": 30,
   "id": "6330a36a",
   "metadata": {},
   "outputs": [],
   "source": [
    "nasaEX=np.array(nasaEX)"
   ]
  },
  {
   "cell_type": "code",
   "execution_count": 31,
   "id": "cc06d221",
   "metadata": {},
   "outputs": [],
   "source": [
    "nasaHX=np.array(nasaHX)"
   ]
  },
  {
   "cell_type": "code",
   "execution_count": 32,
   "id": "71ed1bb5",
   "metadata": {},
   "outputs": [],
   "source": [
    "r_nasa_pttest=[]\n",
    "p_nasa_pttest=[]\n",
    "\n",
    "for i in range(len(nasaHX[0])):\n",
    "    r,p = stats.ttest_rel(nasaHX[:,i], nasaEX[:,i])\n",
    "    r_nasa_pttest.append(r)\n",
    "    p_nasa_pttest.append(p)\n",
    "    \n",
    "nasaHX_avg_array= np.mean(nasaHX, axis=1)\n",
    "nasaEX_avg_array= np.mean(nasaEX, axis=1)\n",
    "r_nasa_avg,p_nasa_avg = stats.ttest_rel(nasaHX_avg_array,nasaEX_avg_array)\n",
    "\n",
    "r_nasa_pttest.append(r_nasa_avg)\n",
    "p_nasa_pttest.append(p_nasa_avg)"
   ]
  },
  {
   "cell_type": "code",
   "execution_count": 33,
   "id": "26ca9532",
   "metadata": {},
   "outputs": [],
   "source": [
    "p_nasa_pttest_adjusted = multipletests(p_nasa_pttest, alpha=0.05, method='bonferroni')"
   ]
  },
  {
   "cell_type": "code",
   "execution_count": 34,
   "id": "9b10acd1",
   "metadata": {},
   "outputs": [
    {
     "data": {
      "text/plain": [
       "[0.1810654451214093,\n",
       " 0.11552285426683208,\n",
       " 0.06796790036549413,\n",
       " 0.4804932381057647,\n",
       " 0.49139381300120966,\n",
       " 0.039018929037339715,\n",
       " 0.36129310449588614]"
      ]
     },
     "execution_count": 34,
     "metadata": {},
     "output_type": "execute_result"
    }
   ],
   "source": [
    "p_nasa_pttest"
   ]
  },
  {
   "cell_type": "code",
   "execution_count": 35,
   "id": "373daa46",
   "metadata": {},
   "outputs": [
    {
     "data": {
      "text/plain": [
       "(array([False, False, False, False, False, False, False]),\n",
       " array([1.        , 0.80865998, 0.4757753 , 1.        , 1.        ,\n",
       "        0.2731325 , 1.        ]),\n",
       " 0.007300831979014655,\n",
       " 0.0071428571428571435)"
      ]
     },
     "execution_count": 35,
     "metadata": {},
     "output_type": "execute_result"
    }
   ],
   "source": [
    "p_nasa_pttest_adjusted"
   ]
  },
  {
   "cell_type": "markdown",
   "id": "709b5ad8",
   "metadata": {},
   "source": [
    "<hr style=\"width:100%;text-align:left;margin-left:0\">"
   ]
  },
  {
   "cell_type": "markdown",
   "id": "40067692",
   "metadata": {},
   "source": [
    "<b> Analysis 2: two-sample t-test to see effect of one-key text entry task difficulty on questionaires"
   ]
  },
  {
   "cell_type": "markdown",
   "id": "56bd435c",
   "metadata": {},
   "source": [
    "<b>First Part for MRQ:</b>\n",
    "\n",
    "r_mrq_pttest, p_mrq_pttest for each dimension separately and for r_mrq_avg,p_mrq_avg for total average as the last element.\n",
    "\n",
    "p_mrq_pttest_adjusted is the adjusted p-values after boneferroni"
   ]
  },
  {
   "cell_type": "code",
   "execution_count": 36,
   "id": "dec188f0",
   "metadata": {},
   "outputs": [],
   "source": [
    "mrqXE= mrq_conEE_array + mrq_conHE_array"
   ]
  },
  {
   "cell_type": "code",
   "execution_count": 37,
   "id": "ce73be1c",
   "metadata": {},
   "outputs": [],
   "source": [
    "mrqXH= mrq_conEH_array + mrq_conHH_array"
   ]
  },
  {
   "cell_type": "code",
   "execution_count": 38,
   "id": "0c08e7e3",
   "metadata": {},
   "outputs": [],
   "source": [
    "mrqEX=np.array(mrqXE) #just did not want the notation. do not confuse EX and XE "
   ]
  },
  {
   "cell_type": "code",
   "execution_count": 39,
   "id": "6e16b7d7",
   "metadata": {},
   "outputs": [],
   "source": [
    "mrqHX=np.array(mrqXH) #just did not want the notation. do not confuse EX and XE "
   ]
  },
  {
   "cell_type": "code",
   "execution_count": 40,
   "id": "5f61bc41",
   "metadata": {},
   "outputs": [],
   "source": [
    "r_mrq_pttest=[]\n",
    "p_mrq_pttest=[]\n",
    "\n",
    "for i in range(len(mrqHX[0])):\n",
    "    r,p = stats.ttest_ind(mrqHX[:,i], mrqEX[:,i], equal_var=True)\n",
    "    r_mrq_pttest.append(r)\n",
    "    p_mrq_pttest.append(p)\n",
    "    \n",
    "mrqHX_avg_array= np.mean(mrqHX, axis=1)\n",
    "mrqEX_avg_array= np.mean(mrqEX, axis=1)\n",
    "r_mrq_avg,p_mrq_avg = stats.ttest_ind(mrqHX_avg_array,mrqEX_avg_array, equal_var=True)\n",
    "\n",
    "r_mrq_pttest.append(r_mrq_avg)\n",
    "p_mrq_pttest.append(p_mrq_avg)"
   ]
  },
  {
   "cell_type": "code",
   "execution_count": 41,
   "id": "8d13eb30",
   "metadata": {},
   "outputs": [],
   "source": [
    "p_mrq_pttest_adjusted = multipletests(p_mrq_pttest, alpha=0.05, method='bonferroni')"
   ]
  },
  {
   "cell_type": "code",
   "execution_count": 42,
   "id": "f9118235",
   "metadata": {},
   "outputs": [
    {
     "data": {
      "text/plain": [
       "(array([False, False, False, False, False, False, False, False, False,\n",
       "        False, False, False, False, False, False, False, False, False]),\n",
       " array([1.        , 1.        , 1.        , 1.        , 1.        ,\n",
       "        1.        , 1.        , 1.        , 1.        , 1.        ,\n",
       "        0.881246  , 1.        , 1.        , 1.        , 1.        ,\n",
       "        0.31451689, 1.        , 1.        ]),\n",
       " 0.002845571131556368,\n",
       " 0.002777777777777778)"
      ]
     },
     "execution_count": 42,
     "metadata": {},
     "output_type": "execute_result"
    }
   ],
   "source": [
    "p_mrq_pttest_adjusted"
   ]
  },
  {
   "cell_type": "code",
   "execution_count": 43,
   "id": "8fa0af0e",
   "metadata": {},
   "outputs": [
    {
     "data": {
      "text/plain": [
       "[0.5080987565911261,\n",
       " 0.533766810241787,\n",
       " 0.17696251989592723,\n",
       " 0.3658002147147271,\n",
       " 0.8259688010871624,\n",
       " 0.8287373139743016,\n",
       " 0.5648752981115446,\n",
       " 0.2994753973627226,\n",
       " 0.1337474000453613,\n",
       " 0.7260043342370881,\n",
       " 0.04895811101908133,\n",
       " 0.5681717260420883,\n",
       " 0.15354073011162744,\n",
       " 0.29494497468625913,\n",
       " 0.6655279938277657,\n",
       " 0.017473160632611288,\n",
       " 0.9033731916483089,\n",
       " 0.6202439825581878]"
      ]
     },
     "execution_count": 43,
     "metadata": {},
     "output_type": "execute_result"
    }
   ],
   "source": [
    "p_mrq_pttest"
   ]
  },
  {
   "cell_type": "markdown",
   "id": "8683c563",
   "metadata": {},
   "source": [
    "<b>Second Part for NASA-TLX:</b>\n",
    "\n",
    "r_nasa_pttest, p_nasa_pttest for each dimension separately and for r_nasa_avg,p_nasa_avg for total average as the last element.\n",
    "\n",
    "p_nasa_pttest_adjusted is the adjusted p-values after boneferroni"
   ]
  },
  {
   "cell_type": "code",
   "execution_count": 44,
   "id": "c96903ab",
   "metadata": {},
   "outputs": [],
   "source": [
    "nasaXE= nasa_r_conEE_array + nasa_r_conHE_array"
   ]
  },
  {
   "cell_type": "code",
   "execution_count": 45,
   "id": "830c76b7",
   "metadata": {},
   "outputs": [],
   "source": [
    "nasaXH= nasa_r_conHH_array + nasa_r_conEH_array"
   ]
  },
  {
   "cell_type": "code",
   "execution_count": 46,
   "id": "de66f519",
   "metadata": {},
   "outputs": [],
   "source": [
    "nasaEX=np.array(nasaXE) #just did not want the notation. do not confuse EX and XE "
   ]
  },
  {
   "cell_type": "code",
   "execution_count": 47,
   "id": "9f9fff99",
   "metadata": {},
   "outputs": [],
   "source": [
    "nasaHX=np.array(nasaXH) #just did not want the notation. do not confuse EX and XE "
   ]
  },
  {
   "cell_type": "code",
   "execution_count": 48,
   "id": "339d2923",
   "metadata": {},
   "outputs": [],
   "source": [
    "r_nasa_pttest=[]\n",
    "p_nasa_pttest=[]\n",
    "\n",
    "for i in range(len(nasaHX[0])):\n",
    "    r,p = stats.ttest_ind(nasaHX[:,i], nasaEX[:,i], equal_var=True)\n",
    "    r_nasa_pttest.append(r)\n",
    "    p_nasa_pttest.append(p)\n",
    "    \n",
    "nasaHX_avg_array= np.mean(nasaHX, axis=1)\n",
    "nasaEX_avg_array= np.mean(nasaEX, axis=1)\n",
    "r_nasa_avg,p_nasa_avg = stats.ttest_ind(nasaHX_avg_array,nasaEX_avg_array, equal_var=True)\n",
    "\n",
    "r_nasa_pttest.append(r_nasa_avg)\n",
    "p_nasa_pttest.append(p_nasa_avg)"
   ]
  },
  {
   "cell_type": "code",
   "execution_count": 49,
   "id": "12fbfb8f",
   "metadata": {},
   "outputs": [],
   "source": [
    "p_nasa_pttest_adjusted = multipletests(p_nasa_pttest, alpha=0.05, method='bonferroni')"
   ]
  },
  {
   "cell_type": "code",
   "execution_count": 50,
   "id": "4b8aa3bf",
   "metadata": {},
   "outputs": [
    {
     "data": {
      "text/plain": [
       "[0.24037078097170306,\n",
       " 0.16862869047104034,\n",
       " 0.8223149622097277,\n",
       " 0.49497388680463994,\n",
       " 0.8040706126290165,\n",
       " 0.6158509468883342,\n",
       " 0.510648356506257]"
      ]
     },
     "execution_count": 50,
     "metadata": {},
     "output_type": "execute_result"
    }
   ],
   "source": [
    "p_nasa_pttest"
   ]
  },
  {
   "cell_type": "code",
   "execution_count": 51,
   "id": "941332a6",
   "metadata": {},
   "outputs": [
    {
     "data": {
      "text/plain": [
       "(array([False, False, False, False, False, False, False]),\n",
       " array([1., 1., 1., 1., 1., 1., 1.]),\n",
       " 0.007300831979014655,\n",
       " 0.0071428571428571435)"
      ]
     },
     "execution_count": 51,
     "metadata": {},
     "output_type": "execute_result"
    }
   ],
   "source": [
    "p_nasa_pttest_adjusted"
   ]
  },
  {
   "cell_type": "markdown",
   "id": "1768a6e2",
   "metadata": {},
   "source": [
    "<hr style=\"width:100%;text-align:left;margin-left:0\">\n",
    "<hr style=\"width:100%;text-align:left;margin-left:0\">"
   ]
  },
  {
   "cell_type": "markdown",
   "id": "276d5115",
   "metadata": {},
   "source": [
    "<b> Analysis 3: Pearson Correlation to see the correlation of two questionaires' scale"
   ]
  },
  {
   "cell_type": "code",
   "execution_count": 52,
   "id": "d60da297",
   "metadata": {},
   "outputs": [
    {
     "name": "stdout",
     "output_type": "stream",
     "text": [
      "(54, 17)\n",
      "KACJ\n",
      "KACJ\n",
      "KACJ\n"
     ]
    }
   ],
   "source": [
    "nasa_r_array_pc = []\n",
    "nasa_r_array_pc.extend(nasa_1_r_array)\n",
    "nasa_r_array_pc.extend(nasa_2_r_array)\n",
    "\n",
    "mrq_array_pc = []\n",
    "mrq_array_pc.extend(mrq_1_array)\n",
    "mrq_array_pc.extend(mrq_2_array)\n",
    "\n",
    "nasa_r_array_pc=np.array(nasa_r_array_pc,dtype=object)\n",
    "mrq_array_pc=np.array(mrq_array_pc,dtype=object)\n",
    "print(mrq_array_pc.shape)\n",
    "\n",
    "\n",
    "#-------------------------------------------------------------------------------------\n",
    "to_delete_indices=[]\n",
    "for i in range(len(mrq_array_pc)):\n",
    "    if(len(nasa_r_array_pc[i])==0 or len(mrq_array_pc[i])==0):\n",
    "        to_delete_indices.append(i)\n",
    "\n",
    "\n",
    "\n",
    "\n",
    "cleaned_nasa_r_array_pc=[]\n",
    "cleaned_mrq_array_pc=[]\n",
    "\n",
    "\n",
    "for t in range(len(mrq_array_pc)):\n",
    "    if t in  to_delete_indices:\n",
    "        print('KACJ')\n",
    "    else:\n",
    "        cleaned_nasa_r_array_pc.append(nasa_r_array_pc[t])\n",
    "        cleaned_mrq_array_pc.append(mrq_array_pc[t])\n",
    "#-------------------------------------------------------------------------------------"
   ]
  },
  {
   "cell_type": "code",
   "execution_count": 53,
   "id": "ef12858f",
   "metadata": {},
   "outputs": [],
   "source": [
    "nasa_r_array_pc=np.array(cleaned_nasa_r_array_pc)\n",
    "mrq_array_pc=np.array(cleaned_mrq_array_pc)\n",
    "\n",
    "nasa_r_array_pc_avg = []\n",
    "mrq_array_pc_avg = []\n",
    "\n",
    "for i in range(len(nasa_r_array_pc)):\n",
    "    nasa_r_array_pc_avg.append(np.mean(nasa_r_array_pc[i]))\n",
    "    mrq_array_pc_avg.append(np.mean(mrq_array_pc[i]))\n",
    "\n",
    "\n",
    "# print(mrq_array_pc.shape)\n",
    "\n",
    "    \n",
    "new_mrq_array_pc = []\n",
    "new_nasa_r_array_pc = []\n",
    "\n",
    "for i in range(len(nasa_r_array_pc)):\n",
    "    tmpn=[nasa_r_array_pc_avg[i]]\n",
    "    tmpm=[mrq_array_pc_avg[i]]\n",
    "    \n",
    "    for j in range(len(mrq_array_pc[i])):\n",
    "        tmpm.append(mrq_array_pc[i][j])\n",
    "        \n",
    "    for k in range(len(nasa_r_array_pc[i])):\n",
    "        tmpn.append(nasa_r_array_pc[i][k])\n",
    "    \n",
    "    \n",
    "    new_mrq_array_pc.append(tmpm)\n",
    "    new_nasa_r_array_pc.append(tmpn)"
   ]
  },
  {
   "cell_type": "code",
   "execution_count": 54,
   "id": "ef3c224d",
   "metadata": {},
   "outputs": [],
   "source": [
    "for ix in range(len(mrq_array_pc_avg)):\n",
    "    new_mrq_array_pc.append(np.append(mrq_array_pc_avg[ix],mrq_array_pc[ix]))\n",
    "    new_nasa_r_array_pc.append(np.append(nasa_r_array_pc_avg[ix],nasa_r_array_pc[ix]))"
   ]
  },
  {
   "cell_type": "code",
   "execution_count": 55,
   "id": "e2586fc3",
   "metadata": {},
   "outputs": [],
   "source": [
    "new_mrq_array_pc = np.array(new_mrq_array_pc)"
   ]
  },
  {
   "cell_type": "code",
   "execution_count": 56,
   "id": "b00b90f6",
   "metadata": {},
   "outputs": [],
   "source": [
    "new_nasa_r_array_pc = np.array(new_nasa_r_array_pc)"
   ]
  },
  {
   "cell_type": "code",
   "execution_count": 57,
   "id": "53c0eebe",
   "metadata": {},
   "outputs": [],
   "source": [
    "new_mrq_array_pc= np.transpose(new_mrq_array_pc)"
   ]
  },
  {
   "cell_type": "code",
   "execution_count": 58,
   "id": "4548ca11",
   "metadata": {},
   "outputs": [],
   "source": [
    "new_nasa_r_array_pc=  np.transpose(new_nasa_r_array_pc)"
   ]
  },
  {
   "cell_type": "code",
   "execution_count": 59,
   "id": "f95d776d",
   "metadata": {},
   "outputs": [],
   "source": [
    "c_matrix=np.zeros((len(new_nasa_r_array_pc),len(new_mrq_array_pc)))\n",
    "p_matrix=np.zeros((len(new_nasa_r_array_pc),len(new_mrq_array_pc)))\n",
    "for i in range(len(new_nasa_r_array_pc)):\n",
    "    for j in range(len(new_mrq_array_pc)):\n",
    "        c,p = stats.pearsonr(new_nasa_r_array_pc[i], new_mrq_array_pc[j])\n",
    "        c_matrix[i][j]=c\n",
    "        p_matrix[i][j]=p"
   ]
  },
  {
   "cell_type": "code",
   "execution_count": 60,
   "id": "e1da6ef1",
   "metadata": {},
   "outputs": [
    {
     "data": {
      "text/plain": [
       "array([2.88716450e-08, 1.47795543e-04, 1.00000000e+00, 5.73471103e-02,\n",
       "       3.28690778e-03, 1.00000000e+00, 1.00000000e+00, 1.00000000e+00,\n",
       "       1.00000000e+00, 2.25168396e-03, 6.15158297e-01, 5.40132667e-01,\n",
       "       3.85078670e-05, 7.10534204e-05, 6.04489369e-06, 8.76139857e-08,\n",
       "       1.00000000e+00, 1.35067933e-01, 8.59164219e-04, 7.79901457e-05,\n",
       "       1.56933592e-01, 1.51851652e-01, 1.33787875e-01, 1.00000000e+00,\n",
       "       1.00000000e+00, 1.00000000e+00, 1.00000000e+00, 1.00000000e+00,\n",
       "       1.00000000e+00, 1.00000000e+00, 7.92546990e-01, 2.13343663e-02,\n",
       "       4.27701731e-02, 3.70764925e-01, 1.00000000e+00, 1.00000000e+00,\n",
       "       3.42941086e-06, 1.01183140e-01, 1.00000000e+00, 2.15898396e-01,\n",
       "       2.36162864e-05, 1.74520821e-04, 1.00000000e+00, 1.00000000e+00,\n",
       "       1.00000000e+00, 1.82481049e-04, 1.00000000e+00, 1.00000000e+00,\n",
       "       3.30280046e-05, 9.50453279e-10, 8.52843119e-01, 5.50164682e-01,\n",
       "       1.00000000e+00, 1.64380394e-04, 5.65900750e-01, 1.00000000e+00,\n",
       "       1.00000000e+00, 1.00000000e+00, 1.08737166e-01, 1.00000000e+00,\n",
       "       1.00000000e+00, 1.00000000e+00, 1.00000000e+00, 1.18364780e-02,\n",
       "       1.00000000e+00, 1.00000000e+00, 1.53885246e-02, 2.68017716e-01,\n",
       "       8.33572062e-02, 1.00000000e+00, 1.00000000e+00, 1.00000000e+00,\n",
       "       1.00000000e+00, 1.00000000e+00, 1.00000000e+00, 1.00000000e+00,\n",
       "       1.00000000e+00, 1.00000000e+00, 1.00000000e+00, 1.00000000e+00,\n",
       "       1.00000000e+00, 1.00000000e+00, 1.00000000e+00, 1.00000000e+00,\n",
       "       1.00000000e+00, 1.00000000e+00, 1.00000000e+00, 1.71948401e-02,\n",
       "       1.00000000e+00, 1.00000000e+00, 1.35005501e-01, 1.29775438e-02,\n",
       "       1.38004181e-01, 1.00000000e+00, 1.00000000e+00, 1.00000000e+00,\n",
       "       1.00000000e+00, 1.00000000e+00, 1.00000000e+00, 1.00000000e+00,\n",
       "       1.00000000e+00, 1.00000000e+00, 1.00000000e+00, 6.59275216e-01,\n",
       "       1.94067745e-03, 2.90387609e-03, 1.00000000e+00, 1.00000000e+00,\n",
       "       5.44870022e-06, 1.00000000e+00, 1.00000000e+00, 1.00000000e+00,\n",
       "       1.00000000e+00, 1.00000000e+00, 2.13922152e-03, 1.00000000e+00,\n",
       "       1.00000000e+00, 3.50542116e-01, 1.00000000e+00, 1.78779895e-04,\n",
       "       1.52593700e-01, 5.78214493e-01, 8.45673792e-04, 3.97951016e-05,\n",
       "       1.00000000e+00, 1.00000000e+00])"
      ]
     },
     "execution_count": 60,
     "metadata": {},
     "output_type": "execute_result"
    }
   ],
   "source": [
    "rej_matrix, p_matrix_adjusted, c_b, p_b = multipletests(p_matrix.reshape(-1), alpha=0.05, method='bonferroni')\n",
    "p_matrix_adjusted"
   ]
  },
  {
   "cell_type": "markdown",
   "id": "bc9e7f9e",
   "metadata": {},
   "source": [
    "Correllation of average values and each dimention separately-- zero indices are for averages"
   ]
  },
  {
   "cell_type": "code",
   "execution_count": 61,
   "id": "592bd5fd",
   "metadata": {},
   "outputs": [],
   "source": [
    "p_matrix_adjusted= np.array(p_matrix_adjusted).reshape(7,18)\n",
    "rej_matrix= np.array(rej_matrix).reshape(7,18)"
   ]
  },
  {
   "cell_type": "code",
   "execution_count": 62,
   "id": "9ea6e031",
   "metadata": {},
   "outputs": [
    {
     "data": {
      "text/plain": [
       "array([[ True,  True, False, False,  True, False, False, False, False,\n",
       "         True, False, False,  True,  True,  True,  True, False, False],\n",
       "       [ True,  True, False, False, False, False, False, False, False,\n",
       "        False, False, False, False,  True,  True, False, False, False],\n",
       "       [ True, False, False, False,  True,  True, False, False, False,\n",
       "         True, False, False,  True,  True, False, False, False,  True],\n",
       "       [False, False, False, False, False, False, False, False, False,\n",
       "         True, False, False,  True, False, False, False, False, False],\n",
       "       [False, False, False, False, False, False, False, False, False,\n",
       "        False, False, False, False, False, False,  True, False, False],\n",
       "       [False,  True, False, False, False, False, False, False, False,\n",
       "        False, False, False, False, False,  True,  True, False, False],\n",
       "       [ True, False, False, False, False, False,  True, False, False,\n",
       "        False, False,  True, False, False,  True,  True, False, False]])"
      ]
     },
     "execution_count": 62,
     "metadata": {},
     "output_type": "execute_result"
    }
   ],
   "source": [
    "rej_matrix"
   ]
  },
  {
   "cell_type": "code",
   "execution_count": 63,
   "id": "2320a507",
   "metadata": {},
   "outputs": [
    {
     "data": {
      "text/plain": [
       "<AxesSubplot:>"
      ]
     },
     "execution_count": 63,
     "metadata": {},
     "output_type": "execute_result"
    },
    {
     "data": {
      "image/png": "[encoded data removed]",
      "text/plain": [
       "<Figure size 432x288 with 2 Axes>"
      ]
     },
     "metadata": {
      "needs_background": "light"
     },
     "output_type": "display_data"
    }
   ],
   "source": [
    "sns.heatmap(rej_matrix,annot=True)"
   ]
  },
  {
   "cell_type": "code",
   "execution_count": 64,
   "id": "46916f77",
   "metadata": {},
   "outputs": [
    {
     "data": {
      "text/plain": [
       "array([[2.88716450e-08, 1.47795543e-04, 1.00000000e+00, 5.73471103e-02,\n",
       "        3.28690778e-03, 1.00000000e+00, 1.00000000e+00, 1.00000000e+00,\n",
       "        1.00000000e+00, 2.25168396e-03, 6.15158297e-01, 5.40132667e-01,\n",
       "        3.85078670e-05, 7.10534204e-05, 6.04489369e-06, 8.76139857e-08,\n",
       "        1.00000000e+00, 1.35067933e-01],\n",
       "       [8.59164219e-04, 7.79901457e-05, 1.56933592e-01, 1.51851652e-01,\n",
       "        1.33787875e-01, 1.00000000e+00, 1.00000000e+00, 1.00000000e+00,\n",
       "        1.00000000e+00, 1.00000000e+00, 1.00000000e+00, 1.00000000e+00,\n",
       "        7.92546990e-01, 2.13343663e-02, 4.27701731e-02, 3.70764925e-01,\n",
       "        1.00000000e+00, 1.00000000e+00],\n",
       "       [3.42941086e-06, 1.01183140e-01, 1.00000000e+00, 2.15898396e-01,\n",
       "        2.36162864e-05, 1.74520821e-04, 1.00000000e+00, 1.00000000e+00,\n",
       "        1.00000000e+00, 1.82481049e-04, 1.00000000e+00, 1.00000000e+00,\n",
       "        3.30280046e-05, 9.50453279e-10, 8.52843119e-01, 5.50164682e-01,\n",
       "        1.00000000e+00, 1.64380394e-04],\n",
       "       [5.65900750e-01, 1.00000000e+00, 1.00000000e+00, 1.00000000e+00,\n",
       "        1.08737166e-01, 1.00000000e+00, 1.00000000e+00, 1.00000000e+00,\n",
       "        1.00000000e+00, 1.18364780e-02, 1.00000000e+00, 1.00000000e+00,\n",
       "        1.53885246e-02, 2.68017716e-01, 8.33572062e-02, 1.00000000e+00,\n",
       "        1.00000000e+00, 1.00000000e+00],\n",
       "       [1.00000000e+00, 1.00000000e+00, 1.00000000e+00, 1.00000000e+00,\n",
       "        1.00000000e+00, 1.00000000e+00, 1.00000000e+00, 1.00000000e+00,\n",
       "        1.00000000e+00, 1.00000000e+00, 1.00000000e+00, 1.00000000e+00,\n",
       "        1.00000000e+00, 1.00000000e+00, 1.00000000e+00, 1.71948401e-02,\n",
       "        1.00000000e+00, 1.00000000e+00],\n",
       "       [1.35005501e-01, 1.29775438e-02, 1.38004181e-01, 1.00000000e+00,\n",
       "        1.00000000e+00, 1.00000000e+00, 1.00000000e+00, 1.00000000e+00,\n",
       "        1.00000000e+00, 1.00000000e+00, 1.00000000e+00, 1.00000000e+00,\n",
       "        1.00000000e+00, 6.59275216e-01, 1.94067745e-03, 2.90387609e-03,\n",
       "        1.00000000e+00, 1.00000000e+00],\n",
       "       [5.44870022e-06, 1.00000000e+00, 1.00000000e+00, 1.00000000e+00,\n",
       "        1.00000000e+00, 1.00000000e+00, 2.13922152e-03, 1.00000000e+00,\n",
       "        1.00000000e+00, 3.50542116e-01, 1.00000000e+00, 1.78779895e-04,\n",
       "        1.52593700e-01, 5.78214493e-01, 8.45673792e-04, 3.97951016e-05,\n",
       "        1.00000000e+00, 1.00000000e+00]])"
      ]
     },
     "execution_count": 64,
     "metadata": {},
     "output_type": "execute_result"
    }
   ],
   "source": [
    "p_matrix_adjusted"
   ]
  },
  {
   "cell_type": "markdown",
   "id": "751c194a",
   "metadata": {},
   "source": [
    "<hr style=\"width:100%;text-align:left;margin-left:0\">\n",
    "<hr style=\"width:100%;text-align:left;margin-left:0\">\n",
    "\n",
    "<b>ANALYSIS 4:  Factor Analysis -- Determining which scales are better predictors \n",
    "    "
   ]
  },
  {
   "cell_type": "code",
   "execution_count": 65,
   "id": "9b7ef177",
   "metadata": {},
   "outputs": [],
   "source": [
    "fa_array = []\n",
    "\n",
    "for ix in range(len(mrq_array_pc)):\n",
    "    fa_array.append(np.append(mrq_array_pc[ix],nasa_r_array_pc[ix]))\n",
    "\n",
    "fa_array=np.array(fa_array,dtype='float')"
   ]
  },
  {
   "cell_type": "code",
   "execution_count": null,
   "id": "b46a2ddd",
   "metadata": {},
   "outputs": [],
   "source": []
  },
  {
   "cell_type": "code",
   "execution_count": 66,
   "id": "8ea7f849",
   "metadata": {},
   "outputs": [
    {
     "data": {
      "text/plain": [
       "(606.4523965421707, 4.7648969655751685e-31)"
      ]
     },
     "execution_count": 66,
     "metadata": {},
     "output_type": "execute_result"
    }
   ],
   "source": [
    "chi_square_value,p_value=calculate_bartlett_sphericity(fa_array)\n",
    "chi_square_value, p_value"
   ]
  },
  {
   "cell_type": "code",
   "execution_count": 67,
   "id": "4a9b4725",
   "metadata": {},
   "outputs": [],
   "source": [
    "kmo_all,kmo_model = calculate_kmo(fa_array)"
   ]
  },
  {
   "cell_type": "code",
   "execution_count": 68,
   "id": "d68e3533",
   "metadata": {},
   "outputs": [
    {
     "data": {
      "text/plain": [
       "(array([0.74824587, 0.52595154, 0.52819208, 0.65800412, 0.68073572,\n",
       "        0.69589875, 0.52959144, 0.61675507, 0.79836156, 0.67554911,\n",
       "        0.74478565, 0.82441586, 0.83042076, 0.56654125, 0.6505835 ,\n",
       "        0.70885177, 0.52733753, 0.66920397, 0.78252098, 0.65390405,\n",
       "        0.26430854, 0.60504257, 0.5562816 ]),\n",
       " 0.656242893362315)"
      ]
     },
     "execution_count": 68,
     "metadata": {},
     "output_type": "execute_result"
    }
   ],
   "source": [
    "kmo_all,kmo_model"
   ]
  },
  {
   "cell_type": "code",
   "execution_count": 69,
   "id": "9d41f826",
   "metadata": {},
   "outputs": [
    {
     "data": {
      "text/plain": [
       "array([6.53916511, 2.37630126, 2.15094656, 1.94666666, 1.48802641,\n",
       "       1.30376627, 1.11510882, 0.9305461 , 0.79600015, 0.68658251,\n",
       "       0.60622242, 0.49332553, 0.46587515, 0.41342577, 0.33436794,\n",
       "       0.28589771, 0.23454917, 0.21047193, 0.18461471, 0.14130232,\n",
       "       0.11765114, 0.11165029, 0.06753605])"
      ]
     },
     "execution_count": 69,
     "metadata": {},
     "output_type": "execute_result"
    }
   ],
   "source": [
    "# Create factor analysis object and perform factor analysis\n",
    "fa = FactorAnalyzer()\n",
    "#fa.analyze(fa_array, 25, rotation=None)\n",
    "fa.fit(fa_array, 23)\n",
    "eigen_values, vectors = fa.get_eigenvalues()\n",
    "# Check Eigenvalues\n",
    "ev, v = fa.get_eigenvalues()\n",
    "ev"
   ]
  },
  {
   "cell_type": "code",
   "execution_count": 70,
   "id": "486439e4",
   "metadata": {},
   "outputs": [
    {
     "data": {
      "text/plain": [
       "array([[ 0.45255326,  0.23167969, -0.04174802],\n",
       "       [ 0.04215019,  0.39734996,  0.04617007],\n",
       "       [ 0.77857913, -0.10665024, -0.269165  ],\n",
       "       [ 0.98796947, -0.18068276, -0.21468622],\n",
       "       [ 0.0623129 ,  0.17539162,  0.48141091],\n",
       "       [-0.28869741,  1.06255995, -0.05430706],\n",
       "       [-0.09233011,  0.6119509 ,  0.0040667 ],\n",
       "       [-0.0383585 ,  0.67285292, -0.06113599],\n",
       "       [ 0.51850996,  0.14411476,  0.19765237],\n",
       "       [ 0.08962649,  0.03005439,  0.62789513],\n",
       "       [ 0.21786547,  0.49861963, -0.17621458],\n",
       "       [ 0.53297624,  0.00208697,  0.22805068],\n",
       "       [ 0.78436496,  0.15327529, -0.1130098 ],\n",
       "       [ 0.09921975, -0.24809157,  0.8425495 ],\n",
       "       [ 0.10967333,  0.3189707 ,  0.42653388],\n",
       "       [-0.24598673,  0.16811109,  0.57405475],\n",
       "       [ 0.56111545, -0.00169809, -0.04678386],\n",
       "       [ 0.43584985,  0.0638233 ,  0.13435878],\n",
       "       [ 0.66830358,  0.0096414 ,  0.01327305],\n",
       "       [ 0.47675305, -0.11834532,  0.10716487],\n",
       "       [-0.06690122, -0.12739549,  0.27218957],\n",
       "       [ 0.39624983, -0.13620106,  0.26859558],\n",
       "       [ 0.16806539,  0.29998832,  0.28043012]])"
      ]
     },
     "execution_count": 70,
     "metadata": {},
     "output_type": "execute_result"
    }
   ],
   "source": [
    "fa = FactorAnalyzer()\n",
    "fa.fit(fa_array,2)\n",
    "fa.loadings_"
   ]
  },
  {
   "cell_type": "code",
   "execution_count": 71,
   "id": "8e040dd6",
   "metadata": {},
   "outputs": [
    {
     "data": {
      "text/plain": [
       "(array([4.56057518, 2.87088663, 2.36815603]),\n",
       " array([0.19828588, 0.12482116, 0.10296331]),\n",
       " array([0.19828588, 0.32310704, 0.42607034]))"
      ]
     },
     "execution_count": 71,
     "metadata": {},
     "output_type": "execute_result"
    }
   ],
   "source": [
    "# Get variance of each factors\n",
    "fa.get_factor_variance()\n",
    "# Exploratory Factor Analysis To find how many factors are present in the data\n",
    "# Finding how many factors are present in the data\n",
    "\n",
    "\n",
    "# fa = FactorAnalyzer()\n",
    "# Factors=fa.fit(fa_array)\n",
    " \n",
    "# # Plotting the scree-plot\n",
    "# EigenValues=Factors.get_eigenvalues()\n",
    "\n",
    "# plt.plot(EigenValues)"
   ]
  },
  {
   "cell_type": "markdown",
   "id": "1c6d677d",
   "metadata": {},
   "source": [
    "-------------------------------------------------------------------------------------------------------------------------------\n",
    "\n",
    "<hr style=\"width:100%;text-align:left;margin-left:0\">\n",
    "<b>ANALYSIS 5: Performance vs MWL"
   ]
  },
  {
   "cell_type": "code",
   "execution_count": 72,
   "id": "02d12755",
   "metadata": {},
   "outputs": [],
   "source": [
    "mrq_t_pq = mrq_1_array + mrq_2_array"
   ]
  },
  {
   "cell_type": "code",
   "execution_count": 73,
   "id": "e1041a99",
   "metadata": {},
   "outputs": [],
   "source": [
    "nasa_r_t_pq = nasa_1_r_array+nasa_2_r_array"
   ]
  },
  {
   "cell_type": "code",
   "execution_count": 74,
   "id": "94d721a4",
   "metadata": {},
   "outputs": [],
   "source": [
    "throughput_t_pq = throughput1_array+throughput2_array"
   ]
  },
  {
   "cell_type": "code",
   "execution_count": 75,
   "id": "6fad01bf",
   "metadata": {},
   "outputs": [
    {
     "name": "stdout",
     "output_type": "stream",
     "text": [
      "KACJ\n",
      "KACJ\n",
      "KACJ\n",
      "KACJ\n"
     ]
    }
   ],
   "source": [
    "to_delete_indices=[]\n",
    "for i in range(len(throughput_t_pq)):\n",
    "    if(throughput_t_pq[i]==0 or len(nasa_r_t_pq[i])==0 or len(mrq_t_pq[i])==0 ):\n",
    "        to_delete_indices.append(i)\n",
    "\n",
    "\n",
    "\n",
    "\n",
    "cleaned_nasa_r_pq=[]\n",
    "cleaned_mrq_pq=[]\n",
    "cleaned_throughput_pq =[]\n",
    "\n",
    "for t in range(len(mrq_t_pq)):\n",
    "    if t in  to_delete_indices:\n",
    "        print('KACJ')\n",
    "    else:\n",
    "        cleaned_nasa_r_pq.append(nasa_r_t_pq[t])\n",
    "        cleaned_mrq_pq.append(mrq_t_pq[t])\n",
    "        cleaned_throughput_pq.append(throughput_t_pq[t])"
   ]
  },
  {
   "cell_type": "code",
   "execution_count": 76,
   "id": "2e96ba34",
   "metadata": {},
   "outputs": [],
   "source": [
    "nasa_r_t_pq=np.array(cleaned_nasa_r_pq)\n",
    "nasa_r_t_pq_avg = nasa_r_t_pq.mean(axis=1)\n",
    "mrq_t_pq=np.array(cleaned_mrq_pq)\n",
    "mrq_t_pq_avg = mrq_t_pq.mean(axis=1)\n",
    "throughput_t_pq=np.array( cleaned_throughput_pq)"
   ]
  },
  {
   "cell_type": "markdown",
   "id": "8eb81374",
   "metadata": {},
   "source": [
    "<b> Correlation of performance and mrq-avg"
   ]
  },
  {
   "cell_type": "code",
   "execution_count": 77,
   "id": "f0bc43ad",
   "metadata": {},
   "outputs": [
    {
     "name": "stdout",
     "output_type": "stream",
     "text": [
      "MRQ -- C: -0.1987637464613028 P-value: 0.16642740646762183\n"
     ]
    }
   ],
   "source": [
    "cmrq,pmrq = stats.pearsonr(mrq_t_pq_avg, throughput_t_pq)\n",
    "print(\"MRQ -- C: \"+str(cmrq)+\" P-value: \"+str(pmrq))"
   ]
  },
  {
   "cell_type": "markdown",
   "id": "b7df84c4",
   "metadata": {},
   "source": [
    "<b> Correlation of performance and nasa-tlx-avg"
   ]
  },
  {
   "cell_type": "code",
   "execution_count": 78,
   "id": "a878970a",
   "metadata": {},
   "outputs": [
    {
     "name": "stdout",
     "output_type": "stream",
     "text": [
      "NASA-TLX -- C: -0.2628856766843186 P-value: 0.06511673054812987\n"
     ]
    }
   ],
   "source": [
    "cnasa,pnasa = stats.pearsonr(nasa_r_t_pq_avg, throughput_t_pq)\n",
    "print(\"NASA-TLX -- C: \"+str(cnasa)+\" P-value: \"+str(pnasa))"
   ]
  },
  {
   "cell_type": "code",
   "execution_count": null,
   "id": "2ecd39a8",
   "metadata": {},
   "outputs": [],
   "source": []
  },
  {
   "cell_type": "code",
   "execution_count": null,
   "id": "e558a5b3",
   "metadata": {},
   "outputs": [],
   "source": []
  },
  {
   "cell_type": "code",
   "execution_count": 79,
   "id": "071a5c34",
   "metadata": {},
   "outputs": [],
   "source": [
    "# to_delete_indices=[]\n",
    "# for i in range(len(mrq_array_pc)):\n",
    "#     if(len(nasa_r_array_pc[i])==0 or len(mrq_array_pc[i])==0):\n",
    "#         to_delete_indices.append(i)\n",
    "\n",
    "\n",
    "\n",
    "\n",
    "# cleaned_nasa_r_array_pc=[]\n",
    "# cleaned_mrq_array_pc=[]\n",
    "\n",
    "\n",
    "# for t in range(len(mrq_array_pc)):\n",
    "#     if t in  to_delete_indices:\n",
    "#         print('KACJ')\n",
    "#     else:\n",
    "#         cleaned_nasa_r_array_pc.append(nasa_r_array_pc[t])\n",
    "#         cleaned_mrq_array_pc.append(mrq_array_pc[t])"
   ]
  },
  {
   "cell_type": "code",
   "execution_count": null,
   "id": "70462ecc",
   "metadata": {},
   "outputs": [],
   "source": []
  }
 ],
 "metadata": {
  "kernelspec": {
   "display_name": "Python 3 (ipykernel)",
   "language": "python",
   "name": "python3"
  },
  "language_info": {
   "codemirror_mode": {
    "name": "ipython",
    "version": 3
   },
   "file_extension": ".py",
   "mimetype": "text/x-python",
   "name": "python",
   "nbconvert_exporter": "python",
   "pygments_lexer": "ipython3",
   "version": "3.9.12"
  }
 },
 "nbformat": 4,
 "nbformat_minor": 5
}
