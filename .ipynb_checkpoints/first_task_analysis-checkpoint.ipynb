{
 "cells": [
  {
   "cell_type": "markdown",
   "id": "7d8b9c7c",
   "metadata": {},
   "source": [
    "Reading from the files and separating participants who completed the tasks from the rest."
   ]
  },
  {
   "cell_type": "code",
   "execution_count": 98,
   "id": "4b8eb23f",
   "metadata": {},
   "outputs": [],
   "source": [
    "import json\n",
    "import numpy as np\n",
    "import scipy.stats as stats\n",
    "import statistics\n",
    "from statsmodels.sandbox.stats.multicomp import multipletests"
   ]
  },
  {
   "cell_type": "code",
   "execution_count": 2,
   "id": "0155c826",
   "metadata": {},
   "outputs": [],
   "source": [
    "# Opening JSON file\n",
    "f = open('output2.json')"
   ]
  },
  {
   "cell_type": "code",
   "execution_count": 3,
   "id": "c0148972",
   "metadata": {},
   "outputs": [],
   "source": [
    "data = json.load(f)"
   ]
  },
  {
   "cell_type": "code",
   "execution_count": 4,
   "id": "05352d92",
   "metadata": {},
   "outputs": [],
   "source": [
    "# for x in data['data']:\n",
    "#     keys = x.keys()\n",
    "#     print(keys)\n",
    "#     values = x.values()\n",
    "#     print(values)\n",
    "#     print(x['completed'])\n",
    "    "
   ]
  },
  {
   "cell_type": "code",
   "execution_count": 5,
   "id": "547dcacd",
   "metadata": {},
   "outputs": [],
   "source": [
    "completed_participants=[]\n",
    "for x in data['data']:\n",
    "    if(x['completed']):\n",
    "        completed_participants.append(x['mturk_id'])\n",
    "# print(completed_participants)\n",
    "        "
   ]
  },
  {
   "cell_type": "code",
   "execution_count": 6,
   "id": "12c62e9c",
   "metadata": {},
   "outputs": [],
   "source": [
    "f = open('output1.json')"
   ]
  },
  {
   "cell_type": "code",
   "execution_count": 7,
   "id": "d4c31c02",
   "metadata": {},
   "outputs": [],
   "source": [
    "jsonpmodel = json.load(f)"
   ]
  },
  {
   "cell_type": "code",
   "execution_count": 8,
   "id": "ff72c77a",
   "metadata": {},
   "outputs": [],
   "source": [
    "# for x in data['data']:\n",
    "#     keys = x.keys()\n",
    "#     print(keys)\n",
    "#     print('\\n')\n",
    "#     values = x.values()\n",
    "#     print(values)"
   ]
  },
  {
   "cell_type": "code",
   "execution_count": 9,
   "id": "c2233a36",
   "metadata": {},
   "outputs": [],
   "source": [
    "completed_p_models=[]\n",
    "for x in jsonpmodel['data']:\n",
    "#     print(x['sequence_type'])\n",
    "    m=x['mturk_id']\n",
    "    if(m in completed_participants):\n",
    "        completed_p_models.append(x)\n",
    "        "
   ]
  },
  {
   "cell_type": "code",
   "execution_count": 10,
   "id": "6f3365ae",
   "metadata": {},
   "outputs": [],
   "source": [
    "filename='completedparticipants.json'\n",
    "with open(filename, 'w') as json_file:\n",
    "    json.dump(completed_p_models, json_file, \n",
    "                        indent=4,  \n",
    "                        separators=(',',': '))"
   ]
  },
  {
   "cell_type": "code",
   "execution_count": 11,
   "id": "318cf2e7",
   "metadata": {},
   "outputs": [],
   "source": [
    "c_file=open(filename)\n",
    "c_p=json.load(c_file)"
   ]
  },
  {
   "cell_type": "code",
   "execution_count": 12,
   "id": "ed752b8d",
   "metadata": {},
   "outputs": [],
   "source": [
    "# for x in c_p:\n",
    "#     print(x['mturk_id'])"
   ]
  },
  {
   "cell_type": "markdown",
   "id": "c8c55570",
   "metadata": {},
   "source": [
    "completedparticipants.json is the file that includes data of all participants who completed the task \n",
    "and c_p is the json varible of the file\n",
    "\n"
   ]
  },
  {
   "cell_type": "code",
   "execution_count": 13,
   "id": "75eed3ec",
   "metadata": {},
   "outputs": [],
   "source": [
    "# ----------------Experiment Sequences---------------------------\n",
    "\n",
    "# N : first nbackn difficulty (H/E)\n",
    "\n",
    "# Q : first Questionaire (1: NASA-TLX and 2: MRQ)\n",
    "\n",
    "# S : SakeDifficulty(H/E)\n",
    "\n",
    "# _________________________________________________________________________\n",
    "# seq_number/Progress | 1.n1 | 2.s | 3.q1| 4.q2|5.n2 | 6.s |7.q1 |8.q2 |\n",
    "# _________________________________________________________________________\n",
    "#          1          |  E   | E   |  1  |  2  |  H  |  E  |  1  |  2  |\n",
    "#          2          |  E   | E   |  2  |  1  |  H  |  E  |  2  |  1  |\n",
    "#          3          |  H   | E   |  1  |  2  |  E  |  E  |  1  |  2  |\n",
    "#          4          |  H   | E   |  2  |  1  |  E  |  E  |  2  |  1  |\n",
    "#          5          |  E   | H   |  1  |  2  |  H  |  H  |  1  |  2  |\n",
    "#          6          |  E   | H   |  2  |  1  |  H  |  H  |  2  |  1  |\n",
    "#          7          |  H   | H   |  1  |  2  |  E  |  H  |  1  |  2  |\n",
    "#          8          |  H   | H   |  2  |  1  |  E  |  H  |  2  |  1  |\n",
    "# ________________________________________________________________________\n"
   ]
  },
  {
   "cell_type": "code",
   "execution_count": 14,
   "id": "626d1e64",
   "metadata": {},
   "outputs": [],
   "source": [
    " #  sequence type /progress matrix \n",
    "E_n = 1; # easy nbackn\n",
    "H_n = 3; # hard nbackn\n",
    "E_s = 500;  # easy sak in ms\n",
    "H_s = 1000; #hard sak in ms\n",
    "seq_prog = [\n",
    "    [E_n, E_s, 1, 2, H_n, E_s, 1, 2],\n",
    "    [E_n, E_s, 2, 1, H_n, E_s, 2, 1],\n",
    "    [H_n, E_s, 1, 2, E_n, E_s, 1, 2],\n",
    "    [H_n, E_s, 2, 1, E_n, E_s, 2, 1],\n",
    "    [E_n, H_s, 1, 2, H_n, H_s, 1, 2],\n",
    "    [E_n, H_s, 2, 1, H_n, H_s, 2, 1],\n",
    "    [H_n, H_s, 1, 2, E_n, H_s, 1, 2],\n",
    "    [H_n, H_s, 2, 1, E_n, H_s, 2, 1]\n",
    "];"
   ]
  },
  {
   "cell_type": "markdown",
   "id": "0859200b",
   "metadata": {},
   "source": [
    "conEX : Easy NBACKN----\n",
    "conHX : Hard NBACKN----\n",
    "conXE: Easy SAK----\n",
    "conXH: Hard SAK"
   ]
  },
  {
   "cell_type": "code",
   "execution_count": 15,
   "id": "1ffa95ce",
   "metadata": {},
   "outputs": [],
   "source": [
    "nasa_1_t_array=[]\n",
    "nasa_2_t_array=[]\n",
    "nasa_1_r_array=[]\n",
    "nasa_2_r_array=[]\n",
    "\n",
    "seq_type_array=[]\n",
    "\n",
    "mrq_1_array=[]\n",
    "mrq_2_array=[]\n",
    "\n",
    "mrq_conEH_array=[]\n",
    "mrq_conHH_array=[]\n",
    "mrq_conEE_array=[]\n",
    "mrq_conHE_array=[]\n",
    "\n",
    "nasa_r_conEH_array=[]\n",
    "nasa_r_conHH_array=[]\n",
    "nasa_r_conEE_array=[]\n",
    "nasa_r_conHE_array=[]\n",
    "\n",
    "nasa_t_conEH_array=[]\n",
    "nasa_t_conHH_array=[]\n",
    "nasa_t_conEE_array=[]\n",
    "nasa_t_conHE_array=[]\n",
    "\n",
    "\n",
    "\n",
    "for x in c_p:\n",
    "    st= x['sequence_type']\n",
    "    seq_type_array.append(st)\n",
    "    \n",
    "    ntr1= nasa_string_to_int(x['nasa_1_r'][0])\n",
    "    ntr2= nasa_string_to_int(x['nasa_2_r'][0])\n",
    "    ntt1= nasa_string_to_int(x['nasa_1_t'][0])\n",
    "    ntt2= nasa_string_to_int(x['nasa_2_t'][0])\n",
    "\n",
    "    \n",
    "    \n",
    "    nasa_1_r_array.append(ntr1)\n",
    "    nasa_1_t_array.append(ntt1)\n",
    "    nasa_2_r_array.append(ntr2)\n",
    "    nasa_2_t_array.append(ntt2)\n",
    "    \n",
    "    \n",
    "    \n",
    "    \n",
    "    s=x['mrq_1'][0].replace('\"','').replace('[',\"\").replace(']',\"\").split(',')\n",
    "    mrq1 = [int(y) for y in s]\n",
    "    mrq1.pop()\n",
    "    \n",
    "    \n",
    "    s=x['mrq_2'][0].replace('\"','').replace('[',\"\").replace(']',\"\").split(',')\n",
    "    mrq2 = [int(y) for y in s]\n",
    "    mrq2.pop()\n",
    "    \n",
    "    mrq_1_array.append(mrq1)\n",
    "    mrq_2_array.append(mrq2)\n",
    "    \n",
    "    if(st==1 or st==2):\n",
    "        mrq_conEE_array.append(mrq1)\n",
    "        mrq_conHE_array.append(mrq2)\n",
    "        nasa_r_conEE_array.append(ntr1)\n",
    "        nasa_r_conHE_array.append(ntr2)\n",
    "        nasa_t_conEE_array.append(ntt1)\n",
    "        nasa_t_conHE_array.append(ntt2)\n",
    "       \n",
    "    if(st==3 or st==4):\n",
    "        mrq_conHE_array.append(mrq1)\n",
    "        mrq_conEE_array.append(mrq2)\n",
    "        nasa_r_conHE_array.append(ntr1)\n",
    "        nasa_r_conEE_array.append(ntr2)\n",
    "        nasa_t_conHE_array.append(ntt1)\n",
    "        nasa_t_conEE_array.append(ntt2)\n",
    "        \n",
    "    if(st==5 or st==6):\n",
    "        mrq_conEH_array.append(mrq1)\n",
    "        mrq_conHH_array.append(mrq2)\n",
    "        nasa_r_conEH_array.append(ntr1)\n",
    "        nasa_r_conHH_array.append(ntr2)\n",
    "        nasa_t_conEH_array.append(ntt1)\n",
    "        nasa_t_conHH_array.append(ntt2)\n",
    "   \n",
    "    if(st==7 or st==8):\n",
    "        mrq_conHH_array.append(mrq1)\n",
    "        mrq_conEH_array.append(mrq2)\n",
    "        nasa_r_conHH_array.append(ntr1)\n",
    "        nasa_r_conEH_array.append(ntr2)\n",
    "        nasa_t_conHH_array.append(ntt1)\n",
    "        nasa_t_conEH_array.append(ntt2)\n",
    "        \n"
   ]
  },
  {
   "cell_type": "code",
   "execution_count": 137,
   "id": "bd21aee9",
   "metadata": {},
   "outputs": [
    {
     "data": {
      "text/plain": [
       "['75', '35', '70', '20', '40', '55']"
      ]
     },
     "execution_count": 137,
     "metadata": {},
     "output_type": "execute_result"
    }
   ],
   "source": [
    "ntr1.replace('[','').replace(']','').split(',')"
   ]
  },
  {
   "cell_type": "markdown",
   "id": "61176162",
   "metadata": {},
   "source": [
    "Starting the analysis from here:"
   ]
  },
  {
   "cell_type": "markdown",
   "id": "b2bdca94",
   "metadata": {},
   "source": [
    "Analysis 1: Paired t-test to see effect of first task on second one "
   ]
  },
  {
   "cell_type": "markdown",
   "id": "63b40449",
   "metadata": {},
   "source": [
    "-----------------------------------------------------------------------------------------------------------------------"
   ]
  },
  {
   "cell_type": "markdown",
   "id": "b43a5e1f",
   "metadata": {},
   "source": [
    "<b>First Part for MRQ:</b>\n",
    "\n",
    "r_mrq_pttest, p_mrq_pttest for each dimension separately and for r_mrq_avg,p_mrq_avg for total average as the last element.\n",
    "\n",
    "p_mrq_pttest_adjusted is the adjusted p-values after boneferroni"
   ]
  },
  {
   "cell_type": "code",
   "execution_count": 116,
   "id": "2a399685",
   "metadata": {},
   "outputs": [],
   "source": [
    "mrqEX= mrq_conEE_array + mrq_conEH_array"
   ]
  },
  {
   "cell_type": "code",
   "execution_count": 117,
   "id": "3594f246",
   "metadata": {},
   "outputs": [],
   "source": [
    "mrqHX= mrq_conHE_array + mrq_conHH_array"
   ]
  },
  {
   "cell_type": "code",
   "execution_count": 110,
   "id": "2da9b00b",
   "metadata": {},
   "outputs": [],
   "source": [
    "mrqEX=np.array(mrqEX)"
   ]
  },
  {
   "cell_type": "code",
   "execution_count": 111,
   "id": "0de6a30c",
   "metadata": {},
   "outputs": [],
   "source": [
    "mrqHX=np.array(mrqHX)"
   ]
  },
  {
   "cell_type": "code",
   "execution_count": 112,
   "id": "9e8a9098",
   "metadata": {},
   "outputs": [],
   "source": [
    "r_mrq_pttest=[]\n",
    "p_mrq_pttest=[]\n",
    "\n",
    "for i in range(len(mrqHX[0])):\n",
    "    r,p = stats.ttest_rel(mrqHX[:,i], mrqEX[:,i])\n",
    "    r_mrq_pttest.append(r)\n",
    "    p_mrq_pttest.append(p)\n",
    "    \n",
    "mrqHX_avg_array= np.mean(mrqHX, axis=1)\n",
    "mrqEX_avg_array= np.mean(mrqEX, axis=1)\n",
    "r_mrq_avg,p_mrq_avg = stats.ttest_rel(mrqHX_avg_array,mrqEX_avg_array)\n",
    "\n",
    "r_mrq_pttest.append(r_mrq_avg)\n",
    "p_mrq_pttest.append(p_mrq_avg)"
   ]
  },
  {
   "cell_type": "code",
   "execution_count": 113,
   "id": "675c61fb",
   "metadata": {},
   "outputs": [],
   "source": [
    "p_mrq_pttest_adjusted = multipletests(p_mrq_pttest, alpha=0.05, method='bonferroni')"
   ]
  },
  {
   "cell_type": "markdown",
   "id": "6f7171df",
   "metadata": {},
   "source": [
    "<b>Second Part for NASA-TLX:</b>\n",
    "\n",
    "r_nasa_pttest, p_nasa_pttest for each dimension separately and for r_nasa_avg,p_nasa_avg for total average as the last element.\n",
    "\n",
    "p_nasa_pttest_adjusted is the adjusted p-values after boneferroni"
   ]
  },
  {
   "cell_type": "code",
   "execution_count": 121,
   "id": "a35359ee",
   "metadata": {},
   "outputs": [],
   "source": [
    "nasaEX= nasa_r_conEE_array + nasa_r_conEH_array"
   ]
  },
  {
   "cell_type": "code",
   "execution_count": 122,
   "id": "ca753daf",
   "metadata": {},
   "outputs": [],
   "source": [
    "nasaHX= nasa_r_conHE_array + nasa_r_conHH_array"
   ]
  },
  {
   "cell_type": "code",
   "execution_count": 134,
   "id": "b949dc65",
   "metadata": {},
   "outputs": [
    {
     "data": {
      "text/plain": [
       "['[55,30,25,55,30,35]',\n",
       " '[85,55,50,25,25,90]',\n",
       " '[25,10,10,25,20,40]',\n",
       " '[65,65,75,80,70,70]',\n",
       " '[30,25,20,25,70,30]',\n",
       " '[75,35,90,40,85,25]',\n",
       " '[80,10,65,70,80,45]',\n",
       " '[75,5,55,20,70,70]',\n",
       " '[65,15,85,95,80,65]',\n",
       " '[95,80,80,20,90,75]']"
      ]
     },
     "execution_count": 134,
     "metadata": {},
     "output_type": "execute_result"
    }
   ],
   "source": [
    "nasa_r_conEE_array"
   ]
  },
  {
   "cell_type": "code",
   "execution_count": null,
   "id": "3ec7375c",
   "metadata": {},
   "outputs": [],
   "source": []
  },
  {
   "cell_type": "code",
   "execution_count": null,
   "id": "a85da38b",
   "metadata": {},
   "outputs": [],
   "source": []
  },
  {
   "cell_type": "code",
   "execution_count": 123,
   "id": "5c985337",
   "metadata": {},
   "outputs": [],
   "source": [
    "nasaEX=np.array(nasaEX)"
   ]
  },
  {
   "cell_type": "code",
   "execution_count": 130,
   "id": "6af3bf0e",
   "metadata": {},
   "outputs": [
    {
     "data": {
      "text/plain": [
       "(16,)"
      ]
     },
     "execution_count": 130,
     "metadata": {},
     "output_type": "execute_result"
    }
   ],
   "source": [
    "nasaHX=np.array(nasaHX)\n",
    "nasaHX.shape"
   ]
  },
  {
   "cell_type": "code",
   "execution_count": 125,
   "id": "3ee6d445",
   "metadata": {},
   "outputs": [
    {
     "ename": "IndexError",
     "evalue": "too many indices for array: array is 1-dimensional, but 2 were indexed",
     "output_type": "error",
     "traceback": [
      "\u001b[1;31m---------------------------------------------------------------------------\u001b[0m",
      "\u001b[1;31mIndexError\u001b[0m                                Traceback (most recent call last)",
      "Input \u001b[1;32mIn [125]\u001b[0m, in \u001b[0;36m<cell line: 4>\u001b[1;34m()\u001b[0m\n\u001b[0;32m      2\u001b[0m p_nasa_pttest\u001b[38;5;241m=\u001b[39m[]\n\u001b[0;32m      4\u001b[0m \u001b[38;5;28;01mfor\u001b[39;00m i \u001b[38;5;129;01min\u001b[39;00m \u001b[38;5;28mrange\u001b[39m(\u001b[38;5;28mlen\u001b[39m(nasaHX[\u001b[38;5;241m0\u001b[39m])):\n\u001b[1;32m----> 5\u001b[0m     r,p \u001b[38;5;241m=\u001b[39m stats\u001b[38;5;241m.\u001b[39mttest_rel(\u001b[43mnasaHX\u001b[49m\u001b[43m[\u001b[49m\u001b[43m:\u001b[49m\u001b[43m,\u001b[49m\u001b[43mi\u001b[49m\u001b[43m]\u001b[49m, nasaEX[:,i])\n\u001b[0;32m      6\u001b[0m     r_nasa_pttest\u001b[38;5;241m.\u001b[39mappend(r)\n\u001b[0;32m      7\u001b[0m     p_nasa_pttest\u001b[38;5;241m.\u001b[39mappend(p)\n",
      "\u001b[1;31mIndexError\u001b[0m: too many indices for array: array is 1-dimensional, but 2 were indexed"
     ]
    }
   ],
   "source": [
    "r_nasa_pttest=[]\n",
    "p_nasa_pttest=[]\n",
    "\n",
    "for i in range(len(nasaHX[0])):\n",
    "    r,p = stats.ttest_rel(nasaHX[:,i], nasaEX[:,i])\n",
    "    r_nasa_pttest.append(r)\n",
    "    p_nasa_pttest.append(p)\n",
    "    \n",
    "nasaHX_avg_array= np.mean(nasaHX, axis=1)\n",
    "nasaEX_avg_array= np.mean(nasaEX, axis=1)\n",
    "r_nasa_avg,p_nasa_avg = stats.ttest_rel(nasaHX_avg_array,nasaEX_avg_array)\n",
    "\n",
    "r_nasa_pttest.append(r_nasa_avg)\n",
    "p_nasa_pttest.append(p_nasa_avg)"
   ]
  },
  {
   "cell_type": "code",
   "execution_count": 138,
   "id": "a10573fd",
   "metadata": {},
   "outputs": [],
   "source": [
    "def nasa_string_to_int(nasa_string):\n",
    "    sn= nasa_string.replace('[','').replace(']','').split(',')\n",
    "    ntr1 = [int(y) for y in sn]\n",
    "    return ntr1"
   ]
  },
  {
   "cell_type": "code",
   "execution_count": null,
   "id": "6fc36cd9",
   "metadata": {},
   "outputs": [],
   "source": []
  },
  {
   "cell_type": "code",
   "execution_count": null,
   "id": "4c57ef34",
   "metadata": {},
   "outputs": [],
   "source": []
  },
  {
   "cell_type": "code",
   "execution_count": null,
   "id": "25316bf0",
   "metadata": {},
   "outputs": [],
   "source": []
  },
  {
   "cell_type": "code",
   "execution_count": null,
   "id": "76f07dd0",
   "metadata": {},
   "outputs": [],
   "source": []
  },
  {
   "cell_type": "code",
   "execution_count": null,
   "id": "78c1c14a",
   "metadata": {},
   "outputs": [],
   "source": []
  },
  {
   "cell_type": "code",
   "execution_count": null,
   "id": "b5e6bb8c",
   "metadata": {},
   "outputs": [],
   "source": []
  },
  {
   "cell_type": "code",
   "execution_count": null,
   "id": "fd8a0f00",
   "metadata": {},
   "outputs": [],
   "source": []
  },
  {
   "cell_type": "code",
   "execution_count": null,
   "id": "951987a2",
   "metadata": {},
   "outputs": [],
   "source": []
  },
  {
   "cell_type": "code",
   "execution_count": null,
   "id": "2ecd39a8",
   "metadata": {},
   "outputs": [],
   "source": []
  },
  {
   "cell_type": "code",
   "execution_count": null,
   "id": "e558a5b3",
   "metadata": {},
   "outputs": [],
   "source": []
  }
 ],
 "metadata": {
  "kernelspec": {
   "display_name": "Python 3 (ipykernel)",
   "language": "python",
   "name": "python3"
  },
  "language_info": {
   "codemirror_mode": {
    "name": "ipython",
    "version": 3
   },
   "file_extension": ".py",
   "mimetype": "text/x-python",
   "name": "python",
   "nbconvert_exporter": "python",
   "pygments_lexer": "ipython3",
   "version": "3.9.12"
  }
 },
 "nbformat": 4,
 "nbformat_minor": 5
}
