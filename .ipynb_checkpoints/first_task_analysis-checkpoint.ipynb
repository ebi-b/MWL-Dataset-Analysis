{
 "cells": [
  {
   "cell_type": "markdown",
   "id": "7d8b9c7c",
   "metadata": {},
   "source": [
    "Reading from the files and separating participants who completed the tasks from the rest."
   ]
  },
  {
   "cell_type": "code",
   "execution_count": 5,
   "id": "4b8eb23f",
   "metadata": {},
   "outputs": [],
   "source": [
    "import json\n",
    "import numpy as np\n",
    "import scipy.stats as stats\n",
    "import statistics\n",
    "from statsmodels.sandbox.stats.multicomp import multipletests\n",
    "import seaborn as sns\n",
    "from factor_analyzer import FactorAnalyzer\n",
    "import matplotlib.pyplot as plt\n",
    "from factor_analyzer.factor_analyzer import calculate_kmo\n",
    "from factor_analyzer.factor_analyzer import calculate_bartlett_sphericity\n",
    "import pandas as pd\n",
    "from statsmodels.stats.multicomp import pairwise_tukeyhsd\n",
    "from statsmodels.stats.outliers_influence import variance_inflation_factor"
   ]
  },
  {
   "cell_type": "code",
   "execution_count": 6,
   "id": "832bf619",
   "metadata": {},
   "outputs": [],
   "source": [
    "def nasa_string_to_int(nasa_string):\n",
    "    sn= nasa_string.replace('[','').replace(']','').split(',')\n",
    "    ntr1 = [int(y) for y in sn]\n",
    "    return ntr1"
   ]
  },
  {
   "cell_type": "code",
   "execution_count": 7,
   "id": "2bbbeea0",
   "metadata": {},
   "outputs": [],
   "source": [
    "def sak_data_to_througput(sak1, sak1t ,diflevel):\n",
    "    if(len(sak1)>0):\n",
    "        l= len(sak1[0].replace(\" \",''))\n",
    "        t= sak1t[len(sak1t)-1]-sak1t[0]\n",
    "        SPC=(float(t)/diflevel)/(l-1)\n",
    "        T=(1/float(SPC))*(1000/float(diflevel))*(60/5)\n",
    "    else:\n",
    "        T=0\n",
    "        \n",
    "    return T\n",
    "        "
   ]
  },
  {
   "cell_type": "code",
   "execution_count": 8,
   "id": "0155c826",
   "metadata": {},
   "outputs": [],
   "source": [
    "# Opening JSON file\n",
    "f = open('output2-99p.json')"
   ]
  },
  {
   "cell_type": "code",
   "execution_count": 9,
   "id": "c0148972",
   "metadata": {},
   "outputs": [],
   "source": [
    "data = json.load(f)"
   ]
  },
  {
   "cell_type": "code",
   "execution_count": 10,
   "id": "05352d92",
   "metadata": {},
   "outputs": [],
   "source": [
    "# for x in data['data']:\n",
    "#     keys = x.keys()\n",
    "#     print(keys)\n",
    "#     values = x.values()\n",
    "#     print(values)\n",
    "#     print(x['completed'])\n",
    "    "
   ]
  },
  {
   "cell_type": "code",
   "execution_count": 11,
   "id": "547dcacd",
   "metadata": {},
   "outputs": [
    {
     "data": {
      "text/plain": [
       "['62a1e48f9b6f6ae44dbb9f88',\n",
       " '5fd66c119e1fc75723a40b51',\n",
       " '60356e7fa40d4ebe1700d736',\n",
       " '5bd7912fbeca730001ced776',\n",
       " '60b904a66604f5e79c6066dd',\n",
       " '5b661bc3259daf00019369f2',\n",
       " '5baa21188a01680001ff1a6f',\n",
       " '62838b88bc35e0497491f8e4',\n",
       " '6023df50d5c2d7069115de3f',\n",
       " '60c048ca962103e0da201a34',\n",
       " '5b61d0768de04c000171cf1b',\n",
       " '6128188a420f8d3f27f8d8b1',\n",
       " '62b1f567d5f22515024421f1',\n",
       " '60b7ae30dc4cd72192734427',\n",
       " '6055063167ae2fa5dcb083a3',\n",
       " '5ec153013043d0034ac516bd',\n",
       " '60b005fde343f75a2b76d406',\n",
       " '609c2dcbc88bdd19e0be4b98',\n",
       " '60a0c79b332c02c8a73e57a5',\n",
       " '5e7987df47422a5443426cd7',\n",
       " '606825124609b3da3a68e07c',\n",
       " '61013bb782e4014ecabafee1',\n",
       " '60214feec65df50cd6837a48',\n",
       " '5fa154fd4cbe97227182aff7',\n",
       " '612266b4f9ae4a5d04a21dd4',\n",
       " '5f3287b83428cb05746e2214',\n",
       " '5a75b131eea3d300016ddc70',\n",
       " '615e0f1896ecb10608aa6eca',\n",
       " '5e6473fbc15dbe1f71eea95b',\n",
       " '5bc880109f7801000148601b',\n",
       " '60de9d0dc5c9e34e09b6385d',\n",
       " '5d8186b89d5990001958d771',\n",
       " '601f249c952eef4747d890ae',\n",
       " '5cfd0b3f0526d1000184ad8f',\n",
       " '62e49d54d098755e2b955ad6',\n",
       " '60327d95fb5e6823d96d15a0',\n",
       " '5f0446dd71b11967ef18582b',\n",
       " '5def25382ae0425c6823feb7',\n",
       " '60af93df5b5879e922923c41',\n",
       " '5f0285dc9ae0b911b5f97dfe',\n",
       " '5d780c22e37f710019b96738',\n",
       " '5d877c37c3e7ca001816fb8f',\n",
       " '616e82276b6e656d70dd08bf',\n",
       " '60c6fdf79ece6416c491ea7e',\n",
       " '56b19bb2390ebc000c5c095e',\n",
       " '5b0f33dd1e55760001b9a9ce',\n",
       " '5d453e8723a5bb0001492546',\n",
       " '5c4f5967aac8be0001716a65',\n",
       " '60fd01772abe50a34a91059f',\n",
       " '62da6a4185dee3073f16d483',\n",
       " '5b6b2a28595041000164d590',\n",
       " '62b43755f6be0c82be3cb760',\n",
       " '5ff1e9e97e067a6157742ad3',\n",
       " '5953aa1e1ebf4800018a57a9',\n",
       " '5986de614875a80001c9a1be',\n",
       " '5c98c51774cc7f0001e67c8c',\n",
       " '614ae8dbcd4d31f05be56645',\n",
       " '6147705961fc2207ce68748c',\n",
       " '60be8efc2d564bcd4c8896b4',\n",
       " '5debccb0389fde2b5e13fcea',\n",
       " '6106919acfdc82263f1297d9',\n",
       " '60bd2d6d5394b4193e503cfc',\n",
       " '5c3476a2f5ebd50001841284',\n",
       " '5fd3789cee06d705f5e783cc',\n",
       " '62da6a553aaca6fffb50307f',\n",
       " '60ccf8132d00b57fbb70fa5c',\n",
       " '61656042f505fd7fa53e8628',\n",
       " '5baa5c962eb8020001f1ed3a',\n",
       " '5b9bb8807b196f0001953938',\n",
       " '60fd1ae376361e9061f5121a',\n",
       " '62e84fc05d2ee856c53e341f',\n",
       " '5f992a860fbcaa247cb2750f',\n",
       " '60a78f10810fb961978e053d',\n",
       " '5f3b57cac59223869cac993c',\n",
       " '6058af7fb68efdbcf94665f8',\n",
       " '60aad516e34718d318bfb44d',\n",
       " '60dc5e8272ee7f6f9e4f65b6',\n",
       " '60abcd6f3e5efd9fca235828',\n",
       " '5c6e26630c45820001b851d3',\n",
       " '5fb094d6b70b2d49df350885',\n",
       " '614e34945dfd7dfcc9012760',\n",
       " '60895dd42aa4dab10a53566c',\n",
       " '60719a0a6d49b6b7788b66e6',\n",
       " '5f3564b62bf81050b280143e',\n",
       " '60cec3cb9d48cb1445d4118a',\n",
       " '5edf8803c008532459792282',\n",
       " '5ee1964c3a959e1bee32e637',\n",
       " '5b7a202b338a93000154d774',\n",
       " '6088e7b7d327c199db58cf61',\n",
       " '6041b56b79facd1d274db0a4',\n",
       " '611183c67911657721712872',\n",
       " '61632b0d81a3b06ceb8b7e50',\n",
       " '60407d08a1523627f8428de6',\n",
       " '606ff58ec50bfe6658675c7d',\n",
       " '5ef51e6f12ad1916a987fde1',\n",
       " '5f9e93bb62e24043c32378d7',\n",
       " '60fcddbc7fc9ec2f57576153',\n",
       " '5b9ca13a06114100010699b8']"
      ]
     },
     "execution_count": 11,
     "metadata": {},
     "output_type": "execute_result"
    }
   ],
   "source": [
    "completed_participants=[]\n",
    "for x in data['data']:\n",
    "    if(x['completed']):\n",
    "        completed_participants.append(x['mturk_id'])\n",
    "# print(completed_participants)\n",
    "\n",
    "completed_participants"
   ]
  },
  {
   "cell_type": "code",
   "execution_count": 12,
   "id": "12c62e9c",
   "metadata": {},
   "outputs": [],
   "source": [
    "f = open('output1-99p.json')"
   ]
  },
  {
   "cell_type": "code",
   "execution_count": 13,
   "id": "d4c31c02",
   "metadata": {},
   "outputs": [],
   "source": [
    "jsonpmodel = json.load(f)"
   ]
  },
  {
   "cell_type": "code",
   "execution_count": 14,
   "id": "ff72c77a",
   "metadata": {},
   "outputs": [],
   "source": [
    "# for x in data['data']:\n",
    "#     keys = x.keys()\n",
    "#     print(keys)\n",
    "#     print('\\n')\n",
    "#     values = x.values()\n",
    "#     print(values)"
   ]
  },
  {
   "cell_type": "code",
   "execution_count": 15,
   "id": "c2233a36",
   "metadata": {},
   "outputs": [],
   "source": [
    "completed_p_models=[]\n",
    "for x in jsonpmodel['data']:\n",
    "#     print(x['sequence_type'])\n",
    "    m=x['mturk_id']\n",
    "    if(m in completed_participants):\n",
    "        completed_p_models.append(x)\n",
    "        "
   ]
  },
  {
   "cell_type": "code",
   "execution_count": 16,
   "id": "6f3365ae",
   "metadata": {},
   "outputs": [],
   "source": [
    "filename='completedparticipants.json'\n",
    "with open(filename, 'w') as json_file:\n",
    "    json.dump(completed_p_models, json_file, \n",
    "                        indent=4,  \n",
    "                        separators=(',',': '))"
   ]
  },
  {
   "cell_type": "code",
   "execution_count": 17,
   "id": "318cf2e7",
   "metadata": {},
   "outputs": [],
   "source": [
    "c_file=open(filename)\n",
    "c_p=json.load(c_file)"
   ]
  },
  {
   "cell_type": "code",
   "execution_count": 18,
   "id": "ed752b8d",
   "metadata": {},
   "outputs": [],
   "source": [
    "# for x in c_p:\n",
    "#     print(x['mturk_id'])\n"
   ]
  },
  {
   "cell_type": "markdown",
   "id": "c8c55570",
   "metadata": {},
   "source": [
    "completedparticipants.json is the file that includes data of all participants who completed the task \n",
    "and c_p is the json varible of the file\n",
    "\n"
   ]
  },
  {
   "cell_type": "code",
   "execution_count": 19,
   "id": "75eed3ec",
   "metadata": {},
   "outputs": [],
   "source": [
    "# ----------------Experiment Sequences---------------------------\n",
    "\n",
    "# N : first nbackn difficulty (H/E)\n",
    "\n",
    "# Q : first Questionaire (1: NASA-TLX and 2: MRQ)\n",
    "\n",
    "# S : SakeDifficulty(H/E)\n",
    "\n",
    "# _________________________________________________________________________\n",
    "# seq_number/Progress | 1.n1 | 2.s | 3.q1| 4.q2|5.n2 | 6.s |7.q1 |8.q2 |\n",
    "# _________________________________________________________________________\n",
    "#          1          |  E   | E   |  1  |  2  |  H  |  E  |  1  |  2  |\n",
    "#          2          |  E   | E   |  2  |  1  |  H  |  E  |  2  |  1  |\n",
    "#          3          |  H   | E   |  1  |  2  |  E  |  E  |  1  |  2  |\n",
    "#          4          |  H   | E   |  2  |  1  |  E  |  E  |  2  |  1  |\n",
    "#          5          |  E   | H   |  1  |  2  |  H  |  H  |  1  |  2  |\n",
    "#          6          |  E   | H   |  2  |  1  |  H  |  H  |  2  |  1  |\n",
    "#          7          |  H   | H   |  1  |  2  |  E  |  H  |  1  |  2  |\n",
    "#          8          |  H   | H   |  2  |  1  |  E  |  H  |  2  |  1  |\n",
    "# ________________________________________________________________________\n"
   ]
  },
  {
   "cell_type": "code",
   "execution_count": 20,
   "id": "626d1e64",
   "metadata": {},
   "outputs": [],
   "source": [
    " #  sequence type /progress matrix \n",
    "E_n = 1; # easy nbackn\n",
    "H_n = 3; # hard nbackn\n",
    "E_s = 500;  # easy sak in ms\n",
    "H_s = 1000; #hard sak in ms\n",
    "seq_prog = [\n",
    "    [E_n, E_s, 1, 2, H_n, E_s, 1, 2],\n",
    "    [E_n, E_s, 2, 1, H_n, E_s, 2, 1],\n",
    "    [H_n, E_s, 1, 2, E_n, E_s, 1, 2],\n",
    "    [H_n, E_s, 2, 1, E_n, E_s, 2, 1],\n",
    "    [E_n, H_s, 1, 2, H_n, H_s, 1, 2],\n",
    "    [E_n, H_s, 2, 1, H_n, H_s, 2, 1],\n",
    "    [H_n, H_s, 1, 2, E_n, H_s, 1, 2],\n",
    "    [H_n, H_s, 2, 1, E_n, H_s, 2, 1]\n",
    "];"
   ]
  },
  {
   "cell_type": "markdown",
   "id": "0859200b",
   "metadata": {},
   "source": [
    "conEX : Easy NBACKN----\n",
    "conHX : Hard NBACKN----\n",
    "conXE: Easy SAK----\n",
    "conXH: Hard SAK"
   ]
  },
  {
   "cell_type": "code",
   "execution_count": 21,
   "id": "1ffa95ce",
   "metadata": {},
   "outputs": [],
   "source": [
    "nasa_1_t_array=[]\n",
    "nasa_2_t_array=[]\n",
    "nasa_1_r_array=[]\n",
    "nasa_2_r_array=[]\n",
    "\n",
    "seq_type_array=[]\n",
    "\n",
    "mrq_1_array=[]\n",
    "mrq_2_array=[]\n",
    "\n",
    "mrq_conEH_array=[]\n",
    "mrq_conHH_array=[]\n",
    "mrq_conEE_array=[]\n",
    "mrq_conHE_array=[]\n",
    "\n",
    "nasa_r_conEH_array=[]\n",
    "nasa_r_conHH_array=[]\n",
    "nasa_r_conEE_array=[]\n",
    "nasa_r_conHE_array=[]\n",
    "\n",
    "nasa_t_conEH_array=[]\n",
    "nasa_t_conHH_array=[]\n",
    "nasa_t_conEE_array=[]\n",
    "nasa_t_conHE_array=[]\n",
    "\n",
    "throughput1_array=[]\n",
    "throughput2_array=[]\n",
    "\n",
    "\n",
    "for x in c_p:\n",
    "    st= x['sequence_type']\n",
    "    seq_type_array.append(st)\n",
    "    \n",
    "    sak1= x['sak_1_actions']\n",
    "    sak2= x['sak_2_actions']\n",
    "    sak1t= x['sak_1_actions_t']\n",
    "    sak2t= x['sak_2_actions_t']\n",
    "#     print(len(x['nasa_1_r']))\n",
    "\n",
    "    if(len(x['nasa_1_r'])>0):\n",
    "        ntr1= nasa_string_to_int(x['nasa_1_r'][0])\n",
    "    else: \n",
    "        ntr1=[]\n",
    "        \n",
    "    if(len(x['nasa_2_r'])>0):\n",
    "        ntr2= nasa_string_to_int(x['nasa_2_r'][0])\n",
    "    else: \n",
    "        ntr2=[]\n",
    "        \n",
    "    if(len(x['nasa_1_t'])>0):\n",
    "        ntt1= nasa_string_to_int(x['nasa_1_t'][0])\n",
    "    else: \n",
    "        ntt1=[]\n",
    "        \n",
    "    if(len(x['nasa_2_t'])>0):\n",
    "        ntt2= nasa_string_to_int(x['nasa_2_t'][0])\n",
    "    else: \n",
    "        ntt2=[]\n",
    "    \n",
    "    \n",
    "    nasa_1_r_array.append(ntr1)\n",
    "    nasa_1_t_array.append(ntt1)\n",
    "    nasa_2_r_array.append(ntr2)\n",
    "    nasa_2_t_array.append(ntt2)\n",
    "    \n",
    "    \n",
    "    \n",
    "    if(len(x['mrq_1'])>0): \n",
    "        s=x['mrq_1'][0].replace('\"','').replace('[',\"\").replace(']',\"\").split(',')\n",
    "        mrq1 = [int(y) for y in s]\n",
    "        mrq1.pop()\n",
    "    else: \n",
    "        mrq1=[] \n",
    "        \n",
    "        \n",
    "\n",
    "    if(len(x['mrq_2'])>0): \n",
    "        s=x['mrq_2'][0].replace('\"','').replace('[',\"\").replace(']',\"\").split(',')\n",
    "        mrq2 = [int(y) for y in s]\n",
    "        mrq2.pop()\n",
    "    else: \n",
    "        mrq2=[]\n",
    "        \n",
    "        \n",
    "        \n",
    "    mrq_1_array.append(mrq1)\n",
    "    mrq_2_array.append(mrq2)\n",
    "    \n",
    "    if(st==1 or st==2):\n",
    "        if(len(mrq1)>0 and len(mrq2)>0):\n",
    "            mrq_conEE_array.append(mrq1)\n",
    "            mrq_conHE_array.append(mrq2)\n",
    "            \n",
    "        if(len(ntr1)>0 and len(ntr2)>0):\n",
    "            nasa_r_conEE_array.append(ntr1)\n",
    "            nasa_r_conHE_array.append(ntr2)\n",
    "            nasa_t_conEE_array.append(ntt1)\n",
    "            nasa_t_conHE_array.append(ntt2)\n",
    "        #-------------------------------\n",
    "        throughput1= sak_data_to_througput(sak1,sak1t, E_s)\n",
    "        throughput2= sak_data_to_througput(sak2,sak2t, E_s)\n",
    "        \n",
    "\n",
    "       \n",
    "    if(st==3 or st==4):\n",
    "        if(len(mrq1)>0 and len(mrq2)>0):\n",
    "            mrq_conHE_array.append(mrq1)\n",
    "            mrq_conEE_array.append(mrq2)\n",
    "            \n",
    "        if(len(ntr1)>0 and len(ntr2)>0):\n",
    "            nasa_r_conHE_array.append(ntr1)\n",
    "            nasa_r_conEE_array.append(ntr2)\n",
    "            nasa_t_conHE_array.append(ntt1)\n",
    "            nasa_t_conEE_array.append(ntt2)\n",
    "        #-------------------------------\n",
    "        throughput1= sak_data_to_througput(sak1,sak1t, E_s)\n",
    "        throughput2= sak_data_to_througput(sak2,sak2t, E_s)\n",
    "\n",
    "\n",
    "        \n",
    "    if(st==5 or st==6):\n",
    "        if(len(mrq1)>0 and len(mrq2)>0):\n",
    "            mrq_conEH_array.append(mrq1)\n",
    "            mrq_conHH_array.append(mrq2)\n",
    "            \n",
    "        if(len(ntr1)>0 and len(ntr2)>0): \n",
    "            nasa_r_conEH_array.append(ntr1)\n",
    "            nasa_r_conHH_array.append(ntr2)\n",
    "            nasa_t_conEH_array.append(ntt1)\n",
    "            nasa_t_conHH_array.append(ntt2)\n",
    "        #-------------------------------\n",
    "        throughput1= sak_data_to_througput(sak1,sak1t, H_s)\n",
    "        throughput2= sak_data_to_througput(sak2,sak2t, H_s)\n",
    "        \n",
    "\n",
    "        \n",
    "        \n",
    "    if(st==7 or st==8):\n",
    "        if(len(mrq1)>0 and len(mrq2)>0):\n",
    "            mrq_conHH_array.append(mrq1)\n",
    "            mrq_conEH_array.append(mrq2)\n",
    "            \n",
    "        if(len(ntr1)>0 and len(ntr2)>0): \n",
    "            nasa_r_conHH_array.append(ntr1)\n",
    "            nasa_r_conEH_array.append(ntr2)\n",
    "            nasa_t_conHH_array.append(ntt1)\n",
    "            nasa_t_conEH_array.append(ntt2)\n",
    "        #-------------------------------\n",
    "        throughput1= sak_data_to_througput(sak1,sak1t, H_s)\n",
    "        throughput2= sak_data_to_througput(sak2,sak2t, H_s)\n",
    "        \n",
    "    \n",
    "    throughput1_array.append(throughput1)\n",
    "    throughput2_array.append(throughput2)\n",
    "        \n",
    "        \n"
   ]
  },
  {
   "cell_type": "code",
   "execution_count": null,
   "id": "44a1bba7",
   "metadata": {},
   "outputs": [],
   "source": []
  },
  {
   "cell_type": "code",
   "execution_count": null,
   "id": "01789f1f",
   "metadata": {},
   "outputs": [],
   "source": []
  },
  {
   "cell_type": "code",
   "execution_count": 22,
   "id": "2498aeee",
   "metadata": {},
   "outputs": [
    {
     "data": {
      "text/plain": [
       "[2.586729538565174,\n",
       " 2.717926497813842,\n",
       " 2.9121377390060412,\n",
       " 1.898373726507625,\n",
       " 1.2424982178911779,\n",
       " 1.6281456836442147,\n",
       " 0,\n",
       " 3.3080851175551667,\n",
       " 1.6989279450050734,\n",
       " 2.2047265526650652,\n",
       " 1.678565472123439,\n",
       " 2.5554899474382182,\n",
       " 3.4307278860998345,\n",
       " 1.357970803627722,\n",
       " 1.331931300385559,\n",
       " 2.237307095822846,\n",
       " 1.8373909049150208,\n",
       " 2.9280790581345695,\n",
       " 2.87363967751377,\n",
       " 3.3456903584225692,\n",
       " 2.542265158256006,\n",
       " 2.527230913088529,\n",
       " 1.147122634059567,\n",
       " 1.4980719259471607,\n",
       " 2.767191785809646,\n",
       " 1.3733591219657348,\n",
       " 1.038768317566314,\n",
       " 1.4231338310536839,\n",
       " 2.059503498127265,\n",
       " 2.897820335139221,\n",
       " 1.5739081012547547,\n",
       " 3.761578609156309,\n",
       " 2.8673101047080203,\n",
       " 4.637642195822761,\n",
       " 2.561576354679803,\n",
       " 0,\n",
       " 1.372320579805445,\n",
       " 3.4597471723220217,\n",
       " 2.2624063478531733,\n",
       " 3.1223838722085206,\n",
       " 2.2138364779874213,\n",
       " 2.67022696929239,\n",
       " 2.308548500130543,\n",
       " 1.8407888120946643,\n",
       " 3.154481993165289,\n",
       " 1.8967334035827188,\n",
       " 1.9959664843961162,\n",
       " 4.520662375313252,\n",
       " 1.8010310902991962,\n",
       " 3.860106867773469,\n",
       " 3.787360735589619,\n",
       " 5.1880674448767845,\n",
       " 1.5444015444015444,\n",
       " 1.5228999022335865,\n",
       " 3.9275736712293536,\n",
       " 2.164725286052984,\n",
       " 1.708777956764358,\n",
       " 3.717271845706281,\n",
       " 3.9905225090410275,\n",
       " 2.776556607047826,\n",
       " 2.008894452976585,\n",
       " 2.641688976629574,\n",
       " 2.698633083677181,\n",
       " 1.986276634163958,\n",
       " 2.679249214831133,\n",
       " 3.697508583502069,\n",
       " 1.1103620573422692,\n",
       " 2.1081427011833207,\n",
       " 3.3309893038232357,\n",
       " 2.3026000191883336,\n",
       " 3.6584395959810188,\n",
       " 2.3603865560591806,\n",
       " 1.5540869346812551,\n",
       " 2.996372811859328,\n",
       " 4.769279263228583,\n",
       " 1.565908859210929,\n",
       " 1.7746520531738337,\n",
       " 1.4534883720930232,\n",
       " 2.1948710132225733,\n",
       " 3.0718888777588567,\n",
       " 2.1413117021197494,\n",
       " 2.7542874357153613,\n",
       " 2.0478980601854486,\n",
       " 1.5982270334775288,\n",
       " 4.524191859247365,\n",
       " 3.8055661873257156,\n",
       " 2.7293404094010616,\n",
       " 2.6983617089624157,\n",
       " 1.90030592046068,\n",
       " 2.8532083733740183,\n",
       " 2.7058005599503936,\n",
       " 3.606561167046203,\n",
       " 1.024479672166505,\n",
       " 2.2743641256965237,\n",
       " 3.553172921082159,\n",
       " 2.484825738653276,\n",
       " 2.7213408788694067,\n",
       " 2.8115200230688826]"
      ]
     },
     "execution_count": 22,
     "metadata": {},
     "output_type": "execute_result"
    }
   ],
   "source": [
    "throughput2_array"
   ]
  },
  {
   "cell_type": "markdown",
   "id": "834336bb",
   "metadata": {},
   "source": [
    "<b>Starting the analysis from here:"
   ]
  },
  {
   "cell_type": "markdown",
   "id": "793c58ee",
   "metadata": {},
   "source": [
    "<hr style=\"width:100%;text-align:left;margin-left:0\">"
   ]
  },
  {
   "cell_type": "markdown",
   "id": "5ca423d8",
   "metadata": {},
   "source": [
    "<b>Analysis 1: Paired t-test to see effect of first task on second one "
   ]
  },
  {
   "cell_type": "markdown",
   "id": "64e307a5",
   "metadata": {},
   "source": [
    "-----------------------------------------------------------------------------------------------------------------------"
   ]
  },
  {
   "cell_type": "markdown",
   "id": "f57c7cb5",
   "metadata": {},
   "source": [
    "<b>First Part for MRQ:</b>\n",
    "\n",
    "r_mrq_pttest, p_mrq_pttest for each dimension separately and for r_mrq_avg,p_mrq_avg for total average as the last element.\n",
    "\n",
    "p_mrq_pttest_adjusted is the adjusted p-values after boneferroni"
   ]
  },
  {
   "cell_type": "code",
   "execution_count": 23,
   "id": "408a0760",
   "metadata": {},
   "outputs": [],
   "source": [
    "mrqEX= mrq_conEE_array + mrq_conEH_array"
   ]
  },
  {
   "cell_type": "code",
   "execution_count": 24,
   "id": "d4f28f2d",
   "metadata": {},
   "outputs": [],
   "source": [
    "mrqHX= mrq_conHE_array + mrq_conHH_array"
   ]
  },
  {
   "cell_type": "code",
   "execution_count": 25,
   "id": "cfc7f638",
   "metadata": {},
   "outputs": [],
   "source": [
    "mrqEX=np.array(mrqEX)\n"
   ]
  },
  {
   "cell_type": "code",
   "execution_count": 26,
   "id": "dfab76c5",
   "metadata": {},
   "outputs": [
    {
     "data": {
      "text/plain": [
       "1.4981992797118848"
      ]
     },
     "execution_count": 26,
     "metadata": {},
     "output_type": "execute_result"
    }
   ],
   "source": [
    "mrqETX=pd.DataFrame(mrqEX).mean().mean()\n",
    "mrqETX"
   ]
  },
  {
   "cell_type": "code",
   "execution_count": 27,
   "id": "4fac629a",
   "metadata": {},
   "outputs": [],
   "source": [
    "mrqHX=np.array(mrqHX)"
   ]
  },
  {
   "cell_type": "code",
   "execution_count": 28,
   "id": "5b24a3a0",
   "metadata": {},
   "outputs": [
    {
     "data": {
      "text/plain": [
       "1.4777911164465787"
      ]
     },
     "execution_count": 28,
     "metadata": {},
     "output_type": "execute_result"
    }
   ],
   "source": [
    "mrqHTX=pd.DataFrame(mrqHX).mean().mean()\n",
    "mrqHTX"
   ]
  },
  {
   "cell_type": "code",
   "execution_count": 29,
   "id": "810768e8",
   "metadata": {},
   "outputs": [],
   "source": [
    "r_mrq_pttest=[]\n",
    "p_mrq_pttest=[]\n",
    "\n",
    "for i in range(len(mrqHX[0])):\n",
    "    r,p = stats.ttest_rel(mrqHX[:,i], mrqEX[:,i])\n",
    "    r_mrq_pttest.append(r)\n",
    "    p_mrq_pttest.append(p)\n",
    "    \n",
    "mrqHX_avg_array= np.mean(mrqHX, axis=1)\n",
    "mrqEX_avg_array= np.mean(mrqEX, axis=1)\n",
    "r_mrq_avg,p_mrq_avg = stats.ttest_rel(mrqHX_avg_array,mrqEX_avg_array)\n",
    "\n",
    "r_mrq_pttest.append(r_mrq_avg)\n",
    "p_mrq_pttest.append(p_mrq_avg)"
   ]
  },
  {
   "cell_type": "code",
   "execution_count": 30,
   "id": "51683e0f",
   "metadata": {},
   "outputs": [
    {
     "data": {
      "text/plain": [
       "[0.4845452069267472,\n",
       " 0.3064682531710686,\n",
       " 0.6824691758413888,\n",
       " 0.08814012262924528,\n",
       " 0.6141853378134425,\n",
       " 0.5833261904352833,\n",
       " 0.6289387648115619,\n",
       " 0.03226933456988775,\n",
       " 0.25023987041412965,\n",
       " 0.7099732718172919,\n",
       " 0.8167016975851018,\n",
       " 0.5790211294686735,\n",
       " 0.2808554445053354,\n",
       " 0.13010863576980447,\n",
       " 0.25340168965859183,\n",
       " 0.8441960336353125,\n",
       " 0.08814012262924528,\n",
       " 0.5510200889465597]"
      ]
     },
     "execution_count": 30,
     "metadata": {},
     "output_type": "execute_result"
    }
   ],
   "source": [
    "p_mrq_pttest"
   ]
  },
  {
   "cell_type": "code",
   "execution_count": 31,
   "id": "312bf7ba",
   "metadata": {},
   "outputs": [],
   "source": [
    "p_mrq_pttest_adjusted = multipletests(p_mrq_pttest, alpha=0.05, method='bonferroni')"
   ]
  },
  {
   "cell_type": "code",
   "execution_count": 32,
   "id": "38adde36",
   "metadata": {},
   "outputs": [
    {
     "data": {
      "text/plain": [
       "(array([False, False, False, False, False, False, False, False, False,\n",
       "        False, False, False, False, False, False, False, False, False]),\n",
       " array([1.        , 1.        , 1.        , 1.        , 1.        ,\n",
       "        1.        , 1.        , 0.58084802, 1.        , 1.        ,\n",
       "        1.        , 1.        , 1.        , 1.        , 1.        ,\n",
       "        1.        , 1.        , 1.        ]),\n",
       " 0.002845571131556368,\n",
       " 0.002777777777777778)"
      ]
     },
     "execution_count": 32,
     "metadata": {},
     "output_type": "execute_result"
    }
   ],
   "source": [
    "p_mrq_pttest_adjusted"
   ]
  },
  {
   "cell_type": "code",
   "execution_count": 33,
   "id": "7b53ad77",
   "metadata": {},
   "outputs": [
    {
     "data": {
      "text/plain": [
       "[0.4845452069267472,\n",
       " 0.3064682531710686,\n",
       " 0.6824691758413888,\n",
       " 0.08814012262924528,\n",
       " 0.6141853378134425,\n",
       " 0.5833261904352833,\n",
       " 0.6289387648115619,\n",
       " 0.03226933456988775,\n",
       " 0.25023987041412965,\n",
       " 0.7099732718172919,\n",
       " 0.8167016975851018,\n",
       " 0.5790211294686735,\n",
       " 0.2808554445053354,\n",
       " 0.13010863576980447,\n",
       " 0.25340168965859183,\n",
       " 0.8441960336353125,\n",
       " 0.08814012262924528,\n",
       " 0.5510200889465597]"
      ]
     },
     "execution_count": 33,
     "metadata": {},
     "output_type": "execute_result"
    }
   ],
   "source": [
    "p_mrq_pttest"
   ]
  },
  {
   "cell_type": "markdown",
   "id": "5c0004b0",
   "metadata": {},
   "source": [
    "<b>Second Part for NASA-TLX:</b>\n",
    "\n",
    "r_nasa_pttest, p_nasa_pttest for each dimension separately and for r_nasa_avg,p_nasa_avg for total average as the last element.\n",
    "\n",
    "p_nasa_pttest_adjusted is the adjusted p-values after boneferroni"
   ]
  },
  {
   "cell_type": "code",
   "execution_count": 34,
   "id": "5aee80b3",
   "metadata": {},
   "outputs": [],
   "source": [
    "nasaEX= nasa_r_conEE_array + nasa_r_conEH_array"
   ]
  },
  {
   "cell_type": "code",
   "execution_count": 35,
   "id": "97c39546",
   "metadata": {},
   "outputs": [],
   "source": [
    "nasaHX= nasa_r_conHE_array + nasa_r_conHH_array"
   ]
  },
  {
   "cell_type": "code",
   "execution_count": 36,
   "id": "6330a36a",
   "metadata": {},
   "outputs": [],
   "source": [
    "nasaEX=np.array(nasaEX)"
   ]
  },
  {
   "cell_type": "code",
   "execution_count": 37,
   "id": "cc06d221",
   "metadata": {},
   "outputs": [],
   "source": [
    "nasaHX=np.array(nasaHX)"
   ]
  },
  {
   "cell_type": "code",
   "execution_count": 38,
   "id": "0cc3d46a",
   "metadata": {},
   "outputs": [
    {
     "data": {
      "text/plain": [
       "49.79609929078014"
      ]
     },
     "execution_count": 38,
     "metadata": {},
     "output_type": "execute_result"
    }
   ],
   "source": [
    "nasaETX=pd.DataFrame(nasaEX).mean().mean()\n",
    "nasaETX"
   ]
  },
  {
   "cell_type": "code",
   "execution_count": 39,
   "id": "a3d2babc",
   "metadata": {},
   "outputs": [
    {
     "data": {
      "text/plain": [
       "50.85106382978724"
      ]
     },
     "execution_count": 39,
     "metadata": {},
     "output_type": "execute_result"
    }
   ],
   "source": [
    "nasaHTX=pd.DataFrame(nasaHX).mean().mean()\n",
    "nasaHTX"
   ]
  },
  {
   "cell_type": "code",
   "execution_count": 40,
   "id": "71ed1bb5",
   "metadata": {},
   "outputs": [],
   "source": [
    "r_nasa_pttest=[]\n",
    "p_nasa_pttest=[]\n",
    "\n",
    "for i in range(len(nasaHX[0])):\n",
    "    r,p = stats.ttest_rel(nasaHX[:,i], nasaEX[:,i])\n",
    "    r_nasa_pttest.append(r)\n",
    "    p_nasa_pttest.append(p)\n",
    "    \n",
    "nasaHX_avg_array= np.mean(nasaHX, axis=1)\n",
    "nasaEX_avg_array= np.mean(nasaEX, axis=1)\n",
    "r_nasa_avg,p_nasa_avg = stats.ttest_rel(nasaHX_avg_array,nasaEX_avg_array)\n",
    "\n",
    "r_nasa_pttest.append(r_nasa_avg)\n",
    "p_nasa_pttest.append(p_nasa_avg)"
   ]
  },
  {
   "cell_type": "code",
   "execution_count": 41,
   "id": "26ca9532",
   "metadata": {},
   "outputs": [],
   "source": [
    "p_nasa_pttest_adjusted = multipletests(p_nasa_pttest, alpha=0.05, method='bonferroni')"
   ]
  },
  {
   "cell_type": "code",
   "execution_count": 42,
   "id": "9b10acd1",
   "metadata": {},
   "outputs": [
    {
     "data": {
      "text/plain": [
       "[0.032237484097584986,\n",
       " 0.8823599490069501,\n",
       " 0.1767316697349605,\n",
       " 0.7992122381303003,\n",
       " 0.09208860831795304,\n",
       " 0.4358875606041561,\n",
       " 0.4732997278954202]"
      ]
     },
     "execution_count": 42,
     "metadata": {},
     "output_type": "execute_result"
    }
   ],
   "source": [
    "p_nasa_pttest"
   ]
  },
  {
   "cell_type": "code",
   "execution_count": 43,
   "id": "373daa46",
   "metadata": {},
   "outputs": [
    {
     "data": {
      "text/plain": [
       "(array([False, False, False, False, False, False, False]),\n",
       " array([0.22566239, 1.        , 1.        , 1.        , 0.64462026,\n",
       "        1.        , 1.        ]),\n",
       " 0.007300831979014655,\n",
       " 0.0071428571428571435)"
      ]
     },
     "execution_count": 43,
     "metadata": {},
     "output_type": "execute_result"
    }
   ],
   "source": [
    "p_nasa_pttest_adjusted"
   ]
  },
  {
   "cell_type": "markdown",
   "id": "709b5ad8",
   "metadata": {},
   "source": [
    "<hr style=\"width:100%;text-align:left;margin-left:0\">"
   ]
  },
  {
   "cell_type": "markdown",
   "id": "40067692",
   "metadata": {},
   "source": [
    "<b> Analysis 2: two-sample t-test to see effect of one-key text entry task difficulty on questionaires"
   ]
  },
  {
   "cell_type": "markdown",
   "id": "56bd435c",
   "metadata": {},
   "source": [
    "<b>First Part for MRQ:</b>\n",
    "\n",
    "r_mrq_pttest, p_mrq_pttest for each dimension separately and for r_mrq_avg,p_mrq_avg for total average as the last element.\n",
    "\n",
    "p_mrq_pttest_adjusted is the adjusted p-values after boneferroni"
   ]
  },
  {
   "cell_type": "code",
   "execution_count": 44,
   "id": "dec188f0",
   "metadata": {},
   "outputs": [],
   "source": [
    "mrqXE= mrq_conEE_array + mrq_conHE_array"
   ]
  },
  {
   "cell_type": "code",
   "execution_count": 45,
   "id": "ce73be1c",
   "metadata": {},
   "outputs": [],
   "source": [
    "mrqXH= mrq_conEH_array + mrq_conHH_array"
   ]
  },
  {
   "cell_type": "code",
   "execution_count": 46,
   "id": "0c08e7e3",
   "metadata": {},
   "outputs": [],
   "source": [
    "mrqEX=np.array(mrqXE) #just did not want the notation. do not confuse EX and XE "
   ]
  },
  {
   "cell_type": "code",
   "execution_count": 47,
   "id": "6e16b7d7",
   "metadata": {},
   "outputs": [],
   "source": [
    "mrqHX=np.array(mrqXH) #just did not want the notation. do not confuse EX and XE "
   ]
  },
  {
   "cell_type": "code",
   "execution_count": 48,
   "id": "5f61bc41",
   "metadata": {},
   "outputs": [],
   "source": [
    "r_mrq_pttest=[]\n",
    "p_mrq_pttest=[]\n",
    "\n",
    "for i in range(len(mrqHX[0])):\n",
    "    r,p = stats.ttest_ind(mrqHX[:,i], mrqEX[:,i], equal_var=True)\n",
    "    r_mrq_pttest.append(r)\n",
    "    p_mrq_pttest.append(p)\n",
    "    \n",
    "mrqHX_avg_array= np.mean(mrqHX, axis=1)\n",
    "mrqEX_avg_array= np.mean(mrqEX, axis=1)\n",
    "r_mrq_avg,p_mrq_avg = stats.ttest_ind(mrqHX_avg_array,mrqEX_avg_array, equal_var=True)\n",
    "\n",
    "r_mrq_pttest.append(r_mrq_avg)\n",
    "p_mrq_pttest.append(p_mrq_avg)"
   ]
  },
  {
   "cell_type": "code",
   "execution_count": 49,
   "id": "8d13eb30",
   "metadata": {},
   "outputs": [],
   "source": [
    "p_mrq_pttest_adjusted = multipletests(p_mrq_pttest, alpha=0.05, method='bonferroni')"
   ]
  },
  {
   "cell_type": "code",
   "execution_count": 50,
   "id": "f9118235",
   "metadata": {},
   "outputs": [
    {
     "data": {
      "text/plain": [
       "(array([False, False, False, False, False, False, False, False, False,\n",
       "        False, False, False, False, False, False, False, False, False]),\n",
       " array([0.6134313 , 1.        , 0.80130473, 1.        , 1.        ,\n",
       "        1.        , 1.        , 1.        , 1.        , 1.        ,\n",
       "        1.        , 1.        , 1.        , 1.        , 1.        ,\n",
       "        1.        , 1.        , 1.        ]),\n",
       " 0.002845571131556368,\n",
       " 0.002777777777777778)"
      ]
     },
     "execution_count": 50,
     "metadata": {},
     "output_type": "execute_result"
    }
   ],
   "source": [
    "p_mrq_pttest_adjusted"
   ]
  },
  {
   "cell_type": "code",
   "execution_count": 51,
   "id": "8fa0af0e",
   "metadata": {},
   "outputs": [
    {
     "data": {
      "text/plain": [
       "[0.03407951684150649,\n",
       " 0.6806871469304578,\n",
       " 0.04451692927039891,\n",
       " 0.0883617860803265,\n",
       " 0.468987882266515,\n",
       " 0.26624295611636317,\n",
       " 0.4278214491379191,\n",
       " 0.1018028419095543,\n",
       " 0.28787848128350474,\n",
       " 0.5396463010919387,\n",
       " 0.10598191798460302,\n",
       " 0.6690203886240371,\n",
       " 0.3505533956313803,\n",
       " 0.8414282439601026,\n",
       " 0.6389796182952435,\n",
       " 0.7456337917860583,\n",
       " 0.11504763994681916,\n",
       " 0.10440437831993295]"
      ]
     },
     "execution_count": 51,
     "metadata": {},
     "output_type": "execute_result"
    }
   ],
   "source": [
    "p_mrq_pttest"
   ]
  },
  {
   "cell_type": "code",
   "execution_count": 58,
   "id": "94939e65",
   "metadata": {},
   "outputs": [
    {
     "data": {
      "text/plain": [
       "(-0.23688790331583076, 0.8129937051391436)"
      ]
     },
     "execution_count": 58,
     "metadata": {},
     "output_type": "execute_result"
    }
   ],
   "source": [
    "# mrqHX=pd.DataFrame(mrqHX)\n",
    "# mrqEX=pd.DataFrame(mrqEX)\n",
    "\n",
    "\n",
    "\n",
    "# mrqHX_avg_array= np.sum(mrqHX, axis=1)/np.count_nonzero(mrqHX, axis=1)\n",
    "# mrqEX_avg_array= np.sum(mrqEX, axis=1)/np.count_nonzero(mrqEX, axis=1)\n",
    "# r_mrq_avg,p_mrq_avg = stats.ttest_ind(mrqHX_avg_array,mrqEX_avg_array, equal_var=True)\n",
    "# r_mrq_avg,p_mrq_avg \n"
   ]
  },
  {
   "cell_type": "code",
   "execution_count": 56,
   "id": "aeb930ad",
   "metadata": {},
   "outputs": [
    {
     "data": {
      "text/html": [
       "<div>\n",
       "<style scoped>\n",
       "    .dataframe tbody tr th:only-of-type {\n",
       "        vertical-align: middle;\n",
       "    }\n",
       "\n",
       "    .dataframe tbody tr th {\n",
       "        vertical-align: top;\n",
       "    }\n",
       "\n",
       "    .dataframe thead th {\n",
       "        text-align: right;\n",
       "    }\n",
       "</style>\n",
       "<table border=\"1\" class=\"dataframe\">\n",
       "  <thead>\n",
       "    <tr style=\"text-align: right;\">\n",
       "      <th></th>\n",
       "      <th>0</th>\n",
       "      <th>1</th>\n",
       "      <th>2</th>\n",
       "      <th>3</th>\n",
       "      <th>4</th>\n",
       "      <th>5</th>\n",
       "      <th>6</th>\n",
       "      <th>7</th>\n",
       "      <th>8</th>\n",
       "      <th>9</th>\n",
       "      <th>10</th>\n",
       "      <th>11</th>\n",
       "      <th>12</th>\n",
       "      <th>13</th>\n",
       "      <th>14</th>\n",
       "      <th>15</th>\n",
       "      <th>16</th>\n",
       "    </tr>\n",
       "  </thead>\n",
       "  <tbody>\n",
       "    <tr>\n",
       "      <th>0</th>\n",
       "      <td>0</td>\n",
       "      <td>4</td>\n",
       "      <td>0</td>\n",
       "      <td>0</td>\n",
       "      <td>4</td>\n",
       "      <td>4</td>\n",
       "      <td>3</td>\n",
       "      <td>3</td>\n",
       "      <td>2</td>\n",
       "      <td>2</td>\n",
       "      <td>2</td>\n",
       "      <td>1</td>\n",
       "      <td>0</td>\n",
       "      <td>2</td>\n",
       "      <td>1</td>\n",
       "      <td>2</td>\n",
       "      <td>0</td>\n",
       "    </tr>\n",
       "    <tr>\n",
       "      <th>1</th>\n",
       "      <td>2</td>\n",
       "      <td>4</td>\n",
       "      <td>0</td>\n",
       "      <td>0</td>\n",
       "      <td>4</td>\n",
       "      <td>4</td>\n",
       "      <td>3</td>\n",
       "      <td>3</td>\n",
       "      <td>3</td>\n",
       "      <td>2</td>\n",
       "      <td>2</td>\n",
       "      <td>0</td>\n",
       "      <td>3</td>\n",
       "      <td>4</td>\n",
       "      <td>3</td>\n",
       "      <td>2</td>\n",
       "      <td>0</td>\n",
       "    </tr>\n",
       "    <tr>\n",
       "      <th>2</th>\n",
       "      <td>1</td>\n",
       "      <td>2</td>\n",
       "      <td>1</td>\n",
       "      <td>1</td>\n",
       "      <td>4</td>\n",
       "      <td>4</td>\n",
       "      <td>4</td>\n",
       "      <td>3</td>\n",
       "      <td>4</td>\n",
       "      <td>4</td>\n",
       "      <td>3</td>\n",
       "      <td>3</td>\n",
       "      <td>4</td>\n",
       "      <td>4</td>\n",
       "      <td>3</td>\n",
       "      <td>3</td>\n",
       "      <td>1</td>\n",
       "    </tr>\n",
       "    <tr>\n",
       "      <th>3</th>\n",
       "      <td>0</td>\n",
       "      <td>0</td>\n",
       "      <td>0</td>\n",
       "      <td>1</td>\n",
       "      <td>2</td>\n",
       "      <td>3</td>\n",
       "      <td>3</td>\n",
       "      <td>0</td>\n",
       "      <td>2</td>\n",
       "      <td>3</td>\n",
       "      <td>3</td>\n",
       "      <td>0</td>\n",
       "      <td>0</td>\n",
       "      <td>4</td>\n",
       "      <td>1</td>\n",
       "      <td>3</td>\n",
       "      <td>0</td>\n",
       "    </tr>\n",
       "    <tr>\n",
       "      <th>4</th>\n",
       "      <td>0</td>\n",
       "      <td>0</td>\n",
       "      <td>0</td>\n",
       "      <td>0</td>\n",
       "      <td>1</td>\n",
       "      <td>2</td>\n",
       "      <td>4</td>\n",
       "      <td>4</td>\n",
       "      <td>0</td>\n",
       "      <td>0</td>\n",
       "      <td>4</td>\n",
       "      <td>0</td>\n",
       "      <td>0</td>\n",
       "      <td>0</td>\n",
       "      <td>0</td>\n",
       "      <td>0</td>\n",
       "      <td>0</td>\n",
       "    </tr>\n",
       "    <tr>\n",
       "      <th>...</th>\n",
       "      <td>...</td>\n",
       "      <td>...</td>\n",
       "      <td>...</td>\n",
       "      <td>...</td>\n",
       "      <td>...</td>\n",
       "      <td>...</td>\n",
       "      <td>...</td>\n",
       "      <td>...</td>\n",
       "      <td>...</td>\n",
       "      <td>...</td>\n",
       "      <td>...</td>\n",
       "      <td>...</td>\n",
       "      <td>...</td>\n",
       "      <td>...</td>\n",
       "      <td>...</td>\n",
       "      <td>...</td>\n",
       "      <td>...</td>\n",
       "    </tr>\n",
       "    <tr>\n",
       "      <th>97</th>\n",
       "      <td>0</td>\n",
       "      <td>0</td>\n",
       "      <td>0</td>\n",
       "      <td>2</td>\n",
       "      <td>4</td>\n",
       "      <td>4</td>\n",
       "      <td>4</td>\n",
       "      <td>2</td>\n",
       "      <td>2</td>\n",
       "      <td>4</td>\n",
       "      <td>4</td>\n",
       "      <td>0</td>\n",
       "      <td>0</td>\n",
       "      <td>4</td>\n",
       "      <td>0</td>\n",
       "      <td>4</td>\n",
       "      <td>0</td>\n",
       "    </tr>\n",
       "    <tr>\n",
       "      <th>98</th>\n",
       "      <td>0</td>\n",
       "      <td>0</td>\n",
       "      <td>0</td>\n",
       "      <td>0</td>\n",
       "      <td>1</td>\n",
       "      <td>2</td>\n",
       "      <td>1</td>\n",
       "      <td>0</td>\n",
       "      <td>0</td>\n",
       "      <td>1</td>\n",
       "      <td>0</td>\n",
       "      <td>0</td>\n",
       "      <td>0</td>\n",
       "      <td>3</td>\n",
       "      <td>0</td>\n",
       "      <td>2</td>\n",
       "      <td>0</td>\n",
       "    </tr>\n",
       "    <tr>\n",
       "      <th>99</th>\n",
       "      <td>4</td>\n",
       "      <td>3</td>\n",
       "      <td>0</td>\n",
       "      <td>0</td>\n",
       "      <td>4</td>\n",
       "      <td>3</td>\n",
       "      <td>4</td>\n",
       "      <td>0</td>\n",
       "      <td>1</td>\n",
       "      <td>0</td>\n",
       "      <td>0</td>\n",
       "      <td>0</td>\n",
       "      <td>0</td>\n",
       "      <td>4</td>\n",
       "      <td>1</td>\n",
       "      <td>4</td>\n",
       "      <td>0</td>\n",
       "    </tr>\n",
       "    <tr>\n",
       "      <th>100</th>\n",
       "      <td>0</td>\n",
       "      <td>0</td>\n",
       "      <td>0</td>\n",
       "      <td>0</td>\n",
       "      <td>4</td>\n",
       "      <td>0</td>\n",
       "      <td>4</td>\n",
       "      <td>2</td>\n",
       "      <td>3</td>\n",
       "      <td>1</td>\n",
       "      <td>2</td>\n",
       "      <td>0</td>\n",
       "      <td>1</td>\n",
       "      <td>4</td>\n",
       "      <td>0</td>\n",
       "      <td>4</td>\n",
       "      <td>0</td>\n",
       "    </tr>\n",
       "    <tr>\n",
       "      <th>101</th>\n",
       "      <td>0</td>\n",
       "      <td>3</td>\n",
       "      <td>0</td>\n",
       "      <td>0</td>\n",
       "      <td>2</td>\n",
       "      <td>3</td>\n",
       "      <td>3</td>\n",
       "      <td>1</td>\n",
       "      <td>0</td>\n",
       "      <td>2</td>\n",
       "      <td>3</td>\n",
       "      <td>2</td>\n",
       "      <td>3</td>\n",
       "      <td>2</td>\n",
       "      <td>2</td>\n",
       "      <td>3</td>\n",
       "      <td>0</td>\n",
       "    </tr>\n",
       "  </tbody>\n",
       "</table>\n",
       "<p>102 rows × 17 columns</p>\n",
       "</div>"
      ],
      "text/plain": [
       "     0   1   2   3   4   5   6   7   8   9   10  11  12  13  14  15  16\n",
       "0     0   4   0   0   4   4   3   3   2   2   2   1   0   2   1   2   0\n",
       "1     2   4   0   0   4   4   3   3   3   2   2   0   3   4   3   2   0\n",
       "2     1   2   1   1   4   4   4   3   4   4   3   3   4   4   3   3   1\n",
       "3     0   0   0   1   2   3   3   0   2   3   3   0   0   4   1   3   0\n",
       "4     0   0   0   0   1   2   4   4   0   0   4   0   0   0   0   0   0\n",
       "..   ..  ..  ..  ..  ..  ..  ..  ..  ..  ..  ..  ..  ..  ..  ..  ..  ..\n",
       "97    0   0   0   2   4   4   4   2   2   4   4   0   0   4   0   4   0\n",
       "98    0   0   0   0   1   2   1   0   0   1   0   0   0   3   0   2   0\n",
       "99    4   3   0   0   4   3   4   0   1   0   0   0   0   4   1   4   0\n",
       "100   0   0   0   0   4   0   4   2   3   1   2   0   1   4   0   4   0\n",
       "101   0   3   0   0   2   3   3   1   0   2   3   2   3   2   2   3   0\n",
       "\n",
       "[102 rows x 17 columns]"
      ]
     },
     "execution_count": 56,
     "metadata": {},
     "output_type": "execute_result"
    }
   ],
   "source": [
    "mrqHX"
   ]
  },
  {
   "cell_type": "markdown",
   "id": "8683c563",
   "metadata": {},
   "source": [
    "<b>Second Part for NASA-TLX:</b>\n",
    "\n",
    "r_nasa_pttest, p_nasa_pttest for each dimension separately and for r_nasa_avg,p_nasa_avg for total average as the last element.\n",
    "\n",
    "p_nasa_pttest_adjusted is the adjusted p-values after boneferroni"
   ]
  },
  {
   "cell_type": "code",
   "execution_count": 148,
   "id": "c96903ab",
   "metadata": {},
   "outputs": [],
   "source": [
    "nasaXE= nasa_r_conEE_array + nasa_r_conHE_array"
   ]
  },
  {
   "cell_type": "code",
   "execution_count": 149,
   "id": "830c76b7",
   "metadata": {},
   "outputs": [],
   "source": [
    "nasaXH= nasa_r_conHH_array + nasa_r_conEH_array"
   ]
  },
  {
   "cell_type": "code",
   "execution_count": 150,
   "id": "de66f519",
   "metadata": {},
   "outputs": [],
   "source": [
    "nasaEX=np.array(nasaXE) #just did not want the notation. do not confuse EX and XE "
   ]
  },
  {
   "cell_type": "code",
   "execution_count": 151,
   "id": "9f9fff99",
   "metadata": {},
   "outputs": [],
   "source": [
    "nasaHX=np.array(nasaXH) #just did not want the notation. do not confuse EX and XE "
   ]
  },
  {
   "cell_type": "code",
   "execution_count": 152,
   "id": "339d2923",
   "metadata": {},
   "outputs": [],
   "source": [
    "r_nasa_pttest=[]\n",
    "p_nasa_pttest=[]\n",
    "\n",
    "for i in range(len(nasaHX[0])):\n",
    "    r,p = stats.ttest_ind(nasaHX[:,i], nasaEX[:,i], equal_var=True)\n",
    "    r_nasa_pttest.append(r)\n",
    "    p_nasa_pttest.append(p)\n",
    "    \n",
    "nasaHX_avg_array= np.mean(nasaHX, axis=1)\n",
    "nasaEX_avg_array= np.mean(nasaEX, axis=1)\n",
    "r_nasa_avg,p_nasa_avg = stats.ttest_ind(nasaHX_avg_array,nasaEX_avg_array, equal_var=True)\n",
    "\n",
    "r_nasa_pttest.append(r_nasa_avg)\n",
    "p_nasa_pttest.append(p_nasa_avg)"
   ]
  },
  {
   "cell_type": "code",
   "execution_count": 153,
   "id": "d749746c",
   "metadata": {},
   "outputs": [
    {
     "data": {
      "text/plain": [
       "[0.5675858025735263,\n",
       " 0.4186675543402252,\n",
       " 0.08159975709162907,\n",
       " 0.06052216696804646,\n",
       " 0.05095970726304729,\n",
       " 0.8662378632555212,\n",
       " 0.1659373243945405]"
      ]
     },
     "execution_count": 153,
     "metadata": {},
     "output_type": "execute_result"
    }
   ],
   "source": [
    "p_nasa_pttest"
   ]
  },
  {
   "cell_type": "code",
   "execution_count": 154,
   "id": "12fbfb8f",
   "metadata": {},
   "outputs": [],
   "source": [
    "p_nasa_pttest_adjusted = multipletests(p_nasa_pttest, alpha=0.05, method='bonferroni')"
   ]
  },
  {
   "cell_type": "code",
   "execution_count": 155,
   "id": "4b8aa3bf",
   "metadata": {},
   "outputs": [
    {
     "data": {
      "text/plain": [
       "[0.5675858025735263,\n",
       " 0.4186675543402252,\n",
       " 0.08159975709162907,\n",
       " 0.06052216696804646,\n",
       " 0.05095970726304729,\n",
       " 0.8662378632555212,\n",
       " 0.1659373243945405]"
      ]
     },
     "execution_count": 155,
     "metadata": {},
     "output_type": "execute_result"
    }
   ],
   "source": [
    "p_nasa_pttest"
   ]
  },
  {
   "cell_type": "code",
   "execution_count": 156,
   "id": "941332a6",
   "metadata": {},
   "outputs": [
    {
     "data": {
      "text/plain": [
       "(array([False, False, False, False, False, False, False]),\n",
       " array([1.        , 1.        , 0.5711983 , 0.42365517, 0.35671795,\n",
       "        1.        , 1.        ]),\n",
       " 0.007300831979014655,\n",
       " 0.0071428571428571435)"
      ]
     },
     "execution_count": 156,
     "metadata": {},
     "output_type": "execute_result"
    }
   ],
   "source": [
    "p_nasa_pttest_adjusted"
   ]
  },
  {
   "cell_type": "markdown",
   "id": "1768a6e2",
   "metadata": {},
   "source": [
    "<hr style=\"width:100%;text-align:left;margin-left:0\">\n",
    "<hr style=\"width:100%;text-align:left;margin-left:0\">"
   ]
  },
  {
   "cell_type": "markdown",
   "id": "276d5115",
   "metadata": {},
   "source": [
    "<b> Analysis 3: Pearson Correlation to see the correlation of two questionaires' scale"
   ]
  },
  {
   "cell_type": "code",
   "execution_count": 157,
   "id": "d60da297",
   "metadata": {},
   "outputs": [
    {
     "name": "stdout",
     "output_type": "stream",
     "text": [
      "(196, 17)\n",
      "KACJ\n",
      "KACJ\n",
      "KACJ\n",
      "KACJ\n",
      "KACJ\n"
     ]
    }
   ],
   "source": [
    "nasa_r_array_pc = []\n",
    "nasa_r_array_pc.extend(nasa_1_r_array)\n",
    "nasa_r_array_pc.extend(nasa_2_r_array)\n",
    "\n",
    "mrq_array_pc = []\n",
    "mrq_array_pc.extend(mrq_1_array)\n",
    "mrq_array_pc.extend(mrq_2_array)\n",
    "\n",
    "nasa_r_array_pc=np.array(nasa_r_array_pc,dtype=object)\n",
    "mrq_array_pc=np.array(mrq_array_pc,dtype=object)\n",
    "print(mrq_array_pc.shape)\n",
    "\n",
    "\n",
    "#-------------------------------------------------------------------------------------\n",
    "to_delete_indices=[]\n",
    "for i in range(len(mrq_array_pc)):\n",
    "    if(len(nasa_r_array_pc[i])==0 or len(mrq_array_pc[i])==0):\n",
    "        to_delete_indices.append(i)\n",
    "\n",
    "\n",
    "\n",
    "\n",
    "cleaned_nasa_r_array_pc=[]\n",
    "cleaned_mrq_array_pc=[]\n",
    "\n",
    "\n",
    "for t in range(len(mrq_array_pc)):\n",
    "    if t in  to_delete_indices:\n",
    "        print('KACJ')\n",
    "    else:\n",
    "        cleaned_nasa_r_array_pc.append(nasa_r_array_pc[t])\n",
    "        cleaned_mrq_array_pc.append(mrq_array_pc[t])\n",
    "#-------------------------------------------------------------------------------------"
   ]
  },
  {
   "cell_type": "code",
   "execution_count": 158,
   "id": "ef12858f",
   "metadata": {},
   "outputs": [],
   "source": [
    "nasa_r_array_pc=np.array(cleaned_nasa_r_array_pc)\n",
    "mrq_array_pc=np.array(cleaned_mrq_array_pc)\n",
    "\n",
    "nasa_r_array_pc_avg = []\n",
    "mrq_array_pc_avg = []\n",
    "\n",
    "for i in range(len(nasa_r_array_pc)):\n",
    "    nasa_r_array_pc_avg.append(np.mean(nasa_r_array_pc[i]))\n",
    "    mrq_array_pc_avg.append(np.mean(mrq_array_pc[i]))\n",
    "\n",
    "\n",
    "# print(mrq_array_pc.shape)\n",
    "\n",
    "    \n",
    "new_mrq_array_pc = []\n",
    "new_nasa_r_array_pc = []\n",
    "\n",
    "for i in range(len(nasa_r_array_pc)):\n",
    "    tmpn=[nasa_r_array_pc_avg[i]]\n",
    "    tmpm=[mrq_array_pc_avg[i]]\n",
    "    \n",
    "    for j in range(len(mrq_array_pc[i])):\n",
    "        tmpm.append(mrq_array_pc[i][j])\n",
    "        \n",
    "    for k in range(len(nasa_r_array_pc[i])):\n",
    "        tmpn.append(nasa_r_array_pc[i][k])\n",
    "    \n",
    "    \n",
    "    new_mrq_array_pc.append(tmpm)\n",
    "    new_nasa_r_array_pc.append(tmpn)"
   ]
  },
  {
   "cell_type": "code",
   "execution_count": 159,
   "id": "ef3c224d",
   "metadata": {},
   "outputs": [],
   "source": [
    "for ix in range(len(mrq_array_pc_avg)):\n",
    "    new_mrq_array_pc.append(np.append(mrq_array_pc_avg[ix],mrq_array_pc[ix]))\n",
    "    new_nasa_r_array_pc.append(np.append(nasa_r_array_pc_avg[ix],nasa_r_array_pc[ix]))"
   ]
  },
  {
   "cell_type": "code",
   "execution_count": 160,
   "id": "e2586fc3",
   "metadata": {},
   "outputs": [],
   "source": [
    "new_mrq_array_pc = np.array(new_mrq_array_pc)"
   ]
  },
  {
   "cell_type": "code",
   "execution_count": 161,
   "id": "b00b90f6",
   "metadata": {},
   "outputs": [],
   "source": [
    "new_nasa_r_array_pc = np.array(new_nasa_r_array_pc)"
   ]
  },
  {
   "cell_type": "code",
   "execution_count": 162,
   "id": "53c0eebe",
   "metadata": {},
   "outputs": [],
   "source": [
    "new_mrq_array_pc= np.transpose(new_mrq_array_pc)"
   ]
  },
  {
   "cell_type": "code",
   "execution_count": 163,
   "id": "4548ca11",
   "metadata": {},
   "outputs": [],
   "source": [
    "new_nasa_r_array_pc=  np.transpose(new_nasa_r_array_pc)"
   ]
  },
  {
   "cell_type": "code",
   "execution_count": 164,
   "id": "f95d776d",
   "metadata": {},
   "outputs": [],
   "source": [
    "c_matrix=np.zeros((len(new_nasa_r_array_pc),len(new_mrq_array_pc)))\n",
    "p_matrix=np.zeros((len(new_nasa_r_array_pc),len(new_mrq_array_pc)))\n",
    "for i in range(len(new_nasa_r_array_pc)):\n",
    "    for j in range(len(new_mrq_array_pc)):\n",
    "        c,p = stats.pearsonr(new_nasa_r_array_pc[i], new_mrq_array_pc[j])\n",
    "        c_matrix[i][j]=c\n",
    "        p_matrix[i][j]=p"
   ]
  },
  {
   "cell_type": "code",
   "execution_count": 165,
   "id": "e1b8b011",
   "metadata": {},
   "outputs": [
    {
     "data": {
      "text/plain": [
       "array([[ 0.25027024,  0.23527346,  0.21883762,  0.15506435,  0.14509963,\n",
       "         0.21476655,  0.17389089,  0.09159474,  0.04875611,  0.1071216 ,\n",
       "         0.13556274,  0.1333601 ,  0.08718549,  0.18240405,  0.13104802,\n",
       "         0.09659937, -0.03264013,  0.13326836],\n",
       "       [ 0.19957861,  0.23470572,  0.24840776,  0.13963543,  0.12835688,\n",
       "         0.12973062,  0.08122427,  0.0928005 ,  0.00525894,  0.11467157,\n",
       "         0.11590601,  0.07198281,  0.05265793,  0.07597474,  0.199261  ,\n",
       "         0.00422737,  0.00837703,  0.10816453],\n",
       "       [ 0.33539813,  0.20256282,  0.19350241,  0.1421924 ,  0.26292753,\n",
       "         0.33814673,  0.21225621,  0.10874212,  0.14604228,  0.15446906,\n",
       "         0.10291009,  0.14484366,  0.29015166,  0.38590774,  0.10811612,\n",
       "         0.15614417, -0.07957691,  0.22198768],\n",
       "       [ 0.20712598,  0.09480975,  0.07621278,  0.15562008,  0.12547957,\n",
       "         0.13280418,  0.14237303,  0.13784812,  0.0621108 ,  0.13450768,\n",
       "         0.13622045,  0.12847292,  0.09252709,  0.1180692 ,  0.15601883,\n",
       "         0.00954539,  0.05112362,  0.12475169],\n",
       "       [-0.01347095,  0.06153274, -0.01406698,  0.02254442, -0.01093038,\n",
       "        -0.01305068, -0.07500146,  0.01155722, -0.0197402 ,  0.02745217,\n",
       "         0.01855326,  0.06653076, -0.10899319, -0.02553387, -0.08378449,\n",
       "         0.06024678, -0.02219893, -0.02936721],\n",
       "       [ 0.14067312,  0.24677496,  0.25554678,  0.156205  ,  0.13355586,\n",
       "         0.15498498,  0.11650437, -0.00271469, -0.03707049, -0.01582711,\n",
       "         0.03198558, -0.04032347, -0.01361601,  0.12549179,  0.09537733,\n",
       "         0.1019223 , -0.08269369,  0.16398392],\n",
       "       [ 0.15454328,  0.12391763,  0.14850019,  0.02340084, -0.03531551,\n",
       "         0.13306932,  0.23069186,  0.02600597,  0.03802718,  0.02096412,\n",
       "         0.14191771,  0.15270496,  0.05181893,  0.06413681,  0.08164883,\n",
       "         0.04986101, -0.00527227, -0.03133068]])"
      ]
     },
     "execution_count": 165,
     "metadata": {},
     "output_type": "execute_result"
    }
   ],
   "source": [
    "c_matrix\n"
   ]
  },
  {
   "cell_type": "code",
   "execution_count": 166,
   "id": "e1da6ef1",
   "metadata": {},
   "outputs": [
    {
     "data": {
      "text/plain": [
       "array([9.13601480e-05, 4.20834160e-04, 2.00604099e-03, 2.98905412e-01,\n",
       "       5.65398543e-01, 2.90139989e-03, 8.07882754e-02, 1.00000000e+00,\n",
       "       1.00000000e+00, 1.00000000e+00, 1.00000000e+00, 1.00000000e+00,\n",
       "       1.00000000e+00, 4.27200813e-02, 1.00000000e+00, 1.00000000e+00,\n",
       "       1.00000000e+00, 1.00000000e+00, 1.08137722e-02, 4.45022910e-04,\n",
       "       1.11042590e-04, 7.89316946e-01, 1.00000000e+00, 1.00000000e+00,\n",
       "       1.00000000e+00, 1.00000000e+00, 1.00000000e+00, 1.00000000e+00,\n",
       "       1.00000000e+00, 1.00000000e+00, 1.00000000e+00, 1.00000000e+00,\n",
       "       1.11041074e-02, 1.00000000e+00, 1.00000000e+00, 1.00000000e+00,\n",
       "       2.14172431e-09, 8.41369224e-03, 1.78237774e-02, 6.76162716e-01,\n",
       "       2.32798587e-05, 1.42910441e-09, 3.63014480e-03, 1.00000000e+00,\n",
       "       5.33170482e-01, 3.10835736e-01, 1.00000000e+00, 5.74447982e-01,\n",
       "       9.57452923e-07, 6.50559883e-13, 1.00000000e+00, 2.78324462e-01,\n",
       "       1.00000000e+00, 1.50051603e-03, 5.69173624e-03, 1.00000000e+00,\n",
       "       1.00000000e+00, 2.88146230e-01, 1.00000000e+00, 1.00000000e+00,\n",
       "       6.68749809e-01, 8.78204176e-01, 1.00000000e+00, 1.00000000e+00,\n",
       "       9.66834178e-01, 1.00000000e+00, 1.00000000e+00, 1.00000000e+00,\n",
       "       2.80645183e-01, 1.00000000e+00, 1.00000000e+00, 1.00000000e+00,\n",
       "       1.00000000e+00, 1.00000000e+00, 1.00000000e+00, 1.00000000e+00,\n",
       "       1.00000000e+00, 1.00000000e+00, 1.00000000e+00, 1.00000000e+00,\n",
       "       1.00000000e+00, 1.00000000e+00, 1.00000000e+00, 1.00000000e+00,\n",
       "       1.00000000e+00, 1.00000000e+00, 1.00000000e+00, 1.00000000e+00,\n",
       "       1.00000000e+00, 1.00000000e+00, 7.41493475e-01, 1.31589399e-04,\n",
       "       5.21245872e-05, 2.77204511e-01, 1.00000000e+00, 3.00471613e-01,\n",
       "       1.00000000e+00, 1.00000000e+00, 1.00000000e+00, 1.00000000e+00,\n",
       "       1.00000000e+00, 1.00000000e+00, 1.00000000e+00, 1.00000000e+00,\n",
       "       1.00000000e+00, 1.00000000e+00, 1.00000000e+00, 1.63599110e-01,\n",
       "       3.09324978e-01, 1.00000000e+00, 4.56795940e-01, 1.00000000e+00,\n",
       "       1.00000000e+00, 1.00000000e+00, 6.58025944e-04, 1.00000000e+00,\n",
       "       1.00000000e+00, 1.00000000e+00, 6.87576657e-01, 3.48784127e-01,\n",
       "       1.00000000e+00, 1.00000000e+00, 1.00000000e+00, 1.00000000e+00,\n",
       "       1.00000000e+00, 1.00000000e+00])"
      ]
     },
     "execution_count": 166,
     "metadata": {},
     "output_type": "execute_result"
    }
   ],
   "source": [
    "rej_matrix, p_matrix_adjusted, c_b, p_b = multipletests(p_matrix.reshape(-1), alpha=0.05, method='bonferroni')\n",
    "p_matrix_adjusted"
   ]
  },
  {
   "cell_type": "markdown",
   "id": "bc9e7f9e",
   "metadata": {},
   "source": [
    "Correllation of average values and each dimention separately-- zero indices are for averages"
   ]
  },
  {
   "cell_type": "code",
   "execution_count": 167,
   "id": "592bd5fd",
   "metadata": {},
   "outputs": [],
   "source": [
    "p_matrix_adjusted= np.array(p_matrix_adjusted).reshape(7,18)\n",
    "rej_matrix= np.array(rej_matrix).reshape(7,18)"
   ]
  },
  {
   "cell_type": "code",
   "execution_count": 168,
   "id": "9ea6e031",
   "metadata": {},
   "outputs": [
    {
     "data": {
      "text/plain": [
       "array([[ True,  True,  True, False, False,  True, False, False, False,\n",
       "        False, False, False, False,  True, False, False, False, False],\n",
       "       [ True,  True,  True, False, False, False, False, False, False,\n",
       "        False, False, False, False, False,  True, False, False, False],\n",
       "       [ True,  True,  True, False,  True,  True,  True, False, False,\n",
       "        False, False, False,  True,  True, False, False, False,  True],\n",
       "       [ True, False, False, False, False, False, False, False, False,\n",
       "        False, False, False, False, False, False, False, False, False],\n",
       "       [False, False, False, False, False, False, False, False, False,\n",
       "        False, False, False, False, False, False, False, False, False],\n",
       "       [False,  True,  True, False, False, False, False, False, False,\n",
       "        False, False, False, False, False, False, False, False, False],\n",
       "       [False, False, False, False, False, False,  True, False, False,\n",
       "        False, False, False, False, False, False, False, False, False]])"
      ]
     },
     "execution_count": 168,
     "metadata": {},
     "output_type": "execute_result"
    }
   ],
   "source": [
    "rej_matrix"
   ]
  },
  {
   "cell_type": "code",
   "execution_count": 169,
   "id": "2320a507",
   "metadata": {},
   "outputs": [
    {
     "data": {
      "text/plain": [
       "<AxesSubplot:>"
      ]
     },
     "execution_count": 169,
     "metadata": {},
     "output_type": "execute_result"
    },
    {
     "data": {
      "image/png": "[encoded data removed]",
      "text/plain": [
       "<Figure size 432x288 with 2 Axes>"
      ]
     },
     "metadata": {
      "needs_background": "light"
     },
     "output_type": "display_data"
    }
   ],
   "source": [
    "sns.heatmap(rej_matrix,annot=True)"
   ]
  },
  {
   "cell_type": "code",
   "execution_count": 170,
   "id": "46916f77",
   "metadata": {},
   "outputs": [
    {
     "data": {
      "text/plain": [
       "array([[9.13601480e-05, 4.20834160e-04, 2.00604099e-03, 2.98905412e-01,\n",
       "        5.65398543e-01, 2.90139989e-03, 8.07882754e-02, 1.00000000e+00,\n",
       "        1.00000000e+00, 1.00000000e+00, 1.00000000e+00, 1.00000000e+00,\n",
       "        1.00000000e+00, 4.27200813e-02, 1.00000000e+00, 1.00000000e+00,\n",
       "        1.00000000e+00, 1.00000000e+00],\n",
       "       [1.08137722e-02, 4.45022910e-04, 1.11042590e-04, 7.89316946e-01,\n",
       "        1.00000000e+00, 1.00000000e+00, 1.00000000e+00, 1.00000000e+00,\n",
       "        1.00000000e+00, 1.00000000e+00, 1.00000000e+00, 1.00000000e+00,\n",
       "        1.00000000e+00, 1.00000000e+00, 1.11041074e-02, 1.00000000e+00,\n",
       "        1.00000000e+00, 1.00000000e+00],\n",
       "       [2.14172431e-09, 8.41369224e-03, 1.78237774e-02, 6.76162716e-01,\n",
       "        2.32798587e-05, 1.42910441e-09, 3.63014480e-03, 1.00000000e+00,\n",
       "        5.33170482e-01, 3.10835736e-01, 1.00000000e+00, 5.74447982e-01,\n",
       "        9.57452923e-07, 6.50559883e-13, 1.00000000e+00, 2.78324462e-01,\n",
       "        1.00000000e+00, 1.50051603e-03],\n",
       "       [5.69173624e-03, 1.00000000e+00, 1.00000000e+00, 2.88146230e-01,\n",
       "        1.00000000e+00, 1.00000000e+00, 6.68749809e-01, 8.78204176e-01,\n",
       "        1.00000000e+00, 1.00000000e+00, 9.66834178e-01, 1.00000000e+00,\n",
       "        1.00000000e+00, 1.00000000e+00, 2.80645183e-01, 1.00000000e+00,\n",
       "        1.00000000e+00, 1.00000000e+00],\n",
       "       [1.00000000e+00, 1.00000000e+00, 1.00000000e+00, 1.00000000e+00,\n",
       "        1.00000000e+00, 1.00000000e+00, 1.00000000e+00, 1.00000000e+00,\n",
       "        1.00000000e+00, 1.00000000e+00, 1.00000000e+00, 1.00000000e+00,\n",
       "        1.00000000e+00, 1.00000000e+00, 1.00000000e+00, 1.00000000e+00,\n",
       "        1.00000000e+00, 1.00000000e+00],\n",
       "       [7.41493475e-01, 1.31589399e-04, 5.21245872e-05, 2.77204511e-01,\n",
       "        1.00000000e+00, 3.00471613e-01, 1.00000000e+00, 1.00000000e+00,\n",
       "        1.00000000e+00, 1.00000000e+00, 1.00000000e+00, 1.00000000e+00,\n",
       "        1.00000000e+00, 1.00000000e+00, 1.00000000e+00, 1.00000000e+00,\n",
       "        1.00000000e+00, 1.63599110e-01],\n",
       "       [3.09324978e-01, 1.00000000e+00, 4.56795940e-01, 1.00000000e+00,\n",
       "        1.00000000e+00, 1.00000000e+00, 6.58025944e-04, 1.00000000e+00,\n",
       "        1.00000000e+00, 1.00000000e+00, 6.87576657e-01, 3.48784127e-01,\n",
       "        1.00000000e+00, 1.00000000e+00, 1.00000000e+00, 1.00000000e+00,\n",
       "        1.00000000e+00, 1.00000000e+00]])"
      ]
     },
     "execution_count": 170,
     "metadata": {},
     "output_type": "execute_result"
    }
   ],
   "source": [
    "p_matrix_adjusted"
   ]
  },
  {
   "cell_type": "markdown",
   "id": "751c194a",
   "metadata": {},
   "source": [
    "<hr style=\"width:100%;text-align:left;margin-left:0\">\n",
    "<hr style=\"width:100%;text-align:left;margin-left:0\">\n",
    "\n",
    "<b>ANALYSIS 4:  Factor Analysis -- Determining which scales are better predictors \n",
    "    "
   ]
  },
  {
   "cell_type": "code",
   "execution_count": 171,
   "id": "9b7ef177",
   "metadata": {},
   "outputs": [],
   "source": [
    "fa_array = []\n",
    "\n",
    "for ix in range(len(mrq_array_pc)):\n",
    "    fa_array.append(np.append(mrq_array_pc[ix],nasa_r_array_pc[ix]))\n",
    "\n",
    "fa_array=np.array(fa_array,dtype='float')"
   ]
  },
  {
   "cell_type": "code",
   "execution_count": null,
   "id": "b46a2ddd",
   "metadata": {},
   "outputs": [],
   "source": []
  },
  {
   "cell_type": "code",
   "execution_count": 172,
   "id": "8ea7f849",
   "metadata": {},
   "outputs": [
    {
     "data": {
      "text/plain": [
       "(1467.482065401292, 5.2811763780118026e-170)"
      ]
     },
     "execution_count": 172,
     "metadata": {},
     "output_type": "execute_result"
    }
   ],
   "source": [
    "chi_square_value,p_value=calculate_bartlett_sphericity(fa_array)\n",
    "chi_square_value, p_value"
   ]
  },
  {
   "cell_type": "code",
   "execution_count": 173,
   "id": "4a9b4725",
   "metadata": {},
   "outputs": [],
   "source": [
    "kmo_all,kmo_model = calculate_kmo(fa_array)"
   ]
  },
  {
   "cell_type": "code",
   "execution_count": 174,
   "id": "d68e3533",
   "metadata": {},
   "outputs": [
    {
     "data": {
      "text/plain": [
       "(array([0.84168965, 0.79622397, 0.76575781, 0.78666976, 0.79286171,\n",
       "        0.67799805, 0.69391364, 0.78857573, 0.84277569, 0.79744973,\n",
       "        0.81891489, 0.84968866, 0.87800312, 0.64573164, 0.7539244 ,\n",
       "        0.70025401, 0.84728071, 0.74901987, 0.76839128, 0.80208523,\n",
       "        0.4639596 , 0.69872339, 0.71837445]),\n",
       " 0.7717090864489947)"
      ]
     },
     "execution_count": 174,
     "metadata": {},
     "output_type": "execute_result"
    }
   ],
   "source": [
    "kmo_all,kmo_model"
   ]
  },
  {
   "cell_type": "code",
   "execution_count": 175,
   "id": "9d41f826",
   "metadata": {},
   "outputs": [
    {
     "data": {
      "text/plain": [
       "[<matplotlib.lines.Line2D at 0x1b669aabd90>]"
      ]
     },
     "execution_count": 175,
     "metadata": {},
     "output_type": "execute_result"
    },
    {
     "data": {
      "image/png": "[encoded data removed]",
      "text/plain": [
       "<Figure size 432x288 with 1 Axes>"
      ]
     },
     "metadata": {
      "needs_background": "light"
     },
     "output_type": "display_data"
    }
   ],
   "source": [
    "# Create factor analysis object and perform factor analysis\n",
    "fa = FactorAnalyzer()\n",
    "#fa.analyze(fa_array, 25, rotation=None)\n",
    "fa.fit(fa_array, 23)\n",
    "eigen_values, vectors = fa.get_eigenvalues()\n",
    "# Check Eigenvalues\n",
    "ev, v = fa.get_eigenvalues()\n",
    "ev\n",
    "plt.plot(ev)"
   ]
  },
  {
   "cell_type": "code",
   "execution_count": 176,
   "id": "2f50c24b",
   "metadata": {},
   "outputs": [
    {
     "data": {
      "text/plain": [
       "array([5.11220199, 2.64478546, 2.17920889, 1.60579301, 1.24941527,\n",
       "       1.16193726, 1.0959769 , 0.89695506, 0.78371268, 0.70090868,\n",
       "       0.66096393, 0.60587251, 0.5755301 , 0.53810231, 0.47943532,\n",
       "       0.45645873, 0.41962643, 0.37093048, 0.36591199, 0.32570352,\n",
       "       0.2959113 , 0.26145046, 0.21320772])"
      ]
     },
     "execution_count": 176,
     "metadata": {},
     "output_type": "execute_result"
    }
   ],
   "source": [
    "ev\n"
   ]
  },
  {
   "cell_type": "code",
   "execution_count": 177,
   "id": "486439e4",
   "metadata": {},
   "outputs": [],
   "source": [
    "fa = FactorAnalyzer()\n",
    "fa.fit(fa_array,7)\n",
    "x_f=fa.loadings_\n"
   ]
  },
  {
   "cell_type": "code",
   "execution_count": 178,
   "id": "5c9de1f0",
   "metadata": {},
   "outputs": [
    {
     "data": {
      "text/plain": [
       "<AxesSubplot:>"
      ]
     },
     "execution_count": 178,
     "metadata": {},
     "output_type": "execute_result"
    },
    {
     "data": {
      "image/png": "[encoded data removed]",
      "text/plain": [
       "<Figure size 432x288 with 2 Axes>"
      ]
     },
     "metadata": {
      "needs_background": "light"
     },
     "output_type": "display_data"
    }
   ],
   "source": [
    "sns.heatmap(x_f)\n"
   ]
  },
  {
   "cell_type": "code",
   "execution_count": 179,
   "id": "8e040dd6",
   "metadata": {},
   "outputs": [
    {
     "data": {
      "text/plain": [
       "(array([3.06588058, 2.95002313, 2.48634618]),\n",
       " array([0.13329916, 0.12826188, 0.10810201]),\n",
       " array([0.13329916, 0.26156103, 0.36966304]))"
      ]
     },
     "execution_count": 179,
     "metadata": {},
     "output_type": "execute_result"
    }
   ],
   "source": [
    "# Get variance of each factors\n",
    "fa.get_factor_variance()\n",
    "# Exploratory Factor Analysis To find how many factors are present in the data\n",
    "# Finding how many factors are present in the data\n",
    "\n",
    "\n",
    "# fa = FactorAnalyzer()\n",
    "# Factors=fa.fit(fa_array)\n",
    " \n",
    "# # Plotting the scree-plot\n",
    "# EigenValues=Factors.get_eigenvalues()\n",
    "\n",
    "# plt.plot(EigenValues)"
   ]
  },
  {
   "cell_type": "markdown",
   "id": "1c6d677d",
   "metadata": {},
   "source": [
    "-------------------------------------------------------------------------------------------------------------------------------\n",
    "\n",
    "<hr style=\"width:100%;text-align:left;margin-left:0\">\n",
    "<b>ANALYSIS 5: Performance vs MWL"
   ]
  },
  {
   "cell_type": "code",
   "execution_count": 180,
   "id": "02d12755",
   "metadata": {},
   "outputs": [],
   "source": [
    "mrq_t_pq = mrq_1_array + mrq_2_array"
   ]
  },
  {
   "cell_type": "code",
   "execution_count": 181,
   "id": "32a499c6",
   "metadata": {},
   "outputs": [
    {
     "data": {
      "text/html": [
       "<div>\n",
       "<style scoped>\n",
       "    .dataframe tbody tr th:only-of-type {\n",
       "        vertical-align: middle;\n",
       "    }\n",
       "\n",
       "    .dataframe tbody tr th {\n",
       "        vertical-align: top;\n",
       "    }\n",
       "\n",
       "    .dataframe thead th {\n",
       "        text-align: right;\n",
       "    }\n",
       "</style>\n",
       "<table border=\"1\" class=\"dataframe\">\n",
       "  <thead>\n",
       "    <tr style=\"text-align: right;\">\n",
       "      <th></th>\n",
       "      <th>0</th>\n",
       "      <th>1</th>\n",
       "      <th>2</th>\n",
       "      <th>3</th>\n",
       "      <th>4</th>\n",
       "      <th>5</th>\n",
       "      <th>6</th>\n",
       "      <th>7</th>\n",
       "      <th>8</th>\n",
       "      <th>9</th>\n",
       "      <th>10</th>\n",
       "      <th>11</th>\n",
       "      <th>12</th>\n",
       "      <th>13</th>\n",
       "      <th>14</th>\n",
       "      <th>15</th>\n",
       "      <th>16</th>\n",
       "    </tr>\n",
       "  </thead>\n",
       "  <tbody>\n",
       "    <tr>\n",
       "      <th>0</th>\n",
       "      <td>0</td>\n",
       "      <td>4</td>\n",
       "      <td>0</td>\n",
       "      <td>0</td>\n",
       "      <td>4</td>\n",
       "      <td>4</td>\n",
       "      <td>3</td>\n",
       "      <td>3</td>\n",
       "      <td>2</td>\n",
       "      <td>2</td>\n",
       "      <td>2</td>\n",
       "      <td>1</td>\n",
       "      <td>0</td>\n",
       "      <td>2</td>\n",
       "      <td>1</td>\n",
       "      <td>2</td>\n",
       "      <td>0</td>\n",
       "    </tr>\n",
       "    <tr>\n",
       "      <th>1</th>\n",
       "      <td>2</td>\n",
       "      <td>4</td>\n",
       "      <td>0</td>\n",
       "      <td>0</td>\n",
       "      <td>4</td>\n",
       "      <td>4</td>\n",
       "      <td>3</td>\n",
       "      <td>3</td>\n",
       "      <td>3</td>\n",
       "      <td>2</td>\n",
       "      <td>2</td>\n",
       "      <td>0</td>\n",
       "      <td>3</td>\n",
       "      <td>4</td>\n",
       "      <td>3</td>\n",
       "      <td>2</td>\n",
       "      <td>0</td>\n",
       "    </tr>\n",
       "    <tr>\n",
       "      <th>2</th>\n",
       "      <td>0</td>\n",
       "      <td>3</td>\n",
       "      <td>0</td>\n",
       "      <td>0</td>\n",
       "      <td>4</td>\n",
       "      <td>1</td>\n",
       "      <td>3</td>\n",
       "      <td>0</td>\n",
       "      <td>0</td>\n",
       "      <td>4</td>\n",
       "      <td>0</td>\n",
       "      <td>0</td>\n",
       "      <td>0</td>\n",
       "      <td>4</td>\n",
       "      <td>3</td>\n",
       "      <td>3</td>\n",
       "      <td>0</td>\n",
       "    </tr>\n",
       "    <tr>\n",
       "      <th>3</th>\n",
       "      <td>2</td>\n",
       "      <td>2</td>\n",
       "      <td>0</td>\n",
       "      <td>0</td>\n",
       "      <td>0</td>\n",
       "      <td>4</td>\n",
       "      <td>4</td>\n",
       "      <td>2</td>\n",
       "      <td>2</td>\n",
       "      <td>2</td>\n",
       "      <td>2</td>\n",
       "      <td>0</td>\n",
       "      <td>0</td>\n",
       "      <td>3</td>\n",
       "      <td>2</td>\n",
       "      <td>4</td>\n",
       "      <td>0</td>\n",
       "    </tr>\n",
       "    <tr>\n",
       "      <th>4</th>\n",
       "      <td>4</td>\n",
       "      <td>1</td>\n",
       "      <td>1</td>\n",
       "      <td>1</td>\n",
       "      <td>4</td>\n",
       "      <td>4</td>\n",
       "      <td>4</td>\n",
       "      <td>4</td>\n",
       "      <td>4</td>\n",
       "      <td>4</td>\n",
       "      <td>4</td>\n",
       "      <td>4</td>\n",
       "      <td>1</td>\n",
       "      <td>4</td>\n",
       "      <td>4</td>\n",
       "      <td>4</td>\n",
       "      <td>1</td>\n",
       "    </tr>\n",
       "    <tr>\n",
       "      <th>...</th>\n",
       "      <td>...</td>\n",
       "      <td>...</td>\n",
       "      <td>...</td>\n",
       "      <td>...</td>\n",
       "      <td>...</td>\n",
       "      <td>...</td>\n",
       "      <td>...</td>\n",
       "      <td>...</td>\n",
       "      <td>...</td>\n",
       "      <td>...</td>\n",
       "      <td>...</td>\n",
       "      <td>...</td>\n",
       "      <td>...</td>\n",
       "      <td>...</td>\n",
       "      <td>...</td>\n",
       "      <td>...</td>\n",
       "      <td>...</td>\n",
       "    </tr>\n",
       "    <tr>\n",
       "      <th>191</th>\n",
       "      <td>0</td>\n",
       "      <td>0</td>\n",
       "      <td>0</td>\n",
       "      <td>2</td>\n",
       "      <td>4</td>\n",
       "      <td>4</td>\n",
       "      <td>4</td>\n",
       "      <td>2</td>\n",
       "      <td>2</td>\n",
       "      <td>4</td>\n",
       "      <td>4</td>\n",
       "      <td>0</td>\n",
       "      <td>0</td>\n",
       "      <td>4</td>\n",
       "      <td>0</td>\n",
       "      <td>4</td>\n",
       "      <td>0</td>\n",
       "    </tr>\n",
       "    <tr>\n",
       "      <th>192</th>\n",
       "      <td>0</td>\n",
       "      <td>0</td>\n",
       "      <td>0</td>\n",
       "      <td>0</td>\n",
       "      <td>1</td>\n",
       "      <td>2</td>\n",
       "      <td>2</td>\n",
       "      <td>0</td>\n",
       "      <td>0</td>\n",
       "      <td>1</td>\n",
       "      <td>0</td>\n",
       "      <td>0</td>\n",
       "      <td>0</td>\n",
       "      <td>3</td>\n",
       "      <td>0</td>\n",
       "      <td>3</td>\n",
       "      <td>0</td>\n",
       "    </tr>\n",
       "    <tr>\n",
       "      <th>193</th>\n",
       "      <td>0</td>\n",
       "      <td>1</td>\n",
       "      <td>0</td>\n",
       "      <td>0</td>\n",
       "      <td>2</td>\n",
       "      <td>1</td>\n",
       "      <td>2</td>\n",
       "      <td>0</td>\n",
       "      <td>0</td>\n",
       "      <td>0</td>\n",
       "      <td>1</td>\n",
       "      <td>0</td>\n",
       "      <td>0</td>\n",
       "      <td>1</td>\n",
       "      <td>1</td>\n",
       "      <td>2</td>\n",
       "      <td>0</td>\n",
       "    </tr>\n",
       "    <tr>\n",
       "      <th>194</th>\n",
       "      <td>0</td>\n",
       "      <td>0</td>\n",
       "      <td>0</td>\n",
       "      <td>0</td>\n",
       "      <td>4</td>\n",
       "      <td>1</td>\n",
       "      <td>3</td>\n",
       "      <td>2</td>\n",
       "      <td>3</td>\n",
       "      <td>1</td>\n",
       "      <td>4</td>\n",
       "      <td>0</td>\n",
       "      <td>0</td>\n",
       "      <td>4</td>\n",
       "      <td>4</td>\n",
       "      <td>3</td>\n",
       "      <td>0</td>\n",
       "    </tr>\n",
       "    <tr>\n",
       "      <th>195</th>\n",
       "      <td>0</td>\n",
       "      <td>3</td>\n",
       "      <td>0</td>\n",
       "      <td>0</td>\n",
       "      <td>2</td>\n",
       "      <td>3</td>\n",
       "      <td>3</td>\n",
       "      <td>1</td>\n",
       "      <td>0</td>\n",
       "      <td>2</td>\n",
       "      <td>3</td>\n",
       "      <td>2</td>\n",
       "      <td>3</td>\n",
       "      <td>2</td>\n",
       "      <td>2</td>\n",
       "      <td>3</td>\n",
       "      <td>0</td>\n",
       "    </tr>\n",
       "  </tbody>\n",
       "</table>\n",
       "<p>196 rows × 17 columns</p>\n",
       "</div>"
      ],
      "text/plain": [
       "     0   1   2   3   4   5   6   7   8   9   10  11  12  13  14  15  16\n",
       "0     0   4   0   0   4   4   3   3   2   2   2   1   0   2   1   2   0\n",
       "1     2   4   0   0   4   4   3   3   3   2   2   0   3   4   3   2   0\n",
       "2     0   3   0   0   4   1   3   0   0   4   0   0   0   4   3   3   0\n",
       "3     2   2   0   0   0   4   4   2   2   2   2   0   0   3   2   4   0\n",
       "4     4   1   1   1   4   4   4   4   4   4   4   4   1   4   4   4   1\n",
       "..   ..  ..  ..  ..  ..  ..  ..  ..  ..  ..  ..  ..  ..  ..  ..  ..  ..\n",
       "191   0   0   0   2   4   4   4   2   2   4   4   0   0   4   0   4   0\n",
       "192   0   0   0   0   1   2   2   0   0   1   0   0   0   3   0   3   0\n",
       "193   0   1   0   0   2   1   2   0   0   0   1   0   0   1   1   2   0\n",
       "194   0   0   0   0   4   1   3   2   3   1   4   0   0   4   4   3   0\n",
       "195   0   3   0   0   2   3   3   1   0   2   3   2   3   2   2   3   0\n",
       "\n",
       "[196 rows x 17 columns]"
      ]
     },
     "execution_count": 181,
     "metadata": {},
     "output_type": "execute_result"
    }
   ],
   "source": [
    "mrq_t_pq_df=pd.DataFrame(mrq_t_pq)\n",
    "mrq_t_pq_df"
   ]
  },
  {
   "cell_type": "code",
   "execution_count": 182,
   "id": "3cda780f",
   "metadata": {},
   "outputs": [],
   "source": [
    "# mrq_t_pq_df[1]"
   ]
  },
  {
   "cell_type": "code",
   "execution_count": 183,
   "id": "25e2ef49",
   "metadata": {},
   "outputs": [],
   "source": [
    "# stats.f_oneway(mrq_t_pq_df[0],mrq_t_pq_df[1],mrq_t_pq_df[2],mrq_t_pq_df[3],mrq_t_pq_df[4],mrq_t_pq_df[5],mrq_t_pq_df[6],mrq_t_pq_df[7],mrq_t_pq_df[8],mrq_t_pq_df[9],mrq_t_pq_df[10],mrq_t_pq_df[11],mrq_t_pq_df[12],mrq_t_pq_df[13],mrq_t_pq_df[14],mrq_t_pq_df[15],mrq_t_pq_df[1],mrq_t_pq_df[0],)"
   ]
  },
  {
   "cell_type": "code",
   "execution_count": 184,
   "id": "2c1555ae",
   "metadata": {},
   "outputs": [],
   "source": [
    "# yt=mrq_t_pq_df.transpose()\n",
    "# groups=list(range(1, 17))\n",
    "\n",
    "# yt,\n",
    "# groups"
   ]
  },
  {
   "cell_type": "code",
   "execution_count": 185,
   "id": "4919ff81",
   "metadata": {},
   "outputs": [],
   "source": [
    "\n",
    "# tukey = pairwise_tukeyhsd(endog=yt,\n",
    "#                           groups=groups,\n",
    "#                           alpha=0.05)\n",
    "# print(tuc)"
   ]
  },
  {
   "cell_type": "code",
   "execution_count": 186,
   "id": "e1041a99",
   "metadata": {},
   "outputs": [],
   "source": [
    "nasa_r_t_pq = nasa_1_r_array+nasa_2_r_array"
   ]
  },
  {
   "cell_type": "code",
   "execution_count": 187,
   "id": "53b3894b",
   "metadata": {},
   "outputs": [
    {
     "data": {
      "text/plain": [
       "<AxesSubplot:>"
      ]
     },
     "execution_count": 187,
     "metadata": {},
     "output_type": "execute_result"
    },
    {
     "data": {
      "image/png": "[encoded data removed]",
      "text/plain": [
       "<Figure size 432x288 with 1 Axes>"
      ]
     },
     "metadata": {
      "needs_background": "light"
     },
     "output_type": "display_data"
    }
   ],
   "source": [
    "nasa_r_t_pq_df=pd.DataFrame(nasa_r_t_pq)\n",
    "nasa_r_t_pq_df.mean().plot.bar()"
   ]
  },
  {
   "cell_type": "code",
   "execution_count": 188,
   "id": "94d721a4",
   "metadata": {},
   "outputs": [],
   "source": [
    "throughput_t_pq = throughput1_array+throughput2_array"
   ]
  },
  {
   "cell_type": "code",
   "execution_count": 189,
   "id": "6fad01bf",
   "metadata": {},
   "outputs": [
    {
     "name": "stdout",
     "output_type": "stream",
     "text": [
      "KACJ\n",
      "KACJ\n",
      "KACJ\n",
      "KACJ\n",
      "KACJ\n",
      "KACJ\n",
      "KACJ\n"
     ]
    }
   ],
   "source": [
    "to_delete_indices=[]\n",
    "for i in range(len(throughput_t_pq)):\n",
    "    if(throughput_t_pq[i]==0 or len(nasa_r_t_pq[i])==0 or len(mrq_t_pq[i])==0 ):\n",
    "        to_delete_indices.append(i)\n",
    "\n",
    "\n",
    "\n",
    "\n",
    "cleaned_nasa_r_pq=[]\n",
    "cleaned_mrq_pq=[]\n",
    "cleaned_throughput_pq =[]\n",
    "\n",
    "for t in range(len(mrq_t_pq)):\n",
    "    if t in  to_delete_indices:\n",
    "        print('KACJ')\n",
    "    else:\n",
    "        cleaned_nasa_r_pq.append(nasa_r_t_pq[t])\n",
    "        cleaned_mrq_pq.append(mrq_t_pq[t])\n",
    "        cleaned_throughput_pq.append(throughput_t_pq[t])"
   ]
  },
  {
   "cell_type": "code",
   "execution_count": 190,
   "id": "2e96ba34",
   "metadata": {},
   "outputs": [],
   "source": [
    "nasa_r_t_pq=np.array(cleaned_nasa_r_pq)\n",
    "nasa_r_t_pq_avg = nasa_r_t_pq.mean(axis=1)\n",
    "mrq_t_pq=np.array(cleaned_mrq_pq)\n",
    "mrq_t_pq_avg = mrq_t_pq.mean(axis=1)\n",
    "throughput_t_pq=np.array( cleaned_throughput_pq)"
   ]
  },
  {
   "cell_type": "code",
   "execution_count": 191,
   "id": "ff70f627",
   "metadata": {},
   "outputs": [
    {
     "data": {
      "text/plain": [
       "array([ 15,  35,  40,  70,  10,  20,  25,  95,  35,  20,  40,  15,  45,\n",
       "        15,  75,  90,   5,  60,  10,   5,  80,  20,  70,  50,  55,   5,\n",
       "        25,  90,  55,  60,   5,  10,  35,   5,  55,  45,  65,  25,  15,\n",
       "        25,  20,  15,  75,  45,  10,  20,  30,  85,  30,  40,  10,  30,\n",
       "        55,  90,  55,  65,  70,  35,   5,  10,  30,  95,  15,  80,  35,\n",
       "        25,   5,  75,  10, 100,  15,  95,   5,  95,  85,   5,  65,   5,\n",
       "        65,  35,  10,  40,  25,  25,  10,  45,  15,  65,  35,  15,  65,\n",
       "        15,  15,  50,  20,  15,  55,  85,  70,  85,   5,  20,  95,  20,\n",
       "        15,  55,  15,  25,  80,  65,  15,   5,  90,   5,   5,  20,  15,\n",
       "        65, 100,  25,  30,  90,  20,  80,  20,  95,   5,  40,  35,  25,\n",
       "        15,  15,  15,  15,  70,  20,   5,  75,  30,  90,  20,  90,  10,\n",
       "        35,  65,  10,  70,  70,  70,   5,   5,  25,   5,  95,   5,  70,\n",
       "        45,  35,  10,  85,  25,   5,  20,  90,   5,  95, 100,  85,  10,\n",
       "        50,   5,  10,  35,  85,  25,  10,  25,  10,  15,  15,  15,  75,\n",
       "        55,  10,  10,  15,  50,  15,  45])"
      ]
     },
     "execution_count": 191,
     "metadata": {},
     "output_type": "execute_result"
    }
   ],
   "source": [
    "nasa_r_t_pq[:,3]"
   ]
  },
  {
   "cell_type": "markdown",
   "id": "8eb81374",
   "metadata": {},
   "source": [
    "<b> Correlation of performance and mrq-avg"
   ]
  },
  {
   "cell_type": "code",
   "execution_count": 192,
   "id": "f0bc43ad",
   "metadata": {},
   "outputs": [
    {
     "name": "stdout",
     "output_type": "stream",
     "text": [
      "MRQ -- C: -0.17669668207926334 P-value: 0.015006107825795\n"
     ]
    },
    {
     "data": {
      "text/plain": [
       "<AxesSubplot:>"
      ]
     },
     "execution_count": 192,
     "metadata": {},
     "output_type": "execute_result"
    },
    {
     "data": {
      "image/png": "[encoded data removed]",
      "text/plain": [
       "<Figure size 432x288 with 1 Axes>"
      ]
     },
     "metadata": {
      "needs_background": "light"
     },
     "output_type": "display_data"
    }
   ],
   "source": [
    "cmrq,pmrq = stats.pearsonr(mrq_t_pq_avg, throughput_t_pq)\n",
    "print(\"MRQ -- C: \"+str(cmrq)+\" P-value: \"+str(pmrq))\n",
    "sns.regplot(x=mrq_t_pq_avg, y=throughput_t_pq)"
   ]
  },
  {
   "cell_type": "markdown",
   "id": "b7df84c4",
   "metadata": {},
   "source": [
    "<b> Correlation of performance and nasa-tlx-avg"
   ]
  },
  {
   "cell_type": "code",
   "execution_count": 193,
   "id": "a878970a",
   "metadata": {},
   "outputs": [
    {
     "name": "stdout",
     "output_type": "stream",
     "text": [
      "NASA-TLX -- C: -0.23472408186641353 P-value: 0.001149769135597594\n"
     ]
    },
    {
     "data": {
      "text/plain": [
       "<AxesSubplot:>"
      ]
     },
     "execution_count": 193,
     "metadata": {},
     "output_type": "execute_result"
    },
    {
     "data": {
      "image/png": "[encoded data removed]",
      "text/plain": [
       "<Figure size 432x288 with 1 Axes>"
      ]
     },
     "metadata": {
      "needs_background": "light"
     },
     "output_type": "display_data"
    }
   ],
   "source": [
    "cnasa,pnasa = stats.pearsonr(nasa_r_t_pq_avg, throughput_t_pq)\n",
    "print(\"NASA-TLX -- C: \"+str(cnasa)+\" P-value: \"+str(pnasa))\n",
    "sns.regplot(x=nasa_r_t_pq_avg, y=throughput_t_pq)"
   ]
  },
  {
   "cell_type": "code",
   "execution_count": 194,
   "id": "e57a2849",
   "metadata": {},
   "outputs": [
    {
     "data": {
      "text/plain": [
       "(array([ True,  True]),\n",
       " array([0.03001222, 0.00229954]),\n",
       " 0.025320565519103666,\n",
       " 0.025)"
      ]
     },
     "execution_count": 194,
     "metadata": {},
     "output_type": "execute_result"
    }
   ],
   "source": [
    "multipletests([pmrq,pnasa], alpha=0.05, method='bonferroni')"
   ]
  },
  {
   "cell_type": "markdown",
   "id": "8bd151c9",
   "metadata": {},
   "source": [
    "-------------------------------------------------------"
   ]
  },
  {
   "cell_type": "code",
   "execution_count": 195,
   "id": "e558a5b3",
   "metadata": {},
   "outputs": [
    {
     "data": {
      "text/plain": [
       "array([[ 0.,  4.,  0., ..., 15., 25., 10.],\n",
       "       [ 2.,  4.,  0., ..., 35., 85., 75.],\n",
       "       [ 0.,  3.,  0., ..., 40., 85., 25.],\n",
       "       ...,\n",
       "       [ 0.,  1.,  0., ..., 50., 30., 20.],\n",
       "       [ 0.,  0.,  0., ..., 15., 20., 10.],\n",
       "       [ 0.,  3.,  0., ..., 45., 85., 70.]])"
      ]
     },
     "execution_count": 195,
     "metadata": {},
     "output_type": "execute_result"
    }
   ],
   "source": [
    "\n",
    "fa_array\n"
   ]
  },
  {
   "cell_type": "code",
   "execution_count": 196,
   "id": "071a5c34",
   "metadata": {},
   "outputs": [],
   "source": [
    "mc_df=pd.DataFrame(fa_array)"
   ]
  },
  {
   "cell_type": "code",
   "execution_count": 197,
   "id": "70462ecc",
   "metadata": {},
   "outputs": [],
   "source": [
    "vif_data = pd.DataFrame()\n",
    "# vif_data[\"feature\"] = mc_df.columns"
   ]
  },
  {
   "cell_type": "code",
   "execution_count": 198,
   "id": "23737e67",
   "metadata": {},
   "outputs": [
    {
     "data": {
      "text/html": [
       "<div>\n",
       "<style scoped>\n",
       "    .dataframe tbody tr th:only-of-type {\n",
       "        vertical-align: middle;\n",
       "    }\n",
       "\n",
       "    .dataframe tbody tr th {\n",
       "        vertical-align: top;\n",
       "    }\n",
       "\n",
       "    .dataframe thead th {\n",
       "        text-align: right;\n",
       "    }\n",
       "</style>\n",
       "<table border=\"1\" class=\"dataframe\">\n",
       "  <thead>\n",
       "    <tr style=\"text-align: right;\">\n",
       "      <th></th>\n",
       "      <th>VIF_nasa</th>\n",
       "    </tr>\n",
       "  </thead>\n",
       "  <tbody>\n",
       "    <tr>\n",
       "      <th>0</th>\n",
       "      <td>17.965893</td>\n",
       "    </tr>\n",
       "    <tr>\n",
       "      <th>1</th>\n",
       "      <td>4.385208</td>\n",
       "    </tr>\n",
       "    <tr>\n",
       "      <th>2</th>\n",
       "      <td>8.981509</td>\n",
       "    </tr>\n",
       "    <tr>\n",
       "      <th>3</th>\n",
       "      <td>3.549584</td>\n",
       "    </tr>\n",
       "    <tr>\n",
       "      <th>4</th>\n",
       "      <td>19.886697</td>\n",
       "    </tr>\n",
       "    <tr>\n",
       "      <th>5</th>\n",
       "      <td>5.988770</td>\n",
       "    </tr>\n",
       "  </tbody>\n",
       "</table>\n",
       "</div>"
      ],
      "text/plain": [
       "    VIF_nasa\n",
       "0  17.965893\n",
       "1   4.385208\n",
       "2   8.981509\n",
       "3   3.549584\n",
       "4  19.886697\n",
       "5   5.988770"
      ]
     },
     "execution_count": 198,
     "metadata": {},
     "output_type": "execute_result"
    }
   ],
   "source": [
    "# calculating VIF for each feature\n",
    "vif_data[\"VIF_nasa\"] = [variance_inflation_factor(mc_df.values, i+17)\n",
    "                          for i in range(6)]\n",
    "  \n",
    "vif_data"
   ]
  },
  {
   "cell_type": "code",
   "execution_count": null,
   "id": "b89d4cc3",
   "metadata": {},
   "outputs": [],
   "source": []
  },
  {
   "cell_type": "code",
   "execution_count": 199,
   "id": "3f0a1dc4",
   "metadata": {},
   "outputs": [
    {
     "data": {
      "text/html": [
       "<div>\n",
       "<style scoped>\n",
       "    .dataframe tbody tr th:only-of-type {\n",
       "        vertical-align: middle;\n",
       "    }\n",
       "\n",
       "    .dataframe tbody tr th {\n",
       "        vertical-align: top;\n",
       "    }\n",
       "\n",
       "    .dataframe thead th {\n",
       "        text-align: right;\n",
       "    }\n",
       "</style>\n",
       "<table border=\"1\" class=\"dataframe\">\n",
       "  <thead>\n",
       "    <tr style=\"text-align: right;\">\n",
       "      <th></th>\n",
       "      <th>VIF_nasa</th>\n",
       "    </tr>\n",
       "  </thead>\n",
       "  <tbody>\n",
       "    <tr>\n",
       "      <th>0</th>\n",
       "      <td>17.965893</td>\n",
       "    </tr>\n",
       "    <tr>\n",
       "      <th>1</th>\n",
       "      <td>4.385208</td>\n",
       "    </tr>\n",
       "    <tr>\n",
       "      <th>2</th>\n",
       "      <td>8.981509</td>\n",
       "    </tr>\n",
       "    <tr>\n",
       "      <th>3</th>\n",
       "      <td>3.549584</td>\n",
       "    </tr>\n",
       "    <tr>\n",
       "      <th>4</th>\n",
       "      <td>19.886697</td>\n",
       "    </tr>\n",
       "    <tr>\n",
       "      <th>5</th>\n",
       "      <td>5.988770</td>\n",
       "    </tr>\n",
       "  </tbody>\n",
       "</table>\n",
       "</div>"
      ],
      "text/plain": [
       "    VIF_nasa\n",
       "0  17.965893\n",
       "1   4.385208\n",
       "2   8.981509\n",
       "3   3.549584\n",
       "4  19.886697\n",
       "5   5.988770"
      ]
     },
     "execution_count": 199,
     "metadata": {},
     "output_type": "execute_result"
    }
   ],
   "source": [
    "vif_data_mrq = [variance_inflation_factor(mc_df.values, i)\n",
    "                          for i in range(17)]\n",
    "  \n",
    "vif_data"
   ]
  },
  {
   "cell_type": "code",
   "execution_count": 200,
   "id": "a4c7b188",
   "metadata": {},
   "outputs": [
    {
     "data": {
      "text/plain": [
       "(10.126276660629047,\n",
       " 0    4.99522\n",
       " dtype: float64)"
      ]
     },
     "execution_count": 200,
     "metadata": {},
     "output_type": "execute_result"
    }
   ],
   "source": [
    "vif_data[\"VIF_nasa\"].mean(), pd.DataFrame(vif_data_mrq).mean()"
   ]
  },
  {
   "cell_type": "code",
   "execution_count": 201,
   "id": "78347aa1",
   "metadata": {},
   "outputs": [],
   "source": [
    "vif_data_total = [variance_inflation_factor(mc_df.values, i)\n",
    "                          for i in range(23)]"
   ]
  },
  {
   "cell_type": "code",
   "execution_count": 202,
   "id": "4c53ce1d",
   "metadata": {},
   "outputs": [],
   "source": [
    "vt=pd.DataFrame(vif_data_total)"
   ]
  },
  {
   "cell_type": "code",
   "execution_count": 203,
   "id": "e4727ef5",
   "metadata": {},
   "outputs": [],
   "source": [
    "vt['rank']= vt[0].rank()"
   ]
  },
  {
   "cell_type": "code",
   "execution_count": 204,
   "id": "352ec573",
   "metadata": {},
   "outputs": [
    {
     "data": {
      "text/html": [
       "<div>\n",
       "<style scoped>\n",
       "    .dataframe tbody tr th:only-of-type {\n",
       "        vertical-align: middle;\n",
       "    }\n",
       "\n",
       "    .dataframe tbody tr th {\n",
       "        vertical-align: top;\n",
       "    }\n",
       "\n",
       "    .dataframe thead th {\n",
       "        text-align: right;\n",
       "    }\n",
       "</style>\n",
       "<table border=\"1\" class=\"dataframe\">\n",
       "  <thead>\n",
       "    <tr style=\"text-align: right;\">\n",
       "      <th></th>\n",
       "      <th>0</th>\n",
       "      <th>rank</th>\n",
       "    </tr>\n",
       "  </thead>\n",
       "  <tbody>\n",
       "    <tr>\n",
       "      <th>0</th>\n",
       "      <td>1.975128</td>\n",
       "      <td>1.0</td>\n",
       "    </tr>\n",
       "    <tr>\n",
       "      <th>1</th>\n",
       "      <td>2.689052</td>\n",
       "      <td>6.0</td>\n",
       "    </tr>\n",
       "    <tr>\n",
       "      <th>2</th>\n",
       "      <td>2.178112</td>\n",
       "      <td>4.0</td>\n",
       "    </tr>\n",
       "    <tr>\n",
       "      <th>3</th>\n",
       "      <td>2.870081</td>\n",
       "      <td>7.0</td>\n",
       "    </tr>\n",
       "    <tr>\n",
       "      <th>4</th>\n",
       "      <td>7.017099</td>\n",
       "      <td>16.0</td>\n",
       "    </tr>\n",
       "    <tr>\n",
       "      <th>5</th>\n",
       "      <td>7.832976</td>\n",
       "      <td>17.0</td>\n",
       "    </tr>\n",
       "    <tr>\n",
       "      <th>6</th>\n",
       "      <td>9.498268</td>\n",
       "      <td>20.0</td>\n",
       "    </tr>\n",
       "    <tr>\n",
       "      <th>7</th>\n",
       "      <td>5.072213</td>\n",
       "      <td>12.0</td>\n",
       "    </tr>\n",
       "    <tr>\n",
       "      <th>8</th>\n",
       "      <td>4.294049</td>\n",
       "      <td>10.0</td>\n",
       "    </tr>\n",
       "    <tr>\n",
       "      <th>9</th>\n",
       "      <td>5.316842</td>\n",
       "      <td>13.0</td>\n",
       "    </tr>\n",
       "    <tr>\n",
       "      <th>10</th>\n",
       "      <td>5.622044</td>\n",
       "      <td>14.0</td>\n",
       "    </tr>\n",
       "    <tr>\n",
       "      <th>11</th>\n",
       "      <td>2.499064</td>\n",
       "      <td>5.0</td>\n",
       "    </tr>\n",
       "    <tr>\n",
       "      <th>12</th>\n",
       "      <td>1.989936</td>\n",
       "      <td>2.0</td>\n",
       "    </tr>\n",
       "    <tr>\n",
       "      <th>13</th>\n",
       "      <td>12.357066</td>\n",
       "      <td>21.0</td>\n",
       "    </tr>\n",
       "    <tr>\n",
       "      <th>14</th>\n",
       "      <td>3.387335</td>\n",
       "      <td>8.0</td>\n",
       "    </tr>\n",
       "    <tr>\n",
       "      <th>15</th>\n",
       "      <td>8.258480</td>\n",
       "      <td>18.0</td>\n",
       "    </tr>\n",
       "    <tr>\n",
       "      <th>16</th>\n",
       "      <td>2.060993</td>\n",
       "      <td>3.0</td>\n",
       "    </tr>\n",
       "    <tr>\n",
       "      <th>17</th>\n",
       "      <td>17.965893</td>\n",
       "      <td>22.0</td>\n",
       "    </tr>\n",
       "    <tr>\n",
       "      <th>18</th>\n",
       "      <td>4.385208</td>\n",
       "      <td>11.0</td>\n",
       "    </tr>\n",
       "    <tr>\n",
       "      <th>19</th>\n",
       "      <td>8.981509</td>\n",
       "      <td>19.0</td>\n",
       "    </tr>\n",
       "    <tr>\n",
       "      <th>20</th>\n",
       "      <td>3.549584</td>\n",
       "      <td>9.0</td>\n",
       "    </tr>\n",
       "    <tr>\n",
       "      <th>21</th>\n",
       "      <td>19.886697</td>\n",
       "      <td>23.0</td>\n",
       "    </tr>\n",
       "    <tr>\n",
       "      <th>22</th>\n",
       "      <td>5.988770</td>\n",
       "      <td>15.0</td>\n",
       "    </tr>\n",
       "  </tbody>\n",
       "</table>\n",
       "</div>"
      ],
      "text/plain": [
       "            0  rank\n",
       "0    1.975128   1.0\n",
       "1    2.689052   6.0\n",
       "2    2.178112   4.0\n",
       "3    2.870081   7.0\n",
       "4    7.017099  16.0\n",
       "5    7.832976  17.0\n",
       "6    9.498268  20.0\n",
       "7    5.072213  12.0\n",
       "8    4.294049  10.0\n",
       "9    5.316842  13.0\n",
       "10   5.622044  14.0\n",
       "11   2.499064   5.0\n",
       "12   1.989936   2.0\n",
       "13  12.357066  21.0\n",
       "14   3.387335   8.0\n",
       "15   8.258480  18.0\n",
       "16   2.060993   3.0\n",
       "17  17.965893  22.0\n",
       "18   4.385208  11.0\n",
       "19   8.981509  19.0\n",
       "20   3.549584   9.0\n",
       "21  19.886697  23.0\n",
       "22   5.988770  15.0"
      ]
     },
     "execution_count": 204,
     "metadata": {},
     "output_type": "execute_result"
    }
   ],
   "source": [
    "vt"
   ]
  },
  {
   "cell_type": "code",
   "execution_count": 205,
   "id": "bf2ae2cf",
   "metadata": {},
   "outputs": [],
   "source": [
    "mrq_vif= mc_df.loc[:,0:16]"
   ]
  },
  {
   "cell_type": "code",
   "execution_count": 206,
   "id": "5abe459c",
   "metadata": {},
   "outputs": [],
   "source": [
    "nasa_vif= mc_df.loc[:,17:22]"
   ]
  },
  {
   "cell_type": "code",
   "execution_count": 207,
   "id": "a5fabe80",
   "metadata": {},
   "outputs": [
    {
     "data": {
      "text/html": [
       "<div>\n",
       "<style scoped>\n",
       "    .dataframe tbody tr th:only-of-type {\n",
       "        vertical-align: middle;\n",
       "    }\n",
       "\n",
       "    .dataframe tbody tr th {\n",
       "        vertical-align: top;\n",
       "    }\n",
       "\n",
       "    .dataframe thead th {\n",
       "        text-align: right;\n",
       "    }\n",
       "</style>\n",
       "<table border=\"1\" class=\"dataframe\">\n",
       "  <thead>\n",
       "    <tr style=\"text-align: right;\">\n",
       "      <th></th>\n",
       "      <th>0</th>\n",
       "      <th>1</th>\n",
       "      <th>2</th>\n",
       "      <th>3</th>\n",
       "      <th>4</th>\n",
       "      <th>5</th>\n",
       "      <th>6</th>\n",
       "      <th>7</th>\n",
       "      <th>8</th>\n",
       "      <th>9</th>\n",
       "      <th>10</th>\n",
       "      <th>11</th>\n",
       "      <th>12</th>\n",
       "      <th>13</th>\n",
       "      <th>14</th>\n",
       "      <th>15</th>\n",
       "      <th>16</th>\n",
       "    </tr>\n",
       "  </thead>\n",
       "  <tbody>\n",
       "    <tr>\n",
       "      <th>0</th>\n",
       "      <td>0.0</td>\n",
       "      <td>4.0</td>\n",
       "      <td>0.0</td>\n",
       "      <td>0.0</td>\n",
       "      <td>4.0</td>\n",
       "      <td>4.0</td>\n",
       "      <td>3.0</td>\n",
       "      <td>3.0</td>\n",
       "      <td>2.0</td>\n",
       "      <td>2.0</td>\n",
       "      <td>2.0</td>\n",
       "      <td>1.0</td>\n",
       "      <td>0.0</td>\n",
       "      <td>2.0</td>\n",
       "      <td>1.0</td>\n",
       "      <td>2.0</td>\n",
       "      <td>0.0</td>\n",
       "    </tr>\n",
       "    <tr>\n",
       "      <th>1</th>\n",
       "      <td>2.0</td>\n",
       "      <td>4.0</td>\n",
       "      <td>0.0</td>\n",
       "      <td>0.0</td>\n",
       "      <td>4.0</td>\n",
       "      <td>4.0</td>\n",
       "      <td>3.0</td>\n",
       "      <td>3.0</td>\n",
       "      <td>3.0</td>\n",
       "      <td>2.0</td>\n",
       "      <td>2.0</td>\n",
       "      <td>0.0</td>\n",
       "      <td>3.0</td>\n",
       "      <td>4.0</td>\n",
       "      <td>3.0</td>\n",
       "      <td>2.0</td>\n",
       "      <td>0.0</td>\n",
       "    </tr>\n",
       "    <tr>\n",
       "      <th>2</th>\n",
       "      <td>0.0</td>\n",
       "      <td>3.0</td>\n",
       "      <td>0.0</td>\n",
       "      <td>0.0</td>\n",
       "      <td>4.0</td>\n",
       "      <td>1.0</td>\n",
       "      <td>3.0</td>\n",
       "      <td>0.0</td>\n",
       "      <td>0.0</td>\n",
       "      <td>4.0</td>\n",
       "      <td>0.0</td>\n",
       "      <td>0.0</td>\n",
       "      <td>0.0</td>\n",
       "      <td>4.0</td>\n",
       "      <td>3.0</td>\n",
       "      <td>3.0</td>\n",
       "      <td>0.0</td>\n",
       "    </tr>\n",
       "    <tr>\n",
       "      <th>3</th>\n",
       "      <td>2.0</td>\n",
       "      <td>2.0</td>\n",
       "      <td>0.0</td>\n",
       "      <td>0.0</td>\n",
       "      <td>0.0</td>\n",
       "      <td>4.0</td>\n",
       "      <td>4.0</td>\n",
       "      <td>2.0</td>\n",
       "      <td>2.0</td>\n",
       "      <td>2.0</td>\n",
       "      <td>2.0</td>\n",
       "      <td>0.0</td>\n",
       "      <td>0.0</td>\n",
       "      <td>3.0</td>\n",
       "      <td>2.0</td>\n",
       "      <td>4.0</td>\n",
       "      <td>0.0</td>\n",
       "    </tr>\n",
       "    <tr>\n",
       "      <th>4</th>\n",
       "      <td>4.0</td>\n",
       "      <td>1.0</td>\n",
       "      <td>1.0</td>\n",
       "      <td>1.0</td>\n",
       "      <td>4.0</td>\n",
       "      <td>4.0</td>\n",
       "      <td>4.0</td>\n",
       "      <td>4.0</td>\n",
       "      <td>4.0</td>\n",
       "      <td>4.0</td>\n",
       "      <td>4.0</td>\n",
       "      <td>4.0</td>\n",
       "      <td>1.0</td>\n",
       "      <td>4.0</td>\n",
       "      <td>4.0</td>\n",
       "      <td>4.0</td>\n",
       "      <td>1.0</td>\n",
       "    </tr>\n",
       "    <tr>\n",
       "      <th>...</th>\n",
       "      <td>...</td>\n",
       "      <td>...</td>\n",
       "      <td>...</td>\n",
       "      <td>...</td>\n",
       "      <td>...</td>\n",
       "      <td>...</td>\n",
       "      <td>...</td>\n",
       "      <td>...</td>\n",
       "      <td>...</td>\n",
       "      <td>...</td>\n",
       "      <td>...</td>\n",
       "      <td>...</td>\n",
       "      <td>...</td>\n",
       "      <td>...</td>\n",
       "      <td>...</td>\n",
       "      <td>...</td>\n",
       "      <td>...</td>\n",
       "    </tr>\n",
       "    <tr>\n",
       "      <th>186</th>\n",
       "      <td>0.0</td>\n",
       "      <td>0.0</td>\n",
       "      <td>0.0</td>\n",
       "      <td>2.0</td>\n",
       "      <td>4.0</td>\n",
       "      <td>4.0</td>\n",
       "      <td>4.0</td>\n",
       "      <td>2.0</td>\n",
       "      <td>2.0</td>\n",
       "      <td>4.0</td>\n",
       "      <td>4.0</td>\n",
       "      <td>0.0</td>\n",
       "      <td>0.0</td>\n",
       "      <td>4.0</td>\n",
       "      <td>0.0</td>\n",
       "      <td>4.0</td>\n",
       "      <td>0.0</td>\n",
       "    </tr>\n",
       "    <tr>\n",
       "      <th>187</th>\n",
       "      <td>0.0</td>\n",
       "      <td>0.0</td>\n",
       "      <td>0.0</td>\n",
       "      <td>0.0</td>\n",
       "      <td>1.0</td>\n",
       "      <td>2.0</td>\n",
       "      <td>2.0</td>\n",
       "      <td>0.0</td>\n",
       "      <td>0.0</td>\n",
       "      <td>1.0</td>\n",
       "      <td>0.0</td>\n",
       "      <td>0.0</td>\n",
       "      <td>0.0</td>\n",
       "      <td>3.0</td>\n",
       "      <td>0.0</td>\n",
       "      <td>3.0</td>\n",
       "      <td>0.0</td>\n",
       "    </tr>\n",
       "    <tr>\n",
       "      <th>188</th>\n",
       "      <td>0.0</td>\n",
       "      <td>1.0</td>\n",
       "      <td>0.0</td>\n",
       "      <td>0.0</td>\n",
       "      <td>2.0</td>\n",
       "      <td>1.0</td>\n",
       "      <td>2.0</td>\n",
       "      <td>0.0</td>\n",
       "      <td>0.0</td>\n",
       "      <td>0.0</td>\n",
       "      <td>1.0</td>\n",
       "      <td>0.0</td>\n",
       "      <td>0.0</td>\n",
       "      <td>1.0</td>\n",
       "      <td>1.0</td>\n",
       "      <td>2.0</td>\n",
       "      <td>0.0</td>\n",
       "    </tr>\n",
       "    <tr>\n",
       "      <th>189</th>\n",
       "      <td>0.0</td>\n",
       "      <td>0.0</td>\n",
       "      <td>0.0</td>\n",
       "      <td>0.0</td>\n",
       "      <td>4.0</td>\n",
       "      <td>1.0</td>\n",
       "      <td>3.0</td>\n",
       "      <td>2.0</td>\n",
       "      <td>3.0</td>\n",
       "      <td>1.0</td>\n",
       "      <td>4.0</td>\n",
       "      <td>0.0</td>\n",
       "      <td>0.0</td>\n",
       "      <td>4.0</td>\n",
       "      <td>4.0</td>\n",
       "      <td>3.0</td>\n",
       "      <td>0.0</td>\n",
       "    </tr>\n",
       "    <tr>\n",
       "      <th>190</th>\n",
       "      <td>0.0</td>\n",
       "      <td>3.0</td>\n",
       "      <td>0.0</td>\n",
       "      <td>0.0</td>\n",
       "      <td>2.0</td>\n",
       "      <td>3.0</td>\n",
       "      <td>3.0</td>\n",
       "      <td>1.0</td>\n",
       "      <td>0.0</td>\n",
       "      <td>2.0</td>\n",
       "      <td>3.0</td>\n",
       "      <td>2.0</td>\n",
       "      <td>3.0</td>\n",
       "      <td>2.0</td>\n",
       "      <td>2.0</td>\n",
       "      <td>3.0</td>\n",
       "      <td>0.0</td>\n",
       "    </tr>\n",
       "  </tbody>\n",
       "</table>\n",
       "<p>191 rows × 17 columns</p>\n",
       "</div>"
      ],
      "text/plain": [
       "      0    1    2    3    4    5    6    7    8    9    10   11   12   13  \\\n",
       "0    0.0  4.0  0.0  0.0  4.0  4.0  3.0  3.0  2.0  2.0  2.0  1.0  0.0  2.0   \n",
       "1    2.0  4.0  0.0  0.0  4.0  4.0  3.0  3.0  3.0  2.0  2.0  0.0  3.0  4.0   \n",
       "2    0.0  3.0  0.0  0.0  4.0  1.0  3.0  0.0  0.0  4.0  0.0  0.0  0.0  4.0   \n",
       "3    2.0  2.0  0.0  0.0  0.0  4.0  4.0  2.0  2.0  2.0  2.0  0.0  0.0  3.0   \n",
       "4    4.0  1.0  1.0  1.0  4.0  4.0  4.0  4.0  4.0  4.0  4.0  4.0  1.0  4.0   \n",
       "..   ...  ...  ...  ...  ...  ...  ...  ...  ...  ...  ...  ...  ...  ...   \n",
       "186  0.0  0.0  0.0  2.0  4.0  4.0  4.0  2.0  2.0  4.0  4.0  0.0  0.0  4.0   \n",
       "187  0.0  0.0  0.0  0.0  1.0  2.0  2.0  0.0  0.0  1.0  0.0  0.0  0.0  3.0   \n",
       "188  0.0  1.0  0.0  0.0  2.0  1.0  2.0  0.0  0.0  0.0  1.0  0.0  0.0  1.0   \n",
       "189  0.0  0.0  0.0  0.0  4.0  1.0  3.0  2.0  3.0  1.0  4.0  0.0  0.0  4.0   \n",
       "190  0.0  3.0  0.0  0.0  2.0  3.0  3.0  1.0  0.0  2.0  3.0  2.0  3.0  2.0   \n",
       "\n",
       "      14   15   16  \n",
       "0    1.0  2.0  0.0  \n",
       "1    3.0  2.0  0.0  \n",
       "2    3.0  3.0  0.0  \n",
       "3    2.0  4.0  0.0  \n",
       "4    4.0  4.0  1.0  \n",
       "..   ...  ...  ...  \n",
       "186  0.0  4.0  0.0  \n",
       "187  0.0  3.0  0.0  \n",
       "188  1.0  2.0  0.0  \n",
       "189  4.0  3.0  0.0  \n",
       "190  2.0  3.0  0.0  \n",
       "\n",
       "[191 rows x 17 columns]"
      ]
     },
     "execution_count": 207,
     "metadata": {},
     "output_type": "execute_result"
    }
   ],
   "source": [
    "mrq_vif"
   ]
  },
  {
   "cell_type": "code",
   "execution_count": null,
   "id": "3cef0265",
   "metadata": {},
   "outputs": [],
   "source": []
  },
  {
   "cell_type": "code",
   "execution_count": 208,
   "id": "7682e255",
   "metadata": {},
   "outputs": [
    {
     "data": {
      "text/plain": [
       "([13.727435201139945,\n",
       "  3.298281228068739,\n",
       "  7.65702528866694,\n",
       "  3.1360081019349746,\n",
       "  17.3061870854178,\n",
       "  5.059846740970201],\n",
       " 0    8.364131\n",
       " dtype: float64)"
      ]
     },
     "execution_count": 208,
     "metadata": {},
     "output_type": "execute_result"
    }
   ],
   "source": [
    "vif___N= [variance_inflation_factor(nasa_vif.values, i)\n",
    "                          for i in range(6)]\n",
    "  \n",
    "vif___N, pd.DataFrame(vif___N).mean()"
   ]
  },
  {
   "cell_type": "code",
   "execution_count": 209,
   "id": "401700d7",
   "metadata": {},
   "outputs": [
    {
     "data": {
      "text/plain": [
       "([1.9115131576203428,\n",
       "  2.51495053849563,\n",
       "  2.1041699851972755,\n",
       "  2.77833201766213,\n",
       "  6.454569008374927,\n",
       "  7.13574091021062,\n",
       "  8.802050580948338,\n",
       "  5.021643236087588,\n",
       "  4.1737512924200155,\n",
       "  5.0573040968604,\n",
       "  5.256104885171261,\n",
       "  2.383886955791983,\n",
       "  1.889742010781468,\n",
       "  10.189253892226462,\n",
       "  3.203245417313392,\n",
       "  7.996071942784517,\n",
       "  1.987899399739259],\n",
       " 0    4.638837\n",
       " dtype: float64)"
      ]
     },
     "execution_count": 209,
     "metadata": {},
     "output_type": "execute_result"
    }
   ],
   "source": [
    "vif___M= [variance_inflation_factor(mrq_vif.values, i)\n",
    "                          for i in range(17)]\n",
    "  \n",
    "vif___M, pd.DataFrame(vif___M).mean()"
   ]
  },
  {
   "cell_type": "code",
   "execution_count": 210,
   "id": "c81929df",
   "metadata": {},
   "outputs": [
    {
     "data": {
      "text/plain": [
       "0      20.0\n",
       "1      95.0\n",
       "2      75.0\n",
       "3      80.0\n",
       "4      95.0\n",
       "       ... \n",
       "186    75.0\n",
       "187    25.0\n",
       "188    25.0\n",
       "189    75.0\n",
       "190    90.0\n",
       "Name: 17, Length: 191, dtype: float64"
      ]
     },
     "execution_count": 210,
     "metadata": {},
     "output_type": "execute_result"
    }
   ],
   "source": [
    "nasa_vif[17]"
   ]
  },
  {
   "cell_type": "code",
   "execution_count": 211,
   "id": "8e867ae6",
   "metadata": {},
   "outputs": [
    {
     "data": {
      "text/html": [
       "<div>\n",
       "<style scoped>\n",
       "    .dataframe tbody tr th:only-of-type {\n",
       "        vertical-align: middle;\n",
       "    }\n",
       "\n",
       "    .dataframe tbody tr th {\n",
       "        vertical-align: top;\n",
       "    }\n",
       "\n",
       "    .dataframe thead th {\n",
       "        text-align: right;\n",
       "    }\n",
       "</style>\n",
       "<table border=\"1\" class=\"dataframe\">\n",
       "  <thead>\n",
       "    <tr style=\"text-align: right;\">\n",
       "      <th></th>\n",
       "      <th>0</th>\n",
       "      <th>1</th>\n",
       "      <th>2</th>\n",
       "      <th>3</th>\n",
       "      <th>4</th>\n",
       "      <th>5</th>\n",
       "      <th>6</th>\n",
       "      <th>7</th>\n",
       "      <th>8</th>\n",
       "      <th>9</th>\n",
       "      <th>10</th>\n",
       "      <th>11</th>\n",
       "      <th>12</th>\n",
       "      <th>13</th>\n",
       "      <th>14</th>\n",
       "      <th>15</th>\n",
       "      <th>16</th>\n",
       "    </tr>\n",
       "  </thead>\n",
       "  <tbody>\n",
       "    <tr>\n",
       "      <th>0</th>\n",
       "      <td>0.0</td>\n",
       "      <td>4.0</td>\n",
       "      <td>0.0</td>\n",
       "      <td>0.0</td>\n",
       "      <td>4.0</td>\n",
       "      <td>4.0</td>\n",
       "      <td>3.0</td>\n",
       "      <td>3.0</td>\n",
       "      <td>2.0</td>\n",
       "      <td>2.0</td>\n",
       "      <td>2.0</td>\n",
       "      <td>1.0</td>\n",
       "      <td>0.0</td>\n",
       "      <td>2.0</td>\n",
       "      <td>1.0</td>\n",
       "      <td>2.0</td>\n",
       "      <td>0.0</td>\n",
       "    </tr>\n",
       "    <tr>\n",
       "      <th>1</th>\n",
       "      <td>2.0</td>\n",
       "      <td>4.0</td>\n",
       "      <td>0.0</td>\n",
       "      <td>0.0</td>\n",
       "      <td>4.0</td>\n",
       "      <td>4.0</td>\n",
       "      <td>3.0</td>\n",
       "      <td>3.0</td>\n",
       "      <td>3.0</td>\n",
       "      <td>2.0</td>\n",
       "      <td>2.0</td>\n",
       "      <td>0.0</td>\n",
       "      <td>3.0</td>\n",
       "      <td>4.0</td>\n",
       "      <td>3.0</td>\n",
       "      <td>2.0</td>\n",
       "      <td>0.0</td>\n",
       "    </tr>\n",
       "    <tr>\n",
       "      <th>2</th>\n",
       "      <td>0.0</td>\n",
       "      <td>3.0</td>\n",
       "      <td>0.0</td>\n",
       "      <td>0.0</td>\n",
       "      <td>4.0</td>\n",
       "      <td>1.0</td>\n",
       "      <td>3.0</td>\n",
       "      <td>0.0</td>\n",
       "      <td>0.0</td>\n",
       "      <td>4.0</td>\n",
       "      <td>0.0</td>\n",
       "      <td>0.0</td>\n",
       "      <td>0.0</td>\n",
       "      <td>4.0</td>\n",
       "      <td>3.0</td>\n",
       "      <td>3.0</td>\n",
       "      <td>0.0</td>\n",
       "    </tr>\n",
       "    <tr>\n",
       "      <th>3</th>\n",
       "      <td>2.0</td>\n",
       "      <td>2.0</td>\n",
       "      <td>0.0</td>\n",
       "      <td>0.0</td>\n",
       "      <td>0.0</td>\n",
       "      <td>4.0</td>\n",
       "      <td>4.0</td>\n",
       "      <td>2.0</td>\n",
       "      <td>2.0</td>\n",
       "      <td>2.0</td>\n",
       "      <td>2.0</td>\n",
       "      <td>0.0</td>\n",
       "      <td>0.0</td>\n",
       "      <td>3.0</td>\n",
       "      <td>2.0</td>\n",
       "      <td>4.0</td>\n",
       "      <td>0.0</td>\n",
       "    </tr>\n",
       "    <tr>\n",
       "      <th>4</th>\n",
       "      <td>4.0</td>\n",
       "      <td>1.0</td>\n",
       "      <td>1.0</td>\n",
       "      <td>1.0</td>\n",
       "      <td>4.0</td>\n",
       "      <td>4.0</td>\n",
       "      <td>4.0</td>\n",
       "      <td>4.0</td>\n",
       "      <td>4.0</td>\n",
       "      <td>4.0</td>\n",
       "      <td>4.0</td>\n",
       "      <td>4.0</td>\n",
       "      <td>1.0</td>\n",
       "      <td>4.0</td>\n",
       "      <td>4.0</td>\n",
       "      <td>4.0</td>\n",
       "      <td>1.0</td>\n",
       "    </tr>\n",
       "    <tr>\n",
       "      <th>...</th>\n",
       "      <td>...</td>\n",
       "      <td>...</td>\n",
       "      <td>...</td>\n",
       "      <td>...</td>\n",
       "      <td>...</td>\n",
       "      <td>...</td>\n",
       "      <td>...</td>\n",
       "      <td>...</td>\n",
       "      <td>...</td>\n",
       "      <td>...</td>\n",
       "      <td>...</td>\n",
       "      <td>...</td>\n",
       "      <td>...</td>\n",
       "      <td>...</td>\n",
       "      <td>...</td>\n",
       "      <td>...</td>\n",
       "      <td>...</td>\n",
       "    </tr>\n",
       "    <tr>\n",
       "      <th>186</th>\n",
       "      <td>0.0</td>\n",
       "      <td>0.0</td>\n",
       "      <td>0.0</td>\n",
       "      <td>2.0</td>\n",
       "      <td>4.0</td>\n",
       "      <td>4.0</td>\n",
       "      <td>4.0</td>\n",
       "      <td>2.0</td>\n",
       "      <td>2.0</td>\n",
       "      <td>4.0</td>\n",
       "      <td>4.0</td>\n",
       "      <td>0.0</td>\n",
       "      <td>0.0</td>\n",
       "      <td>4.0</td>\n",
       "      <td>0.0</td>\n",
       "      <td>4.0</td>\n",
       "      <td>0.0</td>\n",
       "    </tr>\n",
       "    <tr>\n",
       "      <th>187</th>\n",
       "      <td>0.0</td>\n",
       "      <td>0.0</td>\n",
       "      <td>0.0</td>\n",
       "      <td>0.0</td>\n",
       "      <td>1.0</td>\n",
       "      <td>2.0</td>\n",
       "      <td>2.0</td>\n",
       "      <td>0.0</td>\n",
       "      <td>0.0</td>\n",
       "      <td>1.0</td>\n",
       "      <td>0.0</td>\n",
       "      <td>0.0</td>\n",
       "      <td>0.0</td>\n",
       "      <td>3.0</td>\n",
       "      <td>0.0</td>\n",
       "      <td>3.0</td>\n",
       "      <td>0.0</td>\n",
       "    </tr>\n",
       "    <tr>\n",
       "      <th>188</th>\n",
       "      <td>0.0</td>\n",
       "      <td>1.0</td>\n",
       "      <td>0.0</td>\n",
       "      <td>0.0</td>\n",
       "      <td>2.0</td>\n",
       "      <td>1.0</td>\n",
       "      <td>2.0</td>\n",
       "      <td>0.0</td>\n",
       "      <td>0.0</td>\n",
       "      <td>0.0</td>\n",
       "      <td>1.0</td>\n",
       "      <td>0.0</td>\n",
       "      <td>0.0</td>\n",
       "      <td>1.0</td>\n",
       "      <td>1.0</td>\n",
       "      <td>2.0</td>\n",
       "      <td>0.0</td>\n",
       "    </tr>\n",
       "    <tr>\n",
       "      <th>189</th>\n",
       "      <td>0.0</td>\n",
       "      <td>0.0</td>\n",
       "      <td>0.0</td>\n",
       "      <td>0.0</td>\n",
       "      <td>4.0</td>\n",
       "      <td>1.0</td>\n",
       "      <td>3.0</td>\n",
       "      <td>2.0</td>\n",
       "      <td>3.0</td>\n",
       "      <td>1.0</td>\n",
       "      <td>4.0</td>\n",
       "      <td>0.0</td>\n",
       "      <td>0.0</td>\n",
       "      <td>4.0</td>\n",
       "      <td>4.0</td>\n",
       "      <td>3.0</td>\n",
       "      <td>0.0</td>\n",
       "    </tr>\n",
       "    <tr>\n",
       "      <th>190</th>\n",
       "      <td>0.0</td>\n",
       "      <td>3.0</td>\n",
       "      <td>0.0</td>\n",
       "      <td>0.0</td>\n",
       "      <td>2.0</td>\n",
       "      <td>3.0</td>\n",
       "      <td>3.0</td>\n",
       "      <td>1.0</td>\n",
       "      <td>0.0</td>\n",
       "      <td>2.0</td>\n",
       "      <td>3.0</td>\n",
       "      <td>2.0</td>\n",
       "      <td>3.0</td>\n",
       "      <td>2.0</td>\n",
       "      <td>2.0</td>\n",
       "      <td>3.0</td>\n",
       "      <td>0.0</td>\n",
       "    </tr>\n",
       "  </tbody>\n",
       "</table>\n",
       "<p>191 rows × 17 columns</p>\n",
       "</div>"
      ],
      "text/plain": [
       "      0    1    2    3    4    5    6    7    8    9    10   11   12   13  \\\n",
       "0    0.0  4.0  0.0  0.0  4.0  4.0  3.0  3.0  2.0  2.0  2.0  1.0  0.0  2.0   \n",
       "1    2.0  4.0  0.0  0.0  4.0  4.0  3.0  3.0  3.0  2.0  2.0  0.0  3.0  4.0   \n",
       "2    0.0  3.0  0.0  0.0  4.0  1.0  3.0  0.0  0.0  4.0  0.0  0.0  0.0  4.0   \n",
       "3    2.0  2.0  0.0  0.0  0.0  4.0  4.0  2.0  2.0  2.0  2.0  0.0  0.0  3.0   \n",
       "4    4.0  1.0  1.0  1.0  4.0  4.0  4.0  4.0  4.0  4.0  4.0  4.0  1.0  4.0   \n",
       "..   ...  ...  ...  ...  ...  ...  ...  ...  ...  ...  ...  ...  ...  ...   \n",
       "186  0.0  0.0  0.0  2.0  4.0  4.0  4.0  2.0  2.0  4.0  4.0  0.0  0.0  4.0   \n",
       "187  0.0  0.0  0.0  0.0  1.0  2.0  2.0  0.0  0.0  1.0  0.0  0.0  0.0  3.0   \n",
       "188  0.0  1.0  0.0  0.0  2.0  1.0  2.0  0.0  0.0  0.0  1.0  0.0  0.0  1.0   \n",
       "189  0.0  0.0  0.0  0.0  4.0  1.0  3.0  2.0  3.0  1.0  4.0  0.0  0.0  4.0   \n",
       "190  0.0  3.0  0.0  0.0  2.0  3.0  3.0  1.0  0.0  2.0  3.0  2.0  3.0  2.0   \n",
       "\n",
       "      14   15   16  \n",
       "0    1.0  2.0  0.0  \n",
       "1    3.0  2.0  0.0  \n",
       "2    3.0  3.0  0.0  \n",
       "3    2.0  4.0  0.0  \n",
       "4    4.0  4.0  1.0  \n",
       "..   ...  ...  ...  \n",
       "186  0.0  4.0  0.0  \n",
       "187  0.0  3.0  0.0  \n",
       "188  1.0  2.0  0.0  \n",
       "189  4.0  3.0  0.0  \n",
       "190  2.0  3.0  0.0  \n",
       "\n",
       "[191 rows x 17 columns]"
      ]
     },
     "execution_count": 211,
     "metadata": {},
     "output_type": "execute_result"
    }
   ],
   "source": [
    "mrq_vif"
   ]
  },
  {
   "cell_type": "code",
   "execution_count": 212,
   "id": "4d22cc51",
   "metadata": {},
   "outputs": [
    {
     "data": {
      "text/html": [
       "<div>\n",
       "<style scoped>\n",
       "    .dataframe tbody tr th:only-of-type {\n",
       "        vertical-align: middle;\n",
       "    }\n",
       "\n",
       "    .dataframe tbody tr th {\n",
       "        vertical-align: top;\n",
       "    }\n",
       "\n",
       "    .dataframe thead th {\n",
       "        text-align: right;\n",
       "    }\n",
       "</style>\n",
       "<table border=\"1\" class=\"dataframe\">\n",
       "  <thead>\n",
       "    <tr style=\"text-align: right;\">\n",
       "      <th></th>\n",
       "      <th>0</th>\n",
       "      <th>1</th>\n",
       "      <th>2</th>\n",
       "      <th>3</th>\n",
       "      <th>4</th>\n",
       "      <th>5</th>\n",
       "      <th>6</th>\n",
       "      <th>7</th>\n",
       "      <th>8</th>\n",
       "      <th>9</th>\n",
       "      <th>10</th>\n",
       "      <th>11</th>\n",
       "      <th>12</th>\n",
       "      <th>13</th>\n",
       "      <th>14</th>\n",
       "      <th>15</th>\n",
       "      <th>16</th>\n",
       "      <th>17</th>\n",
       "    </tr>\n",
       "  </thead>\n",
       "  <tbody>\n",
       "    <tr>\n",
       "      <th>0</th>\n",
       "      <td>0.0</td>\n",
       "      <td>4.0</td>\n",
       "      <td>0.0</td>\n",
       "      <td>0.0</td>\n",
       "      <td>4.0</td>\n",
       "      <td>4.0</td>\n",
       "      <td>3.0</td>\n",
       "      <td>3.0</td>\n",
       "      <td>2.0</td>\n",
       "      <td>2.0</td>\n",
       "      <td>2.0</td>\n",
       "      <td>1.0</td>\n",
       "      <td>0.0</td>\n",
       "      <td>2.0</td>\n",
       "      <td>1.0</td>\n",
       "      <td>2.0</td>\n",
       "      <td>0.0</td>\n",
       "      <td>15.0</td>\n",
       "    </tr>\n",
       "    <tr>\n",
       "      <th>1</th>\n",
       "      <td>2.0</td>\n",
       "      <td>4.0</td>\n",
       "      <td>0.0</td>\n",
       "      <td>0.0</td>\n",
       "      <td>4.0</td>\n",
       "      <td>4.0</td>\n",
       "      <td>3.0</td>\n",
       "      <td>3.0</td>\n",
       "      <td>3.0</td>\n",
       "      <td>2.0</td>\n",
       "      <td>2.0</td>\n",
       "      <td>0.0</td>\n",
       "      <td>3.0</td>\n",
       "      <td>4.0</td>\n",
       "      <td>3.0</td>\n",
       "      <td>2.0</td>\n",
       "      <td>0.0</td>\n",
       "      <td>35.0</td>\n",
       "    </tr>\n",
       "    <tr>\n",
       "      <th>2</th>\n",
       "      <td>0.0</td>\n",
       "      <td>3.0</td>\n",
       "      <td>0.0</td>\n",
       "      <td>0.0</td>\n",
       "      <td>4.0</td>\n",
       "      <td>1.0</td>\n",
       "      <td>3.0</td>\n",
       "      <td>0.0</td>\n",
       "      <td>0.0</td>\n",
       "      <td>4.0</td>\n",
       "      <td>0.0</td>\n",
       "      <td>0.0</td>\n",
       "      <td>0.0</td>\n",
       "      <td>4.0</td>\n",
       "      <td>3.0</td>\n",
       "      <td>3.0</td>\n",
       "      <td>0.0</td>\n",
       "      <td>40.0</td>\n",
       "    </tr>\n",
       "    <tr>\n",
       "      <th>3</th>\n",
       "      <td>2.0</td>\n",
       "      <td>2.0</td>\n",
       "      <td>0.0</td>\n",
       "      <td>0.0</td>\n",
       "      <td>0.0</td>\n",
       "      <td>4.0</td>\n",
       "      <td>4.0</td>\n",
       "      <td>2.0</td>\n",
       "      <td>2.0</td>\n",
       "      <td>2.0</td>\n",
       "      <td>2.0</td>\n",
       "      <td>0.0</td>\n",
       "      <td>0.0</td>\n",
       "      <td>3.0</td>\n",
       "      <td>2.0</td>\n",
       "      <td>4.0</td>\n",
       "      <td>0.0</td>\n",
       "      <td>70.0</td>\n",
       "    </tr>\n",
       "    <tr>\n",
       "      <th>4</th>\n",
       "      <td>4.0</td>\n",
       "      <td>1.0</td>\n",
       "      <td>1.0</td>\n",
       "      <td>1.0</td>\n",
       "      <td>4.0</td>\n",
       "      <td>4.0</td>\n",
       "      <td>4.0</td>\n",
       "      <td>4.0</td>\n",
       "      <td>4.0</td>\n",
       "      <td>4.0</td>\n",
       "      <td>4.0</td>\n",
       "      <td>4.0</td>\n",
       "      <td>1.0</td>\n",
       "      <td>4.0</td>\n",
       "      <td>4.0</td>\n",
       "      <td>4.0</td>\n",
       "      <td>1.0</td>\n",
       "      <td>10.0</td>\n",
       "    </tr>\n",
       "    <tr>\n",
       "      <th>...</th>\n",
       "      <td>...</td>\n",
       "      <td>...</td>\n",
       "      <td>...</td>\n",
       "      <td>...</td>\n",
       "      <td>...</td>\n",
       "      <td>...</td>\n",
       "      <td>...</td>\n",
       "      <td>...</td>\n",
       "      <td>...</td>\n",
       "      <td>...</td>\n",
       "      <td>...</td>\n",
       "      <td>...</td>\n",
       "      <td>...</td>\n",
       "      <td>...</td>\n",
       "      <td>...</td>\n",
       "      <td>...</td>\n",
       "      <td>...</td>\n",
       "      <td>...</td>\n",
       "    </tr>\n",
       "    <tr>\n",
       "      <th>186</th>\n",
       "      <td>0.0</td>\n",
       "      <td>0.0</td>\n",
       "      <td>0.0</td>\n",
       "      <td>2.0</td>\n",
       "      <td>4.0</td>\n",
       "      <td>4.0</td>\n",
       "      <td>4.0</td>\n",
       "      <td>2.0</td>\n",
       "      <td>2.0</td>\n",
       "      <td>4.0</td>\n",
       "      <td>4.0</td>\n",
       "      <td>0.0</td>\n",
       "      <td>0.0</td>\n",
       "      <td>4.0</td>\n",
       "      <td>0.0</td>\n",
       "      <td>4.0</td>\n",
       "      <td>0.0</td>\n",
       "      <td>10.0</td>\n",
       "    </tr>\n",
       "    <tr>\n",
       "      <th>187</th>\n",
       "      <td>0.0</td>\n",
       "      <td>0.0</td>\n",
       "      <td>0.0</td>\n",
       "      <td>0.0</td>\n",
       "      <td>1.0</td>\n",
       "      <td>2.0</td>\n",
       "      <td>2.0</td>\n",
       "      <td>0.0</td>\n",
       "      <td>0.0</td>\n",
       "      <td>1.0</td>\n",
       "      <td>0.0</td>\n",
       "      <td>0.0</td>\n",
       "      <td>0.0</td>\n",
       "      <td>3.0</td>\n",
       "      <td>0.0</td>\n",
       "      <td>3.0</td>\n",
       "      <td>0.0</td>\n",
       "      <td>15.0</td>\n",
       "    </tr>\n",
       "    <tr>\n",
       "      <th>188</th>\n",
       "      <td>0.0</td>\n",
       "      <td>1.0</td>\n",
       "      <td>0.0</td>\n",
       "      <td>0.0</td>\n",
       "      <td>2.0</td>\n",
       "      <td>1.0</td>\n",
       "      <td>2.0</td>\n",
       "      <td>0.0</td>\n",
       "      <td>0.0</td>\n",
       "      <td>0.0</td>\n",
       "      <td>1.0</td>\n",
       "      <td>0.0</td>\n",
       "      <td>0.0</td>\n",
       "      <td>1.0</td>\n",
       "      <td>1.0</td>\n",
       "      <td>2.0</td>\n",
       "      <td>0.0</td>\n",
       "      <td>50.0</td>\n",
       "    </tr>\n",
       "    <tr>\n",
       "      <th>189</th>\n",
       "      <td>0.0</td>\n",
       "      <td>0.0</td>\n",
       "      <td>0.0</td>\n",
       "      <td>0.0</td>\n",
       "      <td>4.0</td>\n",
       "      <td>1.0</td>\n",
       "      <td>3.0</td>\n",
       "      <td>2.0</td>\n",
       "      <td>3.0</td>\n",
       "      <td>1.0</td>\n",
       "      <td>4.0</td>\n",
       "      <td>0.0</td>\n",
       "      <td>0.0</td>\n",
       "      <td>4.0</td>\n",
       "      <td>4.0</td>\n",
       "      <td>3.0</td>\n",
       "      <td>0.0</td>\n",
       "      <td>15.0</td>\n",
       "    </tr>\n",
       "    <tr>\n",
       "      <th>190</th>\n",
       "      <td>0.0</td>\n",
       "      <td>3.0</td>\n",
       "      <td>0.0</td>\n",
       "      <td>0.0</td>\n",
       "      <td>2.0</td>\n",
       "      <td>3.0</td>\n",
       "      <td>3.0</td>\n",
       "      <td>1.0</td>\n",
       "      <td>0.0</td>\n",
       "      <td>2.0</td>\n",
       "      <td>3.0</td>\n",
       "      <td>2.0</td>\n",
       "      <td>3.0</td>\n",
       "      <td>2.0</td>\n",
       "      <td>2.0</td>\n",
       "      <td>3.0</td>\n",
       "      <td>0.0</td>\n",
       "      <td>45.0</td>\n",
       "    </tr>\n",
       "  </tbody>\n",
       "</table>\n",
       "<p>191 rows × 18 columns</p>\n",
       "</div>"
      ],
      "text/plain": [
       "      0    1    2    3    4    5    6    7    8    9    10   11   12   13  \\\n",
       "0    0.0  4.0  0.0  0.0  4.0  4.0  3.0  3.0  2.0  2.0  2.0  1.0  0.0  2.0   \n",
       "1    2.0  4.0  0.0  0.0  4.0  4.0  3.0  3.0  3.0  2.0  2.0  0.0  3.0  4.0   \n",
       "2    0.0  3.0  0.0  0.0  4.0  1.0  3.0  0.0  0.0  4.0  0.0  0.0  0.0  4.0   \n",
       "3    2.0  2.0  0.0  0.0  0.0  4.0  4.0  2.0  2.0  2.0  2.0  0.0  0.0  3.0   \n",
       "4    4.0  1.0  1.0  1.0  4.0  4.0  4.0  4.0  4.0  4.0  4.0  4.0  1.0  4.0   \n",
       "..   ...  ...  ...  ...  ...  ...  ...  ...  ...  ...  ...  ...  ...  ...   \n",
       "186  0.0  0.0  0.0  2.0  4.0  4.0  4.0  2.0  2.0  4.0  4.0  0.0  0.0  4.0   \n",
       "187  0.0  0.0  0.0  0.0  1.0  2.0  2.0  0.0  0.0  1.0  0.0  0.0  0.0  3.0   \n",
       "188  0.0  1.0  0.0  0.0  2.0  1.0  2.0  0.0  0.0  0.0  1.0  0.0  0.0  1.0   \n",
       "189  0.0  0.0  0.0  0.0  4.0  1.0  3.0  2.0  3.0  1.0  4.0  0.0  0.0  4.0   \n",
       "190  0.0  3.0  0.0  0.0  2.0  3.0  3.0  1.0  0.0  2.0  3.0  2.0  3.0  2.0   \n",
       "\n",
       "      14   15   16    17  \n",
       "0    1.0  2.0  0.0  15.0  \n",
       "1    3.0  2.0  0.0  35.0  \n",
       "2    3.0  3.0  0.0  40.0  \n",
       "3    2.0  4.0  0.0  70.0  \n",
       "4    4.0  4.0  1.0  10.0  \n",
       "..   ...  ...  ...   ...  \n",
       "186  0.0  4.0  0.0  10.0  \n",
       "187  0.0  3.0  0.0  15.0  \n",
       "188  1.0  2.0  0.0  50.0  \n",
       "189  4.0  3.0  0.0  15.0  \n",
       "190  2.0  3.0  0.0  45.0  \n",
       "\n",
       "[191 rows x 18 columns]"
      ]
     },
     "execution_count": 212,
     "metadata": {},
     "output_type": "execute_result"
    }
   ],
   "source": [
    "mrq_vif_plus=pd.concat([mrq_vif, nasa_vif.loc[:,20]], axis=1,ignore_index=True, sort=False)\n",
    "mrq_vif_plus"
   ]
  },
  {
   "cell_type": "code",
   "execution_count": 213,
   "id": "a9945f81",
   "metadata": {},
   "outputs": [
    {
     "data": {
      "text/plain": [
       "([1.9258434380842029,\n",
       "  2.5164669740265375,\n",
       "  2.1043116896437435,\n",
       "  2.7783658343641418,\n",
       "  6.54134702241679,\n",
       "  7.161356819350705,\n",
       "  8.88506463787704,\n",
       "  5.022939132468213,\n",
       "  4.1766486343193545,\n",
       "  5.05779365884378,\n",
       "  5.355202303539358,\n",
       "  2.4182355444867087,\n",
       "  1.8903497064994892,\n",
       "  10.203241012684702,\n",
       "  3.258234965569466,\n",
       "  8.09122644324162,\n",
       "  2.015355721648435,\n",
       "  2.5068525427587383],\n",
       " 0    4.550491\n",
       " dtype: float64)"
      ]
     },
     "execution_count": 213,
     "metadata": {},
     "output_type": "execute_result"
    }
   ],
   "source": [
    "\n",
    "vif___M_one_by_one= [variance_inflation_factor(mrq_vif_plus.values, i)\n",
    "                          for i in range(18)]\n",
    "  \n",
    "vif___M_one_by_one, pd.DataFrame(vif___M_one_by_one).mean()"
   ]
  },
  {
   "cell_type": "markdown",
   "id": "03712786",
   "metadata": {},
   "source": [
    "7.623153143937255 || 3.355072286553076 || 5.318746250757699 || 2.5068525427587383 || 6.206334873943168 || 3.5727669442206462"
   ]
  },
  {
   "cell_type": "code",
   "execution_count": null,
   "id": "39079794",
   "metadata": {},
   "outputs": [],
   "source": []
  }
 ],
 "metadata": {
  "kernelspec": {
   "display_name": "Python 3 (ipykernel)",
   "language": "python",
   "name": "python3"
  },
  "language_info": {
   "codemirror_mode": {
    "name": "ipython",
    "version": 3
   },
   "file_extension": ".py",
   "mimetype": "text/x-python",
   "name": "python",
   "nbconvert_exporter": "python",
   "pygments_lexer": "ipython3",
   "version": "3.9.12"
  }
 },
 "nbformat": 4,
 "nbformat_minor": 5
}
