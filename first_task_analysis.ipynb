{
 "cells": [
  {
   "cell_type": "markdown",
   "id": "7d8b9c7c",
   "metadata": {},
   "source": [
    "Reading from the files and separating participants who completed the tasks from the rest."
   ]
  },
  {
   "cell_type": "code",
   "execution_count": 1,
   "id": "4b8eb23f",
   "metadata": {},
   "outputs": [],
   "source": [
    "import json\n",
    "import numpy as np\n",
    "import scipy.stats as stats\n",
    "import statistics\n",
    "from statsmodels.sandbox.stats.multicomp import multipletests"
   ]
  },
  {
   "cell_type": "code",
   "execution_count": 2,
   "id": "832bf619",
   "metadata": {},
   "outputs": [],
   "source": [
    "def nasa_string_to_int(nasa_string):\n",
    "    sn= nasa_string.replace('[','').replace(']','').split(',')\n",
    "    ntr1 = [int(y) for y in sn]\n",
    "    return ntr1"
   ]
  },
  {
   "cell_type": "code",
   "execution_count": 3,
   "id": "0155c826",
   "metadata": {},
   "outputs": [],
   "source": [
    "# Opening JSON file\n",
    "f = open('output2.json')"
   ]
  },
  {
   "cell_type": "code",
   "execution_count": 4,
   "id": "c0148972",
   "metadata": {},
   "outputs": [],
   "source": [
    "data = json.load(f)"
   ]
  },
  {
   "cell_type": "code",
   "execution_count": 5,
   "id": "05352d92",
   "metadata": {},
   "outputs": [],
   "source": [
    "# for x in data['data']:\n",
    "#     keys = x.keys()\n",
    "#     print(keys)\n",
    "#     values = x.values()\n",
    "#     print(values)\n",
    "#     print(x['completed'])\n",
    "    "
   ]
  },
  {
   "cell_type": "code",
   "execution_count": 6,
   "id": "547dcacd",
   "metadata": {},
   "outputs": [],
   "source": [
    "completed_participants=[]\n",
    "for x in data['data']:\n",
    "    if(x['completed']):\n",
    "        completed_participants.append(x['mturk_id'])\n",
    "# print(completed_participants)\n",
    "        "
   ]
  },
  {
   "cell_type": "code",
   "execution_count": 7,
   "id": "12c62e9c",
   "metadata": {},
   "outputs": [],
   "source": [
    "f = open('output1.json')"
   ]
  },
  {
   "cell_type": "code",
   "execution_count": 8,
   "id": "d4c31c02",
   "metadata": {},
   "outputs": [],
   "source": [
    "jsonpmodel = json.load(f)"
   ]
  },
  {
   "cell_type": "code",
   "execution_count": 9,
   "id": "ff72c77a",
   "metadata": {},
   "outputs": [],
   "source": [
    "# for x in data['data']:\n",
    "#     keys = x.keys()\n",
    "#     print(keys)\n",
    "#     print('\\n')\n",
    "#     values = x.values()\n",
    "#     print(values)"
   ]
  },
  {
   "cell_type": "code",
   "execution_count": 10,
   "id": "c2233a36",
   "metadata": {},
   "outputs": [],
   "source": [
    "completed_p_models=[]\n",
    "for x in jsonpmodel['data']:\n",
    "#     print(x['sequence_type'])\n",
    "    m=x['mturk_id']\n",
    "    if(m in completed_participants):\n",
    "        completed_p_models.append(x)\n",
    "        "
   ]
  },
  {
   "cell_type": "code",
   "execution_count": 11,
   "id": "6f3365ae",
   "metadata": {},
   "outputs": [],
   "source": [
    "filename='completedparticipants.json'\n",
    "with open(filename, 'w') as json_file:\n",
    "    json.dump(completed_p_models, json_file, \n",
    "                        indent=4,  \n",
    "                        separators=(',',': '))"
   ]
  },
  {
   "cell_type": "code",
   "execution_count": 12,
   "id": "318cf2e7",
   "metadata": {},
   "outputs": [],
   "source": [
    "c_file=open(filename)\n",
    "c_p=json.load(c_file)"
   ]
  },
  {
   "cell_type": "code",
   "execution_count": 13,
   "id": "ed752b8d",
   "metadata": {},
   "outputs": [],
   "source": [
    "# for x in c_p:\n",
    "#     print(x['mturk_id'])"
   ]
  },
  {
   "cell_type": "markdown",
   "id": "c8c55570",
   "metadata": {},
   "source": [
    "completedparticipants.json is the file that includes data of all participants who completed the task \n",
    "and c_p is the json varible of the file\n",
    "\n"
   ]
  },
  {
   "cell_type": "code",
   "execution_count": 14,
   "id": "75eed3ec",
   "metadata": {},
   "outputs": [],
   "source": [
    "# ----------------Experiment Sequences---------------------------\n",
    "\n",
    "# N : first nbackn difficulty (H/E)\n",
    "\n",
    "# Q : first Questionaire (1: NASA-TLX and 2: MRQ)\n",
    "\n",
    "# S : SakeDifficulty(H/E)\n",
    "\n",
    "# _________________________________________________________________________\n",
    "# seq_number/Progress | 1.n1 | 2.s | 3.q1| 4.q2|5.n2 | 6.s |7.q1 |8.q2 |\n",
    "# _________________________________________________________________________\n",
    "#          1          |  E   | E   |  1  |  2  |  H  |  E  |  1  |  2  |\n",
    "#          2          |  E   | E   |  2  |  1  |  H  |  E  |  2  |  1  |\n",
    "#          3          |  H   | E   |  1  |  2  |  E  |  E  |  1  |  2  |\n",
    "#          4          |  H   | E   |  2  |  1  |  E  |  E  |  2  |  1  |\n",
    "#          5          |  E   | H   |  1  |  2  |  H  |  H  |  1  |  2  |\n",
    "#          6          |  E   | H   |  2  |  1  |  H  |  H  |  2  |  1  |\n",
    "#          7          |  H   | H   |  1  |  2  |  E  |  H  |  1  |  2  |\n",
    "#          8          |  H   | H   |  2  |  1  |  E  |  H  |  2  |  1  |\n",
    "# ________________________________________________________________________\n"
   ]
  },
  {
   "cell_type": "code",
   "execution_count": 15,
   "id": "626d1e64",
   "metadata": {},
   "outputs": [],
   "source": [
    " #  sequence type /progress matrix \n",
    "E_n = 1; # easy nbackn\n",
    "H_n = 3; # hard nbackn\n",
    "E_s = 500;  # easy sak in ms\n",
    "H_s = 1000; #hard sak in ms\n",
    "seq_prog = [\n",
    "    [E_n, E_s, 1, 2, H_n, E_s, 1, 2],\n",
    "    [E_n, E_s, 2, 1, H_n, E_s, 2, 1],\n",
    "    [H_n, E_s, 1, 2, E_n, E_s, 1, 2],\n",
    "    [H_n, E_s, 2, 1, E_n, E_s, 2, 1],\n",
    "    [E_n, H_s, 1, 2, H_n, H_s, 1, 2],\n",
    "    [E_n, H_s, 2, 1, H_n, H_s, 2, 1],\n",
    "    [H_n, H_s, 1, 2, E_n, H_s, 1, 2],\n",
    "    [H_n, H_s, 2, 1, E_n, H_s, 2, 1]\n",
    "];"
   ]
  },
  {
   "cell_type": "markdown",
   "id": "0859200b",
   "metadata": {},
   "source": [
    "conEX : Easy NBACKN----\n",
    "conHX : Hard NBACKN----\n",
    "conXE: Easy SAK----\n",
    "conXH: Hard SAK"
   ]
  },
  {
   "cell_type": "code",
   "execution_count": 16,
   "id": "1ffa95ce",
   "metadata": {},
   "outputs": [],
   "source": [
    "nasa_1_t_array=[]\n",
    "nasa_2_t_array=[]\n",
    "nasa_1_r_array=[]\n",
    "nasa_2_r_array=[]\n",
    "\n",
    "seq_type_array=[]\n",
    "\n",
    "mrq_1_array=[]\n",
    "mrq_2_array=[]\n",
    "\n",
    "mrq_conEH_array=[]\n",
    "mrq_conHH_array=[]\n",
    "mrq_conEE_array=[]\n",
    "mrq_conHE_array=[]\n",
    "\n",
    "nasa_r_conEH_array=[]\n",
    "nasa_r_conHH_array=[]\n",
    "nasa_r_conEE_array=[]\n",
    "nasa_r_conHE_array=[]\n",
    "\n",
    "nasa_t_conEH_array=[]\n",
    "nasa_t_conHH_array=[]\n",
    "nasa_t_conEE_array=[]\n",
    "nasa_t_conHE_array=[]\n",
    "\n",
    "\n",
    "\n",
    "for x in c_p:\n",
    "    st= x['sequence_type']\n",
    "    seq_type_array.append(st)\n",
    "    \n",
    "    ntr1= nasa_string_to_int(x['nasa_1_r'][0])\n",
    "    ntr2= nasa_string_to_int(x['nasa_2_r'][0])\n",
    "    ntt1= nasa_string_to_int(x['nasa_1_t'][0])\n",
    "    ntt2= nasa_string_to_int(x['nasa_2_t'][0])\n",
    "\n",
    "    \n",
    "    \n",
    "    nasa_1_r_array.append(ntr1)\n",
    "    nasa_1_t_array.append(ntt1)\n",
    "    nasa_2_r_array.append(ntr2)\n",
    "    nasa_2_t_array.append(ntt2)\n",
    "    \n",
    "    \n",
    "    \n",
    "    \n",
    "    s=x['mrq_1'][0].replace('\"','').replace('[',\"\").replace(']',\"\").split(',')\n",
    "    mrq1 = [int(y) for y in s]\n",
    "    mrq1.pop()\n",
    "    \n",
    "    \n",
    "    s=x['mrq_2'][0].replace('\"','').replace('[',\"\").replace(']',\"\").split(',')\n",
    "    mrq2 = [int(y) for y in s]\n",
    "    mrq2.pop()\n",
    "    \n",
    "    mrq_1_array.append(mrq1)\n",
    "    mrq_2_array.append(mrq2)\n",
    "    \n",
    "    if(st==1 or st==2):\n",
    "        mrq_conEE_array.append(mrq1)\n",
    "        mrq_conHE_array.append(mrq2)\n",
    "        nasa_r_conEE_array.append(ntr1)\n",
    "        nasa_r_conHE_array.append(ntr2)\n",
    "        nasa_t_conEE_array.append(ntt1)\n",
    "        nasa_t_conHE_array.append(ntt2)\n",
    "       \n",
    "    if(st==3 or st==4):\n",
    "        mrq_conHE_array.append(mrq1)\n",
    "        mrq_conEE_array.append(mrq2)\n",
    "        nasa_r_conHE_array.append(ntr1)\n",
    "        nasa_r_conEE_array.append(ntr2)\n",
    "        nasa_t_conHE_array.append(ntt1)\n",
    "        nasa_t_conEE_array.append(ntt2)\n",
    "        \n",
    "    if(st==5 or st==6):\n",
    "        mrq_conEH_array.append(mrq1)\n",
    "        mrq_conHH_array.append(mrq2)\n",
    "        nasa_r_conEH_array.append(ntr1)\n",
    "        nasa_r_conHH_array.append(ntr2)\n",
    "        nasa_t_conEH_array.append(ntt1)\n",
    "        nasa_t_conHH_array.append(ntt2)\n",
    "   \n",
    "    if(st==7 or st==8):\n",
    "        mrq_conHH_array.append(mrq1)\n",
    "        mrq_conEH_array.append(mrq2)\n",
    "        nasa_r_conHH_array.append(ntr1)\n",
    "        nasa_r_conEH_array.append(ntr2)\n",
    "        nasa_t_conHH_array.append(ntt1)\n",
    "        nasa_t_conEH_array.append(ntt2)\n",
    "        \n"
   ]
  },
  {
   "cell_type": "markdown",
   "id": "834336bb",
   "metadata": {},
   "source": [
    "<b>Starting the analysis from here:"
   ]
  },
  {
   "cell_type": "markdown",
   "id": "793c58ee",
   "metadata": {},
   "source": [
    "<hr style=\"width:100%;text-align:left;margin-left:0\">"
   ]
  },
  {
   "cell_type": "markdown",
   "id": "5ca423d8",
   "metadata": {},
   "source": [
    "<b>Analysis 1: Paired t-test to see effect of first task on second one "
   ]
  },
  {
   "cell_type": "markdown",
   "id": "64e307a5",
   "metadata": {},
   "source": [
    "-----------------------------------------------------------------------------------------------------------------------"
   ]
  },
  {
   "cell_type": "markdown",
   "id": "f57c7cb5",
   "metadata": {},
   "source": [
    "<b>First Part for MRQ:</b>\n",
    "\n",
    "r_mrq_pttest, p_mrq_pttest for each dimension separately and for r_mrq_avg,p_mrq_avg for total average as the last element.\n",
    "\n",
    "p_mrq_pttest_adjusted is the adjusted p-values after boneferroni"
   ]
  },
  {
   "cell_type": "code",
   "execution_count": 17,
   "id": "408a0760",
   "metadata": {},
   "outputs": [],
   "source": [
    "mrqEX= mrq_conEE_array + mrq_conEH_array"
   ]
  },
  {
   "cell_type": "code",
   "execution_count": 18,
   "id": "d4f28f2d",
   "metadata": {},
   "outputs": [],
   "source": [
    "mrqHX= mrq_conHE_array + mrq_conHH_array"
   ]
  },
  {
   "cell_type": "code",
   "execution_count": 19,
   "id": "cfc7f638",
   "metadata": {},
   "outputs": [],
   "source": [
    "mrqEX=np.array(mrqEX)"
   ]
  },
  {
   "cell_type": "code",
   "execution_count": 20,
   "id": "4fac629a",
   "metadata": {},
   "outputs": [],
   "source": [
    "mrqHX=np.array(mrqHX)"
   ]
  },
  {
   "cell_type": "code",
   "execution_count": 21,
   "id": "810768e8",
   "metadata": {},
   "outputs": [],
   "source": [
    "r_mrq_pttest=[]\n",
    "p_mrq_pttest=[]\n",
    "\n",
    "for i in range(len(mrqHX[0])):\n",
    "    r,p = stats.ttest_rel(mrqHX[:,i], mrqEX[:,i])\n",
    "    r_mrq_pttest.append(r)\n",
    "    p_mrq_pttest.append(p)\n",
    "    \n",
    "mrqHX_avg_array= np.mean(mrqHX, axis=1)\n",
    "mrqEX_avg_array= np.mean(mrqEX, axis=1)\n",
    "r_mrq_avg,p_mrq_avg = stats.ttest_rel(mrqHX_avg_array,mrqEX_avg_array)\n",
    "\n",
    "r_mrq_pttest.append(r_mrq_avg)\n",
    "p_mrq_pttest.append(p_mrq_avg)"
   ]
  },
  {
   "cell_type": "code",
   "execution_count": 22,
   "id": "312bf7ba",
   "metadata": {},
   "outputs": [],
   "source": [
    "p_mrq_pttest_adjusted = multipletests(p_mrq_pttest, alpha=0.05, method='bonferroni')"
   ]
  },
  {
   "cell_type": "code",
   "execution_count": 23,
   "id": "38adde36",
   "metadata": {},
   "outputs": [
    {
     "data": {
      "text/plain": [
       "(array([False, False, False, False, False, False, False, False, False,\n",
       "        False, False, False, False, False, False, False, False, False]),\n",
       " array([1.        , 1.        , 1.        , 1.        , 1.        ,\n",
       "        1.        , 1.        , 1.        , 0.91805869, 1.        ,\n",
       "        0.95111004, 0.80106367, 1.        ,        nan, 1.        ,\n",
       "        1.        , 1.        , 1.        ]),\n",
       " 0.002845571131556368,\n",
       " 0.002777777777777778)"
      ]
     },
     "execution_count": 23,
     "metadata": {},
     "output_type": "execute_result"
    }
   ],
   "source": [
    "p_mrq_pttest_adjusted"
   ]
  },
  {
   "cell_type": "code",
   "execution_count": 24,
   "id": "7b53ad77",
   "metadata": {},
   "outputs": [
    {
     "data": {
      "text/plain": [
       "[0.4961015555245206,\n",
       " 0.8722883630840339,\n",
       " 0.34343639613791355,\n",
       " 0.16785065605707492,\n",
       " 0.34343639613791355,\n",
       " 0.13818475535118327,\n",
       " 0.811373655241246,\n",
       " 0.27887299924891695,\n",
       " 0.051003260706950763,\n",
       " 0.16785065605707492,\n",
       " 0.05283944651707043,\n",
       " 0.044503537305576386,\n",
       " 0.11076492156976729,\n",
       " nan,\n",
       " 0.1038881310621017,\n",
       " 0.27887299924891695,\n",
       " 0.34343639613791355,\n",
       " 0.07281555477214813]"
      ]
     },
     "execution_count": 24,
     "metadata": {},
     "output_type": "execute_result"
    }
   ],
   "source": [
    "p_mrq_pttest"
   ]
  },
  {
   "cell_type": "markdown",
   "id": "5c0004b0",
   "metadata": {},
   "source": [
    "<b>Second Part for NASA-TLX:</b>\n",
    "\n",
    "r_nasa_pttest, p_nasa_pttest for each dimension separately and for r_nasa_avg,p_nasa_avg for total average as the last element.\n",
    "\n",
    "p_nasa_pttest_adjusted is the adjusted p-values after boneferroni"
   ]
  },
  {
   "cell_type": "code",
   "execution_count": 25,
   "id": "5aee80b3",
   "metadata": {},
   "outputs": [],
   "source": [
    "nasaEX= nasa_r_conEE_array + nasa_r_conEH_array"
   ]
  },
  {
   "cell_type": "code",
   "execution_count": 26,
   "id": "97c39546",
   "metadata": {},
   "outputs": [],
   "source": [
    "nasaHX= nasa_r_conHE_array + nasa_r_conHH_array"
   ]
  },
  {
   "cell_type": "code",
   "execution_count": 27,
   "id": "6330a36a",
   "metadata": {},
   "outputs": [],
   "source": [
    "nasaEX=np.array(nasaEX)"
   ]
  },
  {
   "cell_type": "code",
   "execution_count": 28,
   "id": "cc06d221",
   "metadata": {},
   "outputs": [],
   "source": [
    "nasaHX=np.array(nasaHX)"
   ]
  },
  {
   "cell_type": "code",
   "execution_count": 29,
   "id": "71ed1bb5",
   "metadata": {},
   "outputs": [],
   "source": [
    "r_nasa_pttest=[]\n",
    "p_nasa_pttest=[]\n",
    "\n",
    "for i in range(len(nasaHX[0])):\n",
    "    r,p = stats.ttest_rel(nasaHX[:,i], nasaEX[:,i])\n",
    "    r_nasa_pttest.append(r)\n",
    "    p_nasa_pttest.append(p)\n",
    "    \n",
    "nasaHX_avg_array= np.mean(nasaHX, axis=1)\n",
    "nasaEX_avg_array= np.mean(nasaEX, axis=1)\n",
    "r_nasa_avg,p_nasa_avg = stats.ttest_rel(nasaHX_avg_array,nasaEX_avg_array)\n",
    "\n",
    "r_nasa_pttest.append(r_nasa_avg)\n",
    "p_nasa_pttest.append(p_nasa_avg)"
   ]
  },
  {
   "cell_type": "code",
   "execution_count": 30,
   "id": "26ca9532",
   "metadata": {},
   "outputs": [],
   "source": [
    "p_nasa_pttest_adjusted = multipletests(p_nasa_pttest, alpha=0.05, method='bonferroni')"
   ]
  },
  {
   "cell_type": "code",
   "execution_count": 31,
   "id": "9b10acd1",
   "metadata": {},
   "outputs": [
    {
     "data": {
      "text/plain": [
       "[0.5425520719530796,\n",
       " 0.7640411601083001,\n",
       " 0.3041151886808649,\n",
       " 0.02729189815631593,\n",
       " 0.24892626365964873,\n",
       " 0.09320637160539949,\n",
       " 0.19342205960333203]"
      ]
     },
     "execution_count": 31,
     "metadata": {},
     "output_type": "execute_result"
    }
   ],
   "source": [
    "p_nasa_pttest"
   ]
  },
  {
   "cell_type": "code",
   "execution_count": 32,
   "id": "373daa46",
   "metadata": {},
   "outputs": [
    {
     "data": {
      "text/plain": [
       "(array([False, False, False, False, False, False, False]),\n",
       " array([1.        , 1.        , 1.        , 0.19104329, 1.        ,\n",
       "        0.6524446 , 1.        ]),\n",
       " 0.007300831979014655,\n",
       " 0.0071428571428571435)"
      ]
     },
     "execution_count": 32,
     "metadata": {},
     "output_type": "execute_result"
    }
   ],
   "source": [
    "p_nasa_pttest_adjusted"
   ]
  },
  {
   "cell_type": "markdown",
   "id": "709b5ad8",
   "metadata": {},
   "source": [
    "<hr style=\"width:100%;text-align:left;margin-left:0\">"
   ]
  },
  {
   "cell_type": "markdown",
   "id": "40067692",
   "metadata": {},
   "source": [
    "<b> Analysis 2: two-sample t-test to see effect of one-key text entry task difficulty on questionaires"
   ]
  },
  {
   "cell_type": "markdown",
   "id": "56bd435c",
   "metadata": {},
   "source": [
    "<b>First Part for MRQ:</b>\n",
    "\n",
    "r_mrq_pttest, p_mrq_pttest for each dimension separately and for r_mrq_avg,p_mrq_avg for total average as the last element.\n",
    "\n",
    "p_mrq_pttest_adjusted is the adjusted p-values after boneferroni"
   ]
  },
  {
   "cell_type": "code",
   "execution_count": 66,
   "id": "dec188f0",
   "metadata": {},
   "outputs": [],
   "source": [
    "mrqXE= mrq_conEE_array + mrq_conHE_array"
   ]
  },
  {
   "cell_type": "code",
   "execution_count": 67,
   "id": "ce73be1c",
   "metadata": {},
   "outputs": [],
   "source": [
    "mrqXH= mrq_conEH_array + mrq_conHH_array"
   ]
  },
  {
   "cell_type": "code",
   "execution_count": 68,
   "id": "0c08e7e3",
   "metadata": {},
   "outputs": [],
   "source": [
    "mrqEX=np.array(mrqXE) #just did not want the notation. do not confuse EX and XE "
   ]
  },
  {
   "cell_type": "code",
   "execution_count": 69,
   "id": "6e16b7d7",
   "metadata": {},
   "outputs": [],
   "source": [
    "mrqHX=np.array(mrqXH) #just did not want the notation. do not confuse EX and XE "
   ]
  },
  {
   "cell_type": "code",
   "execution_count": 70,
   "id": "5f61bc41",
   "metadata": {},
   "outputs": [],
   "source": [
    "r_mrq_pttest=[]\n",
    "p_mrq_pttest=[]\n",
    "\n",
    "for i in range(len(mrqHX[0])):\n",
    "    r,p = stats.ttest_ind(mrqHX[:,i], mrqEX[:,i], equal_var=True)\n",
    "    r_mrq_pttest.append(r)\n",
    "    p_mrq_pttest.append(p)\n",
    "    \n",
    "mrqHX_avg_array= np.mean(mrqHX, axis=1)\n",
    "mrqEX_avg_array= np.mean(mrqEX, axis=1)\n",
    "r_mrq_avg,p_mrq_avg = stats.ttest_ind(mrqHX_avg_array,mrqEX_avg_array, equal_var=True)\n",
    "\n",
    "r_mrq_pttest.append(r_mrq_avg)\n",
    "p_mrq_pttest.append(p_mrq_avg)"
   ]
  },
  {
   "cell_type": "code",
   "execution_count": 71,
   "id": "8d13eb30",
   "metadata": {},
   "outputs": [],
   "source": [
    "p_mrq_pttest_adjusted = multipletests(p_mrq_pttest, alpha=0.05, method='bonferroni')"
   ]
  },
  {
   "cell_type": "code",
   "execution_count": 72,
   "id": "f9118235",
   "metadata": {},
   "outputs": [
    {
     "data": {
      "text/plain": [
       "(array([False, False, False, False, False, False, False, False, False,\n",
       "        False, False, False, False, False, False, False, False, False]),\n",
       " array([1.        , 1.        , 1.        , 1.        , 1.        ,\n",
       "        0.62690115, 0.89819393, 0.20015485, 1.        , 1.        ,\n",
       "        1.        , 1.        , 1.        , 1.        , 1.        ,\n",
       "        0.25067513, 1.        , 1.        ]),\n",
       " 0.002845571131556368,\n",
       " 0.002777777777777778)"
      ]
     },
     "execution_count": 72,
     "metadata": {},
     "output_type": "execute_result"
    }
   ],
   "source": [
    "p_mrq_pttest_adjusted"
   ]
  },
  {
   "cell_type": "code",
   "execution_count": 73,
   "id": "8fa0af0e",
   "metadata": {},
   "outputs": [
    {
     "data": {
      "text/plain": [
       "[0.6318736384548027,\n",
       " 0.9026623766357643,\n",
       " 0.6409598012304204,\n",
       " 0.4311073910501848,\n",
       " 0.5579282415825825,\n",
       " 0.034827841408376914,\n",
       " 0.049899662558439035,\n",
       " 0.011119714090839545,\n",
       " 0.529329051766497,\n",
       " 0.06972056607214441,\n",
       " 0.09931472610364016,\n",
       " 0.8734872283133776,\n",
       " 0.6102531520664984,\n",
       " 0.08558567459485754,\n",
       " 0.5579282415825825,\n",
       " 0.013926395886806338,\n",
       " 0.6409598012304204,\n",
       " 0.8840305869851582]"
      ]
     },
     "execution_count": 73,
     "metadata": {},
     "output_type": "execute_result"
    }
   ],
   "source": [
    "p_mrq_pttest"
   ]
  },
  {
   "cell_type": "markdown",
   "id": "8683c563",
   "metadata": {},
   "source": [
    "<b>Second Part for NASA-TLX:</b>\n",
    "\n",
    "r_nasa_pttest, p_nasa_pttest for each dimension separately and for r_nasa_avg,p_nasa_avg for total average as the last element.\n",
    "\n",
    "p_nasa_pttest_adjusted is the adjusted p-values after boneferroni"
   ]
  },
  {
   "cell_type": "code",
   "execution_count": 25,
   "id": "c96903ab",
   "metadata": {},
   "outputs": [],
   "source": [
    "nasaXE= nasa_r_conEE_array + nasa_r_conHE_array"
   ]
  },
  {
   "cell_type": "code",
   "execution_count": 26,
   "id": "830c76b7",
   "metadata": {},
   "outputs": [],
   "source": [
    "nasaXH= nasa_r_conHH_array + nasa_r_conEH_array"
   ]
  },
  {
   "cell_type": "code",
   "execution_count": 27,
   "id": "de66f519",
   "metadata": {},
   "outputs": [],
   "source": [
    "nasaEX=np.array(nasaXE) #just did not want the notation. do not confuse EX and XE "
   ]
  },
  {
   "cell_type": "code",
   "execution_count": 28,
   "id": "9f9fff99",
   "metadata": {},
   "outputs": [],
   "source": [
    "nasaHX=np.array(nasaXH) #just did not want the notation. do not confuse EX and XE "
   ]
  },
  {
   "cell_type": "code",
   "execution_count": 74,
   "id": "339d2923",
   "metadata": {},
   "outputs": [],
   "source": [
    "r_nasa_pttest=[]\n",
    "p_nasa_pttest=[]\n",
    "\n",
    "for i in range(len(nasaHX[0])):\n",
    "    r,p = stats.ttest_ind(nasaHX[:,i], nasaEX[:,i], equal_var=True)\n",
    "    r_nasa_pttest.append(r)\n",
    "    p_nasa_pttest.append(p)\n",
    "    \n",
    "nasaHX_avg_array= np.mean(nasaHX, axis=1)\n",
    "nasaEX_avg_array= np.mean(nasaEX, axis=1)\n",
    "r_nasa_avg,p_nasa_avg = stats.ttest_ind(nasaHX_avg_array,nasaEX_avg_array, equal_var=True)\n",
    "\n",
    "r_nasa_pttest.append(r_nasa_avg)\n",
    "p_nasa_pttest.append(p_nasa_avg)"
   ]
  },
  {
   "cell_type": "code",
   "execution_count": 75,
   "id": "12fbfb8f",
   "metadata": {},
   "outputs": [],
   "source": [
    "p_nasa_pttest_adjusted = multipletests(p_nasa_pttest, alpha=0.05, method='bonferroni')"
   ]
  },
  {
   "cell_type": "code",
   "execution_count": 76,
   "id": "4b8aa3bf",
   "metadata": {},
   "outputs": [
    {
     "data": {
      "text/plain": [
       "[0.6720370037895823,\n",
       " 0.9504218052817074,\n",
       " 0.4434037362384208,\n",
       " 0.26748150967768614,\n",
       " 0.5096740994535836,\n",
       " 0.2560954728537678,\n",
       " 0.48743210933945214]"
      ]
     },
     "execution_count": 76,
     "metadata": {},
     "output_type": "execute_result"
    }
   ],
   "source": [
    "p_nasa_pttest"
   ]
  },
  {
   "cell_type": "code",
   "execution_count": 77,
   "id": "941332a6",
   "metadata": {},
   "outputs": [
    {
     "data": {
      "text/plain": [
       "(array([False, False, False, False, False, False, False]),\n",
       " array([1., 1., 1., 1., 1., 1., 1.]),\n",
       " 0.007300831979014655,\n",
       " 0.0071428571428571435)"
      ]
     },
     "execution_count": 77,
     "metadata": {},
     "output_type": "execute_result"
    }
   ],
   "source": [
    "p_nasa_pttest_adjusted"
   ]
  },
  {
   "cell_type": "markdown",
   "id": "1768a6e2",
   "metadata": {},
   "source": [
    "<hr style=\"width:100%;text-align:left;margin-left:0\">"
   ]
  },
  {
   "cell_type": "code",
   "execution_count": null,
   "id": "25316bf0",
   "metadata": {},
   "outputs": [],
   "source": []
  },
  {
   "cell_type": "code",
   "execution_count": null,
   "id": "3c766ff0",
   "metadata": {},
   "outputs": [],
   "source": []
  },
  {
   "cell_type": "code",
   "execution_count": null,
   "id": "543dac9b",
   "metadata": {},
   "outputs": [],
   "source": []
  },
  {
   "cell_type": "code",
   "execution_count": null,
   "id": "f0bc43ad",
   "metadata": {},
   "outputs": [],
   "source": []
  },
  {
   "cell_type": "code",
   "execution_count": null,
   "id": "a878970a",
   "metadata": {},
   "outputs": [],
   "source": []
  },
  {
   "cell_type": "code",
   "execution_count": null,
   "id": "7a2029cf",
   "metadata": {},
   "outputs": [],
   "source": []
  },
  {
   "cell_type": "code",
   "execution_count": null,
   "id": "2ecd39a8",
   "metadata": {},
   "outputs": [],
   "source": []
  },
  {
   "cell_type": "code",
   "execution_count": null,
   "id": "e558a5b3",
   "metadata": {},
   "outputs": [],
   "source": []
  }
 ],
 "metadata": {
  "kernelspec": {
   "display_name": "Python 3 (ipykernel)",
   "language": "python",
   "name": "python3"
  },
  "language_info": {
   "codemirror_mode": {
    "name": "ipython",
    "version": 3
   },
   "file_extension": ".py",
   "mimetype": "text/x-python",
   "name": "python",
   "nbconvert_exporter": "python",
   "pygments_lexer": "ipython3",
   "version": "3.9.12"
  }
 },
 "nbformat": 4,
 "nbformat_minor": 5
}
