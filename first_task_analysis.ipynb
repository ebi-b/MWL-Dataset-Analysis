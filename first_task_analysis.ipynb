{
 "cells": [
  {
   "cell_type": "markdown",
   "id": "7d8b9c7c",
   "metadata": {},
   "source": [
    "Reading from the files and separating participants who completed the tasks from the rest."
   ]
  },
  {
   "cell_type": "code",
   "execution_count": 1,
   "id": "2edb1288",
   "metadata": {},
   "outputs": [
    {
     "name": "stdout",
     "output_type": "stream",
     "text": [
      "Defaulting to user installation because normal site-packages is not writeable\n",
      "Requirement already satisfied: factor_analyzer in c:\\users\\ebabaei\\appdata\\roaming\\python\\python39\\site-packages (0.4.0)\n",
      "Requirement already satisfied: numpy in c:\\programdata\\anaconda3\\lib\\site-packages (from factor_analyzer) (1.21.5)\n",
      "Requirement already satisfied: pandas in c:\\programdata\\anaconda3\\lib\\site-packages (from factor_analyzer) (1.4.2)\n",
      "Requirement already satisfied: scipy in c:\\programdata\\anaconda3\\lib\\site-packages (from factor_analyzer) (1.7.3)\n",
      "Requirement already satisfied: scikit-learn in c:\\programdata\\anaconda3\\lib\\site-packages (from factor_analyzer) (1.0.2)\n",
      "Requirement already satisfied: python-dateutil>=2.8.1 in c:\\programdata\\anaconda3\\lib\\site-packages (from pandas->factor_analyzer) (2.8.2)\n",
      "Requirement already satisfied: pytz>=2020.1 in c:\\programdata\\anaconda3\\lib\\site-packages (from pandas->factor_analyzer) (2021.3)\n",
      "Requirement already satisfied: six>=1.5 in c:\\programdata\\anaconda3\\lib\\site-packages (from python-dateutil>=2.8.1->pandas->factor_analyzer) (1.16.0)\n",
      "Requirement already satisfied: threadpoolctl>=2.0.0 in c:\\programdata\\anaconda3\\lib\\site-packages (from scikit-learn->factor_analyzer) (2.2.0)\n",
      "Requirement already satisfied: joblib>=0.11 in c:\\programdata\\anaconda3\\lib\\site-packages (from scikit-learn->factor_analyzer) (1.1.0)\n",
      "Note: you may need to restart the kernel to use updated packages.\n"
     ]
    }
   ],
   "source": [
    "pip install factor_analyzer"
   ]
  },
  {
   "cell_type": "code",
   "execution_count": 2,
   "id": "4b8eb23f",
   "metadata": {},
   "outputs": [],
   "source": [
    "import json\n",
    "import numpy as np\n",
    "import scipy.stats as stats\n",
    "import statistics\n",
    "from statsmodels.sandbox.stats.multicomp import multipletests\n",
    "import seaborn as sns\n",
    "from factor_analyzer import FactorAnalyzer\n",
    "import matplotlib.pyplot as plt\n",
    "from factor_analyzer.factor_analyzer import calculate_kmo\n",
    "from factor_analyzer.factor_analyzer import calculate_bartlett_sphericity"
   ]
  },
  {
   "cell_type": "code",
   "execution_count": 3,
   "id": "832bf619",
   "metadata": {},
   "outputs": [],
   "source": [
    "def nasa_string_to_int(nasa_string):\n",
    "    sn= nasa_string.replace('[','').replace(']','').split(',')\n",
    "    ntr1 = [int(y) for y in sn]\n",
    "    return ntr1"
   ]
  },
  {
   "cell_type": "code",
   "execution_count": 110,
   "id": "2bbbeea0",
   "metadata": {},
   "outputs": [],
   "source": [
    "def sak_data_to_througput(sak1, sak1t ,diflevel):\n",
    "    if(len(sak1)>0):\n",
    "        l= len(sak1[0].replace(\" \",''))\n",
    "        t= sak1t[len(sak1t)-1]-sak1t[0]\n",
    "        SPC=(float(t)/diflevel)/l\n",
    "        T=(1/float(SPC))*(1000/float(diflevel))*(60/5)\n",
    "    else:\n",
    "        T=0\n",
    "        \n",
    "    return T\n",
    "        "
   ]
  },
  {
   "cell_type": "code",
   "execution_count": 4,
   "id": "0155c826",
   "metadata": {},
   "outputs": [],
   "source": [
    "# Opening JSON file\n",
    "f = open('output2.json')"
   ]
  },
  {
   "cell_type": "code",
   "execution_count": 5,
   "id": "c0148972",
   "metadata": {},
   "outputs": [],
   "source": [
    "data = json.load(f)"
   ]
  },
  {
   "cell_type": "code",
   "execution_count": 6,
   "id": "05352d92",
   "metadata": {},
   "outputs": [],
   "source": [
    "# for x in data['data']:\n",
    "#     keys = x.keys()\n",
    "#     print(keys)\n",
    "#     values = x.values()\n",
    "#     print(values)\n",
    "#     print(x['completed'])\n",
    "    "
   ]
  },
  {
   "cell_type": "code",
   "execution_count": 7,
   "id": "547dcacd",
   "metadata": {},
   "outputs": [],
   "source": [
    "completed_participants=[]\n",
    "for x in data['data']:\n",
    "    if(x['completed']):\n",
    "        completed_participants.append(x['mturk_id'])\n",
    "# print(completed_participants)\n",
    "        "
   ]
  },
  {
   "cell_type": "code",
   "execution_count": 8,
   "id": "12c62e9c",
   "metadata": {},
   "outputs": [],
   "source": [
    "f = open('output1.json')"
   ]
  },
  {
   "cell_type": "code",
   "execution_count": 9,
   "id": "d4c31c02",
   "metadata": {},
   "outputs": [],
   "source": [
    "jsonpmodel = json.load(f)"
   ]
  },
  {
   "cell_type": "code",
   "execution_count": 10,
   "id": "ff72c77a",
   "metadata": {},
   "outputs": [],
   "source": [
    "# for x in data['data']:\n",
    "#     keys = x.keys()\n",
    "#     print(keys)\n",
    "#     print('\\n')\n",
    "#     values = x.values()\n",
    "#     print(values)"
   ]
  },
  {
   "cell_type": "code",
   "execution_count": 11,
   "id": "c2233a36",
   "metadata": {},
   "outputs": [],
   "source": [
    "completed_p_models=[]\n",
    "for x in jsonpmodel['data']:\n",
    "#     print(x['sequence_type'])\n",
    "    m=x['mturk_id']\n",
    "    if(m in completed_participants):\n",
    "        completed_p_models.append(x)\n",
    "        "
   ]
  },
  {
   "cell_type": "code",
   "execution_count": 12,
   "id": "6f3365ae",
   "metadata": {},
   "outputs": [],
   "source": [
    "filename='completedparticipants.json'\n",
    "with open(filename, 'w') as json_file:\n",
    "    json.dump(completed_p_models, json_file, \n",
    "                        indent=4,  \n",
    "                        separators=(',',': '))"
   ]
  },
  {
   "cell_type": "code",
   "execution_count": 13,
   "id": "318cf2e7",
   "metadata": {},
   "outputs": [],
   "source": [
    "c_file=open(filename)\n",
    "c_p=json.load(c_file)"
   ]
  },
  {
   "cell_type": "code",
   "execution_count": 14,
   "id": "ed752b8d",
   "metadata": {},
   "outputs": [],
   "source": [
    "# for x in c_p:\n",
    "#     print(x['mturk_id'])"
   ]
  },
  {
   "cell_type": "markdown",
   "id": "c8c55570",
   "metadata": {},
   "source": [
    "completedparticipants.json is the file that includes data of all participants who completed the task \n",
    "and c_p is the json varible of the file\n",
    "\n"
   ]
  },
  {
   "cell_type": "code",
   "execution_count": 15,
   "id": "75eed3ec",
   "metadata": {},
   "outputs": [],
   "source": [
    "# ----------------Experiment Sequences---------------------------\n",
    "\n",
    "# N : first nbackn difficulty (H/E)\n",
    "\n",
    "# Q : first Questionaire (1: NASA-TLX and 2: MRQ)\n",
    "\n",
    "# S : SakeDifficulty(H/E)\n",
    "\n",
    "# _________________________________________________________________________\n",
    "# seq_number/Progress | 1.n1 | 2.s | 3.q1| 4.q2|5.n2 | 6.s |7.q1 |8.q2 |\n",
    "# _________________________________________________________________________\n",
    "#          1          |  E   | E   |  1  |  2  |  H  |  E  |  1  |  2  |\n",
    "#          2          |  E   | E   |  2  |  1  |  H  |  E  |  2  |  1  |\n",
    "#          3          |  H   | E   |  1  |  2  |  E  |  E  |  1  |  2  |\n",
    "#          4          |  H   | E   |  2  |  1  |  E  |  E  |  2  |  1  |\n",
    "#          5          |  E   | H   |  1  |  2  |  H  |  H  |  1  |  2  |\n",
    "#          6          |  E   | H   |  2  |  1  |  H  |  H  |  2  |  1  |\n",
    "#          7          |  H   | H   |  1  |  2  |  E  |  H  |  1  |  2  |\n",
    "#          8          |  H   | H   |  2  |  1  |  E  |  H  |  2  |  1  |\n",
    "# ________________________________________________________________________\n"
   ]
  },
  {
   "cell_type": "code",
   "execution_count": 16,
   "id": "626d1e64",
   "metadata": {},
   "outputs": [],
   "source": [
    " #  sequence type /progress matrix \n",
    "E_n = 1; # easy nbackn\n",
    "H_n = 3; # hard nbackn\n",
    "E_s = 500;  # easy sak in ms\n",
    "H_s = 1000; #hard sak in ms\n",
    "seq_prog = [\n",
    "    [E_n, E_s, 1, 2, H_n, E_s, 1, 2],\n",
    "    [E_n, E_s, 2, 1, H_n, E_s, 2, 1],\n",
    "    [H_n, E_s, 1, 2, E_n, E_s, 1, 2],\n",
    "    [H_n, E_s, 2, 1, E_n, E_s, 2, 1],\n",
    "    [E_n, H_s, 1, 2, H_n, H_s, 1, 2],\n",
    "    [E_n, H_s, 2, 1, H_n, H_s, 2, 1],\n",
    "    [H_n, H_s, 1, 2, E_n, H_s, 1, 2],\n",
    "    [H_n, H_s, 2, 1, E_n, H_s, 2, 1]\n",
    "];"
   ]
  },
  {
   "cell_type": "markdown",
   "id": "0859200b",
   "metadata": {},
   "source": [
    "conEX : Easy NBACKN----\n",
    "conHX : Hard NBACKN----\n",
    "conXE: Easy SAK----\n",
    "conXH: Hard SAK"
   ]
  },
  {
   "cell_type": "code",
   "execution_count": 132,
   "id": "1ffa95ce",
   "metadata": {},
   "outputs": [],
   "source": [
    "nasa_1_t_array=[]\n",
    "nasa_2_t_array=[]\n",
    "nasa_1_r_array=[]\n",
    "nasa_2_r_array=[]\n",
    "\n",
    "seq_type_array=[]\n",
    "\n",
    "mrq_1_array=[]\n",
    "mrq_2_array=[]\n",
    "\n",
    "mrq_conEH_array=[]\n",
    "mrq_conHH_array=[]\n",
    "mrq_conEE_array=[]\n",
    "mrq_conHE_array=[]\n",
    "\n",
    "nasa_r_conEH_array=[]\n",
    "nasa_r_conHH_array=[]\n",
    "nasa_r_conEE_array=[]\n",
    "nasa_r_conHE_array=[]\n",
    "\n",
    "nasa_t_conEH_array=[]\n",
    "nasa_t_conHH_array=[]\n",
    "nasa_t_conEE_array=[]\n",
    "nasa_t_conHE_array=[]\n",
    "\n",
    "throughput1_array=[]\n",
    "throughput2_array=[]\n",
    "\n",
    "\n",
    "for x in c_p:\n",
    "    st= x['sequence_type']\n",
    "    seq_type_array.append(st)\n",
    "    \n",
    "    sak1= x['sak_1_actions']\n",
    "    sak2= x['sak_2_actions']\n",
    "    sak1t= x['sak_1_actions_t']\n",
    "    sak2t= x['sak_2_actions_t']\n",
    "    \n",
    "    \n",
    "    ntr1= nasa_string_to_int(x['nasa_1_r'][0])\n",
    "    ntr2= nasa_string_to_int(x['nasa_2_r'][0])\n",
    "    ntt1= nasa_string_to_int(x['nasa_1_t'][0])\n",
    "    ntt2= nasa_string_to_int(x['nasa_2_t'][0])\n",
    "\n",
    "    \n",
    "    \n",
    "    nasa_1_r_array.append(ntr1)\n",
    "    nasa_1_t_array.append(ntt1)\n",
    "    nasa_2_r_array.append(ntr2)\n",
    "    nasa_2_t_array.append(ntt2)\n",
    "    \n",
    "    \n",
    "    \n",
    "    \n",
    "    s=x['mrq_1'][0].replace('\"','').replace('[',\"\").replace(']',\"\").split(',')\n",
    "    mrq1 = [int(y) for y in s]\n",
    "    mrq1.pop()\n",
    "    \n",
    "    \n",
    "    s=x['mrq_2'][0].replace('\"','').replace('[',\"\").replace(']',\"\").split(',')\n",
    "    mrq2 = [int(y) for y in s]\n",
    "    mrq2.pop()\n",
    "    \n",
    "    mrq_1_array.append(mrq1)\n",
    "    mrq_2_array.append(mrq2)\n",
    "    \n",
    "    if(st==1 or st==2):\n",
    "        mrq_conEE_array.append(mrq1)\n",
    "        mrq_conHE_array.append(mrq2)\n",
    "        nasa_r_conEE_array.append(ntr1)\n",
    "        nasa_r_conHE_array.append(ntr2)\n",
    "        nasa_t_conEE_array.append(ntt1)\n",
    "        nasa_t_conHE_array.append(ntt2)\n",
    "        #-------------------------------\n",
    "        throughput1= sak_data_to_througput(sak1,sak1t, E_s)\n",
    "        throughput2= sak_data_to_througput(sak2,sak2t, E_s)\n",
    "        \n",
    "\n",
    "       \n",
    "    if(st==3 or st==4):\n",
    "        mrq_conHE_array.append(mrq1)\n",
    "        mrq_conEE_array.append(mrq2)\n",
    "        nasa_r_conHE_array.append(ntr1)\n",
    "        nasa_r_conEE_array.append(ntr2)\n",
    "        nasa_t_conHE_array.append(ntt1)\n",
    "        nasa_t_conEE_array.append(ntt2)\n",
    "        #-------------------------------\n",
    "        throughput1= sak_data_to_througput(sak1,sak1t, E_s)\n",
    "        throughput2= sak_data_to_througput(sak2,sak2t, E_s)\n",
    "\n",
    "\n",
    "        \n",
    "    if(st==5 or st==6):\n",
    "        mrq_conEH_array.append(mrq1)\n",
    "        mrq_conHH_array.append(mrq2)\n",
    "        nasa_r_conEH_array.append(ntr1)\n",
    "        nasa_r_conHH_array.append(ntr2)\n",
    "        nasa_t_conEH_array.append(ntt1)\n",
    "        nasa_t_conHH_array.append(ntt2)\n",
    "        #-------------------------------\n",
    "        throughput1= sak_data_to_througput(sak1,sak1t, H_s)\n",
    "        throughput2= sak_data_to_througput(sak2,sak2t, H_s)\n",
    "        \n",
    "\n",
    "        \n",
    "        \n",
    "    if(st==7 or st==8):\n",
    "        mrq_conHH_array.append(mrq1)\n",
    "        mrq_conEH_array.append(mrq2)\n",
    "        nasa_r_conHH_array.append(ntr1)\n",
    "        nasa_r_conEH_array.append(ntr2)\n",
    "        nasa_t_conHH_array.append(ntt1)\n",
    "        nasa_t_conEH_array.append(ntt2)\n",
    "        #-------------------------------\n",
    "        throughput1= sak_data_to_througput(sak1,sak1t, H_s)\n",
    "        throughput2= sak_data_to_througput(sak2,sak2t, H_s)\n",
    "        \n",
    "    \n",
    "    throughput1_array.append(throughput1)\n",
    "    throughput2_array.append(throughput2)\n",
    "        \n",
    "        \n"
   ]
  },
  {
   "cell_type": "code",
   "execution_count": 130,
   "id": "f49e2725",
   "metadata": {},
   "outputs": [
    {
     "data": {
      "text/plain": [
       "[2.282100959195559,\n",
       " 2.90165077888863,\n",
       " 4.47883320652876,\n",
       " 2.2997904635355444,\n",
       " 1.0221523120517435,\n",
       " 1.3110296438369469,\n",
       " 2.094632504207967,\n",
       " 3.2031319512412137,\n",
       " 1.8626825955594979,\n",
       " 1.8128906063642]"
      ]
     },
     "execution_count": 130,
     "metadata": {},
     "output_type": "execute_result"
    }
   ],
   "source": [
    "throuput1_array"
   ]
  },
  {
   "cell_type": "code",
   "execution_count": 131,
   "id": "2498aeee",
   "metadata": {},
   "outputs": [
    {
     "data": {
      "text/plain": [
       "[2.7484001347254967,\n",
       " 2.8360972151100956,\n",
       " 3.0654081463221483,\n",
       " 1.9932924128330063,\n",
       " 1.2902866108869924,\n",
       " 1.6989346264113547,\n",
       " 0,\n",
       " 3.4656129802958895,\n",
       " 1.7933128308386885,\n",
       " 2.2863830916526604]"
      ]
     },
     "execution_count": 131,
     "metadata": {},
     "output_type": "execute_result"
    }
   ],
   "source": [
    "throuput2_array"
   ]
  },
  {
   "cell_type": "markdown",
   "id": "834336bb",
   "metadata": {},
   "source": [
    "<b>Starting the analysis from here:"
   ]
  },
  {
   "cell_type": "markdown",
   "id": "793c58ee",
   "metadata": {},
   "source": [
    "<hr style=\"width:100%;text-align:left;margin-left:0\">"
   ]
  },
  {
   "cell_type": "markdown",
   "id": "5ca423d8",
   "metadata": {},
   "source": [
    "<b>Analysis 1: Paired t-test to see effect of first task on second one "
   ]
  },
  {
   "cell_type": "markdown",
   "id": "64e307a5",
   "metadata": {},
   "source": [
    "-----------------------------------------------------------------------------------------------------------------------"
   ]
  },
  {
   "cell_type": "markdown",
   "id": "f57c7cb5",
   "metadata": {},
   "source": [
    "<b>First Part for MRQ:</b>\n",
    "\n",
    "r_mrq_pttest, p_mrq_pttest for each dimension separately and for r_mrq_avg,p_mrq_avg for total average as the last element.\n",
    "\n",
    "p_mrq_pttest_adjusted is the adjusted p-values after boneferroni"
   ]
  },
  {
   "cell_type": "code",
   "execution_count": 18,
   "id": "408a0760",
   "metadata": {},
   "outputs": [],
   "source": [
    "mrqEX= mrq_conEE_array + mrq_conEH_array"
   ]
  },
  {
   "cell_type": "code",
   "execution_count": 19,
   "id": "d4f28f2d",
   "metadata": {},
   "outputs": [],
   "source": [
    "mrqHX= mrq_conHE_array + mrq_conHH_array"
   ]
  },
  {
   "cell_type": "code",
   "execution_count": 20,
   "id": "cfc7f638",
   "metadata": {},
   "outputs": [],
   "source": [
    "mrqEX=np.array(mrqEX)"
   ]
  },
  {
   "cell_type": "code",
   "execution_count": 21,
   "id": "4fac629a",
   "metadata": {},
   "outputs": [],
   "source": [
    "mrqHX=np.array(mrqHX)"
   ]
  },
  {
   "cell_type": "code",
   "execution_count": 22,
   "id": "810768e8",
   "metadata": {},
   "outputs": [],
   "source": [
    "r_mrq_pttest=[]\n",
    "p_mrq_pttest=[]\n",
    "\n",
    "for i in range(len(mrqHX[0])):\n",
    "    r,p = stats.ttest_rel(mrqHX[:,i], mrqEX[:,i])\n",
    "    r_mrq_pttest.append(r)\n",
    "    p_mrq_pttest.append(p)\n",
    "    \n",
    "mrqHX_avg_array= np.mean(mrqHX, axis=1)\n",
    "mrqEX_avg_array= np.mean(mrqEX, axis=1)\n",
    "r_mrq_avg,p_mrq_avg = stats.ttest_rel(mrqHX_avg_array,mrqEX_avg_array)\n",
    "\n",
    "r_mrq_pttest.append(r_mrq_avg)\n",
    "p_mrq_pttest.append(p_mrq_avg)"
   ]
  },
  {
   "cell_type": "code",
   "execution_count": 23,
   "id": "312bf7ba",
   "metadata": {},
   "outputs": [],
   "source": [
    "p_mrq_pttest_adjusted = multipletests(p_mrq_pttest, alpha=0.05, method='bonferroni')"
   ]
  },
  {
   "cell_type": "code",
   "execution_count": 24,
   "id": "38adde36",
   "metadata": {},
   "outputs": [
    {
     "data": {
      "text/plain": [
       "(array([False, False, False, False, False, False, False, False, False,\n",
       "        False, False, False, False, False, False, False, False, False]),\n",
       " array([1.        , 1.        , 1.        , 1.        , 1.        ,\n",
       "        1.        , 1.        , 1.        , 0.91805869, 1.        ,\n",
       "        0.95111004, 0.80106367, 1.        ,        nan, 1.        ,\n",
       "        1.        , 1.        , 1.        ]),\n",
       " 0.002845571131556368,\n",
       " 0.002777777777777778)"
      ]
     },
     "execution_count": 24,
     "metadata": {},
     "output_type": "execute_result"
    }
   ],
   "source": [
    "p_mrq_pttest_adjusted"
   ]
  },
  {
   "cell_type": "code",
   "execution_count": 25,
   "id": "7b53ad77",
   "metadata": {},
   "outputs": [
    {
     "data": {
      "text/plain": [
       "[0.4961015555245206,\n",
       " 0.8722883630840339,\n",
       " 0.34343639613791355,\n",
       " 0.16785065605707492,\n",
       " 0.34343639613791355,\n",
       " 0.13818475535118327,\n",
       " 0.811373655241246,\n",
       " 0.27887299924891695,\n",
       " 0.051003260706950763,\n",
       " 0.16785065605707492,\n",
       " 0.05283944651707043,\n",
       " 0.044503537305576386,\n",
       " 0.11076492156976729,\n",
       " nan,\n",
       " 0.1038881310621017,\n",
       " 0.27887299924891695,\n",
       " 0.34343639613791355,\n",
       " 0.07281555477214813]"
      ]
     },
     "execution_count": 25,
     "metadata": {},
     "output_type": "execute_result"
    }
   ],
   "source": [
    "p_mrq_pttest"
   ]
  },
  {
   "cell_type": "markdown",
   "id": "5c0004b0",
   "metadata": {},
   "source": [
    "<b>Second Part for NASA-TLX:</b>\n",
    "\n",
    "r_nasa_pttest, p_nasa_pttest for each dimension separately and for r_nasa_avg,p_nasa_avg for total average as the last element.\n",
    "\n",
    "p_nasa_pttest_adjusted is the adjusted p-values after boneferroni"
   ]
  },
  {
   "cell_type": "code",
   "execution_count": 26,
   "id": "5aee80b3",
   "metadata": {},
   "outputs": [],
   "source": [
    "nasaEX= nasa_r_conEE_array + nasa_r_conEH_array"
   ]
  },
  {
   "cell_type": "code",
   "execution_count": 27,
   "id": "97c39546",
   "metadata": {},
   "outputs": [],
   "source": [
    "nasaHX= nasa_r_conHE_array + nasa_r_conHH_array"
   ]
  },
  {
   "cell_type": "code",
   "execution_count": 28,
   "id": "6330a36a",
   "metadata": {},
   "outputs": [],
   "source": [
    "nasaEX=np.array(nasaEX)"
   ]
  },
  {
   "cell_type": "code",
   "execution_count": 29,
   "id": "cc06d221",
   "metadata": {},
   "outputs": [],
   "source": [
    "nasaHX=np.array(nasaHX)"
   ]
  },
  {
   "cell_type": "code",
   "execution_count": 30,
   "id": "71ed1bb5",
   "metadata": {},
   "outputs": [],
   "source": [
    "r_nasa_pttest=[]\n",
    "p_nasa_pttest=[]\n",
    "\n",
    "for i in range(len(nasaHX[0])):\n",
    "    r,p = stats.ttest_rel(nasaHX[:,i], nasaEX[:,i])\n",
    "    r_nasa_pttest.append(r)\n",
    "    p_nasa_pttest.append(p)\n",
    "    \n",
    "nasaHX_avg_array= np.mean(nasaHX, axis=1)\n",
    "nasaEX_avg_array= np.mean(nasaEX, axis=1)\n",
    "r_nasa_avg,p_nasa_avg = stats.ttest_rel(nasaHX_avg_array,nasaEX_avg_array)\n",
    "\n",
    "r_nasa_pttest.append(r_nasa_avg)\n",
    "p_nasa_pttest.append(p_nasa_avg)"
   ]
  },
  {
   "cell_type": "code",
   "execution_count": 31,
   "id": "26ca9532",
   "metadata": {},
   "outputs": [],
   "source": [
    "p_nasa_pttest_adjusted = multipletests(p_nasa_pttest, alpha=0.05, method='bonferroni')"
   ]
  },
  {
   "cell_type": "code",
   "execution_count": 32,
   "id": "9b10acd1",
   "metadata": {},
   "outputs": [
    {
     "data": {
      "text/plain": [
       "[0.5425520719530796,\n",
       " 0.7640411601083001,\n",
       " 0.3041151886808649,\n",
       " 0.02729189815631593,\n",
       " 0.24892626365964873,\n",
       " 0.09320637160539949,\n",
       " 0.19342205960333203]"
      ]
     },
     "execution_count": 32,
     "metadata": {},
     "output_type": "execute_result"
    }
   ],
   "source": [
    "p_nasa_pttest"
   ]
  },
  {
   "cell_type": "code",
   "execution_count": 33,
   "id": "373daa46",
   "metadata": {},
   "outputs": [
    {
     "data": {
      "text/plain": [
       "(array([False, False, False, False, False, False, False]),\n",
       " array([1.        , 1.        , 1.        , 0.19104329, 1.        ,\n",
       "        0.6524446 , 1.        ]),\n",
       " 0.007300831979014655,\n",
       " 0.0071428571428571435)"
      ]
     },
     "execution_count": 33,
     "metadata": {},
     "output_type": "execute_result"
    }
   ],
   "source": [
    "p_nasa_pttest_adjusted"
   ]
  },
  {
   "cell_type": "markdown",
   "id": "709b5ad8",
   "metadata": {},
   "source": [
    "<hr style=\"width:100%;text-align:left;margin-left:0\">"
   ]
  },
  {
   "cell_type": "markdown",
   "id": "40067692",
   "metadata": {},
   "source": [
    "<b> Analysis 2: two-sample t-test to see effect of one-key text entry task difficulty on questionaires"
   ]
  },
  {
   "cell_type": "markdown",
   "id": "56bd435c",
   "metadata": {},
   "source": [
    "<b>First Part for MRQ:</b>\n",
    "\n",
    "r_mrq_pttest, p_mrq_pttest for each dimension separately and for r_mrq_avg,p_mrq_avg for total average as the last element.\n",
    "\n",
    "p_mrq_pttest_adjusted is the adjusted p-values after boneferroni"
   ]
  },
  {
   "cell_type": "code",
   "execution_count": 34,
   "id": "dec188f0",
   "metadata": {},
   "outputs": [],
   "source": [
    "mrqXE= mrq_conEE_array + mrq_conHE_array"
   ]
  },
  {
   "cell_type": "code",
   "execution_count": 35,
   "id": "ce73be1c",
   "metadata": {},
   "outputs": [],
   "source": [
    "mrqXH= mrq_conEH_array + mrq_conHH_array"
   ]
  },
  {
   "cell_type": "code",
   "execution_count": 36,
   "id": "0c08e7e3",
   "metadata": {},
   "outputs": [],
   "source": [
    "mrqEX=np.array(mrqXE) #just did not want the notation. do not confuse EX and XE "
   ]
  },
  {
   "cell_type": "code",
   "execution_count": 37,
   "id": "6e16b7d7",
   "metadata": {},
   "outputs": [],
   "source": [
    "mrqHX=np.array(mrqXH) #just did not want the notation. do not confuse EX and XE "
   ]
  },
  {
   "cell_type": "code",
   "execution_count": 38,
   "id": "5f61bc41",
   "metadata": {},
   "outputs": [],
   "source": [
    "r_mrq_pttest=[]\n",
    "p_mrq_pttest=[]\n",
    "\n",
    "for i in range(len(mrqHX[0])):\n",
    "    r,p = stats.ttest_ind(mrqHX[:,i], mrqEX[:,i], equal_var=True)\n",
    "    r_mrq_pttest.append(r)\n",
    "    p_mrq_pttest.append(p)\n",
    "    \n",
    "mrqHX_avg_array= np.mean(mrqHX, axis=1)\n",
    "mrqEX_avg_array= np.mean(mrqEX, axis=1)\n",
    "r_mrq_avg,p_mrq_avg = stats.ttest_ind(mrqHX_avg_array,mrqEX_avg_array, equal_var=True)\n",
    "\n",
    "r_mrq_pttest.append(r_mrq_avg)\n",
    "p_mrq_pttest.append(p_mrq_avg)"
   ]
  },
  {
   "cell_type": "code",
   "execution_count": 39,
   "id": "8d13eb30",
   "metadata": {},
   "outputs": [],
   "source": [
    "p_mrq_pttest_adjusted = multipletests(p_mrq_pttest, alpha=0.05, method='bonferroni')"
   ]
  },
  {
   "cell_type": "code",
   "execution_count": 40,
   "id": "f9118235",
   "metadata": {},
   "outputs": [
    {
     "data": {
      "text/plain": [
       "(array([False, False, False, False, False, False, False, False, False,\n",
       "        False, False, False, False, False, False, False, False, False]),\n",
       " array([1.        , 1.        , 1.        , 1.        , 1.        ,\n",
       "        0.62690115, 0.89819393, 0.20015485, 1.        , 1.        ,\n",
       "        1.        , 1.        , 1.        , 1.        , 1.        ,\n",
       "        0.25067513, 1.        , 1.        ]),\n",
       " 0.002845571131556368,\n",
       " 0.002777777777777778)"
      ]
     },
     "execution_count": 40,
     "metadata": {},
     "output_type": "execute_result"
    }
   ],
   "source": [
    "p_mrq_pttest_adjusted"
   ]
  },
  {
   "cell_type": "code",
   "execution_count": 41,
   "id": "8fa0af0e",
   "metadata": {},
   "outputs": [
    {
     "data": {
      "text/plain": [
       "[0.6318736384548027,\n",
       " 0.9026623766357643,\n",
       " 0.6409598012304204,\n",
       " 0.4311073910501848,\n",
       " 0.5579282415825825,\n",
       " 0.034827841408376914,\n",
       " 0.049899662558439035,\n",
       " 0.011119714090839545,\n",
       " 0.529329051766497,\n",
       " 0.06972056607214441,\n",
       " 0.09931472610364016,\n",
       " 0.8734872283133776,\n",
       " 0.6102531520664984,\n",
       " 0.08558567459485754,\n",
       " 0.5579282415825825,\n",
       " 0.013926395886806338,\n",
       " 0.6409598012304204,\n",
       " 0.8840305869851582]"
      ]
     },
     "execution_count": 41,
     "metadata": {},
     "output_type": "execute_result"
    }
   ],
   "source": [
    "p_mrq_pttest"
   ]
  },
  {
   "cell_type": "markdown",
   "id": "8683c563",
   "metadata": {},
   "source": [
    "<b>Second Part for NASA-TLX:</b>\n",
    "\n",
    "r_nasa_pttest, p_nasa_pttest for each dimension separately and for r_nasa_avg,p_nasa_avg for total average as the last element.\n",
    "\n",
    "p_nasa_pttest_adjusted is the adjusted p-values after boneferroni"
   ]
  },
  {
   "cell_type": "code",
   "execution_count": 42,
   "id": "c96903ab",
   "metadata": {},
   "outputs": [],
   "source": [
    "nasaXE= nasa_r_conEE_array + nasa_r_conHE_array"
   ]
  },
  {
   "cell_type": "code",
   "execution_count": 43,
   "id": "830c76b7",
   "metadata": {},
   "outputs": [],
   "source": [
    "nasaXH= nasa_r_conHH_array + nasa_r_conEH_array"
   ]
  },
  {
   "cell_type": "code",
   "execution_count": 44,
   "id": "de66f519",
   "metadata": {},
   "outputs": [],
   "source": [
    "nasaEX=np.array(nasaXE) #just did not want the notation. do not confuse EX and XE "
   ]
  },
  {
   "cell_type": "code",
   "execution_count": 45,
   "id": "9f9fff99",
   "metadata": {},
   "outputs": [],
   "source": [
    "nasaHX=np.array(nasaXH) #just did not want the notation. do not confuse EX and XE "
   ]
  },
  {
   "cell_type": "code",
   "execution_count": 46,
   "id": "339d2923",
   "metadata": {},
   "outputs": [],
   "source": [
    "r_nasa_pttest=[]\n",
    "p_nasa_pttest=[]\n",
    "\n",
    "for i in range(len(nasaHX[0])):\n",
    "    r,p = stats.ttest_ind(nasaHX[:,i], nasaEX[:,i], equal_var=True)\n",
    "    r_nasa_pttest.append(r)\n",
    "    p_nasa_pttest.append(p)\n",
    "    \n",
    "nasaHX_avg_array= np.mean(nasaHX, axis=1)\n",
    "nasaEX_avg_array= np.mean(nasaEX, axis=1)\n",
    "r_nasa_avg,p_nasa_avg = stats.ttest_ind(nasaHX_avg_array,nasaEX_avg_array, equal_var=True)\n",
    "\n",
    "r_nasa_pttest.append(r_nasa_avg)\n",
    "p_nasa_pttest.append(p_nasa_avg)"
   ]
  },
  {
   "cell_type": "code",
   "execution_count": 47,
   "id": "12fbfb8f",
   "metadata": {},
   "outputs": [],
   "source": [
    "p_nasa_pttest_adjusted = multipletests(p_nasa_pttest, alpha=0.05, method='bonferroni')"
   ]
  },
  {
   "cell_type": "code",
   "execution_count": 48,
   "id": "4b8aa3bf",
   "metadata": {},
   "outputs": [
    {
     "data": {
      "text/plain": [
       "[0.7626409476526955,\n",
       " 0.45196241071737864,\n",
       " 0.7223426580055808,\n",
       " 0.04916357935218538,\n",
       " 0.03660581627809237,\n",
       " 0.47477186808710925,\n",
       " 0.44429401233427646]"
      ]
     },
     "execution_count": 48,
     "metadata": {},
     "output_type": "execute_result"
    }
   ],
   "source": [
    "p_nasa_pttest"
   ]
  },
  {
   "cell_type": "code",
   "execution_count": 49,
   "id": "941332a6",
   "metadata": {},
   "outputs": [
    {
     "data": {
      "text/plain": [
       "(array([False, False, False, False, False, False, False]),\n",
       " array([1.        , 1.        , 1.        , 0.34414506, 0.25624071,\n",
       "        1.        , 1.        ]),\n",
       " 0.007300831979014655,\n",
       " 0.0071428571428571435)"
      ]
     },
     "execution_count": 49,
     "metadata": {},
     "output_type": "execute_result"
    }
   ],
   "source": [
    "p_nasa_pttest_adjusted"
   ]
  },
  {
   "cell_type": "markdown",
   "id": "1768a6e2",
   "metadata": {},
   "source": [
    "<hr style=\"width:100%;text-align:left;margin-left:0\">\n",
    "<hr style=\"width:100%;text-align:left;margin-left:0\">"
   ]
  },
  {
   "cell_type": "markdown",
   "id": "276d5115",
   "metadata": {},
   "source": [
    "<b> Analysis 3: Pearson Correlation to see the correlation of two questionaires' scale"
   ]
  },
  {
   "cell_type": "code",
   "execution_count": 50,
   "id": "d60da297",
   "metadata": {},
   "outputs": [],
   "source": [
    "nasa_r_array_pc = []\n",
    "nasa_r_array_pc.extend(nasa_1_r_array)\n",
    "nasa_r_array_pc.extend(nasa_2_r_array)\n",
    "\n",
    "mrq_array_pc = []\n",
    "mrq_array_pc.extend(mrq_1_array)\n",
    "mrq_array_pc.extend(mrq_2_array)\n",
    "\n",
    "nasa_r_array_pc=np.array(nasa_r_array_pc)\n",
    "mrq_array_pc=np.array(mrq_array_pc)\n",
    "\n",
    "nasa_r_array_pc_avg = np.mean(nasa_r_array_pc, axis=1)\n",
    "mrq_array_pc_avg = np.mean(mrq_array_pc, axis=1)"
   ]
  },
  {
   "cell_type": "code",
   "execution_count": 51,
   "id": "357572d0",
   "metadata": {
    "scrolled": true
   },
   "outputs": [],
   "source": [
    "new_mrq_array_pc = []\n",
    "new_nasa_r_array_pc = []\n",
    "\n",
    "for ix in range(len(mrq_array_pc_avg)):\n",
    "    new_mrq_array_pc.append(np.append(mrq_array_pc_avg[ix],mrq_array_pc[ix]))\n",
    "    new_nasa_r_array_pc.append(np.append(nasa_r_array_pc_avg[ix],nasa_r_array_pc[ix]))"
   ]
  },
  {
   "cell_type": "code",
   "execution_count": 52,
   "id": "e2586fc3",
   "metadata": {},
   "outputs": [],
   "source": [
    "new_mrq_array_pc = np.array(new_mrq_array_pc)"
   ]
  },
  {
   "cell_type": "code",
   "execution_count": 53,
   "id": "b00b90f6",
   "metadata": {},
   "outputs": [],
   "source": [
    "new_nasa_r_array_pc = np.array(new_nasa_r_array_pc)"
   ]
  },
  {
   "cell_type": "code",
   "execution_count": 54,
   "id": "53c0eebe",
   "metadata": {},
   "outputs": [],
   "source": [
    "new_mrq_array_pc= np.transpose(new_mrq_array_pc)"
   ]
  },
  {
   "cell_type": "code",
   "execution_count": 55,
   "id": "4548ca11",
   "metadata": {},
   "outputs": [],
   "source": [
    "new_nasa_r_array_pc=  np.transpose(new_nasa_r_array_pc)"
   ]
  },
  {
   "cell_type": "code",
   "execution_count": 56,
   "id": "f95d776d",
   "metadata": {},
   "outputs": [],
   "source": [
    "c_matrix=np.zeros((len(new_nasa_r_array_pc),len(new_mrq_array_pc)))\n",
    "p_matrix=np.zeros((len(new_nasa_r_array_pc),len(new_mrq_array_pc)))\n",
    "for i in range(len(new_nasa_r_array_pc)):\n",
    "    for j in range(len(new_mrq_array_pc)):\n",
    "        c,p = stats.pearsonr(new_nasa_r_array_pc[i], new_mrq_array_pc[j])\n",
    "        c_matrix[i][j]=c\n",
    "        p_matrix[i][j]=p"
   ]
  },
  {
   "cell_type": "code",
   "execution_count": 57,
   "id": "e1da6ef1",
   "metadata": {},
   "outputs": [
    {
     "data": {
      "text/plain": [
       "array([0.09554055, 0.33027402, 1.        , 1.        , 1.        ,\n",
       "       1.        , 1.        , 1.        , 1.        , 1.        ,\n",
       "       1.        , 1.        , 1.        , 0.75867089, 1.        ,\n",
       "       0.05759135, 1.        , 1.        , 1.        , 1.        ,\n",
       "       1.        , 1.        , 1.        , 1.        , 1.        ,\n",
       "       1.        , 1.        , 1.        , 1.        , 1.        ,\n",
       "       1.        , 0.97670868, 1.        , 1.        , 1.        ,\n",
       "       1.        , 0.0036648 , 0.05624591, 1.        , 1.        ,\n",
       "       0.20234468, 1.        , 1.        , 1.        , 1.        ,\n",
       "       0.60248827, 1.        , 1.        , 1.        , 0.00556938,\n",
       "       1.        , 1.        , 1.        , 0.2951252 , 1.        ,\n",
       "       1.        , 1.        , 1.        , 1.        , 1.        ,\n",
       "       1.        , 1.        , 1.        , 1.        , 1.        ,\n",
       "       1.        , 1.        , 1.        , 1.        , 1.        ,\n",
       "       1.        , 1.        , 1.        , 1.        , 1.        ,\n",
       "       1.        , 1.        , 1.        , 1.        , 1.        ,\n",
       "       1.        , 1.        , 1.        , 1.        , 1.        ,\n",
       "       1.        , 1.        , 1.        , 1.        , 1.        ,\n",
       "       0.40746627, 0.58942868, 1.        , 1.        , 1.        ,\n",
       "       1.        , 1.        , 1.        , 1.        , 1.        ,\n",
       "       0.42863375, 1.        , 1.        , 1.        , 0.27117616,\n",
       "       0.08829022, 1.        , 1.        , 1.        , 1.        ,\n",
       "       1.        , 1.        , 1.        , 1.        , 1.        ,\n",
       "       1.        , 1.        , 1.        , 1.        , 1.        ,\n",
       "       1.        , 1.        , 1.        , 1.        , 1.        ,\n",
       "       1.        ])"
      ]
     },
     "execution_count": 57,
     "metadata": {},
     "output_type": "execute_result"
    }
   ],
   "source": [
    "rej_matrix, p_matrix_adjusted, c_b, p_b = multipletests(p_matrix.reshape(-1), alpha=0.05, method='bonferroni')\n",
    "p_matrix_adjusted"
   ]
  },
  {
   "cell_type": "markdown",
   "id": "bc9e7f9e",
   "metadata": {},
   "source": [
    "Correllation of average values and each dimention separately-- zero indices are for averages"
   ]
  },
  {
   "cell_type": "code",
   "execution_count": 58,
   "id": "592bd5fd",
   "metadata": {},
   "outputs": [],
   "source": [
    "p_matrix_adjusted= np.array(p_matrix_adjusted).reshape(7,18)\n",
    "rej_matrix= np.array(rej_matrix).reshape(7,18)"
   ]
  },
  {
   "cell_type": "code",
   "execution_count": 59,
   "id": "9ea6e031",
   "metadata": {},
   "outputs": [
    {
     "data": {
      "text/plain": [
       "array([[False, False, False, False, False, False, False, False, False,\n",
       "        False, False, False, False, False, False, False, False, False],\n",
       "       [False, False, False, False, False, False, False, False, False,\n",
       "        False, False, False, False, False, False, False, False, False],\n",
       "       [ True, False, False, False, False, False, False, False, False,\n",
       "        False, False, False, False,  True, False, False, False, False],\n",
       "       [False, False, False, False, False, False, False, False, False,\n",
       "        False, False, False, False, False, False, False, False, False],\n",
       "       [False, False, False, False, False, False, False, False, False,\n",
       "        False, False, False, False, False, False, False, False, False],\n",
       "       [False, False, False, False, False, False, False, False, False,\n",
       "        False, False, False, False, False, False, False, False, False],\n",
       "       [False, False, False, False, False, False, False, False, False,\n",
       "        False, False, False, False, False, False, False, False, False]])"
      ]
     },
     "execution_count": 59,
     "metadata": {},
     "output_type": "execute_result"
    }
   ],
   "source": [
    "rej_matrix"
   ]
  },
  {
   "cell_type": "code",
   "execution_count": 60,
   "id": "2320a507",
   "metadata": {},
   "outputs": [
    {
     "data": {
      "text/plain": [
       "<AxesSubplot:>"
      ]
     },
     "execution_count": 60,
     "metadata": {},
     "output_type": "execute_result"
    },
    {
     "data": {
      "image/png": "[encoded data removed]",
      "text/plain": [
       "<Figure size 432x288 with 2 Axes>"
      ]
     },
     "metadata": {
      "needs_background": "light"
     },
     "output_type": "display_data"
    }
   ],
   "source": [
    "sns.heatmap(rej_matrix,annot=True)"
   ]
  },
  {
   "cell_type": "code",
   "execution_count": 61,
   "id": "46916f77",
   "metadata": {},
   "outputs": [
    {
     "data": {
      "text/plain": [
       "array([[0.09554055, 0.33027402, 1.        , 1.        , 1.        ,\n",
       "        1.        , 1.        , 1.        , 1.        , 1.        ,\n",
       "        1.        , 1.        , 1.        , 0.75867089, 1.        ,\n",
       "        0.05759135, 1.        , 1.        ],\n",
       "       [1.        , 1.        , 1.        , 1.        , 1.        ,\n",
       "        1.        , 1.        , 1.        , 1.        , 1.        ,\n",
       "        1.        , 1.        , 1.        , 0.97670868, 1.        ,\n",
       "        1.        , 1.        , 1.        ],\n",
       "       [0.0036648 , 0.05624591, 1.        , 1.        , 0.20234468,\n",
       "        1.        , 1.        , 1.        , 1.        , 0.60248827,\n",
       "        1.        , 1.        , 1.        , 0.00556938, 1.        ,\n",
       "        1.        , 1.        , 0.2951252 ],\n",
       "       [1.        , 1.        , 1.        , 1.        , 1.        ,\n",
       "        1.        , 1.        , 1.        , 1.        , 1.        ,\n",
       "        1.        , 1.        , 1.        , 1.        , 1.        ,\n",
       "        1.        , 1.        , 1.        ],\n",
       "       [1.        , 1.        , 1.        , 1.        , 1.        ,\n",
       "        1.        , 1.        , 1.        , 1.        , 1.        ,\n",
       "        1.        , 1.        , 1.        , 1.        , 1.        ,\n",
       "        1.        , 1.        , 1.        ],\n",
       "       [0.40746627, 0.58942868, 1.        , 1.        , 1.        ,\n",
       "        1.        , 1.        , 1.        , 1.        , 1.        ,\n",
       "        0.42863375, 1.        , 1.        , 1.        , 0.27117616,\n",
       "        0.08829022, 1.        , 1.        ],\n",
       "       [1.        , 1.        , 1.        , 1.        , 1.        ,\n",
       "        1.        , 1.        , 1.        , 1.        , 1.        ,\n",
       "        1.        , 1.        , 1.        , 1.        , 1.        ,\n",
       "        1.        , 1.        , 1.        ]])"
      ]
     },
     "execution_count": 61,
     "metadata": {},
     "output_type": "execute_result"
    }
   ],
   "source": [
    "p_matrix_adjusted"
   ]
  },
  {
   "cell_type": "markdown",
   "id": "751c194a",
   "metadata": {},
   "source": [
    "<hr style=\"width:100%;text-align:left;margin-left:0\">\n",
    "<hr style=\"width:100%;text-align:left;margin-left:0\">\n",
    "\n",
    "<b>ANALYSIS 4:  Factor Analysis -- Determining which scales are better predictors \n",
    "    "
   ]
  },
  {
   "cell_type": "code",
   "execution_count": 62,
   "id": "9b7ef177",
   "metadata": {},
   "outputs": [],
   "source": [
    "fa_array = []\n",
    "\n",
    "for ix in range(len(mrq_array_pc)):\n",
    "    fa_array.append(np.append(mrq_array_pc[ix],nasa_r_array_pc[ix]))\n",
    "\n",
    "fa_array=np.array(fa_array)"
   ]
  },
  {
   "cell_type": "code",
   "execution_count": 63,
   "id": "8ea7f849",
   "metadata": {},
   "outputs": [
    {
     "data": {
      "text/plain": [
       "(1733.9718133080592, 8.641629482934509e-219)"
      ]
     },
     "execution_count": 63,
     "metadata": {},
     "output_type": "execute_result"
    }
   ],
   "source": [
    "chi_square_value,p_value=calculate_bartlett_sphericity(fa_array)\n",
    "chi_square_value, p_value"
   ]
  },
  {
   "cell_type": "code",
   "execution_count": 66,
   "id": "4a9b4725",
   "metadata": {},
   "outputs": [],
   "source": [
    "kmo_all,kmo_model = calculate_kmo(fa_array)"
   ]
  },
  {
   "cell_type": "code",
   "execution_count": 69,
   "id": "d68e3533",
   "metadata": {},
   "outputs": [
    {
     "data": {
      "text/plain": [
       "(array([nan, nan, nan, nan, nan, nan, nan, nan, nan, nan, nan, nan, nan,\n",
       "        nan, nan, nan, nan, nan, nan, nan, nan, nan, nan]),\n",
       " nan)"
      ]
     },
     "execution_count": 69,
     "metadata": {},
     "output_type": "execute_result"
    }
   ],
   "source": [
    "kmo_all,kmo_model"
   ]
  },
  {
   "cell_type": "code",
   "execution_count": 75,
   "id": "9d41f826",
   "metadata": {},
   "outputs": [
    {
     "data": {
      "text/plain": [
       "array([ 7.76711403e+00,  4.22016131e+00,  1.96600118e+00,  1.77554487e+00,\n",
       "        1.46457339e+00,  1.34533537e+00,  1.04620206e+00,  8.20462622e-01,\n",
       "        6.66831215e-01,  5.42460582e-01,  3.72292705e-01,  3.23563000e-01,\n",
       "        2.30283530e-01,  1.97861311e-01,  1.40134762e-01,  8.62099093e-02,\n",
       "        1.89263808e-02,  1.25360455e-02,  3.50573618e-03,  3.95566816e-16,\n",
       "        2.68900304e-16,  5.90080260e-17, -1.83268475e-16])"
      ]
     },
     "execution_count": 75,
     "metadata": {},
     "output_type": "execute_result"
    }
   ],
   "source": [
    "# Create factor analysis object and perform factor analysis\n",
    "fa = FactorAnalyzer()\n",
    "#fa.analyze(fa_array, 25, rotation=None)\n",
    "fa.fit(fa_array, 23)\n",
    "eigen_values, vectors = fa.get_eigenvalues()\n",
    "# Check Eigenvalues\n",
    "ev, v = fa.get_eigenvalues()\n",
    "ev"
   ]
  },
  {
   "cell_type": "code",
   "execution_count": 82,
   "id": "486439e4",
   "metadata": {},
   "outputs": [
    {
     "data": {
      "text/plain": [
       "array([[ 0.64974082,  0.1710853 ,  0.15979088],\n",
       "       [ 0.35770483, -0.00463476, -0.00860211],\n",
       "       [ 0.64889013, -0.06763527, -0.01175392],\n",
       "       [ 0.90829504, -0.16337627, -0.14939492],\n",
       "       [ 0.28300876,  0.33131936, -0.06880527],\n",
       "       [ 0.28707442,  0.01501979,  0.52281827],\n",
       "       [ 0.0473322 , -0.00911862,  0.56590303],\n",
       "       [-0.28512313,  0.37912316,  1.06964534],\n",
       "       [ 0.55598022,  0.31291423,  0.15827185],\n",
       "       [ 0.15400476,  0.67200686, -0.4833451 ],\n",
       "       [ 0.40526432, -0.25492894,  0.44707035],\n",
       "       [ 0.17055372,  0.60466103,  0.20238646],\n",
       "       [ 0.82974677,  0.00480014,  0.06258577],\n",
       "       [ 0.24809614,  0.53620254, -0.60060834],\n",
       "       [-0.06758754,  1.01450454,  0.20987744],\n",
       "       [ 0.04777162,  0.57383694, -0.47346603],\n",
       "       [ 0.57423547,  0.0601674 , -0.02657047],\n",
       "       [ 0.62400164,  0.0387261 , -0.08971496],\n",
       "       [ 0.79784885,  0.1642301 ,  0.22997145],\n",
       "       [ 0.27830519,  0.30905601,  0.13190688],\n",
       "       [-0.68068568,  0.69997777,  0.11031172],\n",
       "       [ 0.39241371,  0.56997338, -0.17314027],\n",
       "       [ 0.50736257,  0.22697755, -0.05505331]])"
      ]
     },
     "execution_count": 82,
     "metadata": {},
     "output_type": "execute_result"
    }
   ],
   "source": [
    "fa = FactorAnalyzer()\n",
    "fa.fit(fa_array,6)\n",
    "fa.loadings_"
   ]
  },
  {
   "cell_type": "code",
   "execution_count": 83,
   "id": "8e040dd6",
   "metadata": {},
   "outputs": [
    {
     "data": {
      "text/plain": [
       "(array([5.63313544, 3.93449469, 3.0471134 ]),\n",
       " array([0.24491893, 0.17106499, 0.13248319]),\n",
       " array([0.24491893, 0.41598392, 0.54846711]))"
      ]
     },
     "execution_count": 83,
     "metadata": {},
     "output_type": "execute_result"
    }
   ],
   "source": [
    "# Get variance of each factors\n",
    "fa.get_factor_variance()\n",
    "# Exploratory Factor Analysis To find how many factors are present in the data\n",
    "# Finding how many factors are present in the data\n",
    "\n",
    "\n",
    "# fa = FactorAnalyzer()\n",
    "# Factors=fa.fit(fa_array)\n",
    " \n",
    "# # Plotting the scree-plot\n",
    "# EigenValues=Factors.get_eigenvalues()\n",
    "\n",
    "# plt.plot(EigenValues)"
   ]
  },
  {
   "cell_type": "markdown",
   "id": "1c6d677d",
   "metadata": {},
   "source": [
    "-------------------------------------------------------------------------------------------------------------------------------\n",
    "\n",
    "<hr style=\"width:100%;text-align:left;margin-left:0\">\n",
    "<b>ANALYSIS 5: Performance vs MWL"
   ]
  },
  {
   "cell_type": "code",
   "execution_count": 180,
   "id": "02d12755",
   "metadata": {},
   "outputs": [],
   "source": [
    "mrq_t_pq = mrq_1_array + mrq_2_array\n",
    "mrq_t_pq = np.array(mrq_t_pq)\n",
    "mrq_t_pq_avg = mrq_t_pq.mean(axis=1)"
   ]
  },
  {
   "cell_type": "code",
   "execution_count": 181,
   "id": "e1041a99",
   "metadata": {},
   "outputs": [],
   "source": [
    "nasa_r_t_pq = nasa_1_r_array+nasa_2_r_array\n",
    "nasa_r_t_pq = np.array(nasa_r_t_pq)\n",
    "nasa_r_t_pq_avg = nasa_r_t_pq.mean(axis=1)"
   ]
  },
  {
   "cell_type": "code",
   "execution_count": 182,
   "id": "94d721a4",
   "metadata": {},
   "outputs": [],
   "source": [
    "throughput_t_pq = throughput1_array+throughput2_array\n",
    "throughput_t_pq = np.array(throughput_t_pq)\n",
    "throughput_t_pq[12]=0\n",
    "throughput_t_pq[8]=0"
   ]
  },
  {
   "cell_type": "code",
   "execution_count": 183,
   "id": "6fad01bf",
   "metadata": {},
   "outputs": [],
   "source": [
    "to_delete_indices=[]\n",
    "for i in range(len(throughput_t_pq)):\n",
    "    if(throughput_t_pq[i]==0):\n",
    "        to_delete_indices.append(i)\n",
    "\n",
    "for j in range(len(to_delete_indices)):  \n",
    "    i=len(to_delete_indices)-j-1\n",
    "    throughput_t_pq=np.delete(throughput_t_pq,[i])\n",
    "    nasa_r_t_pq_avg=np.delete(nasa_r_t_pq_avg,[i])\n",
    "    mrq_t_pq_avg=np.delete(mrq_t_pq_avg,[i])\n",
    "    nasa_r_t_pq=np.delete(nasa_r_t_pq,[i])\n",
    "    mrq_t_pq=np.delete(mrq_t_pq,[i])"
   ]
  },
  {
   "cell_type": "markdown",
   "id": "8eb81374",
   "metadata": {},
   "source": [
    "<b> Correlation of performance and mrq-avg"
   ]
  },
  {
   "cell_type": "code",
   "execution_count": 186,
   "id": "f0bc43ad",
   "metadata": {},
   "outputs": [],
   "source": [
    "cmrq,pmrq = stats.pearsonr(mrq_t_pq_avg, throughput_t_pq)\n",
    "print(\"MRQ -- C: \"+str(cmrq)+\" P-value: \"+str(pmrq))"
   ]
  },
  {
   "cell_type": "markdown",
   "id": "b7df84c4",
   "metadata": {},
   "source": [
    "<b> Correlation of performance and nasa-tlx-avg"
   ]
  },
  {
   "cell_type": "code",
   "execution_count": 188,
   "id": "a878970a",
   "metadata": {},
   "outputs": [],
   "source": [
    "cnasa,pnasa = stats.pearsonr(nasa_r_t_pq_avg, throughput_t_pq)\n",
    "print(\"NASA-TLX -- C: \"+str(cnasa)+\" P-value: \"+str(pnasa))"
   ]
  },
  {
   "cell_type": "code",
   "execution_count": null,
   "id": "2ecd39a8",
   "metadata": {},
   "outputs": [],
   "source": []
  },
  {
   "cell_type": "code",
   "execution_count": null,
   "id": "e558a5b3",
   "metadata": {},
   "outputs": [],
   "source": []
  }
 ],
 "metadata": {
  "kernelspec": {
   "display_name": "Python 3 (ipykernel)",
   "language": "python",
   "name": "python3"
  },
  "language_info": {
   "codemirror_mode": {
    "name": "ipython",
    "version": 3
   },
   "file_extension": ".py",
   "mimetype": "text/x-python",
   "name": "python",
   "nbconvert_exporter": "python",
   "pygments_lexer": "ipython3",
   "version": "3.9.12"
  }
 },
 "nbformat": 4,
 "nbformat_minor": 5
}
