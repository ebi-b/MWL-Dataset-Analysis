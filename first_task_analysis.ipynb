{
 "cells": [
  {
   "cell_type": "markdown",
   "id": "7d8b9c7c",
   "metadata": {},
   "source": [
    "Reading from the files and separating participants who completed the tasks from the rest."
   ]
  },
  {
   "cell_type": "code",
   "execution_count": 1,
   "id": "4b8eb23f",
   "metadata": {},
   "outputs": [],
   "source": [
    "import json\n",
    "import numpy as np\n",
    "import scipy.stats as stats\n",
    "import statistics\n",
    "from statsmodels.sandbox.stats.multicomp import multipletests\n",
    "import seaborn as sns\n",
    "from factor_analyzer import FactorAnalyzer\n",
    "import matplotlib.pyplot as plt\n",
    "from factor_analyzer.factor_analyzer import calculate_kmo\n",
    "from factor_analyzer.factor_analyzer import calculate_bartlett_sphericity"
   ]
  },
  {
   "cell_type": "code",
   "execution_count": 2,
   "id": "832bf619",
   "metadata": {},
   "outputs": [],
   "source": [
    "def nasa_string_to_int(nasa_string):\n",
    "    sn= nasa_string.replace('[','').replace(']','').split(',')\n",
    "    ntr1 = [int(y) for y in sn]\n",
    "    return ntr1"
   ]
  },
  {
   "cell_type": "code",
   "execution_count": 3,
   "id": "2bbbeea0",
   "metadata": {},
   "outputs": [],
   "source": [
    "def sak_data_to_througput(sak1, sak1t ,diflevel):\n",
    "    if(len(sak1)>0):\n",
    "        l= len(sak1[0].replace(\" \",''))\n",
    "        t= sak1t[len(sak1t)-1]-sak1t[0]\n",
    "        SPC=(float(t)/diflevel)/l\n",
    "        T=(1/float(SPC))*(1000/float(diflevel))*(60/5)\n",
    "    else:\n",
    "        T=0\n",
    "        \n",
    "    return T\n",
    "        "
   ]
  },
  {
   "cell_type": "code",
   "execution_count": 4,
   "id": "0155c826",
   "metadata": {},
   "outputs": [],
   "source": [
    "# Opening JSON file\n",
    "f = open('output2-99p.json')"
   ]
  },
  {
   "cell_type": "code",
   "execution_count": 5,
   "id": "c0148972",
   "metadata": {},
   "outputs": [],
   "source": [
    "data = json.load(f)"
   ]
  },
  {
   "cell_type": "code",
   "execution_count": 6,
   "id": "05352d92",
   "metadata": {},
   "outputs": [],
   "source": [
    "# for x in data['data']:\n",
    "#     keys = x.keys()\n",
    "#     print(keys)\n",
    "#     values = x.values()\n",
    "#     print(values)\n",
    "#     print(x['completed'])\n",
    "    "
   ]
  },
  {
   "cell_type": "code",
   "execution_count": 7,
   "id": "547dcacd",
   "metadata": {},
   "outputs": [
    {
     "data": {
      "text/plain": [
       "['62a1e48f9b6f6ae44dbb9f88',\n",
       " '5fd66c119e1fc75723a40b51',\n",
       " '60356e7fa40d4ebe1700d736',\n",
       " '5bd7912fbeca730001ced776',\n",
       " '60b904a66604f5e79c6066dd',\n",
       " '5b661bc3259daf00019369f2',\n",
       " '5baa21188a01680001ff1a6f',\n",
       " '62838b88bc35e0497491f8e4',\n",
       " '6023df50d5c2d7069115de3f',\n",
       " '60c048ca962103e0da201a34',\n",
       " '5b61d0768de04c000171cf1b',\n",
       " '6128188a420f8d3f27f8d8b1',\n",
       " '62b1f567d5f22515024421f1',\n",
       " '60b7ae30dc4cd72192734427',\n",
       " '6055063167ae2fa5dcb083a3',\n",
       " '5ec153013043d0034ac516bd',\n",
       " '60b005fde343f75a2b76d406',\n",
       " '609c2dcbc88bdd19e0be4b98',\n",
       " '60a0c79b332c02c8a73e57a5',\n",
       " '5e7987df47422a5443426cd7',\n",
       " '606825124609b3da3a68e07c',\n",
       " '61013bb782e4014ecabafee1',\n",
       " '60214feec65df50cd6837a48',\n",
       " '5fa154fd4cbe97227182aff7',\n",
       " '612266b4f9ae4a5d04a21dd4',\n",
       " '5f3287b83428cb05746e2214',\n",
       " '5a75b131eea3d300016ddc70',\n",
       " '615e0f1896ecb10608aa6eca',\n",
       " '5e6473fbc15dbe1f71eea95b',\n",
       " '5bc880109f7801000148601b',\n",
       " '60de9d0dc5c9e34e09b6385d',\n",
       " '5d8186b89d5990001958d771',\n",
       " '601f249c952eef4747d890ae',\n",
       " '5cfd0b3f0526d1000184ad8f',\n",
       " '62e49d54d098755e2b955ad6',\n",
       " '60327d95fb5e6823d96d15a0',\n",
       " '5f0446dd71b11967ef18582b',\n",
       " '5def25382ae0425c6823feb7',\n",
       " '60af93df5b5879e922923c41',\n",
       " '5f0285dc9ae0b911b5f97dfe',\n",
       " '5d780c22e37f710019b96738',\n",
       " '5d877c37c3e7ca001816fb8f',\n",
       " '616e82276b6e656d70dd08bf',\n",
       " '60c6fdf79ece6416c491ea7e',\n",
       " '56b19bb2390ebc000c5c095e',\n",
       " '5b0f33dd1e55760001b9a9ce',\n",
       " '5d453e8723a5bb0001492546',\n",
       " '5c4f5967aac8be0001716a65',\n",
       " '60fd01772abe50a34a91059f',\n",
       " '62da6a4185dee3073f16d483',\n",
       " '5b6b2a28595041000164d590',\n",
       " '62b43755f6be0c82be3cb760',\n",
       " '5ff1e9e97e067a6157742ad3',\n",
       " '5953aa1e1ebf4800018a57a9',\n",
       " '5986de614875a80001c9a1be',\n",
       " '5c98c51774cc7f0001e67c8c',\n",
       " '614ae8dbcd4d31f05be56645',\n",
       " '6147705961fc2207ce68748c',\n",
       " '60be8efc2d564bcd4c8896b4',\n",
       " '5debccb0389fde2b5e13fcea',\n",
       " '6106919acfdc82263f1297d9',\n",
       " '60bd2d6d5394b4193e503cfc',\n",
       " '5c3476a2f5ebd50001841284',\n",
       " '5fd3789cee06d705f5e783cc',\n",
       " '62da6a553aaca6fffb50307f',\n",
       " '60ccf8132d00b57fbb70fa5c',\n",
       " '61656042f505fd7fa53e8628',\n",
       " '5baa5c962eb8020001f1ed3a',\n",
       " '5b9bb8807b196f0001953938',\n",
       " '60fd1ae376361e9061f5121a',\n",
       " '62e84fc05d2ee856c53e341f',\n",
       " '5f992a860fbcaa247cb2750f',\n",
       " '60a78f10810fb961978e053d',\n",
       " '5f3b57cac59223869cac993c',\n",
       " '6058af7fb68efdbcf94665f8',\n",
       " '60aad516e34718d318bfb44d',\n",
       " '60dc5e8272ee7f6f9e4f65b6',\n",
       " '60abcd6f3e5efd9fca235828',\n",
       " '5c6e26630c45820001b851d3',\n",
       " '5fb094d6b70b2d49df350885',\n",
       " '614e34945dfd7dfcc9012760',\n",
       " '60895dd42aa4dab10a53566c',\n",
       " '60719a0a6d49b6b7788b66e6',\n",
       " '5f3564b62bf81050b280143e',\n",
       " '60cec3cb9d48cb1445d4118a',\n",
       " '5edf8803c008532459792282',\n",
       " '5ee1964c3a959e1bee32e637',\n",
       " '5b7a202b338a93000154d774',\n",
       " '6088e7b7d327c199db58cf61',\n",
       " '6041b56b79facd1d274db0a4',\n",
       " '611183c67911657721712872',\n",
       " '61632b0d81a3b06ceb8b7e50',\n",
       " '60407d08a1523627f8428de6',\n",
       " '606ff58ec50bfe6658675c7d',\n",
       " '5ef51e6f12ad1916a987fde1',\n",
       " '5f9e93bb62e24043c32378d7',\n",
       " '60fcddbc7fc9ec2f57576153',\n",
       " '5b9ca13a06114100010699b8']"
      ]
     },
     "execution_count": 7,
     "metadata": {},
     "output_type": "execute_result"
    }
   ],
   "source": [
    "completed_participants=[]\n",
    "for x in data['data']:\n",
    "    if(x['completed']):\n",
    "        completed_participants.append(x['mturk_id'])\n",
    "# print(completed_participants)\n",
    "\n",
    "completed_participants"
   ]
  },
  {
   "cell_type": "code",
   "execution_count": 8,
   "id": "12c62e9c",
   "metadata": {},
   "outputs": [],
   "source": [
    "f = open('output1-99p.json')"
   ]
  },
  {
   "cell_type": "code",
   "execution_count": 9,
   "id": "d4c31c02",
   "metadata": {},
   "outputs": [],
   "source": [
    "jsonpmodel = json.load(f)"
   ]
  },
  {
   "cell_type": "code",
   "execution_count": 10,
   "id": "ff72c77a",
   "metadata": {},
   "outputs": [],
   "source": [
    "# for x in data['data']:\n",
    "#     keys = x.keys()\n",
    "#     print(keys)\n",
    "#     print('\\n')\n",
    "#     values = x.values()\n",
    "#     print(values)"
   ]
  },
  {
   "cell_type": "code",
   "execution_count": 11,
   "id": "c2233a36",
   "metadata": {},
   "outputs": [],
   "source": [
    "completed_p_models=[]\n",
    "for x in jsonpmodel['data']:\n",
    "#     print(x['sequence_type'])\n",
    "    m=x['mturk_id']\n",
    "    if(m in completed_participants):\n",
    "        completed_p_models.append(x)\n",
    "        "
   ]
  },
  {
   "cell_type": "code",
   "execution_count": 12,
   "id": "6f3365ae",
   "metadata": {},
   "outputs": [],
   "source": [
    "filename='completedparticipants.json'\n",
    "with open(filename, 'w') as json_file:\n",
    "    json.dump(completed_p_models, json_file, \n",
    "                        indent=4,  \n",
    "                        separators=(',',': '))"
   ]
  },
  {
   "cell_type": "code",
   "execution_count": 13,
   "id": "318cf2e7",
   "metadata": {},
   "outputs": [],
   "source": [
    "c_file=open(filename)\n",
    "c_p=json.load(c_file)"
   ]
  },
  {
   "cell_type": "code",
   "execution_count": 14,
   "id": "ed752b8d",
   "metadata": {},
   "outputs": [],
   "source": [
    "# for x in c_p:\n",
    "#     print(x['mturk_id'])\n"
   ]
  },
  {
   "cell_type": "markdown",
   "id": "c8c55570",
   "metadata": {},
   "source": [
    "completedparticipants.json is the file that includes data of all participants who completed the task \n",
    "and c_p is the json varible of the file\n",
    "\n"
   ]
  },
  {
   "cell_type": "code",
   "execution_count": 15,
   "id": "75eed3ec",
   "metadata": {},
   "outputs": [],
   "source": [
    "# ----------------Experiment Sequences---------------------------\n",
    "\n",
    "# N : first nbackn difficulty (H/E)\n",
    "\n",
    "# Q : first Questionaire (1: NASA-TLX and 2: MRQ)\n",
    "\n",
    "# S : SakeDifficulty(H/E)\n",
    "\n",
    "# _________________________________________________________________________\n",
    "# seq_number/Progress | 1.n1 | 2.s | 3.q1| 4.q2|5.n2 | 6.s |7.q1 |8.q2 |\n",
    "# _________________________________________________________________________\n",
    "#          1          |  E   | E   |  1  |  2  |  H  |  E  |  1  |  2  |\n",
    "#          2          |  E   | E   |  2  |  1  |  H  |  E  |  2  |  1  |\n",
    "#          3          |  H   | E   |  1  |  2  |  E  |  E  |  1  |  2  |\n",
    "#          4          |  H   | E   |  2  |  1  |  E  |  E  |  2  |  1  |\n",
    "#          5          |  E   | H   |  1  |  2  |  H  |  H  |  1  |  2  |\n",
    "#          6          |  E   | H   |  2  |  1  |  H  |  H  |  2  |  1  |\n",
    "#          7          |  H   | H   |  1  |  2  |  E  |  H  |  1  |  2  |\n",
    "#          8          |  H   | H   |  2  |  1  |  E  |  H  |  2  |  1  |\n",
    "# ________________________________________________________________________\n"
   ]
  },
  {
   "cell_type": "code",
   "execution_count": 16,
   "id": "626d1e64",
   "metadata": {},
   "outputs": [],
   "source": [
    " #  sequence type /progress matrix \n",
    "E_n = 1; # easy nbackn\n",
    "H_n = 3; # hard nbackn\n",
    "E_s = 500;  # easy sak in ms\n",
    "H_s = 1000; #hard sak in ms\n",
    "seq_prog = [\n",
    "    [E_n, E_s, 1, 2, H_n, E_s, 1, 2],\n",
    "    [E_n, E_s, 2, 1, H_n, E_s, 2, 1],\n",
    "    [H_n, E_s, 1, 2, E_n, E_s, 1, 2],\n",
    "    [H_n, E_s, 2, 1, E_n, E_s, 2, 1],\n",
    "    [E_n, H_s, 1, 2, H_n, H_s, 1, 2],\n",
    "    [E_n, H_s, 2, 1, H_n, H_s, 2, 1],\n",
    "    [H_n, H_s, 1, 2, E_n, H_s, 1, 2],\n",
    "    [H_n, H_s, 2, 1, E_n, H_s, 2, 1]\n",
    "];"
   ]
  },
  {
   "cell_type": "markdown",
   "id": "0859200b",
   "metadata": {},
   "source": [
    "conEX : Easy NBACKN----\n",
    "conHX : Hard NBACKN----\n",
    "conXE: Easy SAK----\n",
    "conXH: Hard SAK"
   ]
  },
  {
   "cell_type": "code",
   "execution_count": 17,
   "id": "1ffa95ce",
   "metadata": {},
   "outputs": [],
   "source": [
    "nasa_1_t_array=[]\n",
    "nasa_2_t_array=[]\n",
    "nasa_1_r_array=[]\n",
    "nasa_2_r_array=[]\n",
    "\n",
    "seq_type_array=[]\n",
    "\n",
    "mrq_1_array=[]\n",
    "mrq_2_array=[]\n",
    "\n",
    "mrq_conEH_array=[]\n",
    "mrq_conHH_array=[]\n",
    "mrq_conEE_array=[]\n",
    "mrq_conHE_array=[]\n",
    "\n",
    "nasa_r_conEH_array=[]\n",
    "nasa_r_conHH_array=[]\n",
    "nasa_r_conEE_array=[]\n",
    "nasa_r_conHE_array=[]\n",
    "\n",
    "nasa_t_conEH_array=[]\n",
    "nasa_t_conHH_array=[]\n",
    "nasa_t_conEE_array=[]\n",
    "nasa_t_conHE_array=[]\n",
    "\n",
    "throughput1_array=[]\n",
    "throughput2_array=[]\n",
    "\n",
    "\n",
    "for x in c_p:\n",
    "    st= x['sequence_type']\n",
    "    seq_type_array.append(st)\n",
    "    \n",
    "    sak1= x['sak_1_actions']\n",
    "    sak2= x['sak_2_actions']\n",
    "    sak1t= x['sak_1_actions_t']\n",
    "    sak2t= x['sak_2_actions_t']\n",
    "#     print(len(x['nasa_1_r']))\n",
    "\n",
    "    if(len(x['nasa_1_r'])>0):\n",
    "        ntr1= nasa_string_to_int(x['nasa_1_r'][0])\n",
    "    else: \n",
    "        ntr1=[]\n",
    "        \n",
    "    if(len(x['nasa_2_r'])>0):\n",
    "        ntr2= nasa_string_to_int(x['nasa_2_r'][0])\n",
    "    else: \n",
    "        ntr2=[]\n",
    "        \n",
    "    if(len(x['nasa_1_t'])>0):\n",
    "        ntt1= nasa_string_to_int(x['nasa_1_t'][0])\n",
    "    else: \n",
    "        ntt1=[]\n",
    "        \n",
    "    if(len(x['nasa_2_t'])>0):\n",
    "        ntt2= nasa_string_to_int(x['nasa_2_t'][0])\n",
    "    else: \n",
    "        ntt2=[]\n",
    "    \n",
    "    \n",
    "    nasa_1_r_array.append(ntr1)\n",
    "    nasa_1_t_array.append(ntt1)\n",
    "    nasa_2_r_array.append(ntr2)\n",
    "    nasa_2_t_array.append(ntt2)\n",
    "    \n",
    "    \n",
    "    \n",
    "    if(len(x['mrq_1'])>0): \n",
    "        s=x['mrq_1'][0].replace('\"','').replace('[',\"\").replace(']',\"\").split(',')\n",
    "        mrq1 = [int(y) for y in s]\n",
    "        mrq1.pop()\n",
    "    else: \n",
    "        mrq1=[] \n",
    "        \n",
    "        \n",
    "\n",
    "    if(len(x['mrq_2'])>0): \n",
    "        s=x['mrq_2'][0].replace('\"','').replace('[',\"\").replace(']',\"\").split(',')\n",
    "        mrq2 = [int(y) for y in s]\n",
    "        mrq2.pop()\n",
    "    else: \n",
    "        mrq2=[]\n",
    "        \n",
    "        \n",
    "        \n",
    "    mrq_1_array.append(mrq1)\n",
    "    mrq_2_array.append(mrq2)\n",
    "    \n",
    "    if(st==1 or st==2):\n",
    "        if(len(mrq1)>0 and len(mrq2)>0):\n",
    "            mrq_conEE_array.append(mrq1)\n",
    "            mrq_conHE_array.append(mrq2)\n",
    "            \n",
    "        if(len(ntr1)>0 and len(ntr2)>0):\n",
    "            nasa_r_conEE_array.append(ntr1)\n",
    "            nasa_r_conHE_array.append(ntr2)\n",
    "            nasa_t_conEE_array.append(ntt1)\n",
    "            nasa_t_conHE_array.append(ntt2)\n",
    "        #-------------------------------\n",
    "        throughput1= sak_data_to_througput(sak1,sak1t, E_s)\n",
    "        throughput2= sak_data_to_througput(sak2,sak2t, E_s)\n",
    "        \n",
    "\n",
    "       \n",
    "    if(st==3 or st==4):\n",
    "        if(len(mrq1)>0 and len(mrq2)>0):\n",
    "            mrq_conHE_array.append(mrq1)\n",
    "            mrq_conEE_array.append(mrq2)\n",
    "            \n",
    "        if(len(ntr1)>0 and len(ntr2)>0):\n",
    "            nasa_r_conHE_array.append(ntr1)\n",
    "            nasa_r_conEE_array.append(ntr2)\n",
    "            nasa_t_conHE_array.append(ntt1)\n",
    "            nasa_t_conEE_array.append(ntt2)\n",
    "        #-------------------------------\n",
    "        throughput1= sak_data_to_througput(sak1,sak1t, E_s)\n",
    "        throughput2= sak_data_to_througput(sak2,sak2t, E_s)\n",
    "\n",
    "\n",
    "        \n",
    "    if(st==5 or st==6):\n",
    "        if(len(mrq1)>0 and len(mrq2)>0):\n",
    "            mrq_conEH_array.append(mrq1)\n",
    "            mrq_conHH_array.append(mrq2)\n",
    "            \n",
    "        if(len(ntr1)>0 and len(ntr2)>0): \n",
    "            nasa_r_conEH_array.append(ntr1)\n",
    "            nasa_r_conHH_array.append(ntr2)\n",
    "            nasa_t_conEH_array.append(ntt1)\n",
    "            nasa_t_conHH_array.append(ntt2)\n",
    "        #-------------------------------\n",
    "        throughput1= sak_data_to_througput(sak1,sak1t, H_s)\n",
    "        throughput2= sak_data_to_througput(sak2,sak2t, H_s)\n",
    "        \n",
    "\n",
    "        \n",
    "        \n",
    "    if(st==7 or st==8):\n",
    "        if(len(mrq1)>0 and len(mrq2)>0):\n",
    "            mrq_conHH_array.append(mrq1)\n",
    "            mrq_conEH_array.append(mrq2)\n",
    "            \n",
    "        if(len(ntr1)>0 and len(ntr2)>0): \n",
    "            nasa_r_conHH_array.append(ntr1)\n",
    "            nasa_r_conEH_array.append(ntr2)\n",
    "            nasa_t_conHH_array.append(ntt1)\n",
    "            nasa_t_conEH_array.append(ntt2)\n",
    "        #-------------------------------\n",
    "        throughput1= sak_data_to_througput(sak1,sak1t, H_s)\n",
    "        throughput2= sak_data_to_througput(sak2,sak2t, H_s)\n",
    "        \n",
    "    \n",
    "    throughput1_array.append(throughput1)\n",
    "    throughput2_array.append(throughput2)\n",
    "        \n",
    "        \n"
   ]
  },
  {
   "cell_type": "code",
   "execution_count": 18,
   "id": "f49e2725",
   "metadata": {},
   "outputs": [
    {
     "data": {
      "text/plain": [
       "[[0, 4, 0, 0, 4, 4, 3, 3, 2, 2, 4, 2, 0, 2, 1, 2, 0],\n",
       " [0, 0, 0, 0, 4, 3, 4, 3, 2, 3, 2, 1, 0, 4, 4, 4, 0],\n",
       " [0, 3, 0, 0, 4, 3, 0, 1, 0, 4, 0, 3, 0, 4, 3, 3, 0],\n",
       " [2, 2, 0, 0, 0, 4, 4, 2, 2, 2, 2, 0, 0, 3, 2, 3, 0],\n",
       " [1, 2, 1, 1, 4, 4, 4, 3, 4, 4, 3, 3, 4, 4, 3, 3, 1],\n",
       " [0, 0, 0, 0, 1, 1, 1, 0, 2, 3, 1, 0, 0, 4, 0, 4, 0],\n",
       " [0, 4, 0, 0, 2, 3, 4, 2, 2, 3, 3, 0, 0, 4, 3, 3, 0],\n",
       " [0, 0, 0, 0, 3, 2, 3, 3, 1, 4, 4, 3, 0, 4, 4, 4, 0],\n",
       " [2, 4, 4, 4, 4, 3, 3, 2, 4, 3, 4, 2, 3, 4, 3, 3, 0],\n",
       " [0, 0, 0, 0, 1, 2, 4, 4, 0, 0, 4, 0, 0, 0, 0, 0, 0],\n",
       " [0, 0, 0, 1, 3, 2, 2, 3, 3, 2, 2, 0, 0, 3, 2, 4, 0],\n",
       " [0, 0, 0, 0, 1, 1, 2, 1, 0, 1, 0, 0, 0, 1, 0, 1, 0],\n",
       " [0, 4, 0, 0, 0, 3, 4, 0, 1, 1, 3, 0, 0, 0, 3, 2, 0],\n",
       " [0, 2, 0, 2, 3, 1, 2, 1, 3, 1, 1, 3, 0, 3, 2, 3, 0],\n",
       " [4, 4, 0, 0, 3, 4, 4, 4, 0, 1, 1, 0, 0, 3, 4, 4, 0],\n",
       " [0, 0, 0, 0, 4, 2, 2, 1, 1, 0, 3, 0, 0, 3, 1, 2, 0],\n",
       " [1, 1, 1, 3, 3, 2, 4, 3, 3, 2, 3, 3, 2, 3, 2, 2, 1],\n",
       " [0, 1, 0, 0, 3, 4, 4, 1, 0, 0, 4, 0, 0, 4, 1, 4, 0],\n",
       " [0, 2, 0, 0, 2, 1, 0, 0, 0, 0, 1, 0, 0, 2, 1, 3, 0],\n",
       " [0, 0, 0, 0, 1, 0, 2, 1, 1, 1, 1, 0, 0, 1, 0, 1, 0],\n",
       " [0, 0, 0, 0, 2, 1, 2, 0, 0, 0, 0, 0, 0, 4, 0, 0, 0],\n",
       " [1, 1, 2, 1, 1, 1, 1, 1, 1, 1, 1, 1, 1, 1, 1, 2, 1],\n",
       " [0, 0, 0, 0, 4, 0, 2, 0, 0, 1, 0, 1, 0, 4, 0, 2, 0],\n",
       " [0, 0, 0, 0, 3, 1, 0, 0, 0, 0, 1, 0, 0, 4, 0, 4, 0],\n",
       " [2, 2, 2, 2, 2, 2, 2, 2, 2, 2, 2, 2, 2, 2, 2, 2, 0],\n",
       " [3, 0, 2, 1, 0, 1, 4, 0, 0, 0, 3, 0, 0, 4, 3, 0, 0],\n",
       " [3, 4, 0, 0, 4, 4, 4, 4, 2, 2, 3, 3, 2, 4, 4, 2, 0],\n",
       " [0, 0, 0, 0, 2, 3, 4, 3, 1, 1, 2, 0, 0, 2, 0, 4, 0],\n",
       " [0, 0, 0, 0, 4, 3, 4, 0, 0, 3, 3, 0, 0, 4, 0, 4, 0],\n",
       " [1, 1, 0, 0, 1, 1, 2, 1, 0, 0, 2, 0, 0, 1, 1, 2, 0],\n",
       " [0, 2, 0, 0, 1, 3, 3, 0, 0, 0, 3, 0, 0, 0, 0, 1, 0],\n",
       " [0, 1, 0, 0, 1, 2, 2, 0, 0, 1, 3, 0, 0, 3, 0, 3, 0],\n",
       " [0, 1, 0, 1, 4, 4, 4, 4, 2, 4, 4, 1, 3, 4, 4, 4, 1],\n",
       " [0, 4, 0, 0, 4, 2, 2, 2, 2, 1, 2, 0, 0, 4, 1, 3, 0],\n",
       " [1, 2, 0, 0, 1, 3, 4, 4, 3, 3, 2, 2, 0, 2, 2, 2, 0],\n",
       " [0, 2, 0, 0, 4, 4, 4, 0, 0, 0, 4, 2, 3, 3, 3, 0, 0],\n",
       " [0, 2, 0, 0, 2, 4, 4, 4, 4, 4, 4, 0, 0, 3, 1, 4, 0],\n",
       " [0, 0, 0, 0, 2, 3, 3, 3, 3, 3, 3, 1, 1, 4, 1, 3, 0],\n",
       " [0, 3, 0, 0, 4, 3, 2, 1, 0, 1, 2, 0, 0, 2, 2, 0, 0],\n",
       " [0, 0, 0, 0, 4, 4, 3, 0, 0, 2, 2, 0, 0, 4, 3, 3, 0],\n",
       " [0, 0, 0, 0, 2, 3, 4, 1, 2, 4, 4, 2, 0, 4, 1, 4, 0],\n",
       " [0, 0, 0, 2, 2, 1, 3, 3, 4, 4, 2, 2, 0, 4, 0, 3, 0],\n",
       " [1, 3, 1, 1, 3, 4, 4, 4, 1, 3, 3, 0, 0, 3, 2, 1, 0],\n",
       " [0, 0, 2, 1, 3, 1, 3, 4, 1, 3, 4, 0, 0, 4, 4, 2, 0],\n",
       " [0, 0, 0, 0, 2, 3, 3, 0, 0, 0, 4, 0, 0, 4, 0, 4, 0],\n",
       " [0, 0, 0, 0, 4, 4, 4, 1, 0, 4, 4, 0, 0, 4, 0, 4, 0],\n",
       " [0, 0, 0, 0, 1, 1, 2, 0, 1, 2, 2, 1, 0, 2, 0, 1, 0],\n",
       " [0, 0, 0, 0, 2, 2, 3, 3, 3, 3, 3, 3, 2, 2, 2, 2, 0],\n",
       " [0, 4, 0, 0, 2, 4, 4, 4, 1, 2, 4, 0, 0, 0, 0, 0, 0],\n",
       " [0, 0, 0, 0, 1, 2, 3, 3, 1, 1, 1, 1, 0, 3, 1, 4, 0],\n",
       " [0, 0, 0, 0, 2, 0, 4, 1, 0, 2, 4, 0, 0, 4, 0, 3, 0],\n",
       " [0, 0, 0, 0, 4, 3, 4, 2, 2, 1, 2, 0, 0, 4, 0, 4, 0],\n",
       " [2, 3, 0, 0, 2, 2, 1, 1, 1, 1, 1, 2, 1, 3, 3, 3, 0],\n",
       " [0, 0, 0, 0, 2, 2, 2, 2, 3, 1, 3, 1, 0, 2, 2, 3, 0],\n",
       " [0, 0, 0, 0, 3, 0, 1, 0, 0, 1, 0, 0, 0, 3, 2, 1, 0],\n",
       " [0, 2, 0, 0, 4, 4, 3, 4, 2, 3, 2, 2, 0, 4, 2, 3, 0],\n",
       " [2, 3, 0, 2, 2, 1, 3, 3, 3, 3, 3, 1, 2, 3, 3, 3, 0],\n",
       " [0, 0, 4, 0, 0, 0, 3, 3, 3, 0, 0, 0, 0, 4, 3, 4, 0],\n",
       " [1, 3, 1, 1, 4, 4, 4, 1, 1, 1, 3, 2, 1, 2, 2, 1, 0],\n",
       " [0, 0, 0, 0, 2, 3, 3, 3, 1, 1, 2, 1, 0, 3, 2, 3, 0],\n",
       " [0, 2, 0, 0, 2, 4, 2, 3, 2, 4, 2, 2, 0, 2, 2, 4, 0],\n",
       " [0, 3, 0, 1, 1, 3, 1, 1, 0, 0, 1, 0, 0, 4, 0, 2, 0],\n",
       " [0, 0, 0, 0, 4, 0, 0, 3, 4, 4, 4, 0, 0, 4, 0, 4, 0],\n",
       " [0, 1, 1, 3, 4, 4, 1, 1, 1, 1, 1, 1, 2, 2, 2, 2, 0],\n",
       " [0, 1, 0, 0, 2, 2, 3, 2, 4, 2, 2, 2, 0, 4, 3, 3, 0],\n",
       " [0, 1, 0, 0, 0, 1, 3, 2, 0, 1, 2, 0, 0, 2, 2, 2, 0],\n",
       " [1, 2, 0, 1, 3, 3, 3, 3, 3, 3, 2, 2, 1, 1, 1, 2, 0],\n",
       " [0, 4, 0, 0, 3, 2, 4, 3, 2, 4, 2, 1, 0, 4, 0, 3, 0],\n",
       " [0, 0, 0, 0, 2, 0, 3, 0, 0, 1, 4, 0, 0, 2, 0, 4, 0],\n",
       " [0, 0, 0, 0, 1, 3, 4, 1, 3, 2, 4, 1, 0, 3, 1, 2, 0],\n",
       " [0, 0, 0, 0, 1, 0, 2, 0, 0, 0, 2, 0, 0, 1, 0, 3, 0],\n",
       " [0, 0, 0, 1, 2, 1, 0, 0, 0, 1, 2, 1, 0, 4, 0, 2, 0],\n",
       " [0, 0, 0, 1, 2, 2, 2, 0, 0, 1, 2, 0, 0, 3, 0, 1, 0],\n",
       " [0, 3, 0, 0, 1, 4, 2, 3, 0, 1, 0, 0, 0, 4, 3, 2, 0],\n",
       " [0, 0, 0, 1, 1, 4, 4, 4, 4, 4, 4, 2, 0, 4, 3, 4, 0],\n",
       " [0, 0, 0, 1, 3, 3, 2, 1, 2, 2, 2, 0, 1, 3, 0, 2, 0],\n",
       " [0, 1, 0, 0, 2, 1, 1, 0, 2, 1, 1, 0, 1, 4, 4, 3, 1],\n",
       " [0, 0, 0, 0, 2, 2, 3, 3, 1, 0, 1, 1, 0, 4, 2, 1, 0],\n",
       " [0, 3, 0, 0, 2, 1, 2, 2, 2, 2, 1, 0, 0, 2, 0, 3, 0],\n",
       " [0, 0, 0, 0, 1, 1, 0, 0, 0, 0, 0, 0, 0, 2, 1, 2, 0],\n",
       " [0, 0, 0, 0, 1, 0, 0, 0, 0, 0, 0, 0, 0, 2, 0, 2, 0],\n",
       " [0, 1, 0, 0, 2, 3, 1, 1, 0, 0, 1, 0, 0, 1, 0, 1, 0],\n",
       " [0, 4, 0, 1, 4, 4, 4, 3, 3, 3, 2, 0, 0, 3, 3, 4, 1],\n",
       " [0, 0, 0, 0, 0, 0, 0, 0, 0, 0, 0, 0, 0, 4, 4, 3, 0],\n",
       " [0, 0, 0, 0, 1, 2, 4, 2, 2, 3, 4, 0, 0, 4, 2, 4, 0],\n",
       " [0, 0, 0, 0, 2, 2, 3, 1, 1, 0, 1, 0, 0, 3, 1, 2, 0],\n",
       " [0, 0, 0, 0, 1, 2, 2, 0, 2, 3, 2, 0, 0, 4, 0, 4, 0],\n",
       " [0, 0, 0, 1, 3, 1, 3, 2, 0, 1, 3, 0, 0, 3, 3, 3, 0],\n",
       " [0, 0, 0, 0, 3, 4, 3, 3, 1, 3, 3, 0, 0, 4, 4, 4, 1],\n",
       " [0, 3, 0, 0, 2, 4, 4, 2, 0, 2, 3, 0, 1, 4, 3, 4, 0],\n",
       " [0, 1, 0, 0, 1, 3, 3, 3, 0, 2, 2, 1, 0, 4, 1, 4, 0],\n",
       " [0, 0, 0, 0, 1, 3, 3, 3, 2, 0, 1, 3, 1, 0, 2, 1, 0],\n",
       " [4, 4, 4, 4, 4, 1, 3, 4, 4, 3, 4, 4, 2, 4, 4, 4, 4],\n",
       " [0, 0, 0, 2, 4, 4, 4, 2, 2, 4, 4, 0, 0, 4, 0, 4, 0],\n",
       " [0, 0, 0, 0, 1, 2, 2, 0, 0, 1, 0, 0, 0, 3, 0, 3, 0],\n",
       " [0, 1, 0, 0, 2, 1, 2, 0, 0, 0, 1, 0, 0, 1, 1, 2, 0],\n",
       " [0, 0, 0, 0, 4, 1, 3, 2, 3, 1, 4, 0, 0, 4, 4, 3, 0],\n",
       " [0, 3, 0, 0, 2, 3, 3, 1, 0, 2, 3, 2, 3, 2, 2, 3, 0]]"
      ]
     },
     "execution_count": 18,
     "metadata": {},
     "output_type": "execute_result"
    }
   ],
   "source": [
    " mrq_2_array\n",
    "    "
   ]
  },
  {
   "cell_type": "code",
   "execution_count": 19,
   "id": "2498aeee",
   "metadata": {},
   "outputs": [
    {
     "data": {
      "text/plain": [
       "[2.7484001347254967,\n",
       " 2.8360972151100956,\n",
       " 3.0654081463221483,\n",
       " 1.9932924128330063,\n",
       " 1.2902866108869924,\n",
       " 1.6989346264113547,\n",
       " 0,\n",
       " 3.4656129802958895,\n",
       " 1.7933128308386885,\n",
       " 2.2863830916526604,\n",
       " 1.7431256825897254,\n",
       " 2.6716485814126822,\n",
       " 3.567957001543828,\n",
       " 1.422636079990947,\n",
       " 1.4020329477742726,\n",
       " 2.339002872905703,\n",
       " 1.9030120086619857,\n",
       " 3.0326533102108044,\n",
       " 2.980070776680946,\n",
       " 3.4696048161419233,\n",
       " 2.6693784161688066,\n",
       " 2.6283201496120703,\n",
       " 1.1969975311925918,\n",
       " 1.553556071352611,\n",
       " 2.9128334587469964,\n",
       " 1.4191377593645926,\n",
       " 1.0882334755456626,\n",
       " 1.4909021087229066,\n",
       " 2.120077130425126,\n",
       " 3.023812523623535,\n",
       " 1.6394876054737026,\n",
       " 3.949657539614125,\n",
       " 2.9697140370190214,\n",
       " 4.839278813032446,\n",
       " 2.6600985221674875,\n",
       " 0,\n",
       " 1.4580906160432854,\n",
       " 3.592814371257485,\n",
       " 2.3607718412380936,\n",
       " 3.2581396927393254,\n",
       " 2.3144654088050314,\n",
       " 2.8371161548731645,\n",
       " 2.390996660849491,\n",
       " 1.9430548572110347,\n",
       " 3.2713146595788185,\n",
       " 2.0021074815595368,\n",
       " 2.079131754579288,\n",
       " 4.71721291337035,\n",
       " 1.8910826448141562,\n",
       " 4.074557249316439,\n",
       " 3.913606093442606,\n",
       " 5.493247882810712,\n",
       " 1.63020163020163,\n",
       " 1.5793036023163118,\n",
       " 4.067844159487545,\n",
       " 2.267807442531698,\n",
       " 1.81557657906213,\n",
       " 3.878892360736989,\n",
       " 4.15679428025107,\n",
       " 2.9153844374002174,\n",
       " 2.096237690062523,\n",
       " 2.726904750069238,\n",
       " 2.8159649568805367,\n",
       " 2.0765619357168648,\n",
       " 2.857865829153208,\n",
       " 3.873580420811691,\n",
       " 1.1500178451044931,\n",
       " 2.258724322696415,\n",
       " 3.553055257411452,\n",
       " 2.407263656424167,\n",
       " 3.8175021871106285,\n",
       " 2.4630120584965365,\n",
       " 1.6011804781564445,\n",
       " 3.1540766440624513,\n",
       " 4.933737168857155,\n",
       " 1.6148435110612702,\n",
       " 1.8732438339057134,\n",
       " 1.5116279069767442,\n",
       " 2.286323972106848,\n",
       " 3.2054492637483727,\n",
       " 2.230533023041406,\n",
       " 2.8403589180814666,\n",
       " 2.1454170154323746,\n",
       " 1.6621561148166302,\n",
       " 4.691754520700971,\n",
       " 3.936792607578326,\n",
       " 2.8304270912307303,\n",
       " 2.8268551236749113,\n",
       " 1.9866834622998022,\n",
       " 2.972092055597935,\n",
       " 2.818542249948327,\n",
       " 3.745275058086442,\n",
       " 1.0783996549121104,\n",
       " 2.3501762632197414,\n",
       " 3.740182022191746,\n",
       " 2.6401273473191056,\n",
       " 2.8450381915452887,\n",
       " 2.9196554085715314]"
      ]
     },
     "execution_count": 19,
     "metadata": {},
     "output_type": "execute_result"
    }
   ],
   "source": [
    "throughput2_array"
   ]
  },
  {
   "cell_type": "markdown",
   "id": "834336bb",
   "metadata": {},
   "source": [
    "<b>Starting the analysis from here:"
   ]
  },
  {
   "cell_type": "markdown",
   "id": "793c58ee",
   "metadata": {},
   "source": [
    "<hr style=\"width:100%;text-align:left;margin-left:0\">"
   ]
  },
  {
   "cell_type": "markdown",
   "id": "5ca423d8",
   "metadata": {},
   "source": [
    "<b>Analysis 1: Paired t-test to see effect of first task on second one "
   ]
  },
  {
   "cell_type": "markdown",
   "id": "64e307a5",
   "metadata": {},
   "source": [
    "-----------------------------------------------------------------------------------------------------------------------"
   ]
  },
  {
   "cell_type": "markdown",
   "id": "f57c7cb5",
   "metadata": {},
   "source": [
    "<b>First Part for MRQ:</b>\n",
    "\n",
    "r_mrq_pttest, p_mrq_pttest for each dimension separately and for r_mrq_avg,p_mrq_avg for total average as the last element.\n",
    "\n",
    "p_mrq_pttest_adjusted is the adjusted p-values after boneferroni"
   ]
  },
  {
   "cell_type": "code",
   "execution_count": 20,
   "id": "408a0760",
   "metadata": {},
   "outputs": [],
   "source": [
    "mrqEX= mrq_conEE_array + mrq_conEH_array"
   ]
  },
  {
   "cell_type": "code",
   "execution_count": 21,
   "id": "d4f28f2d",
   "metadata": {},
   "outputs": [],
   "source": [
    "mrqHX= mrq_conHE_array + mrq_conHH_array"
   ]
  },
  {
   "cell_type": "code",
   "execution_count": 22,
   "id": "cfc7f638",
   "metadata": {},
   "outputs": [],
   "source": [
    "mrqEX=np.array(mrqEX)"
   ]
  },
  {
   "cell_type": "code",
   "execution_count": 23,
   "id": "4fac629a",
   "metadata": {},
   "outputs": [],
   "source": [
    "mrqHX=np.array(mrqHX)"
   ]
  },
  {
   "cell_type": "code",
   "execution_count": 24,
   "id": "810768e8",
   "metadata": {},
   "outputs": [],
   "source": [
    "r_mrq_pttest=[]\n",
    "p_mrq_pttest=[]\n",
    "\n",
    "for i in range(len(mrqHX[0])):\n",
    "    r,p = stats.ttest_rel(mrqHX[:,i], mrqEX[:,i])\n",
    "    r_mrq_pttest.append(r)\n",
    "    p_mrq_pttest.append(p)\n",
    "    \n",
    "mrqHX_avg_array= np.mean(mrqHX, axis=1)\n",
    "mrqEX_avg_array= np.mean(mrqEX, axis=1)\n",
    "r_mrq_avg,p_mrq_avg = stats.ttest_rel(mrqHX_avg_array,mrqEX_avg_array)\n",
    "\n",
    "r_mrq_pttest.append(r_mrq_avg)\n",
    "p_mrq_pttest.append(p_mrq_avg)"
   ]
  },
  {
   "cell_type": "code",
   "execution_count": 44,
   "id": "51683e0f",
   "metadata": {},
   "outputs": [
    {
     "data": {
      "text/plain": [
       "[0.03407951684150649,\n",
       " 0.6806871469304578,\n",
       " 0.04451692927039891,\n",
       " 0.0883617860803265,\n",
       " 0.468987882266515,\n",
       " 0.26624295611636317,\n",
       " 0.4278214491379191,\n",
       " 0.1018028419095543,\n",
       " 0.28787848128350474,\n",
       " 0.5396463010919387,\n",
       " 0.10598191798460302,\n",
       " 0.6690203886240371,\n",
       " 0.3505533956313803,\n",
       " 0.8414282439601026,\n",
       " 0.6389796182952435,\n",
       " 0.7456337917860583,\n",
       " 0.11504763994681916,\n",
       " 0.10440437831993295]"
      ]
     },
     "execution_count": 44,
     "metadata": {},
     "output_type": "execute_result"
    }
   ],
   "source": [
    "p_mrq_pttest"
   ]
  },
  {
   "cell_type": "code",
   "execution_count": 25,
   "id": "312bf7ba",
   "metadata": {},
   "outputs": [],
   "source": [
    "p_mrq_pttest_adjusted = multipletests(p_mrq_pttest, alpha=0.05, method='bonferroni')"
   ]
  },
  {
   "cell_type": "code",
   "execution_count": 26,
   "id": "38adde36",
   "metadata": {},
   "outputs": [
    {
     "data": {
      "text/plain": [
       "(array([False, False, False, False, False, False, False, False, False,\n",
       "        False, False, False, False, False, False, False, False, False]),\n",
       " array([1.        , 1.        , 1.        , 1.        , 1.        ,\n",
       "        1.        , 1.        , 0.58084802, 1.        , 1.        ,\n",
       "        1.        , 1.        , 1.        , 1.        , 1.        ,\n",
       "        1.        , 1.        , 1.        ]),\n",
       " 0.002845571131556368,\n",
       " 0.002777777777777778)"
      ]
     },
     "execution_count": 26,
     "metadata": {},
     "output_type": "execute_result"
    }
   ],
   "source": [
    "p_mrq_pttest_adjusted"
   ]
  },
  {
   "cell_type": "code",
   "execution_count": 27,
   "id": "7b53ad77",
   "metadata": {},
   "outputs": [
    {
     "data": {
      "text/plain": [
       "[0.4845452069267472,\n",
       " 0.3064682531710686,\n",
       " 0.6824691758413888,\n",
       " 0.08814012262924528,\n",
       " 0.6141853378134425,\n",
       " 0.5833261904352833,\n",
       " 0.6289387648115619,\n",
       " 0.03226933456988775,\n",
       " 0.25023987041412965,\n",
       " 0.7099732718172919,\n",
       " 0.8167016975851018,\n",
       " 0.5790211294686735,\n",
       " 0.2808554445053354,\n",
       " 0.13010863576980447,\n",
       " 0.25340168965859183,\n",
       " 0.8441960336353125,\n",
       " 0.08814012262924528,\n",
       " 0.5510200889465597]"
      ]
     },
     "execution_count": 27,
     "metadata": {},
     "output_type": "execute_result"
    }
   ],
   "source": [
    "p_mrq_pttest"
   ]
  },
  {
   "cell_type": "markdown",
   "id": "5c0004b0",
   "metadata": {},
   "source": [
    "<b>Second Part for NASA-TLX:</b>\n",
    "\n",
    "r_nasa_pttest, p_nasa_pttest for each dimension separately and for r_nasa_avg,p_nasa_avg for total average as the last element.\n",
    "\n",
    "p_nasa_pttest_adjusted is the adjusted p-values after boneferroni"
   ]
  },
  {
   "cell_type": "code",
   "execution_count": 28,
   "id": "5aee80b3",
   "metadata": {},
   "outputs": [],
   "source": [
    "nasaEX= nasa_r_conEE_array + nasa_r_conEH_array"
   ]
  },
  {
   "cell_type": "code",
   "execution_count": 29,
   "id": "97c39546",
   "metadata": {},
   "outputs": [],
   "source": [
    "nasaHX= nasa_r_conHE_array + nasa_r_conHH_array"
   ]
  },
  {
   "cell_type": "code",
   "execution_count": 30,
   "id": "6330a36a",
   "metadata": {},
   "outputs": [],
   "source": [
    "nasaEX=np.array(nasaEX)"
   ]
  },
  {
   "cell_type": "code",
   "execution_count": 31,
   "id": "cc06d221",
   "metadata": {},
   "outputs": [],
   "source": [
    "nasaHX=np.array(nasaHX)"
   ]
  },
  {
   "cell_type": "code",
   "execution_count": 32,
   "id": "71ed1bb5",
   "metadata": {},
   "outputs": [],
   "source": [
    "r_nasa_pttest=[]\n",
    "p_nasa_pttest=[]\n",
    "\n",
    "for i in range(len(nasaHX[0])):\n",
    "    r,p = stats.ttest_rel(nasaHX[:,i], nasaEX[:,i])\n",
    "    r_nasa_pttest.append(r)\n",
    "    p_nasa_pttest.append(p)\n",
    "    \n",
    "nasaHX_avg_array= np.mean(nasaHX, axis=1)\n",
    "nasaEX_avg_array= np.mean(nasaEX, axis=1)\n",
    "r_nasa_avg,p_nasa_avg = stats.ttest_rel(nasaHX_avg_array,nasaEX_avg_array)\n",
    "\n",
    "r_nasa_pttest.append(r_nasa_avg)\n",
    "p_nasa_pttest.append(p_nasa_avg)"
   ]
  },
  {
   "cell_type": "code",
   "execution_count": 45,
   "id": "26ca9532",
   "metadata": {},
   "outputs": [],
   "source": [
    "p_nasa_pttest_adjusted = multipletests(p_nasa_pttest, alpha=0.05, method='bonferroni')"
   ]
  },
  {
   "cell_type": "code",
   "execution_count": 46,
   "id": "9b10acd1",
   "metadata": {},
   "outputs": [
    {
     "data": {
      "text/plain": [
       "[0.032237484097584986,\n",
       " 0.8823599490069501,\n",
       " 0.1767316697349605,\n",
       " 0.7992122381303003,\n",
       " 0.09208860831795304,\n",
       " 0.4358875606041561,\n",
       " 0.4732997278954202]"
      ]
     },
     "execution_count": 46,
     "metadata": {},
     "output_type": "execute_result"
    }
   ],
   "source": [
    "p_nasa_pttest"
   ]
  },
  {
   "cell_type": "code",
   "execution_count": 47,
   "id": "373daa46",
   "metadata": {},
   "outputs": [
    {
     "data": {
      "text/plain": [
       "(array([False, False, False, False, False, False, False]),\n",
       " array([0.22566239, 1.        , 1.        , 1.        , 0.64462026,\n",
       "        1.        , 1.        ]),\n",
       " 0.007300831979014655,\n",
       " 0.0071428571428571435)"
      ]
     },
     "execution_count": 47,
     "metadata": {},
     "output_type": "execute_result"
    }
   ],
   "source": [
    "p_nasa_pttest_adjusted"
   ]
  },
  {
   "cell_type": "markdown",
   "id": "709b5ad8",
   "metadata": {},
   "source": [
    "<hr style=\"width:100%;text-align:left;margin-left:0\">"
   ]
  },
  {
   "cell_type": "markdown",
   "id": "40067692",
   "metadata": {},
   "source": [
    "<b> Analysis 2: two-sample t-test to see effect of one-key text entry task difficulty on questionaires"
   ]
  },
  {
   "cell_type": "markdown",
   "id": "56bd435c",
   "metadata": {},
   "source": [
    "<b>First Part for MRQ:</b>\n",
    "\n",
    "r_mrq_pttest, p_mrq_pttest for each dimension separately and for r_mrq_avg,p_mrq_avg for total average as the last element.\n",
    "\n",
    "p_mrq_pttest_adjusted is the adjusted p-values after boneferroni"
   ]
  },
  {
   "cell_type": "code",
   "execution_count": 48,
   "id": "dec188f0",
   "metadata": {},
   "outputs": [],
   "source": [
    "mrqXE= mrq_conEE_array + mrq_conHE_array"
   ]
  },
  {
   "cell_type": "code",
   "execution_count": 49,
   "id": "ce73be1c",
   "metadata": {},
   "outputs": [],
   "source": [
    "mrqXH= mrq_conEH_array + mrq_conHH_array"
   ]
  },
  {
   "cell_type": "code",
   "execution_count": 50,
   "id": "0c08e7e3",
   "metadata": {},
   "outputs": [],
   "source": [
    "mrqEX=np.array(mrqXE) #just did not want the notation. do not confuse EX and XE "
   ]
  },
  {
   "cell_type": "code",
   "execution_count": 51,
   "id": "6e16b7d7",
   "metadata": {},
   "outputs": [],
   "source": [
    "mrqHX=np.array(mrqXH) #just did not want the notation. do not confuse EX and XE "
   ]
  },
  {
   "cell_type": "code",
   "execution_count": 52,
   "id": "5f61bc41",
   "metadata": {},
   "outputs": [],
   "source": [
    "r_mrq_pttest=[]\n",
    "p_mrq_pttest=[]\n",
    "\n",
    "for i in range(len(mrqHX[0])):\n",
    "    r,p = stats.ttest_ind(mrqHX[:,i], mrqEX[:,i], equal_var=True)\n",
    "    r_mrq_pttest.append(r)\n",
    "    p_mrq_pttest.append(p)\n",
    "    \n",
    "mrqHX_avg_array= np.mean(mrqHX, axis=1)\n",
    "mrqEX_avg_array= np.mean(mrqEX, axis=1)\n",
    "r_mrq_avg,p_mrq_avg = stats.ttest_ind(mrqHX_avg_array,mrqEX_avg_array, equal_var=True)\n",
    "\n",
    "r_mrq_pttest.append(r_mrq_avg)\n",
    "p_mrq_pttest.append(p_mrq_avg)"
   ]
  },
  {
   "cell_type": "code",
   "execution_count": 53,
   "id": "8d13eb30",
   "metadata": {},
   "outputs": [],
   "source": [
    "p_mrq_pttest_adjusted = multipletests(p_mrq_pttest, alpha=0.05, method='bonferroni')"
   ]
  },
  {
   "cell_type": "code",
   "execution_count": 54,
   "id": "f9118235",
   "metadata": {},
   "outputs": [
    {
     "data": {
      "text/plain": [
       "(array([False, False, False, False, False, False, False, False, False,\n",
       "        False, False, False, False, False, False, False, False, False]),\n",
       " array([0.6134313 , 1.        , 0.80130473, 1.        , 1.        ,\n",
       "        1.        , 1.        , 1.        , 1.        , 1.        ,\n",
       "        1.        , 1.        , 1.        , 1.        , 1.        ,\n",
       "        1.        , 1.        , 1.        ]),\n",
       " 0.002845571131556368,\n",
       " 0.002777777777777778)"
      ]
     },
     "execution_count": 54,
     "metadata": {},
     "output_type": "execute_result"
    }
   ],
   "source": [
    "p_mrq_pttest_adjusted"
   ]
  },
  {
   "cell_type": "code",
   "execution_count": 55,
   "id": "8fa0af0e",
   "metadata": {},
   "outputs": [
    {
     "data": {
      "text/plain": [
       "[0.03407951684150649,\n",
       " 0.6806871469304578,\n",
       " 0.04451692927039891,\n",
       " 0.0883617860803265,\n",
       " 0.468987882266515,\n",
       " 0.26624295611636317,\n",
       " 0.4278214491379191,\n",
       " 0.1018028419095543,\n",
       " 0.28787848128350474,\n",
       " 0.5396463010919387,\n",
       " 0.10598191798460302,\n",
       " 0.6690203886240371,\n",
       " 0.3505533956313803,\n",
       " 0.8414282439601026,\n",
       " 0.6389796182952435,\n",
       " 0.7456337917860583,\n",
       " 0.11504763994681916,\n",
       " 0.10440437831993295]"
      ]
     },
     "execution_count": 55,
     "metadata": {},
     "output_type": "execute_result"
    }
   ],
   "source": [
    "p_mrq_pttest"
   ]
  },
  {
   "cell_type": "markdown",
   "id": "8683c563",
   "metadata": {},
   "source": [
    "<b>Second Part for NASA-TLX:</b>\n",
    "\n",
    "r_nasa_pttest, p_nasa_pttest for each dimension separately and for r_nasa_avg,p_nasa_avg for total average as the last element.\n",
    "\n",
    "p_nasa_pttest_adjusted is the adjusted p-values after boneferroni"
   ]
  },
  {
   "cell_type": "code",
   "execution_count": 56,
   "id": "c96903ab",
   "metadata": {},
   "outputs": [],
   "source": [
    "nasaXE= nasa_r_conEE_array + nasa_r_conHE_array"
   ]
  },
  {
   "cell_type": "code",
   "execution_count": 57,
   "id": "830c76b7",
   "metadata": {},
   "outputs": [],
   "source": [
    "nasaXH= nasa_r_conHH_array + nasa_r_conEH_array"
   ]
  },
  {
   "cell_type": "code",
   "execution_count": 58,
   "id": "de66f519",
   "metadata": {},
   "outputs": [],
   "source": [
    "nasaEX=np.array(nasaXE) #just did not want the notation. do not confuse EX and XE "
   ]
  },
  {
   "cell_type": "code",
   "execution_count": 59,
   "id": "9f9fff99",
   "metadata": {},
   "outputs": [],
   "source": [
    "nasaHX=np.array(nasaXH) #just did not want the notation. do not confuse EX and XE "
   ]
  },
  {
   "cell_type": "code",
   "execution_count": 60,
   "id": "339d2923",
   "metadata": {},
   "outputs": [],
   "source": [
    "r_nasa_pttest=[]\n",
    "p_nasa_pttest=[]\n",
    "\n",
    "for i in range(len(nasaHX[0])):\n",
    "    r,p = stats.ttest_ind(nasaHX[:,i], nasaEX[:,i], equal_var=True)\n",
    "    r_nasa_pttest.append(r)\n",
    "    p_nasa_pttest.append(p)\n",
    "    \n",
    "nasaHX_avg_array= np.mean(nasaHX, axis=1)\n",
    "nasaEX_avg_array= np.mean(nasaEX, axis=1)\n",
    "r_nasa_avg,p_nasa_avg = stats.ttest_ind(nasaHX_avg_array,nasaEX_avg_array, equal_var=True)\n",
    "\n",
    "r_nasa_pttest.append(r_nasa_avg)\n",
    "p_nasa_pttest.append(p_nasa_avg)"
   ]
  },
  {
   "cell_type": "code",
   "execution_count": 61,
   "id": "12fbfb8f",
   "metadata": {},
   "outputs": [],
   "source": [
    "p_nasa_pttest_adjusted = multipletests(p_nasa_pttest, alpha=0.05, method='bonferroni')"
   ]
  },
  {
   "cell_type": "code",
   "execution_count": 62,
   "id": "4b8aa3bf",
   "metadata": {},
   "outputs": [
    {
     "data": {
      "text/plain": [
       "[0.5675858025735263,\n",
       " 0.4186675543402252,\n",
       " 0.08159975709162907,\n",
       " 0.06052216696804646,\n",
       " 0.05095970726304729,\n",
       " 0.8662378632555212,\n",
       " 0.1659373243945405]"
      ]
     },
     "execution_count": 62,
     "metadata": {},
     "output_type": "execute_result"
    }
   ],
   "source": [
    "p_nasa_pttest"
   ]
  },
  {
   "cell_type": "code",
   "execution_count": 63,
   "id": "941332a6",
   "metadata": {},
   "outputs": [
    {
     "data": {
      "text/plain": [
       "(array([False, False, False, False, False, False, False]),\n",
       " array([1.        , 1.        , 0.5711983 , 0.42365517, 0.35671795,\n",
       "        1.        , 1.        ]),\n",
       " 0.007300831979014655,\n",
       " 0.0071428571428571435)"
      ]
     },
     "execution_count": 63,
     "metadata": {},
     "output_type": "execute_result"
    }
   ],
   "source": [
    "p_nasa_pttest_adjusted"
   ]
  },
  {
   "cell_type": "markdown",
   "id": "1768a6e2",
   "metadata": {},
   "source": [
    "<hr style=\"width:100%;text-align:left;margin-left:0\">\n",
    "<hr style=\"width:100%;text-align:left;margin-left:0\">"
   ]
  },
  {
   "cell_type": "markdown",
   "id": "276d5115",
   "metadata": {},
   "source": [
    "<b> Analysis 3: Pearson Correlation to see the correlation of two questionaires' scale"
   ]
  },
  {
   "cell_type": "code",
   "execution_count": 64,
   "id": "d60da297",
   "metadata": {},
   "outputs": [
    {
     "name": "stdout",
     "output_type": "stream",
     "text": [
      "(196, 17)\n",
      "KACJ\n",
      "KACJ\n",
      "KACJ\n",
      "KACJ\n",
      "KACJ\n"
     ]
    }
   ],
   "source": [
    "nasa_r_array_pc = []\n",
    "nasa_r_array_pc.extend(nasa_1_r_array)\n",
    "nasa_r_array_pc.extend(nasa_2_r_array)\n",
    "\n",
    "mrq_array_pc = []\n",
    "mrq_array_pc.extend(mrq_1_array)\n",
    "mrq_array_pc.extend(mrq_2_array)\n",
    "\n",
    "nasa_r_array_pc=np.array(nasa_r_array_pc,dtype=object)\n",
    "mrq_array_pc=np.array(mrq_array_pc,dtype=object)\n",
    "print(mrq_array_pc.shape)\n",
    "\n",
    "\n",
    "#-------------------------------------------------------------------------------------\n",
    "to_delete_indices=[]\n",
    "for i in range(len(mrq_array_pc)):\n",
    "    if(len(nasa_r_array_pc[i])==0 or len(mrq_array_pc[i])==0):\n",
    "        to_delete_indices.append(i)\n",
    "\n",
    "\n",
    "\n",
    "\n",
    "cleaned_nasa_r_array_pc=[]\n",
    "cleaned_mrq_array_pc=[]\n",
    "\n",
    "\n",
    "for t in range(len(mrq_array_pc)):\n",
    "    if t in  to_delete_indices:\n",
    "        print('KACJ')\n",
    "    else:\n",
    "        cleaned_nasa_r_array_pc.append(nasa_r_array_pc[t])\n",
    "        cleaned_mrq_array_pc.append(mrq_array_pc[t])\n",
    "#-------------------------------------------------------------------------------------"
   ]
  },
  {
   "cell_type": "code",
   "execution_count": 65,
   "id": "ef12858f",
   "metadata": {},
   "outputs": [],
   "source": [
    "nasa_r_array_pc=np.array(cleaned_nasa_r_array_pc)\n",
    "mrq_array_pc=np.array(cleaned_mrq_array_pc)\n",
    "\n",
    "nasa_r_array_pc_avg = []\n",
    "mrq_array_pc_avg = []\n",
    "\n",
    "for i in range(len(nasa_r_array_pc)):\n",
    "    nasa_r_array_pc_avg.append(np.mean(nasa_r_array_pc[i]))\n",
    "    mrq_array_pc_avg.append(np.mean(mrq_array_pc[i]))\n",
    "\n",
    "\n",
    "# print(mrq_array_pc.shape)\n",
    "\n",
    "    \n",
    "new_mrq_array_pc = []\n",
    "new_nasa_r_array_pc = []\n",
    "\n",
    "for i in range(len(nasa_r_array_pc)):\n",
    "    tmpn=[nasa_r_array_pc_avg[i]]\n",
    "    tmpm=[mrq_array_pc_avg[i]]\n",
    "    \n",
    "    for j in range(len(mrq_array_pc[i])):\n",
    "        tmpm.append(mrq_array_pc[i][j])\n",
    "        \n",
    "    for k in range(len(nasa_r_array_pc[i])):\n",
    "        tmpn.append(nasa_r_array_pc[i][k])\n",
    "    \n",
    "    \n",
    "    new_mrq_array_pc.append(tmpm)\n",
    "    new_nasa_r_array_pc.append(tmpn)"
   ]
  },
  {
   "cell_type": "code",
   "execution_count": 66,
   "id": "ef3c224d",
   "metadata": {},
   "outputs": [],
   "source": [
    "for ix in range(len(mrq_array_pc_avg)):\n",
    "    new_mrq_array_pc.append(np.append(mrq_array_pc_avg[ix],mrq_array_pc[ix]))\n",
    "    new_nasa_r_array_pc.append(np.append(nasa_r_array_pc_avg[ix],nasa_r_array_pc[ix]))"
   ]
  },
  {
   "cell_type": "code",
   "execution_count": 67,
   "id": "e2586fc3",
   "metadata": {},
   "outputs": [],
   "source": [
    "new_mrq_array_pc = np.array(new_mrq_array_pc)"
   ]
  },
  {
   "cell_type": "code",
   "execution_count": 68,
   "id": "b00b90f6",
   "metadata": {},
   "outputs": [],
   "source": [
    "new_nasa_r_array_pc = np.array(new_nasa_r_array_pc)"
   ]
  },
  {
   "cell_type": "code",
   "execution_count": 69,
   "id": "53c0eebe",
   "metadata": {},
   "outputs": [],
   "source": [
    "new_mrq_array_pc= np.transpose(new_mrq_array_pc)"
   ]
  },
  {
   "cell_type": "code",
   "execution_count": 70,
   "id": "4548ca11",
   "metadata": {},
   "outputs": [],
   "source": [
    "new_nasa_r_array_pc=  np.transpose(new_nasa_r_array_pc)"
   ]
  },
  {
   "cell_type": "code",
   "execution_count": 71,
   "id": "f95d776d",
   "metadata": {},
   "outputs": [],
   "source": [
    "c_matrix=np.zeros((len(new_nasa_r_array_pc),len(new_mrq_array_pc)))\n",
    "p_matrix=np.zeros((len(new_nasa_r_array_pc),len(new_mrq_array_pc)))\n",
    "for i in range(len(new_nasa_r_array_pc)):\n",
    "    for j in range(len(new_mrq_array_pc)):\n",
    "        c,p = stats.pearsonr(new_nasa_r_array_pc[i], new_mrq_array_pc[j])\n",
    "        c_matrix[i][j]=c\n",
    "        p_matrix[i][j]=p"
   ]
  },
  {
   "cell_type": "code",
   "execution_count": 72,
   "id": "e1da6ef1",
   "metadata": {},
   "outputs": [
    {
     "data": {
      "text/plain": [
       "array([9.13601480e-05, 4.20834160e-04, 2.00604099e-03, 2.98905412e-01,\n",
       "       5.65398543e-01, 2.90139989e-03, 8.07882754e-02, 1.00000000e+00,\n",
       "       1.00000000e+00, 1.00000000e+00, 1.00000000e+00, 1.00000000e+00,\n",
       "       1.00000000e+00, 4.27200813e-02, 1.00000000e+00, 1.00000000e+00,\n",
       "       1.00000000e+00, 1.00000000e+00, 1.08137722e-02, 4.45022910e-04,\n",
       "       1.11042590e-04, 7.89316946e-01, 1.00000000e+00, 1.00000000e+00,\n",
       "       1.00000000e+00, 1.00000000e+00, 1.00000000e+00, 1.00000000e+00,\n",
       "       1.00000000e+00, 1.00000000e+00, 1.00000000e+00, 1.00000000e+00,\n",
       "       1.11041074e-02, 1.00000000e+00, 1.00000000e+00, 1.00000000e+00,\n",
       "       2.14172431e-09, 8.41369224e-03, 1.78237774e-02, 6.76162716e-01,\n",
       "       2.32798587e-05, 1.42910441e-09, 3.63014480e-03, 1.00000000e+00,\n",
       "       5.33170482e-01, 3.10835736e-01, 1.00000000e+00, 5.74447982e-01,\n",
       "       9.57452923e-07, 6.50559883e-13, 1.00000000e+00, 2.78324462e-01,\n",
       "       1.00000000e+00, 1.50051603e-03, 5.69173624e-03, 1.00000000e+00,\n",
       "       1.00000000e+00, 2.88146230e-01, 1.00000000e+00, 1.00000000e+00,\n",
       "       6.68749809e-01, 8.78204176e-01, 1.00000000e+00, 1.00000000e+00,\n",
       "       9.66834178e-01, 1.00000000e+00, 1.00000000e+00, 1.00000000e+00,\n",
       "       2.80645183e-01, 1.00000000e+00, 1.00000000e+00, 1.00000000e+00,\n",
       "       1.00000000e+00, 1.00000000e+00, 1.00000000e+00, 1.00000000e+00,\n",
       "       1.00000000e+00, 1.00000000e+00, 1.00000000e+00, 1.00000000e+00,\n",
       "       1.00000000e+00, 1.00000000e+00, 1.00000000e+00, 1.00000000e+00,\n",
       "       1.00000000e+00, 1.00000000e+00, 1.00000000e+00, 1.00000000e+00,\n",
       "       1.00000000e+00, 1.00000000e+00, 7.41493475e-01, 1.31589399e-04,\n",
       "       5.21245872e-05, 2.77204511e-01, 1.00000000e+00, 3.00471613e-01,\n",
       "       1.00000000e+00, 1.00000000e+00, 1.00000000e+00, 1.00000000e+00,\n",
       "       1.00000000e+00, 1.00000000e+00, 1.00000000e+00, 1.00000000e+00,\n",
       "       1.00000000e+00, 1.00000000e+00, 1.00000000e+00, 1.63599110e-01,\n",
       "       3.09324978e-01, 1.00000000e+00, 4.56795940e-01, 1.00000000e+00,\n",
       "       1.00000000e+00, 1.00000000e+00, 6.58025944e-04, 1.00000000e+00,\n",
       "       1.00000000e+00, 1.00000000e+00, 6.87576657e-01, 3.48784127e-01,\n",
       "       1.00000000e+00, 1.00000000e+00, 1.00000000e+00, 1.00000000e+00,\n",
       "       1.00000000e+00, 1.00000000e+00])"
      ]
     },
     "execution_count": 72,
     "metadata": {},
     "output_type": "execute_result"
    }
   ],
   "source": [
    "rej_matrix, p_matrix_adjusted, c_b, p_b = multipletests(p_matrix.reshape(-1), alpha=0.05, method='bonferroni')\n",
    "p_matrix_adjusted"
   ]
  },
  {
   "cell_type": "markdown",
   "id": "bc9e7f9e",
   "metadata": {},
   "source": [
    "Correllation of average values and each dimention separately-- zero indices are for averages"
   ]
  },
  {
   "cell_type": "code",
   "execution_count": 73,
   "id": "592bd5fd",
   "metadata": {},
   "outputs": [],
   "source": [
    "p_matrix_adjusted= np.array(p_matrix_adjusted).reshape(7,18)\n",
    "rej_matrix= np.array(rej_matrix).reshape(7,18)"
   ]
  },
  {
   "cell_type": "code",
   "execution_count": 74,
   "id": "9ea6e031",
   "metadata": {},
   "outputs": [
    {
     "data": {
      "text/plain": [
       "array([[ True,  True,  True, False, False,  True, False, False, False,\n",
       "        False, False, False, False,  True, False, False, False, False],\n",
       "       [ True,  True,  True, False, False, False, False, False, False,\n",
       "        False, False, False, False, False,  True, False, False, False],\n",
       "       [ True,  True,  True, False,  True,  True,  True, False, False,\n",
       "        False, False, False,  True,  True, False, False, False,  True],\n",
       "       [ True, False, False, False, False, False, False, False, False,\n",
       "        False, False, False, False, False, False, False, False, False],\n",
       "       [False, False, False, False, False, False, False, False, False,\n",
       "        False, False, False, False, False, False, False, False, False],\n",
       "       [False,  True,  True, False, False, False, False, False, False,\n",
       "        False, False, False, False, False, False, False, False, False],\n",
       "       [False, False, False, False, False, False,  True, False, False,\n",
       "        False, False, False, False, False, False, False, False, False]])"
      ]
     },
     "execution_count": 74,
     "metadata": {},
     "output_type": "execute_result"
    }
   ],
   "source": [
    "rej_matrix"
   ]
  },
  {
   "cell_type": "code",
   "execution_count": 77,
   "id": "2320a507",
   "metadata": {},
   "outputs": [
    {
     "data": {
      "text/plain": [
       "<AxesSubplot:>"
      ]
     },
     "execution_count": 77,
     "metadata": {},
     "output_type": "execute_result"
    },
    {
     "data": {
      "image/png": "[encoded data removed]",
      "text/plain": [
       "<Figure size 432x288 with 2 Axes>"
      ]
     },
     "metadata": {
      "needs_background": "light"
     },
     "output_type": "display_data"
    }
   ],
   "source": [
    "sns.heatmap(rej_matrix,annot=True)"
   ]
  },
  {
   "cell_type": "code",
   "execution_count": 78,
   "id": "46916f77",
   "metadata": {},
   "outputs": [
    {
     "data": {
      "text/plain": [
       "array([[9.13601480e-05, 4.20834160e-04, 2.00604099e-03, 2.98905412e-01,\n",
       "        5.65398543e-01, 2.90139989e-03, 8.07882754e-02, 1.00000000e+00,\n",
       "        1.00000000e+00, 1.00000000e+00, 1.00000000e+00, 1.00000000e+00,\n",
       "        1.00000000e+00, 4.27200813e-02, 1.00000000e+00, 1.00000000e+00,\n",
       "        1.00000000e+00, 1.00000000e+00],\n",
       "       [1.08137722e-02, 4.45022910e-04, 1.11042590e-04, 7.89316946e-01,\n",
       "        1.00000000e+00, 1.00000000e+00, 1.00000000e+00, 1.00000000e+00,\n",
       "        1.00000000e+00, 1.00000000e+00, 1.00000000e+00, 1.00000000e+00,\n",
       "        1.00000000e+00, 1.00000000e+00, 1.11041074e-02, 1.00000000e+00,\n",
       "        1.00000000e+00, 1.00000000e+00],\n",
       "       [2.14172431e-09, 8.41369224e-03, 1.78237774e-02, 6.76162716e-01,\n",
       "        2.32798587e-05, 1.42910441e-09, 3.63014480e-03, 1.00000000e+00,\n",
       "        5.33170482e-01, 3.10835736e-01, 1.00000000e+00, 5.74447982e-01,\n",
       "        9.57452923e-07, 6.50559883e-13, 1.00000000e+00, 2.78324462e-01,\n",
       "        1.00000000e+00, 1.50051603e-03],\n",
       "       [5.69173624e-03, 1.00000000e+00, 1.00000000e+00, 2.88146230e-01,\n",
       "        1.00000000e+00, 1.00000000e+00, 6.68749809e-01, 8.78204176e-01,\n",
       "        1.00000000e+00, 1.00000000e+00, 9.66834178e-01, 1.00000000e+00,\n",
       "        1.00000000e+00, 1.00000000e+00, 2.80645183e-01, 1.00000000e+00,\n",
       "        1.00000000e+00, 1.00000000e+00],\n",
       "       [1.00000000e+00, 1.00000000e+00, 1.00000000e+00, 1.00000000e+00,\n",
       "        1.00000000e+00, 1.00000000e+00, 1.00000000e+00, 1.00000000e+00,\n",
       "        1.00000000e+00, 1.00000000e+00, 1.00000000e+00, 1.00000000e+00,\n",
       "        1.00000000e+00, 1.00000000e+00, 1.00000000e+00, 1.00000000e+00,\n",
       "        1.00000000e+00, 1.00000000e+00],\n",
       "       [7.41493475e-01, 1.31589399e-04, 5.21245872e-05, 2.77204511e-01,\n",
       "        1.00000000e+00, 3.00471613e-01, 1.00000000e+00, 1.00000000e+00,\n",
       "        1.00000000e+00, 1.00000000e+00, 1.00000000e+00, 1.00000000e+00,\n",
       "        1.00000000e+00, 1.00000000e+00, 1.00000000e+00, 1.00000000e+00,\n",
       "        1.00000000e+00, 1.63599110e-01],\n",
       "       [3.09324978e-01, 1.00000000e+00, 4.56795940e-01, 1.00000000e+00,\n",
       "        1.00000000e+00, 1.00000000e+00, 6.58025944e-04, 1.00000000e+00,\n",
       "        1.00000000e+00, 1.00000000e+00, 6.87576657e-01, 3.48784127e-01,\n",
       "        1.00000000e+00, 1.00000000e+00, 1.00000000e+00, 1.00000000e+00,\n",
       "        1.00000000e+00, 1.00000000e+00]])"
      ]
     },
     "execution_count": 78,
     "metadata": {},
     "output_type": "execute_result"
    }
   ],
   "source": [
    "p_matrix_adjusted"
   ]
  },
  {
   "cell_type": "markdown",
   "id": "751c194a",
   "metadata": {},
   "source": [
    "<hr style=\"width:100%;text-align:left;margin-left:0\">\n",
    "<hr style=\"width:100%;text-align:left;margin-left:0\">\n",
    "\n",
    "<b>ANALYSIS 4:  Factor Analysis -- Determining which scales are better predictors \n",
    "    "
   ]
  },
  {
   "cell_type": "code",
   "execution_count": 79,
   "id": "9b7ef177",
   "metadata": {},
   "outputs": [],
   "source": [
    "fa_array = []\n",
    "\n",
    "for ix in range(len(mrq_array_pc)):\n",
    "    fa_array.append(np.append(mrq_array_pc[ix],nasa_r_array_pc[ix]))\n",
    "\n",
    "fa_array=np.array(fa_array,dtype='float')"
   ]
  },
  {
   "cell_type": "code",
   "execution_count": null,
   "id": "b46a2ddd",
   "metadata": {},
   "outputs": [],
   "source": []
  },
  {
   "cell_type": "code",
   "execution_count": 80,
   "id": "8ea7f849",
   "metadata": {},
   "outputs": [
    {
     "data": {
      "text/plain": [
       "(1467.482065401292, 5.2811763780118026e-170)"
      ]
     },
     "execution_count": 80,
     "metadata": {},
     "output_type": "execute_result"
    }
   ],
   "source": [
    "chi_square_value,p_value=calculate_bartlett_sphericity(fa_array)\n",
    "chi_square_value, p_value"
   ]
  },
  {
   "cell_type": "code",
   "execution_count": 81,
   "id": "4a9b4725",
   "metadata": {},
   "outputs": [],
   "source": [
    "kmo_all,kmo_model = calculate_kmo(fa_array)"
   ]
  },
  {
   "cell_type": "code",
   "execution_count": 82,
   "id": "d68e3533",
   "metadata": {},
   "outputs": [
    {
     "data": {
      "text/plain": [
       "(array([0.84168965, 0.79622397, 0.76575781, 0.78666976, 0.79286171,\n",
       "        0.67799805, 0.69391364, 0.78857573, 0.84277569, 0.79744973,\n",
       "        0.81891489, 0.84968866, 0.87800312, 0.64573164, 0.7539244 ,\n",
       "        0.70025401, 0.84728071, 0.74901987, 0.76839128, 0.80208523,\n",
       "        0.4639596 , 0.69872339, 0.71837445]),\n",
       " 0.7717090864489947)"
      ]
     },
     "execution_count": 82,
     "metadata": {},
     "output_type": "execute_result"
    }
   ],
   "source": [
    "kmo_all,kmo_model"
   ]
  },
  {
   "cell_type": "code",
   "execution_count": 83,
   "id": "9d41f826",
   "metadata": {},
   "outputs": [
    {
     "data": {
      "text/plain": [
       "array([5.11220199, 2.64478546, 2.17920889, 1.60579301, 1.24941527,\n",
       "       1.16193726, 1.0959769 , 0.89695506, 0.78371268, 0.70090868,\n",
       "       0.66096393, 0.60587251, 0.5755301 , 0.53810231, 0.47943532,\n",
       "       0.45645873, 0.41962643, 0.37093048, 0.36591199, 0.32570352,\n",
       "       0.2959113 , 0.26145046, 0.21320772])"
      ]
     },
     "execution_count": 83,
     "metadata": {},
     "output_type": "execute_result"
    }
   ],
   "source": [
    "# Create factor analysis object and perform factor analysis\n",
    "fa = FactorAnalyzer()\n",
    "#fa.analyze(fa_array, 25, rotation=None)\n",
    "fa.fit(fa_array, 23)\n",
    "eigen_values, vectors = fa.get_eigenvalues()\n",
    "# Check Eigenvalues\n",
    "ev, v = fa.get_eigenvalues()\n",
    "ev"
   ]
  },
  {
   "cell_type": "code",
   "execution_count": 84,
   "id": "486439e4",
   "metadata": {},
   "outputs": [
    {
     "data": {
      "text/plain": [
       "array([[ 0.5875872 , -0.06432122,  0.10660445],\n",
       "       [ 0.25622868,  0.0911095 ,  0.19764831],\n",
       "       [ 0.77616187, -0.20295157, -0.05057379],\n",
       "       [ 0.8335208 , -0.10922486, -0.09680979],\n",
       "       [ 0.10975834,  0.3025646 ,  0.14558604],\n",
       "       [-0.09544841,  0.46608076,  0.16470117],\n",
       "       [-0.13463595,  0.60102094,  0.02425413],\n",
       "       [ 0.10324821,  0.61214224, -0.13743204],\n",
       "       [ 0.24260147,  0.58107867, -0.14870673],\n",
       "       [-0.03748997,  0.72837657, -0.04131819],\n",
       "       [ 0.01768927,  0.53549195, -0.01115564],\n",
       "       [ 0.27045169,  0.39589286, -0.09784185],\n",
       "       [ 0.49293103,  0.14947857,  0.00283765],\n",
       "       [-0.02727176,  0.37516936,  0.0685313 ],\n",
       "       [ 0.40251322,  0.1440579 , -0.04366189],\n",
       "       [-0.15273049,  0.49827866, -0.10309154],\n",
       "       [ 0.79262801, -0.10062049, -0.08085165],\n",
       "       [ 0.0297035 , -0.02756677,  0.70849904],\n",
       "       [ 0.25230529,  0.06970597,  0.36701041],\n",
       "       [-0.02076724,  0.09688294,  0.56267664],\n",
       "       [-0.05303242, -0.07210389,  0.30524054],\n",
       "       [ 0.12432073, -0.2319536 ,  0.87905622],\n",
       "       [-0.18318083,  0.10870031,  0.69261176]])"
      ]
     },
     "execution_count": 84,
     "metadata": {},
     "output_type": "execute_result"
    }
   ],
   "source": [
    "fa = FactorAnalyzer()\n",
    "fa.fit(fa_array,2)\n",
    "fa.loadings_"
   ]
  },
  {
   "cell_type": "code",
   "execution_count": 85,
   "id": "8e040dd6",
   "metadata": {},
   "outputs": [
    {
     "data": {
      "text/plain": [
       "(array([3.06588058, 2.95002313, 2.48634618]),\n",
       " array([0.13329916, 0.12826188, 0.10810201]),\n",
       " array([0.13329916, 0.26156103, 0.36966304]))"
      ]
     },
     "execution_count": 85,
     "metadata": {},
     "output_type": "execute_result"
    }
   ],
   "source": [
    "# Get variance of each factors\n",
    "fa.get_factor_variance()\n",
    "# Exploratory Factor Analysis To find how many factors are present in the data\n",
    "# Finding how many factors are present in the data\n",
    "\n",
    "\n",
    "# fa = FactorAnalyzer()\n",
    "# Factors=fa.fit(fa_array)\n",
    " \n",
    "# # Plotting the scree-plot\n",
    "# EigenValues=Factors.get_eigenvalues()\n",
    "\n",
    "# plt.plot(EigenValues)"
   ]
  },
  {
   "cell_type": "markdown",
   "id": "1c6d677d",
   "metadata": {},
   "source": [
    "-------------------------------------------------------------------------------------------------------------------------------\n",
    "\n",
    "<hr style=\"width:100%;text-align:left;margin-left:0\">\n",
    "<b>ANALYSIS 5: Performance vs MWL"
   ]
  },
  {
   "cell_type": "code",
   "execution_count": 86,
   "id": "02d12755",
   "metadata": {},
   "outputs": [],
   "source": [
    "mrq_t_pq = mrq_1_array + mrq_2_array"
   ]
  },
  {
   "cell_type": "code",
   "execution_count": 87,
   "id": "e1041a99",
   "metadata": {},
   "outputs": [],
   "source": [
    "nasa_r_t_pq = nasa_1_r_array+nasa_2_r_array"
   ]
  },
  {
   "cell_type": "code",
   "execution_count": 88,
   "id": "94d721a4",
   "metadata": {},
   "outputs": [],
   "source": [
    "throughput_t_pq = throughput1_array+throughput2_array"
   ]
  },
  {
   "cell_type": "code",
   "execution_count": 89,
   "id": "6fad01bf",
   "metadata": {},
   "outputs": [
    {
     "name": "stdout",
     "output_type": "stream",
     "text": [
      "KACJ\n",
      "KACJ\n",
      "KACJ\n",
      "KACJ\n",
      "KACJ\n",
      "KACJ\n",
      "KACJ\n"
     ]
    }
   ],
   "source": [
    "to_delete_indices=[]\n",
    "for i in range(len(throughput_t_pq)):\n",
    "    if(throughput_t_pq[i]==0 or len(nasa_r_t_pq[i])==0 or len(mrq_t_pq[i])==0 ):\n",
    "        to_delete_indices.append(i)\n",
    "\n",
    "\n",
    "\n",
    "\n",
    "cleaned_nasa_r_pq=[]\n",
    "cleaned_mrq_pq=[]\n",
    "cleaned_throughput_pq =[]\n",
    "\n",
    "for t in range(len(mrq_t_pq)):\n",
    "    if t in  to_delete_indices:\n",
    "        print('KACJ')\n",
    "    else:\n",
    "        cleaned_nasa_r_pq.append(nasa_r_t_pq[t])\n",
    "        cleaned_mrq_pq.append(mrq_t_pq[t])\n",
    "        cleaned_throughput_pq.append(throughput_t_pq[t])"
   ]
  },
  {
   "cell_type": "code",
   "execution_count": 90,
   "id": "2e96ba34",
   "metadata": {},
   "outputs": [],
   "source": [
    "nasa_r_t_pq=np.array(cleaned_nasa_r_pq)\n",
    "nasa_r_t_pq_avg = nasa_r_t_pq.mean(axis=1)\n",
    "mrq_t_pq=np.array(cleaned_mrq_pq)\n",
    "mrq_t_pq_avg = mrq_t_pq.mean(axis=1)\n",
    "throughput_t_pq=np.array( cleaned_throughput_pq)"
   ]
  },
  {
   "cell_type": "markdown",
   "id": "8eb81374",
   "metadata": {},
   "source": [
    "<b> Correlation of performance and mrq-avg"
   ]
  },
  {
   "cell_type": "code",
   "execution_count": 91,
   "id": "f0bc43ad",
   "metadata": {},
   "outputs": [
    {
     "name": "stdout",
     "output_type": "stream",
     "text": [
      "MRQ -- C: -0.176797521346529 P-value: 0.014947773036020282\n"
     ]
    }
   ],
   "source": [
    "cmrq,pmrq = stats.pearsonr(mrq_t_pq_avg, throughput_t_pq)\n",
    "print(\"MRQ -- C: \"+str(cmrq)+\" P-value: \"+str(pmrq))"
   ]
  },
  {
   "cell_type": "markdown",
   "id": "b7df84c4",
   "metadata": {},
   "source": [
    "<b> Correlation of performance and nasa-tlx-avg"
   ]
  },
  {
   "cell_type": "code",
   "execution_count": 92,
   "id": "a878970a",
   "metadata": {},
   "outputs": [
    {
     "name": "stdout",
     "output_type": "stream",
     "text": [
      "NASA-TLX -- C: -0.23729809074507172 P-value: 0.0010098935500922818\n"
     ]
    }
   ],
   "source": [
    "cnasa,pnasa = stats.pearsonr(nasa_r_t_pq_avg, throughput_t_pq)\n",
    "print(\"NASA-TLX -- C: \"+str(cnasa)+\" P-value: \"+str(pnasa))"
   ]
  },
  {
   "cell_type": "code",
   "execution_count": null,
   "id": "2ecd39a8",
   "metadata": {},
   "outputs": [],
   "source": []
  },
  {
   "cell_type": "code",
   "execution_count": null,
   "id": "e558a5b3",
   "metadata": {},
   "outputs": [],
   "source": []
  },
  {
   "cell_type": "code",
   "execution_count": 93,
   "id": "071a5c34",
   "metadata": {},
   "outputs": [],
   "source": [
    "# to_delete_indices=[]\n",
    "# for i in range(len(mrq_array_pc)):\n",
    "#     if(len(nasa_r_array_pc[i])==0 or len(mrq_array_pc[i])==0):\n",
    "#         to_delete_indices.append(i)\n",
    "\n",
    "\n",
    "\n",
    "\n",
    "# cleaned_nasa_r_array_pc=[]\n",
    "# cleaned_mrq_array_pc=[]\n",
    "\n",
    "\n",
    "# for t in range(len(mrq_array_pc)):\n",
    "#     if t in  to_delete_indices:\n",
    "#         print('KACJ')\n",
    "#     else:\n",
    "#         cleaned_nasa_r_array_pc.append(nasa_r_array_pc[t])\n",
    "#         cleaned_mrq_array_pc.append(mrq_array_pc[t])"
   ]
  },
  {
   "cell_type": "code",
   "execution_count": null,
   "id": "70462ecc",
   "metadata": {},
   "outputs": [],
   "source": []
  },
  {
   "cell_type": "code",
   "execution_count": null,
   "id": "23737e67",
   "metadata": {},
   "outputs": [],
   "source": []
  }
 ],
 "metadata": {
  "kernelspec": {
   "display_name": "Python 3 (ipykernel)",
   "language": "python",
   "name": "python3"
  },
  "language_info": {
   "codemirror_mode": {
    "name": "ipython",
    "version": 3
   },
   "file_extension": ".py",
   "mimetype": "text/x-python",
   "name": "python",
   "nbconvert_exporter": "python",
   "pygments_lexer": "ipython3",
   "version": "3.9.12"
  }
 },
 "nbformat": 4,
 "nbformat_minor": 5
}
