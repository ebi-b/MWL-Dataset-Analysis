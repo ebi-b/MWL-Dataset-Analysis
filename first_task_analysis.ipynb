{
 "cells": [
  {
   "cell_type": "markdown",
   "id": "7d8b9c7c",
   "metadata": {},
   "source": [
    "Reading from the files and separating participants who completed the tasks from the rest."
   ]
  },
  {
   "cell_type": "code",
   "execution_count": 1,
   "id": "4b8eb23f",
   "metadata": {},
   "outputs": [],
   "source": [
    "import json"
   ]
  },
  {
   "cell_type": "code",
   "execution_count": 2,
   "id": "0155c826",
   "metadata": {},
   "outputs": [],
   "source": [
    "# Opening JSON file\n",
    "f = open('output2.json')"
   ]
  },
  {
   "cell_type": "code",
   "execution_count": 3,
   "id": "c0148972",
   "metadata": {},
   "outputs": [],
   "source": [
    "data = json.load(f)"
   ]
  },
  {
   "cell_type": "code",
   "execution_count": 4,
   "id": "05352d92",
   "metadata": {},
   "outputs": [],
   "source": [
    "# for x in data['data']:\n",
    "#     keys = x.keys()\n",
    "#     print(keys)\n",
    "#     values = x.values()\n",
    "#     print(values)\n",
    "#     print(x['completed'])\n",
    "    "
   ]
  },
  {
   "cell_type": "code",
   "execution_count": 5,
   "id": "547dcacd",
   "metadata": {},
   "outputs": [],
   "source": [
    "completed_participants=[]\n",
    "for x in data['data']:\n",
    "    if(x['completed']):\n",
    "        completed_participants.append(x['mturk_id'])\n",
    "# print(completed_participants)\n",
    "        "
   ]
  },
  {
   "cell_type": "code",
   "execution_count": 6,
   "id": "12c62e9c",
   "metadata": {},
   "outputs": [],
   "source": [
    "f = open('output1.json')"
   ]
  },
  {
   "cell_type": "code",
   "execution_count": 7,
   "id": "d4c31c02",
   "metadata": {},
   "outputs": [],
   "source": [
    "jsonpmodel = json.load(f)"
   ]
  },
  {
   "cell_type": "code",
   "execution_count": 8,
   "id": "ff72c77a",
   "metadata": {},
   "outputs": [],
   "source": [
    "# for x in data['data']:\n",
    "#     keys = x.keys()\n",
    "#     print(keys)\n",
    "#     print('\\n')\n",
    "#     values = x.values()\n",
    "#     print(values)"
   ]
  },
  {
   "cell_type": "code",
   "execution_count": 9,
   "id": "c2233a36",
   "metadata": {},
   "outputs": [],
   "source": [
    "completed_p_models=[]\n",
    "for x in jsonpmodel['data']:\n",
    "#     print(x['sequence_type'])\n",
    "    m=x['mturk_id']\n",
    "    if(m in completed_participants):\n",
    "        completed_p_models.append(x)\n",
    "        "
   ]
  },
  {
   "cell_type": "code",
   "execution_count": 10,
   "id": "6f3365ae",
   "metadata": {},
   "outputs": [],
   "source": [
    "filename='completedparticipants.json'\n",
    "with open(filename, 'w') as json_file:\n",
    "    json.dump(completed_p_models, json_file, \n",
    "                        indent=4,  \n",
    "                        separators=(',',': '))"
   ]
  },
  {
   "cell_type": "code",
   "execution_count": 11,
   "id": "318cf2e7",
   "metadata": {},
   "outputs": [],
   "source": [
    "c_file=open(filename)\n",
    "c_p=json.load(c_file)"
   ]
  },
  {
   "cell_type": "code",
   "execution_count": 12,
   "id": "ed752b8d",
   "metadata": {},
   "outputs": [],
   "source": [
    "# for x in c_p:\n",
    "#     print(x['mturk_id'])"
   ]
  },
  {
   "cell_type": "markdown",
   "id": "c8c55570",
   "metadata": {},
   "source": [
    "completedparticipants.json is the file that includes data of all participants who completed the task \n",
    "and c_p is the json varible of the file\n",
    "\n"
   ]
  },
  {
   "cell_type": "code",
   "execution_count": 13,
   "id": "75eed3ec",
   "metadata": {},
   "outputs": [],
   "source": [
    "# ----------------Experiment Sequences---------------------------\n",
    "\n",
    "# N : first nbackn difficulty (H/E)\n",
    "\n",
    "# Q : first Questionaire (1: NASA-TLX and 2: MRQ)\n",
    "\n",
    "# S : SakeDifficulty(H/E)\n",
    "\n",
    "# _________________________________________________________________________\n",
    "# seq_number/Progress | 1.n1 | 2.s | 3.q1| 4.q2|5.n2 | 6.s |7.q1 |8.q2 |\n",
    "# _________________________________________________________________________\n",
    "#          1          |  E   | E   |  1  |  2  |  H  |  E  |  1  |  2  |\n",
    "#          2          |  E   | E   |  2  |  1  |  H  |  E  |  2  |  1  |\n",
    "#          3          |  H   | E   |  1  |  2  |  E  |  E  |  1  |  2  |\n",
    "#          4          |  H   | E   |  2  |  1  |  E  |  E  |  2  |  1  |\n",
    "#          5          |  E   | H   |  1  |  2  |  H  |  H  |  1  |  2  |\n",
    "#          6          |  E   | H   |  2  |  1  |  H  |  H  |  2  |  1  |\n",
    "#          7          |  H   | H   |  1  |  2  |  E  |  H  |  1  |  2  |\n",
    "#          8          |  H   | H   |  2  |  1  |  E  |  H  |  2  |  1  |\n",
    "# ________________________________________________________________________\n"
   ]
  },
  {
   "cell_type": "code",
   "execution_count": 14,
   "id": "626d1e64",
   "metadata": {},
   "outputs": [],
   "source": [
    " #  sequence type /progress matrix \n",
    "E_n = 1; # easy nbackn\n",
    "H_n = 3; # hard nbackn\n",
    "E_s = 500;  # easy sak in ms\n",
    "H_s = 1000; #hard sak in ms\n",
    "seq_prog = [\n",
    "    [E_n, E_s, 1, 2, H_n, E_s, 1, 2],\n",
    "    [E_n, E_s, 2, 1, H_n, E_s, 2, 1],\n",
    "    [H_n, E_s, 1, 2, E_n, E_s, 1, 2],\n",
    "    [H_n, E_s, 2, 1, E_n, E_s, 2, 1],\n",
    "    [E_n, H_s, 1, 2, H_n, H_s, 1, 2],\n",
    "    [E_n, H_s, 2, 1, H_n, H_s, 2, 1],\n",
    "    [H_n, H_s, 1, 2, E_n, H_s, 1, 2],\n",
    "    [H_n, H_s, 2, 1, E_n, H_s, 2, 1]\n",
    "];"
   ]
  },
  {
   "cell_type": "markdown",
   "id": "0859200b",
   "metadata": {},
   "source": [
    "conE : Easy NBACKN----\n",
    "conH : Hard NBACKN----\n",
    "sakE: Easy SAK----\n",
    "sakH: Hard SAK"
   ]
  },
  {
   "cell_type": "code",
   "execution_count": 15,
   "id": "1ffa95ce",
   "metadata": {},
   "outputs": [
    {
     "ename": "IndentationError",
     "evalue": "expected an indented block (3419428986.py, line 50)",
     "output_type": "error",
     "traceback": [
      "\u001b[1;36m  Input \u001b[1;32mIn [15]\u001b[1;36m\u001b[0m\n\u001b[1;33m    \u001b[0m\n\u001b[1;37m    ^\u001b[0m\n\u001b[1;31mIndentationError\u001b[0m\u001b[1;31m:\u001b[0m expected an indented block\n"
     ]
    }
   ],
   "source": [
    "nasa_1_t_array=[]\n",
    "nasa_2_t_array=[]\n",
    "nasa_1_r_array=[]\n",
    "nasa_2_r_array=[]\n",
    "\n",
    "seq_type_array=[]\n",
    "\n",
    "mrq_1_array=[]\n",
    "mrq_2_array=[]\n",
    "\n",
    "mrq_conE_arry=[]\n",
    "mrq_conH_arry=[]\n",
    "nasa_conE_arry=[]\n",
    "nasa_conH_arry=[]\n",
    "\n",
    "mrq_sakE_arry=[]\n",
    "mrq_sakH_arry=[]\n",
    "nasa_sakE_arry=[]\n",
    "nasa_sakH_arry=[]\n",
    "\n",
    "for x in c_p:\n",
    "    st= x['sequence_type']\n",
    "    seq_type_array.append(st)\n",
    "    \n",
    "    ntr1= x['nasa_1_r'][0]\n",
    "    ntr2= x['nasa_2_r'][0]\n",
    "    ntt1= x['nasa_1_t'][0]\n",
    "    ntt2= x['nasa_2_t'][0]\n",
    "    \n",
    "    nasa_1_r_array.append(ntr1)\n",
    "    nasa_1_t_array.append(ntt1)\n",
    "    nasa_2_r_array.append(ntr2)\n",
    "    nasa_2_t_array.append(ntt2)\n",
    "    \n",
    "    \n",
    "    s=x['mrq_1'][0].replace('\"','').replace('[',\"\").replace(']',\"\").split(',')\n",
    "    mrq1 = [int(y) for y in s]\n",
    "    mrq1.pop()\n",
    "    \n",
    "    \n",
    "    s=x['mrq_2'][0].replace('\"','').replace('[',\"\").replace(']',\"\").split(',')\n",
    "    mrq2 = [int(y) for y in s]\n",
    "    mrq2.pop()\n",
    "    \n",
    "    mrq_1_array.append(mrq1)\n",
    "    mrq_2_array.append(mrq2)\n",
    "    \n",
    "    if(st<=4):\n",
    "    \n",
    "\n"
   ]
  },
  {
   "cell_type": "code",
   "execution_count": null,
   "id": "e558a5b3",
   "metadata": {},
   "outputs": [],
   "source": [
    "for x in c_p:\n",
    "    print(x['mrq_1'][0].replace('\"','').replace('[',\"\").replace(']',\"\").split(','))\n",
    "    x['sequence_type']\n",
    "    x['mrq_1']\n",
    "    x['mrq_2']\n",
    "    x['nasa_1_r']\n",
    "    x['nasa_1_t']\n",
    "    x['nasa_2_r']\n",
    "    x['nasa_2_t']\n",
    "    "
   ]
  },
  {
   "cell_type": "code",
   "execution_count": null,
   "id": "18477fcf",
   "metadata": {},
   "outputs": [],
   "source": []
  },
  {
   "cell_type": "code",
   "execution_count": null,
   "id": "25316bf0",
   "metadata": {},
   "outputs": [],
   "source": []
  },
  {
   "cell_type": "code",
   "execution_count": null,
   "id": "2ecd39a8",
   "metadata": {},
   "outputs": [],
   "source": []
  }
 ],
 "metadata": {
  "kernelspec": {
   "display_name": "Python 3 (ipykernel)",
   "language": "python",
   "name": "python3"
  },
  "language_info": {
   "codemirror_mode": {
    "name": "ipython",
    "version": 3
   },
   "file_extension": ".py",
   "mimetype": "text/x-python",
   "name": "python",
   "nbconvert_exporter": "python",
   "pygments_lexer": "ipython3",
   "version": "3.9.12"
  }
 },
 "nbformat": 4,
 "nbformat_minor": 5
}
